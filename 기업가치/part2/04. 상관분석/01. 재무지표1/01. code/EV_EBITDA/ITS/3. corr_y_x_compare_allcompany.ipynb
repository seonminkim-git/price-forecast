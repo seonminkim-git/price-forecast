{
 "cells": [
  {
   "cell_type": "code",
   "execution_count": 1,
   "id": "29e66115",
   "metadata": {
    "ExecuteTime": {
     "end_time": "2022-08-24T04:55:16.029206Z",
     "start_time": "2022-08-24T04:55:13.716857Z"
    }
   },
   "outputs": [],
   "source": [
    "import pandas as pd\n",
    "import numpy as np\n",
    "import os\n",
    "from scipy.cluster import hierarchy as hc\n",
    "import matplotlib\n",
    "import matplotlib.pyplot as plt\n",
    "import warnings\n",
    "import seaborn as sns\n",
    "from scipy import stats\n",
    "import math\n",
    "\n",
    "%matplotlib inline\n",
    "warnings.filterwarnings(action='ignore')\n",
    "\n",
    "matplotlib.rcParams['font.family'] ='Malgun Gothic'\n",
    "matplotlib.rcParams['axes.unicode_minus'] =False"
   ]
  },
  {
   "cell_type": "markdown",
   "id": "e5fb7b91",
   "metadata": {},
   "source": [
    "# Load data"
   ]
  },
  {
   "cell_type": "code",
   "execution_count": 3,
   "id": "a4ba4241",
   "metadata": {
    "ExecuteTime": {
     "end_time": "2022-08-24T04:55:24.167640Z",
     "start_time": "2022-08-24T04:55:24.162657Z"
    }
   },
   "outputs": [],
   "source": [
    "# dir_root = 'C:/Users/kkt71/OneDrive/바탕 화면/기업가치분석'\n",
    "dir_root = '../../../../../'\n",
    "dir_master = os.path.join(dir_root,'01. Data','00. master_data')\n",
    "dir_processed = os.path.join(dir_root, '01. Data','01. 재무지표1', 'ITS')\n",
    "dir_result = os.path.join(dir_root, '04. 상관분석','01. 재무지표1','02. result')\n",
    "\n"
   ]
  },
  {
   "cell_type": "code",
   "execution_count": 4,
   "id": "83f34bb3",
   "metadata": {
    "ExecuteTime": {
     "end_time": "2022-08-24T04:55:25.549842Z",
     "start_time": "2022-08-24T04:55:25.545854Z"
    }
   },
   "outputs": [],
   "source": [
    "y = 'EV_EBITDA'\n",
    "c1 = 'Accenture'\n",
    "c2 = 'Infosys'\n",
    "c3 = 'TCS'\n",
    "c4 = 'Cognizant'"
   ]
  },
  {
   "cell_type": "code",
   "execution_count": 5,
   "id": "e5667460",
   "metadata": {
    "ExecuteTime": {
     "end_time": "2022-08-24T04:55:25.721894Z",
     "start_time": "2022-08-24T04:55:25.716906Z"
    }
   },
   "outputs": [],
   "source": [
    "outperform = [c1, c2, c3]\n",
    "lowperform = [c4]"
   ]
  },
  {
   "cell_type": "code",
   "execution_count": 6,
   "id": "c0c3a134",
   "metadata": {
    "ExecuteTime": {
     "end_time": "2022-08-24T04:55:26.193662Z",
     "start_time": "2022-08-24T04:55:26.180699Z"
    }
   },
   "outputs": [],
   "source": [
    "dir_result_all = os.path.join(dir_result, 'All_ITS', y)\n",
    "\n",
    "if os.path.exists(dir_result_all)==False:\n",
    "    os.makedirs(dir_result_all)"
   ]
  },
  {
   "cell_type": "markdown",
   "id": "fb6e0ed4",
   "metadata": {},
   "source": [
    "# total 기간에 대해서, 존재하는 변수 기준으로 inner join"
   ]
  },
  {
   "cell_type": "code",
   "execution_count": 7,
   "id": "0043f676",
   "metadata": {
    "ExecuteTime": {
     "end_time": "2022-08-24T04:55:27.386526Z",
     "start_time": "2022-08-24T04:55:27.351618Z"
    }
   },
   "outputs": [],
   "source": [
    "df_c1 = pd.read_csv(os.path.join(dir_result, c1, y, y+'.csv')).iloc[:,:5]\n",
    "df_c2 = pd.read_csv(os.path.join(dir_result, c2, y, y+'.csv')).iloc[:,:5]\n",
    "df_c3 = pd.read_csv(os.path.join(dir_result, c3, y, y+'.csv')).iloc[:,:5]\n",
    "df_c4 = pd.read_csv(os.path.join(dir_result, c4, y, y+'.csv')).iloc[:,:5]"
   ]
  },
  {
   "cell_type": "code",
   "execution_count": 8,
   "id": "e43ff89c",
   "metadata": {
    "ExecuteTime": {
     "end_time": "2022-08-24T04:55:30.158196Z",
     "start_time": "2022-08-24T04:55:30.145258Z"
    }
   },
   "outputs": [],
   "source": [
    "df_c1.rename({'corr' : df_c1.company.unique()[0]}, axis=1, inplace=True)\n",
    "df_c2.rename({'corr' : df_c2.company.unique()[0]}, axis=1, inplace=True)\n",
    "df_c3.rename({'corr' : df_c3.company.unique()[0]}, axis=1, inplace=True)\n",
    "df_c4.rename({'corr' : df_c4.company.unique()[0]}, axis=1, inplace=True)\n",
    "\n",
    "df_c1.drop(['company'], axis=1, inplace=True)\n",
    "df_c2.drop(['company'], axis=1, inplace=True)\n",
    "df_c3.drop(['company'], axis=1, inplace=True)\n",
    "df_c4.drop(['company'], axis=1, inplace=True)"
   ]
  },
  {
   "cell_type": "code",
   "execution_count": 9,
   "id": "6ab4750c",
   "metadata": {
    "ExecuteTime": {
     "end_time": "2022-08-24T04:55:30.391575Z",
     "start_time": "2022-08-24T04:55:30.376616Z"
    }
   },
   "outputs": [],
   "source": [
    "df_all_variable = pd.merge(pd.merge(pd.merge(df_c1, df_c2, on=['variable','group', 'importance'], how='inner'), \n",
    "                          df_c3, on=['variable','group', 'importance'], how='inner'), \n",
    "                 df_c4, on=['variable','group', 'importance'], how='inner')"
   ]
  },
  {
   "cell_type": "code",
   "execution_count": 10,
   "id": "b385d7d2",
   "metadata": {
    "ExecuteTime": {
     "end_time": "2022-08-24T04:55:30.560130Z",
     "start_time": "2022-08-24T04:55:30.554146Z"
    }
   },
   "outputs": [],
   "source": [
    "df_all_variable = df_all_variable[['variable', 'group', 'importance']+outperform+lowperform]"
   ]
  },
  {
   "cell_type": "markdown",
   "id": "df4fd82a",
   "metadata": {},
   "source": [
    "# 0.7 이상 상관계수가 하나라도 있으면, 남기도록 outer join"
   ]
  },
  {
   "cell_type": "code",
   "execution_count": 11,
   "id": "41ce8575",
   "metadata": {
    "ExecuteTime": {
     "end_time": "2022-08-24T04:55:30.949604Z",
     "start_time": "2022-08-24T04:55:30.932649Z"
    }
   },
   "outputs": [],
   "source": [
    "df_c1 = pd.read_csv(os.path.join(dir_result, c1, y, 'compare_period_corr_07.csv'))\n",
    "df_c2 = pd.read_csv(os.path.join(dir_result, c2, y, 'compare_period_corr_07.csv'))\n",
    "df_c3 = pd.read_csv(os.path.join(dir_result, c3, y, 'compare_period_corr_07.csv'))\n",
    "df_c4 = pd.read_csv(os.path.join(dir_result, c4, y, 'compare_period_corr_07.csv'))"
   ]
  },
  {
   "cell_type": "code",
   "execution_count": 12,
   "id": "2f1e8255",
   "metadata": {
    "ExecuteTime": {
     "end_time": "2022-08-24T04:55:31.346016Z",
     "start_time": "2022-08-24T04:55:31.334085Z"
    }
   },
   "outputs": [],
   "source": [
    "df_c1.rename({'corr_total' : df_c1.company.unique()[0]}, axis=1, inplace=True)\n",
    "df_c2.rename({'corr_total' : df_c2.company.unique()[0]}, axis=1, inplace=True)\n",
    "df_c3.rename({'corr_total' : df_c3.company.unique()[0]}, axis=1, inplace=True)\n",
    "df_c4.rename({'corr_total' : df_c4.company.unique()[0]}, axis=1, inplace=True)\n",
    "\n",
    "df_c1.drop(['corr_sub', 'company'], axis=1, inplace=True)\n",
    "df_c2.drop(['corr_sub', 'company'], axis=1, inplace=True)\n",
    "df_c3.drop(['corr_sub', 'company'], axis=1, inplace=True)\n",
    "df_c4.drop(['corr_sub', 'company'], axis=1, inplace=True)"
   ]
  },
  {
   "cell_type": "code",
   "execution_count": 13,
   "id": "4a020dba",
   "metadata": {
    "ExecuteTime": {
     "end_time": "2022-08-24T04:55:31.622632Z",
     "start_time": "2022-08-24T04:55:31.613656Z"
    }
   },
   "outputs": [],
   "source": [
    "df_c1 = df_c1.dropna()\n",
    "df_c2 = df_c2.dropna()\n",
    "df_c3 = df_c3.dropna()\n",
    "df_c4 = df_c4.dropna()"
   ]
  },
  {
   "cell_type": "code",
   "execution_count": 14,
   "id": "b509893b",
   "metadata": {
    "ExecuteTime": {
     "end_time": "2022-08-24T04:55:31.993738Z",
     "start_time": "2022-08-24T04:55:31.989930Z"
    }
   },
   "outputs": [],
   "source": [
    "# df_all = pd.merge(pd.merge(df_c1, df_c3, on=['variable','group', 'importance'], how='outer'), \n",
    "#                           df_c4, on=['variable','group', 'importance'], how='outer')\n",
    "                 "
   ]
  },
  {
   "cell_type": "code",
   "execution_count": 15,
   "id": "fd173093",
   "metadata": {
    "ExecuteTime": {
     "end_time": "2022-08-24T04:55:33.126280Z",
     "start_time": "2022-08-24T04:55:33.108330Z"
    }
   },
   "outputs": [],
   "source": [
    "df_all = pd.merge(pd.merge(pd.merge(df_c1, df_c2, on=['variable','group', 'importance'], how='outer'), \n",
    "                          df_c3, on=['variable','group', 'importance'], how='outer'), \n",
    "                 df_c4, on=['variable','group', 'importance'], how='outer')"
   ]
  },
  {
   "cell_type": "code",
   "execution_count": 16,
   "id": "dadd5ff3",
   "metadata": {
    "ExecuteTime": {
     "end_time": "2022-08-24T04:55:33.623110Z",
     "start_time": "2022-08-24T04:55:33.616130Z"
    }
   },
   "outputs": [],
   "source": [
    "df_all = df_all[['variable', 'group', 'importance']+outperform+lowperform]"
   ]
  },
  {
   "cell_type": "code",
   "execution_count": 17,
   "id": "2630469f",
   "metadata": {
    "ExecuteTime": {
     "end_time": "2022-08-24T04:55:34.026506Z",
     "start_time": "2022-08-24T04:55:34.021519Z"
    }
   },
   "outputs": [],
   "source": [
    "# df_all = df_all[['variable', 'group', 'importance']+[c1, c3, c4]]"
   ]
  },
  {
   "cell_type": "markdown",
   "id": "86a12d1d",
   "metadata": {},
   "source": [
    "# 위의 두 개 inner join"
   ]
  },
  {
   "cell_type": "code",
   "execution_count": 18,
   "id": "1da05261",
   "metadata": {
    "ExecuteTime": {
     "end_time": "2022-08-24T04:55:34.937289Z",
     "start_time": "2022-08-24T04:55:34.928311Z"
    }
   },
   "outputs": [],
   "source": [
    "df_all_merged = pd.merge(df_all, df_all_variable, how='inner', on=['variable','group','importance'], suffixes = (\"_filtered\", \"_show\"))"
   ]
  },
  {
   "cell_type": "code",
   "execution_count": 19,
   "id": "9290166c",
   "metadata": {
    "ExecuteTime": {
     "end_time": "2022-08-24T04:55:35.673742Z",
     "start_time": "2022-08-24T04:55:35.670711Z"
    }
   },
   "outputs": [],
   "source": [
    "# df_all_merged.to_csv(os.path.join(dir_result, 'All_ITS', 'corr_y_x_over7.csv'), index=False, encoding='utf-8-sig')"
   ]
  },
  {
   "cell_type": "code",
   "execution_count": 20,
   "id": "16787e13",
   "metadata": {
    "ExecuteTime": {
     "end_time": "2022-08-24T04:55:36.254139Z",
     "start_time": "2022-08-24T04:55:36.149511Z"
    }
   },
   "outputs": [],
   "source": [
    "writer = pd.ExcelWriter(os.path.join(dir_result_all, 'corr_y_x_over7.xlsx'), engine='xlsxwriter')\n",
    "df_all_merged.to_excel(writer, index=False)\n",
    "writer.save()"
   ]
  },
  {
   "cell_type": "code",
   "execution_count": 21,
   "id": "02b03d96",
   "metadata": {
    "ExecuteTime": {
     "end_time": "2022-08-24T04:55:36.661036Z",
     "start_time": "2022-08-24T04:55:36.652063Z"
    }
   },
   "outputs": [
    {
     "data": {
      "text/plain": [
       "Index(['variable', 'group', 'importance', 'Accenture_filtered',\n",
       "       'Infosys_filtered', 'TCS_filtered', 'Cognizant_filtered',\n",
       "       'Accenture_show', 'Infosys_show', 'TCS_show', 'Cognizant_show'],\n",
       "      dtype='object')"
      ]
     },
     "execution_count": 21,
     "metadata": {},
     "output_type": "execute_result"
    }
   ],
   "source": [
    "df_all_merged.columns"
   ]
  },
  {
   "cell_type": "code",
   "execution_count": null,
   "id": "c083e8cf",
   "metadata": {},
   "outputs": [],
   "source": []
  }
 ],
 "metadata": {
  "hide_input": false,
  "kernelspec": {
   "display_name": "Python 3 (ipykernel)",
   "language": "python",
   "name": "python3"
  },
  "language_info": {
   "codemirror_mode": {
    "name": "ipython",
    "version": 3
   },
   "file_extension": ".py",
   "mimetype": "text/x-python",
   "name": "python",
   "nbconvert_exporter": "python",
   "pygments_lexer": "ipython3",
   "version": "3.9.7"
  },
  "toc": {
   "base_numbering": 1,
   "nav_menu": {},
   "number_sections": true,
   "sideBar": true,
   "skip_h1_title": false,
   "title_cell": "Table of Contents",
   "title_sidebar": "Contents",
   "toc_cell": false,
   "toc_position": {
    "height": "calc(100% - 180px)",
    "left": "10px",
    "top": "150px",
    "width": "225px"
   },
   "toc_section_display": true,
   "toc_window_display": true
  },
  "varInspector": {
   "cols": {
    "lenName": 16,
    "lenType": 16,
    "lenVar": 40
   },
   "kernels_config": {
    "python": {
     "delete_cmd_postfix": "",
     "delete_cmd_prefix": "del ",
     "library": "var_list.py",
     "varRefreshCmd": "print(var_dic_list())"
    },
    "r": {
     "delete_cmd_postfix": ") ",
     "delete_cmd_prefix": "rm(",
     "library": "var_list.r",
     "varRefreshCmd": "cat(var_dic_list()) "
    }
   },
   "types_to_exclude": [
    "module",
    "function",
    "builtin_function_or_method",
    "instance",
    "_Feature"
   ],
   "window_display": false
  }
 },
 "nbformat": 4,
 "nbformat_minor": 5
}
