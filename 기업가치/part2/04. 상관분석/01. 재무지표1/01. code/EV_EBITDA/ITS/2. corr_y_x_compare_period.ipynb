{
 "cells": [
  {
   "cell_type": "code",
   "execution_count": 95,
   "id": "29e66115",
   "metadata": {
    "ExecuteTime": {
     "end_time": "2022-07-29T06:14:59.037317Z",
     "start_time": "2022-07-29T06:14:58.913234Z"
    }
   },
   "outputs": [],
   "source": [
    "import pandas as pd\n",
    "import numpy as np\n",
    "import os\n",
    "from scipy.cluster import hierarchy as hc\n",
    "import matplotlib\n",
    "import matplotlib.pyplot as plt\n",
    "import warnings\n",
    "import seaborn as sns\n",
    "from scipy import stats\n",
    "import math\n",
    "\n",
    "%matplotlib inline\n",
    "warnings.filterwarnings(action='ignore')\n",
    "\n",
    "matplotlib.rcParams['font.family'] ='Malgun Gothic'\n",
    "matplotlib.rcParams['axes.unicode_minus'] =False"
   ]
  },
  {
   "cell_type": "markdown",
   "id": "3eab435b",
   "metadata": {},
   "source": [
    "# Accenture"
   ]
  },
  {
   "cell_type": "markdown",
   "id": "e5fb7b91",
   "metadata": {},
   "source": [
    "## Load data"
   ]
  },
  {
   "cell_type": "code",
   "execution_count": 96,
   "id": "a4ba4241",
   "metadata": {
    "ExecuteTime": {
     "end_time": "2022-07-29T06:15:02.457146Z",
     "start_time": "2022-07-29T06:15:02.449168Z"
    }
   },
   "outputs": [],
   "source": [
    "# dir_root = 'C:/Users/kkt71/OneDrive/바탕 화면/기업가치분석'\n",
    "dir_root = 'C:/Users/10188/Desktop/기업가치/상관분석/기업가치분석_data_result'\n",
    "dir_master = os.path.join(dir_root, '01. data', 'master')\n",
    "dir_processed = os.path.join(dir_root, '01. data', 'processed')\n",
    "dir_result = os.path.join(dir_root, '03. result')"
   ]
  },
  {
   "cell_type": "code",
   "execution_count": 97,
   "id": "c1d4fcac",
   "metadata": {
    "ExecuteTime": {
     "end_time": "2022-07-29T06:15:04.641598Z",
     "start_time": "2022-07-29T06:15:04.636657Z"
    }
   },
   "outputs": [],
   "source": [
    "company = 'Accenture'\n",
    "y = 'EV_EBITDA'"
   ]
  },
  {
   "cell_type": "code",
   "execution_count": 98,
   "id": "a3d6495a",
   "metadata": {
    "ExecuteTime": {
     "end_time": "2022-07-29T06:15:05.159181Z",
     "start_time": "2022-07-29T06:15:05.154194Z"
    }
   },
   "outputs": [],
   "source": [
    "dir_company = os.path.join(dir_result, company)\n",
    "dir_company_y = os.path.join(dir_company, y)"
   ]
  },
  {
   "cell_type": "code",
   "execution_count": 99,
   "id": "b5cdc209",
   "metadata": {
    "ExecuteTime": {
     "end_time": "2022-07-29T06:15:05.445339Z",
     "start_time": "2022-07-29T06:15:05.400451Z"
    }
   },
   "outputs": [],
   "source": [
    "result = pd.read_csv(os.path.join(dir_company_y, 'result.csv'))\n",
    "result_sub = pd.read_csv(os.path.join(dir_company_y, 'result_sub.csv'))"
   ]
  },
  {
   "cell_type": "markdown",
   "id": "d2c97fa4",
   "metadata": {},
   "source": [
    "## Compare : total ~ sub"
   ]
  },
  {
   "cell_type": "markdown",
   "id": "e7671c11",
   "metadata": {},
   "source": [
    "### over 0.7"
   ]
  },
  {
   "cell_type": "code",
   "execution_count": 100,
   "id": "159f8ff1",
   "metadata": {
    "ExecuteTime": {
     "end_time": "2022-07-29T06:15:09.155620Z",
     "start_time": "2022-07-29T06:15:09.135025Z"
    },
    "scrolled": false
   },
   "outputs": [],
   "source": [
    "result_total_7 = pd.merge(result[np.abs(result['corr'])>0.7], result_sub[np.abs(result_sub['corr'])>0.7], \n",
    "                          on=['company', 'variable', 'group', 'importance'], how='outer',\n",
    "                         suffixes = (\"_total\", \"_sub\"))\n",
    "result_total_7 = result_total_7.sort_values(['corr_total'], ascending=False)"
   ]
  },
  {
   "cell_type": "code",
   "execution_count": 101,
   "id": "c2a161f3",
   "metadata": {
    "ExecuteTime": {
     "end_time": "2022-07-29T06:15:09.414326Z",
     "start_time": "2022-07-29T06:15:09.408342Z"
    }
   },
   "outputs": [],
   "source": [
    "result_total_7 = result_total_7[['company', 'variable', 'group', 'importance', 'corr_total', 'corr_sub']]"
   ]
  },
  {
   "cell_type": "code",
   "execution_count": 102,
   "id": "595a413f",
   "metadata": {
    "ExecuteTime": {
     "end_time": "2022-07-29T06:15:10.132881Z",
     "start_time": "2022-07-29T06:15:10.113113Z"
    }
   },
   "outputs": [],
   "source": [
    "result_total_7.to_csv(os.path.join(dir_company_y, 'compare_period_corr_07.csv'), index=False, encoding='utf-8-sig')"
   ]
  },
  {
   "cell_type": "markdown",
   "id": "7c9ee1a4",
   "metadata": {},
   "source": [
    "### over 0.5"
   ]
  },
  {
   "cell_type": "code",
   "execution_count": 103,
   "id": "a202be8d",
   "metadata": {
    "ExecuteTime": {
     "end_time": "2022-07-29T06:15:11.040790Z",
     "start_time": "2022-07-29T06:15:11.019901Z"
    }
   },
   "outputs": [],
   "source": [
    "result_total_5 = pd.merge(result[np.abs(result['corr'])>0.5], result_sub[np.abs(result_sub['corr'])>0.5], \n",
    "                          on=['company', 'variable', 'group', 'importance'], how='outer',\n",
    "                         suffixes = (\"_total\", \"_sub\"))\n",
    "\n",
    "result_total_5 = result_total_5.sort_values(['corr_total'], ascending=False)"
   ]
  },
  {
   "cell_type": "code",
   "execution_count": 104,
   "id": "77cd95fe",
   "metadata": {
    "ExecuteTime": {
     "end_time": "2022-07-29T06:15:11.480100Z",
     "start_time": "2022-07-29T06:15:11.475299Z"
    }
   },
   "outputs": [],
   "source": [
    "result_total_5 = result_total_5[['company', 'variable', 'group', 'importance', 'corr_total', 'corr_sub']]"
   ]
  },
  {
   "cell_type": "code",
   "execution_count": 105,
   "id": "c40b4ee8",
   "metadata": {
    "ExecuteTime": {
     "end_time": "2022-07-29T06:15:11.754567Z",
     "start_time": "2022-07-29T06:15:11.746605Z"
    }
   },
   "outputs": [],
   "source": [
    "result_total_5.to_csv(os.path.join(dir_company_y, 'compare_period_corr_05.csv'), index=False, encoding='utf-8-sig')"
   ]
  },
  {
   "cell_type": "markdown",
   "id": "0d55692c",
   "metadata": {},
   "source": [
    "### Save"
   ]
  },
  {
   "cell_type": "code",
   "execution_count": 106,
   "id": "1349241b",
   "metadata": {
    "ExecuteTime": {
     "end_time": "2022-07-29T06:15:13.725708Z",
     "start_time": "2022-07-29T06:15:13.610422Z"
    }
   },
   "outputs": [],
   "source": [
    "writer = pd.ExcelWriter(os.path.join(dir_company_y, y+'.xlsx'), engine='xlsxwriter')\n",
    "pd.concat([result, result_sub], axis=1).to_excel(writer, sheet_name='Correlation', index=False)\n",
    "result_total_7.to_excel(writer, sheet_name='Correlation > 0.7', index=False)\n",
    "result_total_5.to_excel(writer, sheet_name='Correlation > 0.5', index=False)\n",
    "writer.save()"
   ]
  },
  {
   "cell_type": "code",
   "execution_count": null,
   "id": "287b7253",
   "metadata": {},
   "outputs": [],
   "source": []
  },
  {
   "cell_type": "markdown",
   "id": "0740d136",
   "metadata": {},
   "source": [
    "# Infosys"
   ]
  },
  {
   "cell_type": "markdown",
   "id": "79572d0b",
   "metadata": {},
   "source": [
    "## Load data"
   ]
  },
  {
   "cell_type": "code",
   "execution_count": 107,
   "id": "9cc55e61",
   "metadata": {
    "ExecuteTime": {
     "end_time": "2022-07-29T06:15:15.935134Z",
     "start_time": "2022-07-29T06:15:15.929151Z"
    }
   },
   "outputs": [],
   "source": [
    "# dir_root = 'C:/Users/kkt71/OneDrive/바탕 화면/기업가치분석'\n",
    "dir_root = 'C:/Users/10188/Desktop/기업가치/상관분석/기업가치분석_data_result'\n",
    "dir_master = os.path.join(dir_root, '01. data', 'master')\n",
    "dir_processed = os.path.join(dir_root, '01. data', 'processed')\n",
    "dir_result = os.path.join(dir_root, '03. result')"
   ]
  },
  {
   "cell_type": "code",
   "execution_count": 108,
   "id": "fcf85bda",
   "metadata": {
    "ExecuteTime": {
     "end_time": "2022-07-29T06:15:17.682144Z",
     "start_time": "2022-07-29T06:15:17.679153Z"
    }
   },
   "outputs": [],
   "source": [
    "company = 'Infosys'\n",
    "y = 'EV_EBITDA'"
   ]
  },
  {
   "cell_type": "code",
   "execution_count": 109,
   "id": "fdee7bfe",
   "metadata": {
    "ExecuteTime": {
     "end_time": "2022-07-29T06:15:18.064147Z",
     "start_time": "2022-07-29T06:15:18.060158Z"
    }
   },
   "outputs": [],
   "source": [
    "dir_company = os.path.join(dir_result, company)\n",
    "dir_company_y = os.path.join(dir_company, y)"
   ]
  },
  {
   "cell_type": "code",
   "execution_count": 110,
   "id": "ac8c6901",
   "metadata": {
    "ExecuteTime": {
     "end_time": "2022-07-29T06:15:18.977826Z",
     "start_time": "2022-07-29T06:15:18.963219Z"
    }
   },
   "outputs": [],
   "source": [
    "result = pd.read_csv(os.path.join(dir_company_y, 'result.csv'))\n",
    "result_sub = pd.read_csv(os.path.join(dir_company_y, 'result_sub.csv'))"
   ]
  },
  {
   "cell_type": "markdown",
   "id": "1232eaef",
   "metadata": {},
   "source": [
    "## Compare : total ~ sub"
   ]
  },
  {
   "cell_type": "markdown",
   "id": "73925faf",
   "metadata": {},
   "source": [
    "### over 0.7"
   ]
  },
  {
   "cell_type": "code",
   "execution_count": 111,
   "id": "3d35c02c",
   "metadata": {
    "ExecuteTime": {
     "end_time": "2022-07-29T06:15:30.977191Z",
     "start_time": "2022-07-29T06:15:30.968216Z"
    }
   },
   "outputs": [],
   "source": [
    "result_total_7 = pd.merge(result[np.abs(result['corr'])>0.7], result_sub[np.abs(result_sub['corr'])>0.7], \n",
    "                          on=['company', 'variable', 'group', 'importance'], how='outer',\n",
    "                         suffixes = (\"_total\", \"_sub\"))\n",
    "result_total_7 = result_total_7.sort_values(['corr_total'], ascending=False)"
   ]
  },
  {
   "cell_type": "code",
   "execution_count": 112,
   "id": "c6988b0d",
   "metadata": {
    "ExecuteTime": {
     "end_time": "2022-07-29T06:15:32.557821Z",
     "start_time": "2022-07-29T06:15:32.553097Z"
    }
   },
   "outputs": [],
   "source": [
    "result_total_7 = result_total_7[['company', 'variable', 'group', 'importance', 'corr_total', 'corr_sub']]"
   ]
  },
  {
   "cell_type": "code",
   "execution_count": 113,
   "id": "111f2a66",
   "metadata": {
    "ExecuteTime": {
     "end_time": "2022-07-29T06:15:32.989807Z",
     "start_time": "2022-07-29T06:15:32.976373Z"
    }
   },
   "outputs": [],
   "source": [
    "result_total_7.to_csv(os.path.join(dir_company_y, 'compare_period_corr_07.csv'), index=False, encoding='utf-8-sig')"
   ]
  },
  {
   "cell_type": "markdown",
   "id": "5095161d",
   "metadata": {},
   "source": [
    "### over 0.5"
   ]
  },
  {
   "cell_type": "code",
   "execution_count": 114,
   "id": "132a31bb",
   "metadata": {
    "ExecuteTime": {
     "end_time": "2022-07-29T06:15:35.689397Z",
     "start_time": "2022-07-29T06:15:35.668405Z"
    }
   },
   "outputs": [],
   "source": [
    "result_total_5 = pd.merge(result[np.abs(result['corr'])>0.5], result_sub[np.abs(result_sub['corr'])>0.5], \n",
    "                          on=['company', 'variable', 'group', 'importance'], how='outer',\n",
    "                         suffixes = (\"_total\", \"_sub\"))\n",
    "\n",
    "result_total_5 = result_total_5.sort_values(['corr_total'], ascending=False)"
   ]
  },
  {
   "cell_type": "code",
   "execution_count": 115,
   "id": "1bbd8dd2",
   "metadata": {
    "ExecuteTime": {
     "end_time": "2022-07-29T06:15:36.060311Z",
     "start_time": "2022-07-29T06:15:36.054189Z"
    }
   },
   "outputs": [],
   "source": [
    "result_total_5 = result_total_5[['company', 'variable', 'group', 'importance', 'corr_total', 'corr_sub']]"
   ]
  },
  {
   "cell_type": "code",
   "execution_count": 116,
   "id": "d2b03354",
   "metadata": {
    "ExecuteTime": {
     "end_time": "2022-07-29T06:15:36.454123Z",
     "start_time": "2022-07-29T06:15:36.445141Z"
    }
   },
   "outputs": [],
   "source": [
    "result_total_5.to_csv(os.path.join(dir_company_y, 'compare_period_corr_05.csv'), index=False, encoding='utf-8-sig')"
   ]
  },
  {
   "cell_type": "markdown",
   "id": "fb38e998",
   "metadata": {},
   "source": [
    "### Save"
   ]
  },
  {
   "cell_type": "code",
   "execution_count": 117,
   "id": "33eedc72",
   "metadata": {
    "ExecuteTime": {
     "end_time": "2022-07-29T06:15:37.612136Z",
     "start_time": "2022-07-29T06:15:37.535276Z"
    }
   },
   "outputs": [],
   "source": [
    "writer = pd.ExcelWriter(os.path.join(dir_company_y, y+'.xlsx'), engine='xlsxwriter')\n",
    "pd.concat([result, result_sub], axis=1).to_excel(writer, sheet_name='Correlation', index=False)\n",
    "result_total_7.to_excel(writer, sheet_name='Correlation > 0.7', index=False)\n",
    "result_total_5.to_excel(writer, sheet_name='Correlation > 0.5', index=False)\n",
    "writer.save()"
   ]
  },
  {
   "cell_type": "code",
   "execution_count": null,
   "id": "480687d1",
   "metadata": {},
   "outputs": [],
   "source": []
  },
  {
   "cell_type": "markdown",
   "id": "3b8239a1",
   "metadata": {},
   "source": [
    "# TCS"
   ]
  },
  {
   "cell_type": "markdown",
   "id": "5b23b13d",
   "metadata": {},
   "source": [
    "## Load data"
   ]
  },
  {
   "cell_type": "code",
   "execution_count": 118,
   "id": "ffb8df6b",
   "metadata": {
    "ExecuteTime": {
     "end_time": "2022-07-29T06:15:41.911422Z",
     "start_time": "2022-07-29T06:15:41.907455Z"
    }
   },
   "outputs": [],
   "source": [
    "# dir_root = 'C:/Users/kkt71/OneDrive/바탕 화면/기업가치분석'\n",
    "dir_root = 'C:/Users/10188/Desktop/기업가치/상관분석/기업가치분석_data_result'\n",
    "dir_master = os.path.join(dir_root, '01. data', 'master')\n",
    "dir_processed = os.path.join(dir_root, '01. data', 'processed')\n",
    "dir_result = os.path.join(dir_root, '03. result')"
   ]
  },
  {
   "cell_type": "code",
   "execution_count": 119,
   "id": "c8b70ec3",
   "metadata": {
    "ExecuteTime": {
     "end_time": "2022-07-29T06:15:42.481482Z",
     "start_time": "2022-07-29T06:15:42.479485Z"
    }
   },
   "outputs": [],
   "source": [
    "company = 'TCS'\n",
    "y = 'EV_EBITDA'"
   ]
  },
  {
   "cell_type": "code",
   "execution_count": 120,
   "id": "b98b2c55",
   "metadata": {
    "ExecuteTime": {
     "end_time": "2022-07-29T06:15:43.191322Z",
     "start_time": "2022-07-29T06:15:43.187353Z"
    }
   },
   "outputs": [],
   "source": [
    "dir_company = os.path.join(dir_result, company)\n",
    "dir_company_y = os.path.join(dir_company, y)"
   ]
  },
  {
   "cell_type": "code",
   "execution_count": 121,
   "id": "a04d2428",
   "metadata": {
    "ExecuteTime": {
     "end_time": "2022-07-29T06:15:43.636669Z",
     "start_time": "2022-07-29T06:15:43.622324Z"
    }
   },
   "outputs": [],
   "source": [
    "result = pd.read_csv(os.path.join(dir_company_y, 'result.csv'))\n",
    "result_sub = pd.read_csv(os.path.join(dir_company_y, 'result_sub.csv'))"
   ]
  },
  {
   "cell_type": "markdown",
   "id": "a03ed54b",
   "metadata": {},
   "source": [
    "## Compare : total ~ sub"
   ]
  },
  {
   "cell_type": "markdown",
   "id": "7c80f43c",
   "metadata": {},
   "source": [
    "### over 0.7"
   ]
  },
  {
   "cell_type": "code",
   "execution_count": 122,
   "id": "bd80c9a8",
   "metadata": {
    "ExecuteTime": {
     "end_time": "2022-07-29T06:15:45.623221Z",
     "start_time": "2022-07-29T06:15:45.610255Z"
    },
    "scrolled": false
   },
   "outputs": [],
   "source": [
    "result_total_7 = pd.merge(result[np.abs(result['corr'])>0.7], result_sub[np.abs(result_sub['corr'])>0.7], \n",
    "                          on=['company', 'variable', 'group', 'importance'], how='outer',\n",
    "                         suffixes = (\"_total\", \"_sub\"))\n",
    "result_total_7 = result_total_7.sort_values(['corr_total'], ascending=False)"
   ]
  },
  {
   "cell_type": "code",
   "execution_count": 123,
   "id": "ade66cd0",
   "metadata": {
    "ExecuteTime": {
     "end_time": "2022-07-29T06:15:46.161411Z",
     "start_time": "2022-07-29T06:15:46.156426Z"
    }
   },
   "outputs": [],
   "source": [
    "result_total_7 = result_total_7[['company', 'variable', 'group', 'importance', 'corr_total', 'corr_sub']]"
   ]
  },
  {
   "cell_type": "code",
   "execution_count": 124,
   "id": "edddbbc5",
   "metadata": {
    "ExecuteTime": {
     "end_time": "2022-07-29T06:15:46.705834Z",
     "start_time": "2022-07-29T06:15:46.697163Z"
    }
   },
   "outputs": [],
   "source": [
    "result_total_7.to_csv(os.path.join(dir_company_y, 'compare_period_corr_07.csv'), index=False, encoding='utf-8-sig')"
   ]
  },
  {
   "cell_type": "markdown",
   "id": "458c9011",
   "metadata": {},
   "source": [
    "### over 0.5"
   ]
  },
  {
   "cell_type": "code",
   "execution_count": 125,
   "id": "c9eea7fc",
   "metadata": {
    "ExecuteTime": {
     "end_time": "2022-07-29T06:15:47.726859Z",
     "start_time": "2022-07-29T06:15:47.716219Z"
    }
   },
   "outputs": [],
   "source": [
    "result_total_5 = pd.merge(result[np.abs(result['corr'])>0.5], result_sub[np.abs(result_sub['corr'])>0.5], \n",
    "                          on=['company', 'variable', 'group', 'importance'], how='outer',\n",
    "                         suffixes = (\"_total\", \"_sub\"))\n",
    "\n",
    "result_total_5 = result_total_5.sort_values(['corr_total'], ascending=False)"
   ]
  },
  {
   "cell_type": "code",
   "execution_count": 126,
   "id": "3ee0923e",
   "metadata": {
    "ExecuteTime": {
     "end_time": "2022-07-29T06:15:48.267458Z",
     "start_time": "2022-07-29T06:15:48.262471Z"
    }
   },
   "outputs": [],
   "source": [
    "result_total_5 = result_total_5[['company', 'variable', 'group', 'importance', 'corr_total', 'corr_sub']]"
   ]
  },
  {
   "cell_type": "code",
   "execution_count": 127,
   "id": "30e4be11",
   "metadata": {
    "ExecuteTime": {
     "end_time": "2022-07-29T06:15:48.905275Z",
     "start_time": "2022-07-29T06:15:48.897299Z"
    }
   },
   "outputs": [],
   "source": [
    "result_total_5.to_csv(os.path.join(dir_company_y, 'compare_period_corr_05.csv'), index=False, encoding='utf-8-sig')"
   ]
  },
  {
   "cell_type": "markdown",
   "id": "f7f933f3",
   "metadata": {},
   "source": [
    "### Save"
   ]
  },
  {
   "cell_type": "code",
   "execution_count": 128,
   "id": "5665215e",
   "metadata": {
    "ExecuteTime": {
     "end_time": "2022-07-29T06:15:49.881236Z",
     "start_time": "2022-07-29T06:15:49.799289Z"
    }
   },
   "outputs": [],
   "source": [
    "writer = pd.ExcelWriter(os.path.join(dir_company_y, y+'.xlsx'), engine='xlsxwriter')\n",
    "pd.concat([result, result_sub], axis=1).to_excel(writer, sheet_name='Correlation', index=False)\n",
    "result_total_7.to_excel(writer, sheet_name='Correlation > 0.7', index=False)\n",
    "result_total_5.to_excel(writer, sheet_name='Correlation > 0.5', index=False)\n",
    "writer.save()"
   ]
  },
  {
   "cell_type": "code",
   "execution_count": null,
   "id": "c2e94412",
   "metadata": {},
   "outputs": [],
   "source": []
  },
  {
   "cell_type": "markdown",
   "id": "f6db3333",
   "metadata": {},
   "source": [
    "# Cognizant"
   ]
  },
  {
   "cell_type": "markdown",
   "id": "1f5f7ca0",
   "metadata": {},
   "source": [
    "## Load data"
   ]
  },
  {
   "cell_type": "code",
   "execution_count": 129,
   "id": "26b9f379",
   "metadata": {
    "ExecuteTime": {
     "end_time": "2022-07-29T06:15:51.428881Z",
     "start_time": "2022-07-29T06:15:51.424895Z"
    }
   },
   "outputs": [],
   "source": [
    "# dir_root = 'C:/Users/kkt71/OneDrive/바탕 화면/기업가치분석'\n",
    "dir_root = 'C:/Users/10188/Desktop/기업가치/상관분석/기업가치분석_data_result'\n",
    "dir_master = os.path.join(dir_root, '01. data', 'master')\n",
    "dir_processed = os.path.join(dir_root, '01. data', 'processed')\n",
    "dir_result = os.path.join(dir_root, '03. result')"
   ]
  },
  {
   "cell_type": "code",
   "execution_count": 130,
   "id": "2ce0559e",
   "metadata": {
    "ExecuteTime": {
     "end_time": "2022-07-29T06:15:51.806955Z",
     "start_time": "2022-07-29T06:15:51.804477Z"
    }
   },
   "outputs": [],
   "source": [
    "company = 'Cognizant'\n",
    "y = 'EV_EBITDA'"
   ]
  },
  {
   "cell_type": "code",
   "execution_count": 131,
   "id": "e63b9e53",
   "metadata": {
    "ExecuteTime": {
     "end_time": "2022-07-29T06:15:52.191861Z",
     "start_time": "2022-07-29T06:15:52.188318Z"
    }
   },
   "outputs": [],
   "source": [
    "dir_company = os.path.join(dir_result, company)\n",
    "dir_company_y = os.path.join(dir_company, y)"
   ]
  },
  {
   "cell_type": "code",
   "execution_count": 132,
   "id": "5c2dc7ac",
   "metadata": {
    "ExecuteTime": {
     "end_time": "2022-07-29T06:15:52.627257Z",
     "start_time": "2022-07-29T06:15:52.607292Z"
    }
   },
   "outputs": [],
   "source": [
    "result = pd.read_csv(os.path.join(dir_company_y, 'result.csv'))\n",
    "result_sub = pd.read_csv(os.path.join(dir_company_y, 'result_sub.csv'))"
   ]
  },
  {
   "cell_type": "markdown",
   "id": "b84647fe",
   "metadata": {},
   "source": [
    "## Compare : total ~ sub"
   ]
  },
  {
   "cell_type": "markdown",
   "id": "04f17c7b",
   "metadata": {},
   "source": [
    "### over 0.7"
   ]
  },
  {
   "cell_type": "code",
   "execution_count": 133,
   "id": "f66ea36a",
   "metadata": {
    "ExecuteTime": {
     "end_time": "2022-07-29T06:15:53.985288Z",
     "start_time": "2022-07-29T06:15:53.973320Z"
    },
    "scrolled": false
   },
   "outputs": [],
   "source": [
    "result_total_7 = pd.merge(result[np.abs(result['corr'])>0.7], result_sub[np.abs(result_sub['corr'])>0.7], \n",
    "                          on=['company', 'variable', 'group', 'importance'], how='outer',\n",
    "                         suffixes = (\"_total\", \"_sub\"))\n",
    "result_total_7 = result_total_7.sort_values(['corr_total'], ascending=False)"
   ]
  },
  {
   "cell_type": "code",
   "execution_count": 134,
   "id": "bfa90de8",
   "metadata": {
    "ExecuteTime": {
     "end_time": "2022-07-29T06:15:54.397257Z",
     "start_time": "2022-07-29T06:15:54.390306Z"
    }
   },
   "outputs": [],
   "source": [
    "result_total_7 = result_total_7[['company', 'variable', 'group', 'importance', 'corr_total', 'corr_sub']]"
   ]
  },
  {
   "cell_type": "code",
   "execution_count": 135,
   "id": "1b954873",
   "metadata": {
    "ExecuteTime": {
     "end_time": "2022-07-29T06:15:54.811226Z",
     "start_time": "2022-07-29T06:15:54.791858Z"
    }
   },
   "outputs": [],
   "source": [
    "result_total_7.to_csv(os.path.join(dir_company_y, 'compare_period_corr_07.csv'), index=False, encoding='utf-8-sig')"
   ]
  },
  {
   "cell_type": "markdown",
   "id": "f8c58bcc",
   "metadata": {},
   "source": [
    "### over 0.5"
   ]
  },
  {
   "cell_type": "code",
   "execution_count": 136,
   "id": "3e62c47b",
   "metadata": {
    "ExecuteTime": {
     "end_time": "2022-07-29T06:15:55.975772Z",
     "start_time": "2022-07-29T06:15:55.960760Z"
    }
   },
   "outputs": [],
   "source": [
    "result_total_5 = pd.merge(result[np.abs(result['corr'])>0.5], result_sub[np.abs(result_sub['corr'])>0.5], \n",
    "                          on=['company', 'variable', 'group', 'importance'], how='outer',\n",
    "                         suffixes = (\"_total\", \"_sub\"))\n",
    "\n",
    "result_total_5 = result_total_5.sort_values(['corr_total'], ascending=False)"
   ]
  },
  {
   "cell_type": "code",
   "execution_count": 137,
   "id": "1e6affac",
   "metadata": {
    "ExecuteTime": {
     "end_time": "2022-07-29T06:15:56.317657Z",
     "start_time": "2022-07-29T06:15:56.309910Z"
    }
   },
   "outputs": [],
   "source": [
    "result_total_5 = result_total_5[['company', 'variable', 'group', 'importance', 'corr_total', 'corr_sub']]"
   ]
  },
  {
   "cell_type": "code",
   "execution_count": 138,
   "id": "6f3aedfd",
   "metadata": {
    "ExecuteTime": {
     "end_time": "2022-07-29T06:15:56.681489Z",
     "start_time": "2022-07-29T06:15:56.662510Z"
    }
   },
   "outputs": [],
   "source": [
    "result_total_5.to_csv(os.path.join(dir_company_y, 'compare_period_corr_05.csv'), index=False, encoding='utf-8-sig')"
   ]
  },
  {
   "cell_type": "markdown",
   "id": "8a6e86b1",
   "metadata": {},
   "source": [
    "### Save"
   ]
  },
  {
   "cell_type": "code",
   "execution_count": 139,
   "id": "6bae3340",
   "metadata": {
    "ExecuteTime": {
     "end_time": "2022-07-29T06:15:57.639385Z",
     "start_time": "2022-07-29T06:15:57.507714Z"
    }
   },
   "outputs": [],
   "source": [
    "writer = pd.ExcelWriter(os.path.join(dir_company_y, y+'.xlsx'), engine='xlsxwriter')\n",
    "pd.concat([result, result_sub], axis=1).to_excel(writer, sheet_name='Correlation', index=False)\n",
    "result_total_7.to_excel(writer, sheet_name='Correlation > 0.7', index=False)\n",
    "result_total_5.to_excel(writer, sheet_name='Correlation > 0.5', index=False)\n",
    "writer.save()"
   ]
  },
  {
   "cell_type": "code",
   "execution_count": null,
   "id": "21c8335b",
   "metadata": {},
   "outputs": [],
   "source": []
  },
  {
   "cell_type": "code",
   "execution_count": null,
   "id": "8f230b30",
   "metadata": {},
   "outputs": [],
   "source": []
  }
 ],
 "metadata": {
  "hide_input": false,
  "kernelspec": {
   "display_name": "Python 3 (ipykernel)",
   "language": "python",
   "name": "python3"
  },
  "language_info": {
   "codemirror_mode": {
    "name": "ipython",
    "version": 3
   },
   "file_extension": ".py",
   "mimetype": "text/x-python",
   "name": "python",
   "nbconvert_exporter": "python",
   "pygments_lexer": "ipython3",
   "version": "3.9.7"
  },
  "toc": {
   "base_numbering": 1,
   "nav_menu": {},
   "number_sections": true,
   "sideBar": true,
   "skip_h1_title": false,
   "title_cell": "Table of Contents",
   "title_sidebar": "Contents",
   "toc_cell": false,
   "toc_position": {
    "height": "calc(100% - 180px)",
    "left": "10px",
    "top": "150px",
    "width": "290.961px"
   },
   "toc_section_display": true,
   "toc_window_display": true
  },
  "varInspector": {
   "cols": {
    "lenName": 16,
    "lenType": 16,
    "lenVar": 40
   },
   "kernels_config": {
    "python": {
     "delete_cmd_postfix": "",
     "delete_cmd_prefix": "del ",
     "library": "var_list.py",
     "varRefreshCmd": "print(var_dic_list())"
    },
    "r": {
     "delete_cmd_postfix": ") ",
     "delete_cmd_prefix": "rm(",
     "library": "var_list.r",
     "varRefreshCmd": "cat(var_dic_list()) "
    }
   },
   "types_to_exclude": [
    "module",
    "function",
    "builtin_function_or_method",
    "instance",
    "_Feature"
   ],
   "window_display": false
  }
 },
 "nbformat": 4,
 "nbformat_minor": 5
}
