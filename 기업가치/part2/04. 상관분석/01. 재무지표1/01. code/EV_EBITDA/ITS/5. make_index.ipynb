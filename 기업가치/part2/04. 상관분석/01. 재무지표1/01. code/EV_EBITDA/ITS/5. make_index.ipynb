{
 "cells": [
  {
   "cell_type": "code",
   "execution_count": 37,
   "id": "29e66115",
   "metadata": {
    "ExecuteTime": {
     "end_time": "2022-07-29T06:22:44.516564Z",
     "start_time": "2022-07-29T06:22:44.451360Z"
    }
   },
   "outputs": [],
   "source": [
    "import pandas as pd\n",
    "import numpy as np\n",
    "import os\n",
    "from scipy.cluster import hierarchy as hc\n",
    "import matplotlib\n",
    "import matplotlib.pyplot as plt\n",
    "import warnings\n",
    "import seaborn as sns\n",
    "from scipy import stats\n",
    "import math\n",
    "from sklearn.preprocessing import MinMaxScaler\n",
    "\n",
    "%matplotlib inline\n",
    "warnings.filterwarnings(action='ignore')\n",
    "\n",
    "matplotlib.rcParams['font.family'] ='Malgun Gothic'\n",
    "matplotlib.rcParams['axes.unicode_minus'] =False"
   ]
  },
  {
   "cell_type": "markdown",
   "id": "e5fb7b91",
   "metadata": {},
   "source": [
    "# Load data"
   ]
  },
  {
   "cell_type": "code",
   "execution_count": 38,
   "id": "a4ba4241",
   "metadata": {
    "ExecuteTime": {
     "end_time": "2022-07-29T06:22:45.567717Z",
     "start_time": "2022-07-29T06:22:45.561732Z"
    }
   },
   "outputs": [],
   "source": [
    "# dir_root = 'C:/Users/kkt71/OneDrive/바탕 화면/기업가치분석'\n",
    "dir_root = 'C:/Users/10188/Desktop/기업가치/상관분석/기업가치분석_data_result'\n",
    "dir_master = os.path.join(dir_root, '01. data', 'master')\n",
    "dir_processed = os.path.join(dir_root, '01. data', 'processed')\n",
    "dir_result = os.path.join(dir_root, '03. result')"
   ]
  },
  {
   "cell_type": "code",
   "execution_count": 39,
   "id": "83f34bb3",
   "metadata": {
    "ExecuteTime": {
     "end_time": "2022-07-29T06:22:45.933599Z",
     "start_time": "2022-07-29T06:22:45.927861Z"
    }
   },
   "outputs": [],
   "source": [
    "y = 'EV_EBITDA'\n",
    "c1 = 'Accenture'\n",
    "c2 = 'Infosys'\n",
    "c3 = 'TCS'\n",
    "c4 = 'Cognizant'"
   ]
  },
  {
   "cell_type": "code",
   "execution_count": 40,
   "id": "e5667460",
   "metadata": {
    "ExecuteTime": {
     "end_time": "2022-07-29T06:22:46.700904Z",
     "start_time": "2022-07-29T06:22:46.697907Z"
    }
   },
   "outputs": [],
   "source": [
    "outperform = [c1, c2, c3]\n",
    "lowperform = [c4]"
   ]
  },
  {
   "cell_type": "code",
   "execution_count": 41,
   "id": "2ea9998e",
   "metadata": {
    "ExecuteTime": {
     "end_time": "2022-07-29T06:22:47.562873Z",
     "start_time": "2022-07-29T06:22:47.556881Z"
    }
   },
   "outputs": [],
   "source": [
    "target_out = [s+'_show' for s in outperform]\n",
    "target_low = [s+'_show' for s in lowperform]\n",
    "target_col = [s+'_show' for s in outperform+lowperform]"
   ]
  },
  {
   "cell_type": "code",
   "execution_count": 42,
   "id": "c0c3a134",
   "metadata": {
    "ExecuteTime": {
     "end_time": "2022-07-29T06:22:47.971009Z",
     "start_time": "2022-07-29T06:22:47.965024Z"
    }
   },
   "outputs": [],
   "source": [
    "dir_result_all = os.path.join(dir_result, 'All_ITS', y)"
   ]
  },
  {
   "cell_type": "code",
   "execution_count": 43,
   "id": "ef61a030",
   "metadata": {
    "ExecuteTime": {
     "end_time": "2022-07-29T06:22:48.653431Z",
     "start_time": "2022-07-29T06:22:48.585257Z"
    }
   },
   "outputs": [],
   "source": [
    "df = pd.read_excel(os.path.join(dir_result_all, 'corr_y_x_over7.xlsx'))"
   ]
  },
  {
   "cell_type": "code",
   "execution_count": 44,
   "id": "b748b726",
   "metadata": {
    "ExecuteTime": {
     "end_time": "2022-07-29T06:22:49.621197Z",
     "start_time": "2022-07-29T06:22:49.614215Z"
    }
   },
   "outputs": [
    {
     "data": {
      "text/plain": [
       "Index(['variable', 'group', 'importance', 'Accenture_filtered',\n",
       "       'Infosys_filtered', 'TCS_filtered', 'Cognizant_filtered',\n",
       "       'Accenture_show', 'Infosys_show', 'TCS_show', 'Cognizant_show'],\n",
       "      dtype='object')"
      ]
     },
     "execution_count": 44,
     "metadata": {},
     "output_type": "execute_result"
    }
   ],
   "source": [
    "df.columns"
   ]
  },
  {
   "cell_type": "markdown",
   "id": "e1bed34e",
   "metadata": {},
   "source": [
    "# Make index"
   ]
  },
  {
   "cell_type": "code",
   "execution_count": 45,
   "id": "4a663fac",
   "metadata": {
    "ExecuteTime": {
     "end_time": "2022-07-29T06:22:58.259896Z",
     "start_time": "2022-07-29T06:22:58.235841Z"
    }
   },
   "outputs": [],
   "source": [
    "df['Outperform_avg'] = df[target_out].mean(axis=1)\n",
    "df['Gap(Out~Low)'] = np.abs(df['Outperform_avg']-df[target_low[0]])\n",
    "df['Std(Out)'] = df[target_out].std(axis=1)"
   ]
  },
  {
   "cell_type": "code",
   "execution_count": 46,
   "id": "5b49a521",
   "metadata": {
    "ExecuteTime": {
     "end_time": "2022-07-29T06:22:59.252473Z",
     "start_time": "2022-07-29T06:22:59.238513Z"
    }
   },
   "outputs": [],
   "source": [
    "scaler = MinMaxScaler()\n",
    "df['Gap normed+1'] = pd.DataFrame(scaler.fit_transform(df[['Gap(Out~Low)']])+1)[0]"
   ]
  },
  {
   "cell_type": "code",
   "execution_count": 47,
   "id": "b1ff81d6",
   "metadata": {
    "ExecuteTime": {
     "end_time": "2022-07-29T06:22:59.875869Z",
     "start_time": "2022-07-29T06:22:59.867891Z"
    }
   },
   "outputs": [],
   "source": [
    "scaler = MinMaxScaler()\n",
    "df['Std normed+1'] = pd.DataFrame(scaler.fit_transform(df[['Std(Out)']])+1)[0]"
   ]
  },
  {
   "cell_type": "code",
   "execution_count": 48,
   "id": "51b252d3",
   "metadata": {
    "ExecuteTime": {
     "end_time": "2022-07-29T06:23:01.743120Z",
     "start_time": "2022-07-29T06:23:01.738187Z"
    }
   },
   "outputs": [],
   "source": [
    "df['index 1'] = df['Gap normed+1']/df['Std normed+1']"
   ]
  },
  {
   "cell_type": "code",
   "execution_count": 49,
   "id": "891cbf96",
   "metadata": {
    "ExecuteTime": {
     "end_time": "2022-07-29T06:23:02.009798Z",
     "start_time": "2022-07-29T06:23:02.001269Z"
    }
   },
   "outputs": [],
   "source": [
    "scaler = MinMaxScaler()\n",
    "df['Std normed original'] = pd.DataFrame(scaler.fit_transform(df[['Std(Out)']]))[0]"
   ]
  },
  {
   "cell_type": "code",
   "execution_count": 50,
   "id": "06c7728f",
   "metadata": {
    "ExecuteTime": {
     "end_time": "2022-07-29T06:23:02.365756Z",
     "start_time": "2022-07-29T06:23:02.360223Z"
    }
   },
   "outputs": [],
   "source": [
    "df['Std normed 0.5'] = df['Std normed original']*0.5 + 0.5\n",
    "df['1/Std normed'] = 1/df['Std normed 0.5']"
   ]
  },
  {
   "cell_type": "code",
   "execution_count": 51,
   "id": "7d944319",
   "metadata": {
    "ExecuteTime": {
     "end_time": "2022-07-29T06:23:02.642178Z",
     "start_time": "2022-07-29T06:23:02.636194Z"
    }
   },
   "outputs": [],
   "source": [
    "df['Index 2'] = 0.6*df['Gap normed+1']+0.4*df['1/Std normed']"
   ]
  },
  {
   "cell_type": "code",
   "execution_count": 52,
   "id": "055974f7",
   "metadata": {
    "ExecuteTime": {
     "end_time": "2022-07-29T06:23:02.987670Z",
     "start_time": "2022-07-29T06:23:02.972442Z"
    }
   },
   "outputs": [],
   "source": [
    "df[[s+'_marked' for s in outperform+lowperform]+[s+'_plot' for s in outperform+lowperform]] = np.nan"
   ]
  },
  {
   "cell_type": "code",
   "execution_count": 53,
   "id": "3eecc42b",
   "metadata": {
    "ExecuteTime": {
     "end_time": "2022-07-29T06:23:04.248560Z",
     "start_time": "2022-07-29T06:23:04.167597Z"
    }
   },
   "outputs": [],
   "source": [
    "writer = pd.ExcelWriter(os.path.join(dir_result_all, 'correlation_index.xlsx'), engine='xlsxwriter')\n",
    "df.to_excel(writer, index=False)\n",
    "writer.save()"
   ]
  }
 ],
 "metadata": {
  "hide_input": false,
  "kernelspec": {
   "display_name": "Python 3 (ipykernel)",
   "language": "python",
   "name": "python3"
  },
  "language_info": {
   "codemirror_mode": {
    "name": "ipython",
    "version": 3
   },
   "file_extension": ".py",
   "mimetype": "text/x-python",
   "name": "python",
   "nbconvert_exporter": "python",
   "pygments_lexer": "ipython3",
   "version": "3.9.7"
  },
  "toc": {
   "base_numbering": 1,
   "nav_menu": {},
   "number_sections": true,
   "sideBar": true,
   "skip_h1_title": false,
   "title_cell": "Table of Contents",
   "title_sidebar": "Contents",
   "toc_cell": false,
   "toc_position": {
    "height": "calc(100% - 180px)",
    "left": "10px",
    "top": "150px",
    "width": "225px"
   },
   "toc_section_display": true,
   "toc_window_display": true
  },
  "varInspector": {
   "cols": {
    "lenName": 16,
    "lenType": 16,
    "lenVar": 40
   },
   "kernels_config": {
    "python": {
     "delete_cmd_postfix": "",
     "delete_cmd_prefix": "del ",
     "library": "var_list.py",
     "varRefreshCmd": "print(var_dic_list())"
    },
    "r": {
     "delete_cmd_postfix": ") ",
     "delete_cmd_prefix": "rm(",
     "library": "var_list.r",
     "varRefreshCmd": "cat(var_dic_list()) "
    }
   },
   "types_to_exclude": [
    "module",
    "function",
    "builtin_function_or_method",
    "instance",
    "_Feature"
   ],
   "window_display": false
  }
 },
 "nbformat": 4,
 "nbformat_minor": 5
}
