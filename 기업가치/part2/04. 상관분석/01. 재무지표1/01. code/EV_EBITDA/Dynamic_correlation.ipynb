{
 "cells": [
  {
   "cell_type": "code",
   "execution_count": 2,
   "id": "29e66115",
   "metadata": {
    "ExecuteTime": {
     "end_time": "2022-08-29T01:11:49.371611Z",
     "start_time": "2022-08-29T01:11:49.359147Z"
    }
   },
   "outputs": [],
   "source": [
    "import pandas as pd\n",
    "import numpy as np\n",
    "import os\n",
    "from scipy.cluster import hierarchy as hc\n",
    "import matplotlib\n",
    "import matplotlib.pyplot as plt\n",
    "import warnings\n",
    "import seaborn as sns\n",
    "from scipy import stats\n",
    "import math\n",
    "import sys\n",
    "import xlsxwriter\n",
    "from datetime import datetime, timedelta\n",
    "\n",
    "\n",
    "%matplotlib inline\n",
    "warnings.filterwarnings(action='ignore')\n",
    "\n",
    "matplotlib.rcParams['font.family'] ='Malgun Gothic'\n",
    "matplotlib.rcParams['axes.unicode_minus'] =False"
   ]
  },
  {
   "cell_type": "markdown",
   "id": "e5fb7b91",
   "metadata": {},
   "source": [
    "# Load data"
   ]
  },
  {
   "cell_type": "code",
   "execution_count": 3,
   "id": "cabe823a",
   "metadata": {
    "ExecuteTime": {
     "end_time": "2022-08-29T01:13:09.247157Z",
     "start_time": "2022-08-29T01:13:09.239183Z"
    }
   },
   "outputs": [],
   "source": [
    "dir_root = 'C:/Users/10123/Desktop/part2'\n",
    "dir_master = os.path.join(dir_root, '01. Data', '00. master_data')\n",
    "dir_processed = os.path.join(dir_root, '01. Data', '01. 재무지표1', 'ITS')\n",
    "dir_result = os.path.join(dir_root, '04. 상관분석', '01. 재무지표1', '02. result')"
   ]
  },
  {
   "cell_type": "markdown",
   "id": "69ff8b7d",
   "metadata": {},
   "source": [
    "# Moving corr"
   ]
  },
  {
   "cell_type": "code",
   "execution_count": 5,
   "id": "65d01d1a",
   "metadata": {
    "ExecuteTime": {
     "end_time": "2022-08-29T01:13:54.741427Z",
     "start_time": "2022-08-29T01:13:54.731461Z"
    }
   },
   "outputs": [],
   "source": [
    "master_file_name = 'desc_v2.2.xlsx'\n",
    "version_processed = 'v1.3'"
   ]
  },
  {
   "cell_type": "markdown",
   "id": "79687c1a",
   "metadata": {},
   "source": [
    "### Load data, set parameter"
   ]
  },
  {
   "cell_type": "code",
   "execution_count": 6,
   "id": "95ab70bb",
   "metadata": {
    "ExecuteTime": {
     "end_time": "2022-08-29T01:13:56.819406Z",
     "start_time": "2022-08-29T01:13:55.448791Z"
    }
   },
   "outputs": [],
   "source": [
    "master = pd.read_excel(os.path.join(dir_master, master_file_name), sheet_name='desc')\n",
    "master = master.drop('Unnamed: 0', axis=1)"
   ]
  },
  {
   "cell_type": "code",
   "execution_count": 8,
   "id": "4e3e522d",
   "metadata": {
    "ExecuteTime": {
     "end_time": "2022-08-29T01:15:39.042580Z",
     "start_time": "2022-08-29T01:15:39.037596Z"
    }
   },
   "outputs": [],
   "source": [
    "y = 'close'\n",
    "date = 'Date_x'\n",
    "r_window_size = 20\n",
    "\n",
    "company = ['Accenture', 'Cognizant', 'Infosys']\n"
   ]
  },
  {
   "cell_type": "code",
   "execution_count": null,
   "id": "4d45f095",
   "metadata": {},
   "outputs": [],
   "source": []
  },
  {
   "cell_type": "code",
   "execution_count": 12,
   "id": "fa1fa61a",
   "metadata": {
    "ExecuteTime": {
     "end_time": "2022-08-29T01:16:43.839397Z",
     "start_time": "2022-08-29T01:16:43.477970Z"
    }
   },
   "outputs": [],
   "source": [
    "# 20 point의 마지막 지점을 column으로\n",
    "\n",
    "writer = pd.ExcelWriter(os.path.join(dir_result, 'Dynamic_correlation_'+y+'.xlsx'), engine='xlsxwriter')\n",
    "    \n",
    "for i in company:\n",
    "    df = pd.read_csv(os.path.join(dir_processed, i+'_non_shift_clean_'+version_processed+'.csv'))\n",
    "    df[date] = pd.to_datetime(df[date])\n",
    "    col = [x for x in df.columns if (x not in [date, y, 'close_weighted', 'EV_EBITDA', 'PBR'])]\n",
    "    \n",
    "    if df.isna().sum().sum() != 0:\n",
    "        print(df.shape)\n",
    "        print('NaN exists')\n",
    "        break\n",
    "    \n",
    "    tmp = df['Date_x']\n",
    "    \n",
    "    for j in col:\n",
    "        tmp= pd.concat([tmp, \n",
    "                        pd.Series(df[y].rolling(window=r_window_size).corr(df[j]), name=j)],\n",
    "                        axis=1)\n",
    "    tmp = tmp[~tmp['매출액(천원)'].isna()]\n",
    "#     tmp = tmp[(tmp[date].dt.month >= 10) & (tmp[date].dt.month <= 12)]\n",
    "    tmp = pd.merge(tmp, df[[date, y]], on=date, how='left')\n",
    "    tmp = tmp.iloc[tmp[date].dt.year.drop_duplicates(keep='last').index]\n",
    "    #     display(tmp)\n",
    "    tmp = tmp.set_index('Date_x').transpose().round(3)\n",
    "    tmp.columns = tmp.columns.astype('str')\n",
    "    tmp = tmp.reset_index()\n",
    "    tmp = tmp.rename({'index':'variable'}, axis=1)\n",
    "\n",
    "    tmp = pd.merge(tmp, master[['variable','group','importance']], on='variable', how='left')\n",
    "    tmp = tmp.set_index(['variable', 'group', 'importance'])\n",
    "    \n",
    "    tmp.to_excel(writer, sheet_name=i, index=True)\n",
    "\n",
    "writer.save()\n"
   ]
  },
  {
   "cell_type": "code",
   "execution_count": null,
   "id": "b1879a1d",
   "metadata": {},
   "outputs": [],
   "source": []
  }
 ],
 "metadata": {
  "hide_input": false,
  "kernelspec": {
   "display_name": "Python 3 (ipykernel)",
   "language": "python",
   "name": "python3"
  },
  "language_info": {
   "codemirror_mode": {
    "name": "ipython",
    "version": 3
   },
   "file_extension": ".py",
   "mimetype": "text/x-python",
   "name": "python",
   "nbconvert_exporter": "python",
   "pygments_lexer": "ipython3",
   "version": "3.9.12"
  },
  "toc": {
   "base_numbering": 1,
   "nav_menu": {},
   "number_sections": true,
   "sideBar": true,
   "skip_h1_title": false,
   "title_cell": "Table of Contents",
   "title_sidebar": "Contents",
   "toc_cell": false,
   "toc_position": {
    "height": "calc(100% - 180px)",
    "left": "10px",
    "top": "150px",
    "width": "299px"
   },
   "toc_section_display": true,
   "toc_window_display": true
  },
  "varInspector": {
   "cols": {
    "lenName": 16,
    "lenType": 16,
    "lenVar": 40
   },
   "kernels_config": {
    "python": {
     "delete_cmd_postfix": "",
     "delete_cmd_prefix": "del ",
     "library": "var_list.py",
     "varRefreshCmd": "print(var_dic_list())"
    },
    "r": {
     "delete_cmd_postfix": ") ",
     "delete_cmd_prefix": "rm(",
     "library": "var_list.r",
     "varRefreshCmd": "cat(var_dic_list()) "
    }
   },
   "types_to_exclude": [
    "module",
    "function",
    "builtin_function_or_method",
    "instance",
    "_Feature"
   ],
   "window_display": false
  }
 },
 "nbformat": 4,
 "nbformat_minor": 5
}
