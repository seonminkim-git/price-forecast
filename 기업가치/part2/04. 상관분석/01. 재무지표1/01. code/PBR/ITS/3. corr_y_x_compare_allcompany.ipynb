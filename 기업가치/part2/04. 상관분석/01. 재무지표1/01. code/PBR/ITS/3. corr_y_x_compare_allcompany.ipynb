{
 "cells": [
  {
   "cell_type": "code",
   "execution_count": 1,
   "id": "29e66115",
   "metadata": {
    "ExecuteTime": {
     "end_time": "2022-07-29T06:40:46.607944Z",
     "start_time": "2022-07-29T06:40:44.337705Z"
    }
   },
   "outputs": [],
   "source": [
    "import pandas as pd\n",
    "import numpy as np\n",
    "import os\n",
    "from scipy.cluster import hierarchy as hc\n",
    "import matplotlib\n",
    "import matplotlib.pyplot as plt\n",
    "import warnings\n",
    "import seaborn as sns\n",
    "from scipy import stats\n",
    "import math\n",
    "\n",
    "%matplotlib inline\n",
    "warnings.filterwarnings(action='ignore')\n",
    "\n",
    "matplotlib.rcParams['font.family'] ='Malgun Gothic'\n",
    "matplotlib.rcParams['axes.unicode_minus'] =False"
   ]
  },
  {
   "cell_type": "markdown",
   "id": "e5fb7b91",
   "metadata": {},
   "source": [
    "# Load data"
   ]
  },
  {
   "cell_type": "code",
   "execution_count": 2,
   "id": "a4ba4241",
   "metadata": {
    "ExecuteTime": {
     "end_time": "2022-07-29T06:40:46.628843Z",
     "start_time": "2022-07-29T06:40:46.623848Z"
    }
   },
   "outputs": [],
   "source": [
    "# dir_root = 'C:/Users/kkt71/OneDrive/바탕 화면/기업가치분석'\n",
    "dir_root = 'C:/Users/10188/Desktop/기업가치/상관분석/기업가치분석_data_result'\n",
    "dir_master = os.path.join(dir_root, '01. data', 'master')\n",
    "dir_processed = os.path.join(dir_root, '01. data', 'processed')\n",
    "dir_result = os.path.join(dir_root, '03. result')"
   ]
  },
  {
   "cell_type": "code",
   "execution_count": 3,
   "id": "83f34bb3",
   "metadata": {
    "ExecuteTime": {
     "end_time": "2022-07-29T06:40:47.499257Z",
     "start_time": "2022-07-29T06:40:47.494268Z"
    }
   },
   "outputs": [],
   "source": [
    "y = 'PBR'\n",
    "c1 = 'Accenture'\n",
    "c2 = 'Infosys'\n",
    "c3 = 'TCS'\n",
    "c4 = 'Cognizant'"
   ]
  },
  {
   "cell_type": "code",
   "execution_count": 4,
   "id": "e5667460",
   "metadata": {
    "ExecuteTime": {
     "end_time": "2022-07-29T06:40:47.867779Z",
     "start_time": "2022-07-29T06:40:47.863789Z"
    }
   },
   "outputs": [],
   "source": [
    "outperform = [c1, c2, c3]\n",
    "lowperform = [c4]"
   ]
  },
  {
   "cell_type": "code",
   "execution_count": 5,
   "id": "c0c3a134",
   "metadata": {
    "ExecuteTime": {
     "end_time": "2022-07-29T06:40:48.508612Z",
     "start_time": "2022-07-29T06:40:48.501651Z"
    }
   },
   "outputs": [],
   "source": [
    "dir_result_all = os.path.join(dir_result, 'All_ITS', y)\n",
    "\n",
    "if os.path.exists(dir_result_all)==False:\n",
    "    os.makedirs(dir_result_all)"
   ]
  },
  {
   "cell_type": "markdown",
   "id": "fb6e0ed4",
   "metadata": {},
   "source": [
    "# total 기간에 대해서, 존재하는 변수 기준으로 inner join"
   ]
  },
  {
   "cell_type": "code",
   "execution_count": 6,
   "id": "0043f676",
   "metadata": {
    "ExecuteTime": {
     "end_time": "2022-07-29T06:40:52.353700Z",
     "start_time": "2022-07-29T06:40:52.321009Z"
    }
   },
   "outputs": [],
   "source": [
    "df_c1 = pd.read_csv(os.path.join(dir_result, c1, y, y+'.csv')).iloc[:,:5]\n",
    "df_c2 = pd.read_csv(os.path.join(dir_result, c2, y, y+'.csv')).iloc[:,:5]\n",
    "df_c3 = pd.read_csv(os.path.join(dir_result, c3, y, y+'.csv')).iloc[:,:5]\n",
    "df_c4 = pd.read_csv(os.path.join(dir_result, c4, y, y+'.csv')).iloc[:,:5]"
   ]
  },
  {
   "cell_type": "code",
   "execution_count": 7,
   "id": "e43ff89c",
   "metadata": {
    "ExecuteTime": {
     "end_time": "2022-07-29T06:40:52.623575Z",
     "start_time": "2022-07-29T06:40:52.611031Z"
    }
   },
   "outputs": [],
   "source": [
    "df_c1.rename({'corr' : df_c1.company.unique()[0]}, axis=1, inplace=True)\n",
    "df_c2.rename({'corr' : df_c2.company.unique()[0]}, axis=1, inplace=True)\n",
    "df_c3.rename({'corr' : df_c3.company.unique()[0]}, axis=1, inplace=True)\n",
    "df_c4.rename({'corr' : df_c4.company.unique()[0]}, axis=1, inplace=True)\n",
    "\n",
    "df_c1.drop(['company'], axis=1, inplace=True)\n",
    "df_c2.drop(['company'], axis=1, inplace=True)\n",
    "df_c3.drop(['company'], axis=1, inplace=True)\n",
    "df_c4.drop(['company'], axis=1, inplace=True)"
   ]
  },
  {
   "cell_type": "code",
   "execution_count": 8,
   "id": "6ab4750c",
   "metadata": {
    "ExecuteTime": {
     "end_time": "2022-07-29T06:40:54.480952Z",
     "start_time": "2022-07-29T06:40:54.470831Z"
    }
   },
   "outputs": [],
   "source": [
    "df_all_variable = pd.merge(pd.merge(pd.merge(df_c1, df_c2, on=['variable','group', 'importance'], how='inner'), \n",
    "                          df_c3, on=['variable','group', 'importance'], how='inner'), \n",
    "                 df_c4, on=['variable','group', 'importance'], how='inner')"
   ]
  },
  {
   "cell_type": "code",
   "execution_count": 9,
   "id": "b385d7d2",
   "metadata": {
    "ExecuteTime": {
     "end_time": "2022-07-29T06:40:54.829856Z",
     "start_time": "2022-07-29T06:40:54.824868Z"
    }
   },
   "outputs": [],
   "source": [
    "df_all_variable = df_all_variable[['variable', 'group', 'importance']+outperform+lowperform]"
   ]
  },
  {
   "cell_type": "markdown",
   "id": "df4fd82a",
   "metadata": {},
   "source": [
    "# 0.7 이상 상관계수가 하나라도 있으면, 남기도록 outer join"
   ]
  },
  {
   "cell_type": "code",
   "execution_count": 13,
   "id": "41ce8575",
   "metadata": {
    "ExecuteTime": {
     "end_time": "2022-07-29T06:41:22.408120Z",
     "start_time": "2022-07-29T06:41:22.363979Z"
    }
   },
   "outputs": [],
   "source": [
    "df_c1 = pd.read_csv(os.path.join(dir_result, c1, y, 'compare_period_corr_07.csv'))\n",
    "df_c2 = pd.read_csv(os.path.join(dir_result, c2, y, 'compare_period_corr_07.csv'))\n",
    "df_c3 = pd.read_csv(os.path.join(dir_result, c3, y, 'compare_period_corr_07.csv'))\n",
    "df_c4 = pd.read_csv(os.path.join(dir_result, c4, y, 'compare_period_corr_07.csv'))"
   ]
  },
  {
   "cell_type": "code",
   "execution_count": 14,
   "id": "dfc7019c",
   "metadata": {
    "ExecuteTime": {
     "end_time": "2022-07-29T06:41:22.575535Z",
     "start_time": "2022-07-29T06:41:22.566853Z"
    }
   },
   "outputs": [
    {
     "name": "stdout",
     "output_type": "stream",
     "text": [
      "(3, 6)\n",
      "(0, 6)\n",
      "(6, 6)\n",
      "(23, 6)\n"
     ]
    }
   ],
   "source": [
    "print(df_c1.shape)\n",
    "print(df_c2.shape)\n",
    "print(df_c3.shape)\n",
    "print(df_c4.shape)"
   ]
  },
  {
   "cell_type": "code",
   "execution_count": 15,
   "id": "2f1e8255",
   "metadata": {
    "ExecuteTime": {
     "end_time": "2022-07-29T06:41:23.229911Z",
     "start_time": "2022-07-29T06:41:23.210952Z"
    }
   },
   "outputs": [],
   "source": [
    "df_c1.rename({'corr_total' : df_c1.company.unique()[0]}, axis=1, inplace=True)\n",
    "# df_c2.rename({'corr_total' : df_c2.company.unique()[0]}, axis=1, inplace=True)\n",
    "df_c3.rename({'corr_total' : df_c3.company.unique()[0]}, axis=1, inplace=True)\n",
    "df_c4.rename({'corr_total' : df_c4.company.unique()[0]}, axis=1, inplace=True)\n",
    "\n",
    "df_c1.drop(['corr_sub', 'company'], axis=1, inplace=True)\n",
    "# df_c2.drop(['corr_sub', 'company'], axis=1, inplace=True)\n",
    "df_c3.drop(['corr_sub', 'company'], axis=1, inplace=True)\n",
    "df_c4.drop(['corr_sub', 'company'], axis=1, inplace=True)"
   ]
  },
  {
   "cell_type": "code",
   "execution_count": 18,
   "id": "4a020dba",
   "metadata": {
    "ExecuteTime": {
     "end_time": "2022-07-28T09:12:06.880989Z",
     "start_time": "2022-07-28T09:12:06.874443Z"
    }
   },
   "outputs": [],
   "source": [
    "df_c1 = df_c1.dropna()\n",
    "# df_c2 = df_c2.dropna()\n",
    "df_c3 = df_c3.dropna()\n",
    "df_c4 = df_c4.dropna()"
   ]
  },
  {
   "cell_type": "code",
   "execution_count": 16,
   "id": "b509893b",
   "metadata": {
    "ExecuteTime": {
     "end_time": "2022-07-29T06:41:33.344063Z",
     "start_time": "2022-07-29T06:41:33.324618Z"
    }
   },
   "outputs": [],
   "source": [
    "df_all = pd.merge(pd.merge(df_c1, df_c3, on=['variable','group', 'importance'], how='outer'), \n",
    "                          df_c4, on=['variable','group', 'importance'], how='outer')\n",
    "\n",
    "# df_all = pd.merge(df_c1, df_c4, on=['variable','group', 'importance'], how='outer')\n",
    "                 "
   ]
  },
  {
   "cell_type": "code",
   "execution_count": 17,
   "id": "fd173093",
   "metadata": {
    "ExecuteTime": {
     "end_time": "2022-07-29T06:41:49.239989Z",
     "start_time": "2022-07-29T06:41:49.236997Z"
    }
   },
   "outputs": [],
   "source": [
    "# df_all = pd.merge(pd.merge(pd.merge(df_c1, df_c2, on=['variable','group', 'importance'], how='outer'), \n",
    "#                           df_c3, on=['variable','group', 'importance'], how='outer'), \n",
    "#                  df_c4, on=['variable','group', 'importance'], how='outer')"
   ]
  },
  {
   "cell_type": "code",
   "execution_count": 18,
   "id": "dadd5ff3",
   "metadata": {
    "ExecuteTime": {
     "end_time": "2022-07-29T06:41:49.419723Z",
     "start_time": "2022-07-29T06:41:49.415732Z"
    }
   },
   "outputs": [],
   "source": [
    "# df_all = df_all[['variable', 'group', 'importance']+outperform+lowperform]"
   ]
  },
  {
   "cell_type": "code",
   "execution_count": 19,
   "id": "2630469f",
   "metadata": {
    "ExecuteTime": {
     "end_time": "2022-07-29T06:41:50.464384Z",
     "start_time": "2022-07-29T06:41:50.458820Z"
    }
   },
   "outputs": [],
   "source": [
    "df_all = df_all[['variable', 'group', 'importance']+[c1, c3, c4]]"
   ]
  },
  {
   "cell_type": "code",
   "execution_count": null,
   "id": "01d98258",
   "metadata": {},
   "outputs": [],
   "source": []
  },
  {
   "cell_type": "markdown",
   "id": "86a12d1d",
   "metadata": {},
   "source": [
    "# 위의 두 개 inner join"
   ]
  },
  {
   "cell_type": "code",
   "execution_count": 20,
   "id": "1da05261",
   "metadata": {
    "ExecuteTime": {
     "end_time": "2022-07-29T06:41:52.111101Z",
     "start_time": "2022-07-29T06:41:52.102264Z"
    }
   },
   "outputs": [],
   "source": [
    "df_all_merged = pd.merge(df_all, df_all_variable, how='inner', on=['variable','group','importance'], suffixes = (\"_filtered\", \"_show\"))"
   ]
  },
  {
   "cell_type": "code",
   "execution_count": 21,
   "id": "9290166c",
   "metadata": {
    "ExecuteTime": {
     "end_time": "2022-07-29T06:41:53.827168Z",
     "start_time": "2022-07-29T06:41:53.823179Z"
    }
   },
   "outputs": [],
   "source": [
    "# df_all_merged.to_csv(os.path.join(dir_result, 'All_ITS', 'corr_y_x_over7.csv'), index=False, encoding='utf-8-sig')"
   ]
  },
  {
   "cell_type": "code",
   "execution_count": 22,
   "id": "16787e13",
   "metadata": {
    "ExecuteTime": {
     "end_time": "2022-07-29T06:41:54.214689Z",
     "start_time": "2022-07-29T06:41:54.030705Z"
    }
   },
   "outputs": [],
   "source": [
    "writer = pd.ExcelWriter(os.path.join(dir_result_all, 'corr_y_x_over7.xlsx'), engine='xlsxwriter')\n",
    "df_all_merged.to_excel(writer, index=False)\n",
    "writer.save()"
   ]
  },
  {
   "cell_type": "code",
   "execution_count": 23,
   "id": "02b03d96",
   "metadata": {
    "ExecuteTime": {
     "end_time": "2022-07-29T06:41:54.770909Z",
     "start_time": "2022-07-29T06:41:54.734720Z"
    }
   },
   "outputs": [
    {
     "data": {
      "text/html": [
       "<div>\n",
       "<style scoped>\n",
       "    .dataframe tbody tr th:only-of-type {\n",
       "        vertical-align: middle;\n",
       "    }\n",
       "\n",
       "    .dataframe tbody tr th {\n",
       "        vertical-align: top;\n",
       "    }\n",
       "\n",
       "    .dataframe thead th {\n",
       "        text-align: right;\n",
       "    }\n",
       "</style>\n",
       "<table border=\"1\" class=\"dataframe\">\n",
       "  <thead>\n",
       "    <tr style=\"text-align: right;\">\n",
       "      <th></th>\n",
       "      <th>variable</th>\n",
       "      <th>group</th>\n",
       "      <th>importance</th>\n",
       "      <th>Accenture_filtered</th>\n",
       "      <th>TCS_filtered</th>\n",
       "      <th>Cognizant_filtered</th>\n",
       "      <th>Accenture_show</th>\n",
       "      <th>Infosys</th>\n",
       "      <th>TCS_show</th>\n",
       "      <th>Cognizant_show</th>\n",
       "    </tr>\n",
       "  </thead>\n",
       "  <tbody>\n",
       "    <tr>\n",
       "      <th>0</th>\n",
       "      <td>부채비율(비율)</td>\n",
       "      <td>안정성</td>\n",
       "      <td>0</td>\n",
       "      <td>0.817</td>\n",
       "      <td>NaN</td>\n",
       "      <td>NaN</td>\n",
       "      <td>0.817</td>\n",
       "      <td>0.233</td>\n",
       "      <td>0.302</td>\n",
       "      <td>-0.524</td>\n",
       "    </tr>\n",
       "    <tr>\n",
       "      <th>1</th>\n",
       "      <td>BPS(지배, Adj.)(원/주)</td>\n",
       "      <td>안정성</td>\n",
       "      <td>2</td>\n",
       "      <td>0.802</td>\n",
       "      <td>0.721</td>\n",
       "      <td>0.906</td>\n",
       "      <td>0.802</td>\n",
       "      <td>0.239</td>\n",
       "      <td>0.721</td>\n",
       "      <td>0.906</td>\n",
       "    </tr>\n",
       "    <tr>\n",
       "      <th>2</th>\n",
       "      <td>유동자산(천원)</td>\n",
       "      <td>안정성</td>\n",
       "      <td>2</td>\n",
       "      <td>NaN</td>\n",
       "      <td>NaN</td>\n",
       "      <td>-0.769</td>\n",
       "      <td>-0.605</td>\n",
       "      <td>-0.009</td>\n",
       "      <td>0.623</td>\n",
       "      <td>-0.769</td>\n",
       "    </tr>\n",
       "    <tr>\n",
       "      <th>3</th>\n",
       "      <td>부채총계(천원)</td>\n",
       "      <td>안정성</td>\n",
       "      <td>2</td>\n",
       "      <td>NaN</td>\n",
       "      <td>0.792</td>\n",
       "      <td>NaN</td>\n",
       "      <td>-0.538</td>\n",
       "      <td>0.239</td>\n",
       "      <td>0.792</td>\n",
       "      <td>-0.663</td>\n",
       "    </tr>\n",
       "    <tr>\n",
       "      <th>4</th>\n",
       "      <td>EBITDA2(천원)</td>\n",
       "      <td>수익성</td>\n",
       "      <td>1</td>\n",
       "      <td>NaN</td>\n",
       "      <td>0.717</td>\n",
       "      <td>-0.757</td>\n",
       "      <td>-0.584</td>\n",
       "      <td>0.144</td>\n",
       "      <td>0.717</td>\n",
       "      <td>-0.757</td>\n",
       "    </tr>\n",
       "    <tr>\n",
       "      <th>5</th>\n",
       "      <td>영업이익(천원)</td>\n",
       "      <td>수익성</td>\n",
       "      <td>1</td>\n",
       "      <td>NaN</td>\n",
       "      <td>0.711</td>\n",
       "      <td>-0.767</td>\n",
       "      <td>-0.570</td>\n",
       "      <td>0.196</td>\n",
       "      <td>0.711</td>\n",
       "      <td>-0.767</td>\n",
       "    </tr>\n",
       "    <tr>\n",
       "      <th>6</th>\n",
       "      <td>EBIT(천원)</td>\n",
       "      <td>수익성</td>\n",
       "      <td>1</td>\n",
       "      <td>NaN</td>\n",
       "      <td>0.707</td>\n",
       "      <td>-0.759</td>\n",
       "      <td>-0.579</td>\n",
       "      <td>0.189</td>\n",
       "      <td>0.707</td>\n",
       "      <td>-0.759</td>\n",
       "    </tr>\n",
       "    <tr>\n",
       "      <th>7</th>\n",
       "      <td>ROGI(%)</td>\n",
       "      <td>수익성</td>\n",
       "      <td>0</td>\n",
       "      <td>NaN</td>\n",
       "      <td>0.705</td>\n",
       "      <td>NaN</td>\n",
       "      <td>0.248</td>\n",
       "      <td>-0.179</td>\n",
       "      <td>0.705</td>\n",
       "      <td>0.301</td>\n",
       "    </tr>\n",
       "    <tr>\n",
       "      <th>8</th>\n",
       "      <td>매출액증가율(YoY)(연도)</td>\n",
       "      <td>성장성</td>\n",
       "      <td>0</td>\n",
       "      <td>NaN</td>\n",
       "      <td>NaN</td>\n",
       "      <td>0.910</td>\n",
       "      <td>0.285</td>\n",
       "      <td>0.217</td>\n",
       "      <td>-0.034</td>\n",
       "      <td>0.910</td>\n",
       "    </tr>\n",
       "    <tr>\n",
       "      <th>9</th>\n",
       "      <td>EBITDA2증가율(YoY)(비율)</td>\n",
       "      <td>성장성</td>\n",
       "      <td>1</td>\n",
       "      <td>NaN</td>\n",
       "      <td>NaN</td>\n",
       "      <td>0.780</td>\n",
       "      <td>0.111</td>\n",
       "      <td>0.007</td>\n",
       "      <td>-0.052</td>\n",
       "      <td>0.780</td>\n",
       "    </tr>\n",
       "    <tr>\n",
       "      <th>10</th>\n",
       "      <td>영업이익증가율(YoY)(연도)</td>\n",
       "      <td>성장성</td>\n",
       "      <td>1</td>\n",
       "      <td>NaN</td>\n",
       "      <td>NaN</td>\n",
       "      <td>0.769</td>\n",
       "      <td>0.152</td>\n",
       "      <td>0.262</td>\n",
       "      <td>-0.026</td>\n",
       "      <td>0.769</td>\n",
       "    </tr>\n",
       "    <tr>\n",
       "      <th>11</th>\n",
       "      <td>ROE(지배)(비율)</td>\n",
       "      <td>수익성</td>\n",
       "      <td>1</td>\n",
       "      <td>NaN</td>\n",
       "      <td>NaN</td>\n",
       "      <td>0.762</td>\n",
       "      <td>0.374</td>\n",
       "      <td>0.212</td>\n",
       "      <td>-0.071</td>\n",
       "      <td>0.762</td>\n",
       "    </tr>\n",
       "    <tr>\n",
       "      <th>12</th>\n",
       "      <td>ROA(비율)</td>\n",
       "      <td>수익성</td>\n",
       "      <td>1</td>\n",
       "      <td>NaN</td>\n",
       "      <td>NaN</td>\n",
       "      <td>0.728</td>\n",
       "      <td>-0.144</td>\n",
       "      <td>0.167</td>\n",
       "      <td>-0.194</td>\n",
       "      <td>0.728</td>\n",
       "    </tr>\n",
       "    <tr>\n",
       "      <th>13</th>\n",
       "      <td>유형자산감상비 누계</td>\n",
       "      <td>안정성</td>\n",
       "      <td>1</td>\n",
       "      <td>NaN</td>\n",
       "      <td>NaN</td>\n",
       "      <td>0.727</td>\n",
       "      <td>0.377</td>\n",
       "      <td>-0.200</td>\n",
       "      <td>-0.667</td>\n",
       "      <td>0.727</td>\n",
       "    </tr>\n",
       "    <tr>\n",
       "      <th>14</th>\n",
       "      <td>단기투자자산</td>\n",
       "      <td>안정성</td>\n",
       "      <td>1</td>\n",
       "      <td>NaN</td>\n",
       "      <td>NaN</td>\n",
       "      <td>-0.723</td>\n",
       "      <td>-0.548</td>\n",
       "      <td>-0.166</td>\n",
       "      <td>0.551</td>\n",
       "      <td>-0.723</td>\n",
       "    </tr>\n",
       "    <tr>\n",
       "      <th>15</th>\n",
       "      <td>당기순이익(천원)</td>\n",
       "      <td>수익성</td>\n",
       "      <td>1</td>\n",
       "      <td>NaN</td>\n",
       "      <td>NaN</td>\n",
       "      <td>-0.729</td>\n",
       "      <td>-0.594</td>\n",
       "      <td>0.169</td>\n",
       "      <td>0.682</td>\n",
       "      <td>-0.729</td>\n",
       "    </tr>\n",
       "    <tr>\n",
       "      <th>16</th>\n",
       "      <td>자산총계(천원)</td>\n",
       "      <td>안정성</td>\n",
       "      <td>2</td>\n",
       "      <td>NaN</td>\n",
       "      <td>NaN</td>\n",
       "      <td>-0.732</td>\n",
       "      <td>-0.514</td>\n",
       "      <td>0.076</td>\n",
       "      <td>0.648</td>\n",
       "      <td>-0.732</td>\n",
       "    </tr>\n",
       "    <tr>\n",
       "      <th>17</th>\n",
       "      <td>매출원가(천원)</td>\n",
       "      <td>성장성</td>\n",
       "      <td>2</td>\n",
       "      <td>NaN</td>\n",
       "      <td>NaN</td>\n",
       "      <td>-0.736</td>\n",
       "      <td>-0.570</td>\n",
       "      <td>0.174</td>\n",
       "      <td>-0.344</td>\n",
       "      <td>-0.736</td>\n",
       "    </tr>\n",
       "    <tr>\n",
       "      <th>18</th>\n",
       "      <td>이익잉여금(천원)</td>\n",
       "      <td>수익성</td>\n",
       "      <td>2</td>\n",
       "      <td>NaN</td>\n",
       "      <td>NaN</td>\n",
       "      <td>-0.737</td>\n",
       "      <td>-0.629</td>\n",
       "      <td>-0.022</td>\n",
       "      <td>0.525</td>\n",
       "      <td>-0.737</td>\n",
       "    </tr>\n",
       "    <tr>\n",
       "      <th>19</th>\n",
       "      <td>매출액(천원)</td>\n",
       "      <td>성장성</td>\n",
       "      <td>0</td>\n",
       "      <td>NaN</td>\n",
       "      <td>NaN</td>\n",
       "      <td>-0.749</td>\n",
       "      <td>-0.574</td>\n",
       "      <td>0.176</td>\n",
       "      <td>0.682</td>\n",
       "      <td>-0.749</td>\n",
       "    </tr>\n",
       "    <tr>\n",
       "      <th>20</th>\n",
       "      <td>SG&amp;A</td>\n",
       "      <td>수익성</td>\n",
       "      <td>2</td>\n",
       "      <td>NaN</td>\n",
       "      <td>NaN</td>\n",
       "      <td>-0.762</td>\n",
       "      <td>-0.566</td>\n",
       "      <td>0.115</td>\n",
       "      <td>0.669</td>\n",
       "      <td>-0.762</td>\n",
       "    </tr>\n",
       "    <tr>\n",
       "      <th>21</th>\n",
       "      <td>매출총이익(천원)</td>\n",
       "      <td>수익성</td>\n",
       "      <td>0</td>\n",
       "      <td>NaN</td>\n",
       "      <td>NaN</td>\n",
       "      <td>-0.765</td>\n",
       "      <td>-0.576</td>\n",
       "      <td>0.180</td>\n",
       "      <td>0.678</td>\n",
       "      <td>-0.765</td>\n",
       "    </tr>\n",
       "    <tr>\n",
       "      <th>22</th>\n",
       "      <td>EPS(지배, Adj.)(원/주)</td>\n",
       "      <td>수익성</td>\n",
       "      <td>2</td>\n",
       "      <td>NaN</td>\n",
       "      <td>NaN</td>\n",
       "      <td>-0.772</td>\n",
       "      <td>-0.579</td>\n",
       "      <td>-0.266</td>\n",
       "      <td>0.693</td>\n",
       "      <td>-0.772</td>\n",
       "    </tr>\n",
       "    <tr>\n",
       "      <th>23</th>\n",
       "      <td>인당매출s</td>\n",
       "      <td>성장성</td>\n",
       "      <td>0</td>\n",
       "      <td>NaN</td>\n",
       "      <td>NaN</td>\n",
       "      <td>-0.801</td>\n",
       "      <td>0.649</td>\n",
       "      <td>-0.010</td>\n",
       "      <td>0.015</td>\n",
       "      <td>-0.801</td>\n",
       "    </tr>\n",
       "    <tr>\n",
       "      <th>24</th>\n",
       "      <td>순부채(천원)</td>\n",
       "      <td>안정성</td>\n",
       "      <td>2</td>\n",
       "      <td>NaN</td>\n",
       "      <td>NaN</td>\n",
       "      <td>NaN</td>\n",
       "      <td>0.582</td>\n",
       "      <td>0.223</td>\n",
       "      <td>-0.485</td>\n",
       "      <td>0.673</td>\n",
       "    </tr>\n",
       "  </tbody>\n",
       "</table>\n",
       "</div>"
      ],
      "text/plain": [
       "               variable group  importance  Accenture_filtered  TCS_filtered  \\\n",
       "0              부채비율(비율)   안정성           0               0.817           NaN   \n",
       "1    BPS(지배, Adj.)(원/주)   안정성           2               0.802         0.721   \n",
       "2              유동자산(천원)   안정성           2                 NaN           NaN   \n",
       "3              부채총계(천원)   안정성           2                 NaN         0.792   \n",
       "4           EBITDA2(천원)   수익성           1                 NaN         0.717   \n",
       "5              영업이익(천원)   수익성           1                 NaN         0.711   \n",
       "6              EBIT(천원)   수익성           1                 NaN         0.707   \n",
       "7               ROGI(%)   수익성           0                 NaN         0.705   \n",
       "8       매출액증가율(YoY)(연도)   성장성           0                 NaN           NaN   \n",
       "9   EBITDA2증가율(YoY)(비율)   성장성           1                 NaN           NaN   \n",
       "10     영업이익증가율(YoY)(연도)   성장성           1                 NaN           NaN   \n",
       "11          ROE(지배)(비율)   수익성           1                 NaN           NaN   \n",
       "12              ROA(비율)   수익성           1                 NaN           NaN   \n",
       "13           유형자산감상비 누계   안정성           1                 NaN           NaN   \n",
       "14               단기투자자산   안정성           1                 NaN           NaN   \n",
       "15            당기순이익(천원)   수익성           1                 NaN           NaN   \n",
       "16             자산총계(천원)   안정성           2                 NaN           NaN   \n",
       "17             매출원가(천원)   성장성           2                 NaN           NaN   \n",
       "18            이익잉여금(천원)   수익성           2                 NaN           NaN   \n",
       "19              매출액(천원)   성장성           0                 NaN           NaN   \n",
       "20                 SG&A   수익성           2                 NaN           NaN   \n",
       "21            매출총이익(천원)   수익성           0                 NaN           NaN   \n",
       "22   EPS(지배, Adj.)(원/주)   수익성           2                 NaN           NaN   \n",
       "23                인당매출s   성장성           0                 NaN           NaN   \n",
       "24              순부채(천원)   안정성           2                 NaN           NaN   \n",
       "\n",
       "    Cognizant_filtered  Accenture_show  Infosys  TCS_show  Cognizant_show  \n",
       "0                  NaN           0.817    0.233     0.302          -0.524  \n",
       "1                0.906           0.802    0.239     0.721           0.906  \n",
       "2               -0.769          -0.605   -0.009     0.623          -0.769  \n",
       "3                  NaN          -0.538    0.239     0.792          -0.663  \n",
       "4               -0.757          -0.584    0.144     0.717          -0.757  \n",
       "5               -0.767          -0.570    0.196     0.711          -0.767  \n",
       "6               -0.759          -0.579    0.189     0.707          -0.759  \n",
       "7                  NaN           0.248   -0.179     0.705           0.301  \n",
       "8                0.910           0.285    0.217    -0.034           0.910  \n",
       "9                0.780           0.111    0.007    -0.052           0.780  \n",
       "10               0.769           0.152    0.262    -0.026           0.769  \n",
       "11               0.762           0.374    0.212    -0.071           0.762  \n",
       "12               0.728          -0.144    0.167    -0.194           0.728  \n",
       "13               0.727           0.377   -0.200    -0.667           0.727  \n",
       "14              -0.723          -0.548   -0.166     0.551          -0.723  \n",
       "15              -0.729          -0.594    0.169     0.682          -0.729  \n",
       "16              -0.732          -0.514    0.076     0.648          -0.732  \n",
       "17              -0.736          -0.570    0.174    -0.344          -0.736  \n",
       "18              -0.737          -0.629   -0.022     0.525          -0.737  \n",
       "19              -0.749          -0.574    0.176     0.682          -0.749  \n",
       "20              -0.762          -0.566    0.115     0.669          -0.762  \n",
       "21              -0.765          -0.576    0.180     0.678          -0.765  \n",
       "22              -0.772          -0.579   -0.266     0.693          -0.772  \n",
       "23              -0.801           0.649   -0.010     0.015          -0.801  \n",
       "24                 NaN           0.582    0.223    -0.485           0.673  "
      ]
     },
     "execution_count": 23,
     "metadata": {},
     "output_type": "execute_result"
    }
   ],
   "source": [
    "df_all_merged"
   ]
  },
  {
   "cell_type": "code",
   "execution_count": null,
   "id": "7f6ead8f",
   "metadata": {},
   "outputs": [],
   "source": []
  }
 ],
 "metadata": {
  "hide_input": false,
  "kernelspec": {
   "display_name": "Python 3 (ipykernel)",
   "language": "python",
   "name": "python3"
  },
  "language_info": {
   "codemirror_mode": {
    "name": "ipython",
    "version": 3
   },
   "file_extension": ".py",
   "mimetype": "text/x-python",
   "name": "python",
   "nbconvert_exporter": "python",
   "pygments_lexer": "ipython3",
   "version": "3.9.7"
  },
  "toc": {
   "base_numbering": 1,
   "nav_menu": {},
   "number_sections": true,
   "sideBar": true,
   "skip_h1_title": false,
   "title_cell": "Table of Contents",
   "title_sidebar": "Contents",
   "toc_cell": false,
   "toc_position": {
    "height": "calc(100% - 180px)",
    "left": "10px",
    "top": "150px",
    "width": "225px"
   },
   "toc_section_display": true,
   "toc_window_display": true
  },
  "varInspector": {
   "cols": {
    "lenName": 16,
    "lenType": 16,
    "lenVar": 40
   },
   "kernels_config": {
    "python": {
     "delete_cmd_postfix": "",
     "delete_cmd_prefix": "del ",
     "library": "var_list.py",
     "varRefreshCmd": "print(var_dic_list())"
    },
    "r": {
     "delete_cmd_postfix": ") ",
     "delete_cmd_prefix": "rm(",
     "library": "var_list.r",
     "varRefreshCmd": "cat(var_dic_list()) "
    }
   },
   "types_to_exclude": [
    "module",
    "function",
    "builtin_function_or_method",
    "instance",
    "_Feature"
   ],
   "window_display": false
  }
 },
 "nbformat": 4,
 "nbformat_minor": 5
}
