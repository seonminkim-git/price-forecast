{
 "cells": [
  {
   "cell_type": "code",
   "execution_count": 1,
   "id": "29e66115",
   "metadata": {
    "ExecuteTime": {
     "end_time": "2022-07-29T06:45:22.720851Z",
     "start_time": "2022-07-29T06:45:20.432651Z"
    }
   },
   "outputs": [],
   "source": [
    "import pandas as pd\n",
    "import numpy as np\n",
    "import os\n",
    "from scipy.cluster import hierarchy as hc\n",
    "import matplotlib\n",
    "import matplotlib.pyplot as plt\n",
    "import warnings\n",
    "import seaborn as sns\n",
    "from scipy import stats\n",
    "import math\n",
    "from sklearn.preprocessing import MinMaxScaler\n",
    "\n",
    "%matplotlib inline\n",
    "warnings.filterwarnings(action='ignore')\n",
    "\n",
    "matplotlib.rcParams['font.family'] ='Malgun Gothic'\n",
    "matplotlib.rcParams['axes.unicode_minus'] =False"
   ]
  },
  {
   "cell_type": "markdown",
   "id": "e5fb7b91",
   "metadata": {},
   "source": [
    "# Load data"
   ]
  },
  {
   "cell_type": "code",
   "execution_count": 2,
   "id": "a4ba4241",
   "metadata": {
    "ExecuteTime": {
     "end_time": "2022-07-29T06:45:22.740138Z",
     "start_time": "2022-07-29T06:45:22.735152Z"
    }
   },
   "outputs": [],
   "source": [
    "# dir_root = 'C:/Users/kkt71/OneDrive/바탕 화면/기업가치분석'\n",
    "dir_root = 'C:/Users/10188/Desktop/기업가치/상관분석/기업가치분석_data_result'\n",
    "dir_master = os.path.join(dir_root, '01. data', 'master')\n",
    "dir_processed = os.path.join(dir_root, '01. data', 'processed')\n",
    "dir_result = os.path.join(dir_root, '03. result')"
   ]
  },
  {
   "cell_type": "code",
   "execution_count": 3,
   "id": "83f34bb3",
   "metadata": {
    "ExecuteTime": {
     "end_time": "2022-07-29T06:45:23.829073Z",
     "start_time": "2022-07-29T06:45:23.825084Z"
    }
   },
   "outputs": [],
   "source": [
    "y = 'PBR'\n",
    "c1 = 'Accenture'\n",
    "c2 = 'Infosys'\n",
    "c3 = 'TCS'\n",
    "c4 = 'Cognizant'"
   ]
  },
  {
   "cell_type": "code",
   "execution_count": 4,
   "id": "c0c3a134",
   "metadata": {
    "ExecuteTime": {
     "end_time": "2022-07-29T06:45:24.147949Z",
     "start_time": "2022-07-29T06:45:24.142962Z"
    }
   },
   "outputs": [],
   "source": [
    "dir_result_all = os.path.join(dir_result, 'All_ITS', y)"
   ]
  },
  {
   "cell_type": "code",
   "execution_count": 5,
   "id": "ef61a030",
   "metadata": {
    "ExecuteTime": {
     "end_time": "2022-07-29T06:45:25.534489Z",
     "start_time": "2022-07-29T06:45:24.492816Z"
    }
   },
   "outputs": [],
   "source": [
    "df = pd.read_excel(os.path.join(dir_result_all, 'corr_y_x_over7.xlsx'))"
   ]
  },
  {
   "cell_type": "code",
   "execution_count": 6,
   "id": "e5667460",
   "metadata": {
    "ExecuteTime": {
     "end_time": "2022-07-29T06:45:25.591476Z",
     "start_time": "2022-07-29T06:45:25.588448Z"
    }
   },
   "outputs": [],
   "source": [
    "outperform = [c1, c2, c3]\n",
    "lowperform = [c4]"
   ]
  },
  {
   "cell_type": "code",
   "execution_count": 7,
   "id": "2ea9998e",
   "metadata": {
    "ExecuteTime": {
     "end_time": "2022-07-29T06:45:26.975652Z",
     "start_time": "2022-07-29T06:45:26.971214Z"
    }
   },
   "outputs": [],
   "source": [
    "target_out = [s+'_show' for s in outperform]\n",
    "target_out = list(set(target_out)&set(df.columns))\n",
    "\n",
    "target_low = [s+'_show' for s in lowperform]\n",
    "target_low = list(set(target_low)&set(df.columns))\n",
    "\n",
    "target_col = [s+'_show' for s in outperform+lowperform]\n",
    "target_col = list(set(target_col)&set(df.columns))"
   ]
  },
  {
   "cell_type": "markdown",
   "id": "e1bed34e",
   "metadata": {},
   "source": [
    "# Make index"
   ]
  },
  {
   "cell_type": "code",
   "execution_count": 8,
   "id": "4a663fac",
   "metadata": {
    "ExecuteTime": {
     "end_time": "2022-07-29T06:45:28.990705Z",
     "start_time": "2022-07-29T06:45:28.982758Z"
    }
   },
   "outputs": [],
   "source": [
    "df['Outperform_avg'] = df[target_out].mean(axis=1)\n",
    "df['Gap(Out~Low)'] = np.abs(df['Outperform_avg']-df[target_low[0]])\n",
    "df['Std(Out)'] = df[target_out].std(axis=1)"
   ]
  },
  {
   "cell_type": "code",
   "execution_count": 9,
   "id": "5b49a521",
   "metadata": {
    "ExecuteTime": {
     "end_time": "2022-07-29T06:45:29.608775Z",
     "start_time": "2022-07-29T06:45:29.599796Z"
    }
   },
   "outputs": [],
   "source": [
    "scaler = MinMaxScaler()\n",
    "df['Gap normed+1'] = pd.DataFrame(scaler.fit_transform(df[['Gap(Out~Low)']])+1)[0]"
   ]
  },
  {
   "cell_type": "code",
   "execution_count": 10,
   "id": "b1ff81d6",
   "metadata": {
    "ExecuteTime": {
     "end_time": "2022-07-29T06:45:29.892828Z",
     "start_time": "2022-07-29T06:45:29.884852Z"
    }
   },
   "outputs": [],
   "source": [
    "scaler = MinMaxScaler()\n",
    "df['Std normed+1'] = pd.DataFrame(scaler.fit_transform(df[['Std(Out)']])+1)[0]"
   ]
  },
  {
   "cell_type": "code",
   "execution_count": 11,
   "id": "51b252d3",
   "metadata": {
    "ExecuteTime": {
     "end_time": "2022-07-29T06:45:30.242844Z",
     "start_time": "2022-07-29T06:45:30.239071Z"
    }
   },
   "outputs": [],
   "source": [
    "df['index 1'] = df['Gap normed+1']/df['Std normed+1']"
   ]
  },
  {
   "cell_type": "code",
   "execution_count": 12,
   "id": "891cbf96",
   "metadata": {
    "ExecuteTime": {
     "end_time": "2022-07-29T06:45:30.784795Z",
     "start_time": "2022-07-29T06:45:30.776819Z"
    }
   },
   "outputs": [],
   "source": [
    "scaler = MinMaxScaler()\n",
    "df['Std normed original'] = pd.DataFrame(scaler.fit_transform(df[['Std(Out)']]))[0]"
   ]
  },
  {
   "cell_type": "code",
   "execution_count": 13,
   "id": "06c7728f",
   "metadata": {
    "ExecuteTime": {
     "end_time": "2022-07-29T06:45:31.076571Z",
     "start_time": "2022-07-29T06:45:31.070869Z"
    }
   },
   "outputs": [],
   "source": [
    "df['Std normed 0.5'] = df['Std normed original']*0.5 + 0.5\n",
    "df['1/Std normed'] = 1/df['Std normed 0.5']"
   ]
  },
  {
   "cell_type": "code",
   "execution_count": 14,
   "id": "7d944319",
   "metadata": {
    "ExecuteTime": {
     "end_time": "2022-07-29T06:45:31.372774Z",
     "start_time": "2022-07-29T06:45:31.367788Z"
    }
   },
   "outputs": [],
   "source": [
    "df['Index 2'] = 0.6*df['Gap normed+1']+0.4*df['1/Std normed']"
   ]
  },
  {
   "cell_type": "code",
   "execution_count": 15,
   "id": "055974f7",
   "metadata": {
    "ExecuteTime": {
     "end_time": "2022-07-29T06:45:31.650949Z",
     "start_time": "2022-07-29T06:45:31.643007Z"
    }
   },
   "outputs": [],
   "source": [
    "df[[s+'_marked' for s in outperform+lowperform]+[s+'_plot' for s in outperform+lowperform]] = np.nan"
   ]
  },
  {
   "cell_type": "code",
   "execution_count": 16,
   "id": "3eecc42b",
   "metadata": {
    "ExecuteTime": {
     "end_time": "2022-07-29T06:45:32.134969Z",
     "start_time": "2022-07-29T06:45:31.958172Z"
    }
   },
   "outputs": [],
   "source": [
    "writer = pd.ExcelWriter(os.path.join(dir_result_all, 'correlation_index.xlsx'), engine='xlsxwriter')\n",
    "df.to_excel(writer, index=False)\n",
    "writer.save()"
   ]
  }
 ],
 "metadata": {
  "hide_input": false,
  "kernelspec": {
   "display_name": "Python 3 (ipykernel)",
   "language": "python",
   "name": "python3"
  },
  "language_info": {
   "codemirror_mode": {
    "name": "ipython",
    "version": 3
   },
   "file_extension": ".py",
   "mimetype": "text/x-python",
   "name": "python",
   "nbconvert_exporter": "python",
   "pygments_lexer": "ipython3",
   "version": "3.9.7"
  },
  "toc": {
   "base_numbering": 1,
   "nav_menu": {},
   "number_sections": true,
   "sideBar": true,
   "skip_h1_title": false,
   "title_cell": "Table of Contents",
   "title_sidebar": "Contents",
   "toc_cell": false,
   "toc_position": {
    "height": "calc(100% - 180px)",
    "left": "10px",
    "top": "150px",
    "width": "225px"
   },
   "toc_section_display": true,
   "toc_window_display": true
  },
  "varInspector": {
   "cols": {
    "lenName": 16,
    "lenType": 16,
    "lenVar": 40
   },
   "kernels_config": {
    "python": {
     "delete_cmd_postfix": "",
     "delete_cmd_prefix": "del ",
     "library": "var_list.py",
     "varRefreshCmd": "print(var_dic_list())"
    },
    "r": {
     "delete_cmd_postfix": ") ",
     "delete_cmd_prefix": "rm(",
     "library": "var_list.r",
     "varRefreshCmd": "cat(var_dic_list()) "
    }
   },
   "types_to_exclude": [
    "module",
    "function",
    "builtin_function_or_method",
    "instance",
    "_Feature"
   ],
   "window_display": false
  }
 },
 "nbformat": 4,
 "nbformat_minor": 5
}
