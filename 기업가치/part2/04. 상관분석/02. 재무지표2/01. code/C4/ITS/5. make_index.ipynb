{
 "cells": [
  {
   "cell_type": "code",
   "execution_count": 19,
   "id": "29e66115",
   "metadata": {
    "ExecuteTime": {
     "end_time": "2022-08-03T06:11:36.132905Z",
     "start_time": "2022-08-03T06:11:36.119939Z"
    }
   },
   "outputs": [],
   "source": [
    "import pandas as pd\n",
    "import numpy as np\n",
    "import os\n",
    "from scipy.cluster import hierarchy as hc\n",
    "import matplotlib\n",
    "import matplotlib.pyplot as plt\n",
    "import warnings\n",
    "import seaborn as sns\n",
    "from scipy import stats\n",
    "import math\n",
    "from sklearn.preprocessing import MinMaxScaler\n",
    "\n",
    "%matplotlib inline\n",
    "warnings.filterwarnings(action='ignore')\n",
    "\n",
    "matplotlib.rcParams['font.family'] ='Malgun Gothic'\n",
    "matplotlib.rcParams['axes.unicode_minus'] =False"
   ]
  },
  {
   "cell_type": "markdown",
   "id": "e5fb7b91",
   "metadata": {},
   "source": [
    "# Load data"
   ]
  },
  {
   "cell_type": "code",
   "execution_count": 20,
   "id": "a4ba4241",
   "metadata": {
    "ExecuteTime": {
     "end_time": "2022-08-03T06:11:36.601383Z",
     "start_time": "2022-08-03T06:11:36.592333Z"
    }
   },
   "outputs": [],
   "source": [
    "# dir_root = 'C:/Users/kkt71/OneDrive/바탕 화면/기업가치분석'\n",
    "dir_root = 'C:/Users/10188/Desktop/기업가치/상관분석/기업가치분석_data_result'\n",
    "dir_master = os.path.join(dir_root, '01. data', 'master')\n",
    "dir_processed = os.path.join(dir_root, '01. data', 'processed')\n",
    "dir_result = os.path.join(dir_root, '03. result')"
   ]
  },
  {
   "cell_type": "code",
   "execution_count": 21,
   "id": "83f34bb3",
   "metadata": {
    "ExecuteTime": {
     "end_time": "2022-08-03T06:11:36.802635Z",
     "start_time": "2022-08-03T06:11:36.795650Z"
    }
   },
   "outputs": [],
   "source": [
    "y = '유동비율(비율)'\n",
    "c1 = 'Accenture'\n",
    "c2 = 'Infosys'\n",
    "c3 = 'TCS'\n",
    "c4 = 'Cognizant'"
   ]
  },
  {
   "cell_type": "code",
   "execution_count": 22,
   "id": "e5667460",
   "metadata": {
    "ExecuteTime": {
     "end_time": "2022-08-03T06:11:37.009664Z",
     "start_time": "2022-08-03T06:11:37.003196Z"
    }
   },
   "outputs": [],
   "source": [
    "outperform = [c1, c2, c3]\n",
    "lowperform = [c4]"
   ]
  },
  {
   "cell_type": "code",
   "execution_count": 23,
   "id": "2ea9998e",
   "metadata": {
    "ExecuteTime": {
     "end_time": "2022-08-03T06:11:37.207067Z",
     "start_time": "2022-08-03T06:11:37.200352Z"
    }
   },
   "outputs": [],
   "source": [
    "target_out = [s+'_show' for s in outperform]\n",
    "target_low = [s+'_show' for s in lowperform]\n",
    "target_col = [s+'_show' for s in outperform+lowperform]"
   ]
  },
  {
   "cell_type": "code",
   "execution_count": 24,
   "id": "c0c3a134",
   "metadata": {
    "ExecuteTime": {
     "end_time": "2022-08-03T06:11:37.417139Z",
     "start_time": "2022-08-03T06:11:37.411225Z"
    }
   },
   "outputs": [],
   "source": [
    "dir_result_all = os.path.join(dir_result, 'All_ITS', y)"
   ]
  },
  {
   "cell_type": "code",
   "execution_count": 25,
   "id": "ef61a030",
   "metadata": {
    "ExecuteTime": {
     "end_time": "2022-08-03T06:11:37.710765Z",
     "start_time": "2022-08-03T06:11:37.629157Z"
    }
   },
   "outputs": [],
   "source": [
    "df = pd.read_excel(os.path.join(dir_result_all, 'corr_y_x_over7.xlsx'))"
   ]
  },
  {
   "cell_type": "code",
   "execution_count": 26,
   "id": "b748b726",
   "metadata": {
    "ExecuteTime": {
     "end_time": "2022-08-03T06:11:37.894816Z",
     "start_time": "2022-08-03T06:11:37.884844Z"
    }
   },
   "outputs": [
    {
     "data": {
      "text/plain": [
       "Index(['variable', 'group', 'importance', 'Accenture_filtered',\n",
       "       'Infosys_filtered', 'TCS_filtered', 'Cognizant_filtered',\n",
       "       'Accenture_show', 'Infosys_show', 'TCS_show', 'Cognizant_show'],\n",
       "      dtype='object')"
      ]
     },
     "execution_count": 26,
     "metadata": {},
     "output_type": "execute_result"
    }
   ],
   "source": [
    "df.columns"
   ]
  },
  {
   "cell_type": "markdown",
   "id": "e1bed34e",
   "metadata": {},
   "source": [
    "# Make index"
   ]
  },
  {
   "cell_type": "code",
   "execution_count": 27,
   "id": "4a663fac",
   "metadata": {
    "ExecuteTime": {
     "end_time": "2022-08-03T06:11:38.628953Z",
     "start_time": "2022-08-03T06:11:38.612909Z"
    }
   },
   "outputs": [],
   "source": [
    "df['Outperform_avg'] = df[list(set(target_out)&set(df.columns))].mean(axis=1)\n",
    "df['Gap(Out~Low)'] = np.abs(df['Outperform_avg']-df[target_low[0]])\n",
    "df['Std(Out)'] = df[list(set(target_out)&set(df.columns))].std(axis=1)"
   ]
  },
  {
   "cell_type": "code",
   "execution_count": 28,
   "id": "5b49a521",
   "metadata": {
    "ExecuteTime": {
     "end_time": "2022-08-03T06:11:38.875411Z",
     "start_time": "2022-08-03T06:11:38.859938Z"
    }
   },
   "outputs": [],
   "source": [
    "scaler = MinMaxScaler()\n",
    "df['Gap normed+1'] = pd.DataFrame(scaler.fit_transform(df[['Gap(Out~Low)']])+1)[0]"
   ]
  },
  {
   "cell_type": "code",
   "execution_count": 29,
   "id": "b1ff81d6",
   "metadata": {
    "ExecuteTime": {
     "end_time": "2022-08-03T06:11:39.067065Z",
     "start_time": "2022-08-03T06:11:39.056083Z"
    }
   },
   "outputs": [],
   "source": [
    "scaler = MinMaxScaler()\n",
    "df['Std normed+1'] = pd.DataFrame(scaler.fit_transform(df[['Std(Out)']])+1)[0]"
   ]
  },
  {
   "cell_type": "code",
   "execution_count": 30,
   "id": "51b252d3",
   "metadata": {
    "ExecuteTime": {
     "end_time": "2022-08-03T06:11:39.278445Z",
     "start_time": "2022-08-03T06:11:39.272461Z"
    }
   },
   "outputs": [],
   "source": [
    "df['index 1'] = df['Gap normed+1']/df['Std normed+1']"
   ]
  },
  {
   "cell_type": "code",
   "execution_count": 31,
   "id": "891cbf96",
   "metadata": {
    "ExecuteTime": {
     "end_time": "2022-08-03T06:11:39.535005Z",
     "start_time": "2022-08-03T06:11:39.519048Z"
    }
   },
   "outputs": [],
   "source": [
    "scaler = MinMaxScaler()\n",
    "df['Std normed original'] = pd.DataFrame(scaler.fit_transform(df[['Std(Out)']]))[0]"
   ]
  },
  {
   "cell_type": "code",
   "execution_count": 32,
   "id": "06c7728f",
   "metadata": {
    "ExecuteTime": {
     "end_time": "2022-08-03T06:11:39.734977Z",
     "start_time": "2022-08-03T06:11:39.726998Z"
    }
   },
   "outputs": [],
   "source": [
    "df['Std normed 0.5'] = df['Std normed original']*0.5 + 0.5\n",
    "df['1/Std normed'] = 1/df['Std normed 0.5']"
   ]
  },
  {
   "cell_type": "code",
   "execution_count": 33,
   "id": "7d944319",
   "metadata": {
    "ExecuteTime": {
     "end_time": "2022-08-03T06:11:39.980486Z",
     "start_time": "2022-08-03T06:11:39.971510Z"
    }
   },
   "outputs": [],
   "source": [
    "df['Index 2'] = 0.6*df['Gap normed+1']+0.4*df['1/Std normed']"
   ]
  },
  {
   "cell_type": "code",
   "execution_count": 34,
   "id": "055974f7",
   "metadata": {
    "ExecuteTime": {
     "end_time": "2022-08-03T06:11:40.237942Z",
     "start_time": "2022-08-03T06:11:40.220988Z"
    }
   },
   "outputs": [],
   "source": [
    "df[[s+'_marked' for s in outperform+lowperform]+[s+'_plot' for s in outperform+lowperform]] = np.nan"
   ]
  },
  {
   "cell_type": "code",
   "execution_count": 35,
   "id": "c3af3119",
   "metadata": {
    "ExecuteTime": {
     "end_time": "2022-08-03T06:11:40.461180Z",
     "start_time": "2022-08-03T06:11:40.452202Z"
    }
   },
   "outputs": [
    {
     "data": {
      "text/plain": [
       "Index(['variable', 'group', 'importance', 'Accenture_filtered',\n",
       "       'Infosys_filtered', 'TCS_filtered', 'Cognizant_filtered',\n",
       "       'Accenture_show', 'Infosys_show', 'TCS_show', 'Cognizant_show',\n",
       "       'Outperform_avg', 'Gap(Out~Low)', 'Std(Out)', 'Gap normed+1',\n",
       "       'Std normed+1', 'index 1', 'Std normed original', 'Std normed 0.5',\n",
       "       '1/Std normed', 'Index 2', 'Accenture_marked', 'Infosys_marked',\n",
       "       'TCS_marked', 'Cognizant_marked', 'Accenture_plot', 'Infosys_plot',\n",
       "       'TCS_plot', 'Cognizant_plot'],\n",
       "      dtype='object')"
      ]
     },
     "execution_count": 35,
     "metadata": {},
     "output_type": "execute_result"
    }
   ],
   "source": [
    "df.columns"
   ]
  },
  {
   "cell_type": "code",
   "execution_count": 36,
   "id": "3eecc42b",
   "metadata": {
    "ExecuteTime": {
     "end_time": "2022-08-03T06:11:41.348933Z",
     "start_time": "2022-08-03T06:11:40.963038Z"
    }
   },
   "outputs": [],
   "source": [
    "writer = pd.ExcelWriter(os.path.join(dir_result_all, 'correlation_index.xlsx'), engine='xlsxwriter')\n",
    "df.to_excel(writer, index=False)\n",
    "writer.save()"
   ]
  },
  {
   "cell_type": "code",
   "execution_count": null,
   "id": "06d60ef7",
   "metadata": {},
   "outputs": [],
   "source": []
  },
  {
   "cell_type": "code",
   "execution_count": null,
   "id": "9bb16fd1",
   "metadata": {},
   "outputs": [],
   "source": []
  }
 ],
 "metadata": {
  "hide_input": false,
  "kernelspec": {
   "display_name": "Python 3 (ipykernel)",
   "language": "python",
   "name": "python3"
  },
  "language_info": {
   "codemirror_mode": {
    "name": "ipython",
    "version": 3
   },
   "file_extension": ".py",
   "mimetype": "text/x-python",
   "name": "python",
   "nbconvert_exporter": "python",
   "pygments_lexer": "ipython3",
   "version": "3.9.7"
  },
  "toc": {
   "base_numbering": 1,
   "nav_menu": {},
   "number_sections": true,
   "sideBar": true,
   "skip_h1_title": false,
   "title_cell": "Table of Contents",
   "title_sidebar": "Contents",
   "toc_cell": false,
   "toc_position": {
    "height": "calc(100% - 180px)",
    "left": "10px",
    "top": "150px",
    "width": "225px"
   },
   "toc_section_display": true,
   "toc_window_display": true
  },
  "varInspector": {
   "cols": {
    "lenName": 16,
    "lenType": 16,
    "lenVar": 40
   },
   "kernels_config": {
    "python": {
     "delete_cmd_postfix": "",
     "delete_cmd_prefix": "del ",
     "library": "var_list.py",
     "varRefreshCmd": "print(var_dic_list())"
    },
    "r": {
     "delete_cmd_postfix": ") ",
     "delete_cmd_prefix": "rm(",
     "library": "var_list.r",
     "varRefreshCmd": "cat(var_dic_list()) "
    }
   },
   "types_to_exclude": [
    "module",
    "function",
    "builtin_function_or_method",
    "instance",
    "_Feature"
   ],
   "window_display": false
  }
 },
 "nbformat": 4,
 "nbformat_minor": 5
}
