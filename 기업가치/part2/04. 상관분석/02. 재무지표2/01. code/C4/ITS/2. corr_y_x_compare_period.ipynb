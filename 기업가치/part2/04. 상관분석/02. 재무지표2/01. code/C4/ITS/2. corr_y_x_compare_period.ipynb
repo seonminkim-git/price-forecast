{
 "cells": [
  {
   "cell_type": "code",
   "execution_count": 2,
   "id": "29e66115",
   "metadata": {
    "ExecuteTime": {
     "end_time": "2022-08-03T05:59:33.410821Z",
     "start_time": "2022-08-03T05:59:33.400848Z"
    }
   },
   "outputs": [],
   "source": [
    "import pandas as pd\n",
    "import numpy as np\n",
    "import os\n",
    "from scipy.cluster import hierarchy as hc\n",
    "import matplotlib\n",
    "import matplotlib.pyplot as plt\n",
    "import warnings\n",
    "import seaborn as sns\n",
    "from scipy import stats\n",
    "import math\n",
    "\n",
    "%matplotlib inline\n",
    "warnings.filterwarnings(action='ignore')\n",
    "\n",
    "matplotlib.rcParams['font.family'] ='Malgun Gothic'\n",
    "matplotlib.rcParams['axes.unicode_minus'] =False"
   ]
  },
  {
   "cell_type": "code",
   "execution_count": 3,
   "id": "a4ba4241",
   "metadata": {
    "ExecuteTime": {
     "end_time": "2022-08-03T05:59:33.436829Z",
     "start_time": "2022-08-03T05:59:33.430846Z"
    }
   },
   "outputs": [],
   "source": [
    "dir_root = '../../../../../'\n",
    "current_dir = os.getcwd()\n",
    "dir_master = os.path.join(dir_root, '01. Data','00. master_data')\n",
    "dir_processed = os.path.join(dir_root, '01. Data','02. 재무지표2', '01. preprocessed')\n",
    "dir_result = os.path.join(dir_root, '04. 상관분석','02. 재무지표2','02. result')"
   ]
  },
  {
   "cell_type": "markdown",
   "id": "3eab435b",
   "metadata": {},
   "source": [
    "# Accenture"
   ]
  },
  {
   "cell_type": "markdown",
   "id": "e5fb7b91",
   "metadata": {},
   "source": [
    "## Load data"
   ]
  },
  {
   "cell_type": "code",
   "execution_count": 4,
   "id": "c1d4fcac",
   "metadata": {
    "ExecuteTime": {
     "end_time": "2022-08-03T05:59:33.462931Z",
     "start_time": "2022-08-03T05:59:33.456948Z"
    }
   },
   "outputs": [],
   "source": [
    "company = 'Accenture'\n",
    "y = '유동비율(비율)'"
   ]
  },
  {
   "cell_type": "code",
   "execution_count": 5,
   "id": "a3d6495a",
   "metadata": {
    "ExecuteTime": {
     "end_time": "2022-08-03T05:59:33.485707Z",
     "start_time": "2022-08-03T05:59:33.480720Z"
    }
   },
   "outputs": [],
   "source": [
    "dir_company = os.path.join(dir_result, company)\n",
    "dir_company_y = os.path.join(dir_company, y)"
   ]
  },
  {
   "cell_type": "code",
   "execution_count": 6,
   "id": "b5cdc209",
   "metadata": {
    "ExecuteTime": {
     "end_time": "2022-08-03T05:59:33.597408Z",
     "start_time": "2022-08-03T05:59:33.503658Z"
    }
   },
   "outputs": [],
   "source": [
    "result = pd.read_csv(os.path.join(dir_company_y, 'result.csv'))\n",
    "result_sub = pd.read_csv(os.path.join(dir_company_y, 'result_sub.csv'))"
   ]
  },
  {
   "cell_type": "markdown",
   "id": "d2c97fa4",
   "metadata": {},
   "source": [
    "## Compare : total ~ sub"
   ]
  },
  {
   "cell_type": "markdown",
   "id": "e7671c11",
   "metadata": {},
   "source": [
    "### over 0.7"
   ]
  },
  {
   "cell_type": "code",
   "execution_count": 7,
   "id": "159f8ff1",
   "metadata": {
    "ExecuteTime": {
     "end_time": "2022-08-03T06:00:36.185666Z",
     "start_time": "2022-08-03T06:00:36.173744Z"
    },
    "scrolled": false
   },
   "outputs": [],
   "source": [
    "result_total_7 = pd.merge(result[np.abs(result['corr'])>0.7], result_sub[np.abs(result_sub['corr'])>0.7], \n",
    "                          on=['company', 'variable', 'group', 'importance'], how='outer',\n",
    "                         suffixes = (\"_total\", \"_sub\"))\n",
    "result_total_7 = result_total_7.sort_values(['corr_total'], ascending=False)"
   ]
  },
  {
   "cell_type": "code",
   "execution_count": 8,
   "id": "c2a161f3",
   "metadata": {
    "ExecuteTime": {
     "end_time": "2022-08-03T06:00:36.773576Z",
     "start_time": "2022-08-03T06:00:36.767590Z"
    }
   },
   "outputs": [],
   "source": [
    "result_total_7 = result_total_7[['company', 'variable', 'group', 'importance', 'corr_total', 'corr_sub']]"
   ]
  },
  {
   "cell_type": "code",
   "execution_count": 9,
   "id": "595a413f",
   "metadata": {
    "ExecuteTime": {
     "end_time": "2022-08-03T06:00:37.165222Z",
     "start_time": "2022-08-03T06:00:37.125348Z"
    }
   },
   "outputs": [],
   "source": [
    "result_total_7.to_csv(os.path.join(dir_company_y, 'compare_period_corr_07.csv'), index=False, encoding='utf-8-sig')"
   ]
  },
  {
   "cell_type": "markdown",
   "id": "7c9ee1a4",
   "metadata": {},
   "source": [
    "### over 0.5"
   ]
  },
  {
   "cell_type": "code",
   "execution_count": 10,
   "id": "a202be8d",
   "metadata": {
    "ExecuteTime": {
     "end_time": "2022-08-03T06:00:38.692281Z",
     "start_time": "2022-08-03T06:00:38.671353Z"
    }
   },
   "outputs": [],
   "source": [
    "result_total_5 = pd.merge(result[np.abs(result['corr'])>0.5], result_sub[np.abs(result_sub['corr'])>0.5], \n",
    "                          on=['company', 'variable', 'group', 'importance'], how='outer',\n",
    "                         suffixes = (\"_total\", \"_sub\"))\n",
    "\n",
    "result_total_5 = result_total_5.sort_values(['corr_total'], ascending=False)"
   ]
  },
  {
   "cell_type": "code",
   "execution_count": 11,
   "id": "77cd95fe",
   "metadata": {
    "ExecuteTime": {
     "end_time": "2022-08-03T06:00:39.056452Z",
     "start_time": "2022-08-03T06:00:39.048476Z"
    }
   },
   "outputs": [],
   "source": [
    "result_total_5 = result_total_5[['company', 'variable', 'group', 'importance', 'corr_total', 'corr_sub']]"
   ]
  },
  {
   "cell_type": "code",
   "execution_count": 12,
   "id": "c40b4ee8",
   "metadata": {
    "ExecuteTime": {
     "end_time": "2022-08-03T06:00:39.342662Z",
     "start_time": "2022-08-03T06:00:39.332686Z"
    }
   },
   "outputs": [],
   "source": [
    "result_total_5.to_csv(os.path.join(dir_company_y, 'compare_period_corr_05.csv'), index=False, encoding='utf-8-sig')"
   ]
  },
  {
   "cell_type": "markdown",
   "id": "0d55692c",
   "metadata": {},
   "source": [
    "### Save"
   ]
  },
  {
   "cell_type": "code",
   "execution_count": 13,
   "id": "1349241b",
   "metadata": {
    "ExecuteTime": {
     "end_time": "2022-08-03T06:00:40.821515Z",
     "start_time": "2022-08-03T06:00:40.578721Z"
    }
   },
   "outputs": [],
   "source": [
    "writer = pd.ExcelWriter(os.path.join(dir_company_y, y+'.xlsx'), engine='xlsxwriter')\n",
    "pd.concat([result, result_sub], axis=1).to_excel(writer, sheet_name='Correlation', index=False)\n",
    "result_total_7.to_excel(writer, sheet_name='Correlation > 0.7', index=False)\n",
    "result_total_5.to_excel(writer, sheet_name='Correlation > 0.5', index=False)\n",
    "writer.save()"
   ]
  },
  {
   "cell_type": "code",
   "execution_count": null,
   "id": "287b7253",
   "metadata": {},
   "outputs": [],
   "source": []
  },
  {
   "cell_type": "markdown",
   "id": "0740d136",
   "metadata": {},
   "source": [
    "# Infosys"
   ]
  },
  {
   "cell_type": "markdown",
   "id": "79572d0b",
   "metadata": {},
   "source": [
    "## Load data"
   ]
  },
  {
   "cell_type": "code",
   "execution_count": 15,
   "id": "fcf85bda",
   "metadata": {
    "ExecuteTime": {
     "end_time": "2022-08-03T06:00:43.573492Z",
     "start_time": "2022-08-03T06:00:43.569524Z"
    }
   },
   "outputs": [],
   "source": [
    "company = 'Infosys'\n",
    "y = '유동비율(비율)'"
   ]
  },
  {
   "cell_type": "code",
   "execution_count": 16,
   "id": "fdee7bfe",
   "metadata": {
    "ExecuteTime": {
     "end_time": "2022-08-03T06:00:43.861525Z",
     "start_time": "2022-08-03T06:00:43.854504Z"
    }
   },
   "outputs": [],
   "source": [
    "dir_company = os.path.join(dir_result, company)\n",
    "dir_company_y = os.path.join(dir_company, y)"
   ]
  },
  {
   "cell_type": "code",
   "execution_count": 17,
   "id": "ac8c6901",
   "metadata": {
    "ExecuteTime": {
     "end_time": "2022-08-03T06:00:44.086999Z",
     "start_time": "2022-08-03T06:00:44.063063Z"
    }
   },
   "outputs": [],
   "source": [
    "result = pd.read_csv(os.path.join(dir_company_y, 'result.csv'))\n",
    "result_sub = pd.read_csv(os.path.join(dir_company_y, 'result_sub.csv'))"
   ]
  },
  {
   "cell_type": "markdown",
   "id": "1232eaef",
   "metadata": {},
   "source": [
    "## Compare : total ~ sub"
   ]
  },
  {
   "cell_type": "markdown",
   "id": "73925faf",
   "metadata": {},
   "source": [
    "### over 0.7"
   ]
  },
  {
   "cell_type": "code",
   "execution_count": 18,
   "id": "3d35c02c",
   "metadata": {
    "ExecuteTime": {
     "end_time": "2022-08-03T06:00:45.443491Z",
     "start_time": "2022-08-03T06:00:45.426534Z"
    }
   },
   "outputs": [],
   "source": [
    "result_total_7 = pd.merge(result[np.abs(result['corr'])>0.7], result_sub[np.abs(result_sub['corr'])>0.7], \n",
    "                          on=['company', 'variable', 'group', 'importance'], how='outer',\n",
    "                         suffixes = (\"_total\", \"_sub\"))\n",
    "result_total_7 = result_total_7.sort_values(['corr_total'], ascending=False)"
   ]
  },
  {
   "cell_type": "code",
   "execution_count": 19,
   "id": "c6988b0d",
   "metadata": {
    "ExecuteTime": {
     "end_time": "2022-08-03T06:00:45.754530Z",
     "start_time": "2022-08-03T06:00:45.746552Z"
    }
   },
   "outputs": [],
   "source": [
    "result_total_7 = result_total_7[['company', 'variable', 'group', 'importance', 'corr_total', 'corr_sub']]"
   ]
  },
  {
   "cell_type": "code",
   "execution_count": 20,
   "id": "111f2a66",
   "metadata": {
    "ExecuteTime": {
     "end_time": "2022-08-03T06:00:46.749545Z",
     "start_time": "2022-08-03T06:00:46.735643Z"
    }
   },
   "outputs": [],
   "source": [
    "result_total_7.to_csv(os.path.join(dir_company_y, 'compare_period_corr_07.csv'), index=False, encoding='utf-8-sig')"
   ]
  },
  {
   "cell_type": "markdown",
   "id": "5095161d",
   "metadata": {},
   "source": [
    "### over 0.5"
   ]
  },
  {
   "cell_type": "code",
   "execution_count": 21,
   "id": "132a31bb",
   "metadata": {
    "ExecuteTime": {
     "end_time": "2022-08-03T06:00:50.202088Z",
     "start_time": "2022-08-03T06:00:50.181662Z"
    }
   },
   "outputs": [],
   "source": [
    "result_total_5 = pd.merge(result[np.abs(result['corr'])>0.5], result_sub[np.abs(result_sub['corr'])>0.5], \n",
    "                          on=['company', 'variable', 'group', 'importance'], how='outer',\n",
    "                         suffixes = (\"_total\", \"_sub\"))\n",
    "\n",
    "result_total_5 = result_total_5.sort_values(['corr_total'], ascending=False)"
   ]
  },
  {
   "cell_type": "code",
   "execution_count": 22,
   "id": "1bbd8dd2",
   "metadata": {
    "ExecuteTime": {
     "end_time": "2022-08-03T06:00:50.412002Z",
     "start_time": "2022-08-03T06:00:50.405023Z"
    }
   },
   "outputs": [],
   "source": [
    "result_total_5 = result_total_5[['company', 'variable', 'group', 'importance', 'corr_total', 'corr_sub']]"
   ]
  },
  {
   "cell_type": "code",
   "execution_count": 23,
   "id": "d2b03354",
   "metadata": {
    "ExecuteTime": {
     "end_time": "2022-08-03T06:00:50.701664Z",
     "start_time": "2022-08-03T06:00:50.690042Z"
    }
   },
   "outputs": [],
   "source": [
    "result_total_5.to_csv(os.path.join(dir_company_y, 'compare_period_corr_05.csv'), index=False, encoding='utf-8-sig')"
   ]
  },
  {
   "cell_type": "markdown",
   "id": "fb38e998",
   "metadata": {},
   "source": [
    "### Save"
   ]
  },
  {
   "cell_type": "code",
   "execution_count": 24,
   "id": "33eedc72",
   "metadata": {
    "ExecuteTime": {
     "end_time": "2022-08-03T06:00:51.803298Z",
     "start_time": "2022-08-03T06:00:51.575495Z"
    }
   },
   "outputs": [],
   "source": [
    "writer = pd.ExcelWriter(os.path.join(dir_company_y, y+'.xlsx'), engine='xlsxwriter')\n",
    "pd.concat([result, result_sub], axis=1).to_excel(writer, sheet_name='Correlation', index=False)\n",
    "result_total_7.to_excel(writer, sheet_name='Correlation > 0.7', index=False)\n",
    "result_total_5.to_excel(writer, sheet_name='Correlation > 0.5', index=False)\n",
    "writer.save()"
   ]
  },
  {
   "cell_type": "code",
   "execution_count": null,
   "id": "480687d1",
   "metadata": {},
   "outputs": [],
   "source": []
  },
  {
   "cell_type": "markdown",
   "id": "3b8239a1",
   "metadata": {},
   "source": [
    "# TCS"
   ]
  },
  {
   "cell_type": "markdown",
   "id": "5b23b13d",
   "metadata": {},
   "source": [
    "## Load data"
   ]
  },
  {
   "cell_type": "code",
   "execution_count": 26,
   "id": "c8b70ec3",
   "metadata": {
    "ExecuteTime": {
     "end_time": "2022-08-03T06:00:54.990884Z",
     "start_time": "2022-08-03T06:00:54.986302Z"
    }
   },
   "outputs": [],
   "source": [
    "company = 'TCS'\n",
    "y = '유동비율(비율)'"
   ]
  },
  {
   "cell_type": "code",
   "execution_count": 27,
   "id": "b98b2c55",
   "metadata": {
    "ExecuteTime": {
     "end_time": "2022-08-03T06:00:55.407503Z",
     "start_time": "2022-08-03T06:00:55.400837Z"
    }
   },
   "outputs": [],
   "source": [
    "dir_company = os.path.join(dir_result, company)\n",
    "dir_company_y = os.path.join(dir_company, y)"
   ]
  },
  {
   "cell_type": "code",
   "execution_count": 28,
   "id": "a04d2428",
   "metadata": {
    "ExecuteTime": {
     "end_time": "2022-08-03T06:00:55.850661Z",
     "start_time": "2022-08-03T06:00:55.818649Z"
    }
   },
   "outputs": [],
   "source": [
    "result = pd.read_csv(os.path.join(dir_company_y, 'result.csv'))\n",
    "result_sub = pd.read_csv(os.path.join(dir_company_y, 'result_sub.csv'))"
   ]
  },
  {
   "cell_type": "markdown",
   "id": "a03ed54b",
   "metadata": {},
   "source": [
    "## Compare : total ~ sub"
   ]
  },
  {
   "cell_type": "markdown",
   "id": "7c80f43c",
   "metadata": {},
   "source": [
    "### over 0.7"
   ]
  },
  {
   "cell_type": "code",
   "execution_count": 29,
   "id": "bd80c9a8",
   "metadata": {
    "ExecuteTime": {
     "end_time": "2022-08-03T06:00:57.294556Z",
     "start_time": "2022-08-03T06:00:57.268376Z"
    },
    "scrolled": false
   },
   "outputs": [],
   "source": [
    "result_total_7 = pd.merge(result[np.abs(result['corr'])>0.7], result_sub[np.abs(result_sub['corr'])>0.7], \n",
    "                          on=['company', 'variable', 'group', 'importance'], how='outer',\n",
    "                         suffixes = (\"_total\", \"_sub\"))\n",
    "result_total_7 = result_total_7.sort_values(['corr_total'], ascending=False)"
   ]
  },
  {
   "cell_type": "code",
   "execution_count": 30,
   "id": "ade66cd0",
   "metadata": {
    "ExecuteTime": {
     "end_time": "2022-08-03T06:00:57.723578Z",
     "start_time": "2022-08-03T06:00:57.712553Z"
    }
   },
   "outputs": [],
   "source": [
    "result_total_7 = result_total_7[['company', 'variable', 'group', 'importance', 'corr_total', 'corr_sub']]"
   ]
  },
  {
   "cell_type": "code",
   "execution_count": 31,
   "id": "edddbbc5",
   "metadata": {
    "ExecuteTime": {
     "end_time": "2022-08-03T06:00:58.186999Z",
     "start_time": "2022-08-03T06:00:58.158742Z"
    }
   },
   "outputs": [],
   "source": [
    "result_total_7.to_csv(os.path.join(dir_company_y, 'compare_period_corr_07.csv'), index=False, encoding='utf-8-sig')"
   ]
  },
  {
   "cell_type": "markdown",
   "id": "458c9011",
   "metadata": {},
   "source": [
    "### over 0.5"
   ]
  },
  {
   "cell_type": "code",
   "execution_count": 32,
   "id": "c9eea7fc",
   "metadata": {
    "ExecuteTime": {
     "end_time": "2022-08-03T06:00:59.067733Z",
     "start_time": "2022-08-03T06:00:59.031845Z"
    }
   },
   "outputs": [],
   "source": [
    "result_total_5 = pd.merge(result[np.abs(result['corr'])>0.5], result_sub[np.abs(result_sub['corr'])>0.5], \n",
    "                          on=['company', 'variable', 'group', 'importance'], how='outer',\n",
    "                         suffixes = (\"_total\", \"_sub\"))\n",
    "\n",
    "result_total_5 = result_total_5.sort_values(['corr_total'], ascending=False)"
   ]
  },
  {
   "cell_type": "code",
   "execution_count": 33,
   "id": "3ee0923e",
   "metadata": {
    "ExecuteTime": {
     "end_time": "2022-08-03T06:00:59.784321Z",
     "start_time": "2022-08-03T06:00:59.773513Z"
    }
   },
   "outputs": [],
   "source": [
    "result_total_5 = result_total_5[['company', 'variable', 'group', 'importance', 'corr_total', 'corr_sub']]"
   ]
  },
  {
   "cell_type": "code",
   "execution_count": 34,
   "id": "30e4be11",
   "metadata": {
    "ExecuteTime": {
     "end_time": "2022-08-03T06:01:00.255598Z",
     "start_time": "2022-08-03T06:01:00.236651Z"
    }
   },
   "outputs": [],
   "source": [
    "result_total_5.to_csv(os.path.join(dir_company_y, 'compare_period_corr_05.csv'), index=False, encoding='utf-8-sig')"
   ]
  },
  {
   "cell_type": "markdown",
   "id": "f7f933f3",
   "metadata": {},
   "source": [
    "### Save"
   ]
  },
  {
   "cell_type": "code",
   "execution_count": 35,
   "id": "5665215e",
   "metadata": {
    "ExecuteTime": {
     "end_time": "2022-08-03T06:01:01.849532Z",
     "start_time": "2022-08-03T06:01:01.510050Z"
    }
   },
   "outputs": [],
   "source": [
    "writer = pd.ExcelWriter(os.path.join(dir_company_y, y+'.xlsx'), engine='xlsxwriter')\n",
    "pd.concat([result, result_sub], axis=1).to_excel(writer, sheet_name='Correlation', index=False)\n",
    "result_total_7.to_excel(writer, sheet_name='Correlation > 0.7', index=False)\n",
    "result_total_5.to_excel(writer, sheet_name='Correlation > 0.5', index=False)\n",
    "writer.save()"
   ]
  },
  {
   "cell_type": "code",
   "execution_count": null,
   "id": "c2e94412",
   "metadata": {},
   "outputs": [],
   "source": []
  },
  {
   "cell_type": "markdown",
   "id": "f6db3333",
   "metadata": {},
   "source": [
    "# Cognizant"
   ]
  },
  {
   "cell_type": "markdown",
   "id": "1f5f7ca0",
   "metadata": {},
   "source": [
    "## Load data"
   ]
  },
  {
   "cell_type": "code",
   "execution_count": 37,
   "id": "2ce0559e",
   "metadata": {
    "ExecuteTime": {
     "end_time": "2022-08-03T06:01:04.033299Z",
     "start_time": "2022-08-03T06:01:04.025320Z"
    }
   },
   "outputs": [],
   "source": [
    "company = 'Cognizant'\n",
    "y = '유동비율(비율)'"
   ]
  },
  {
   "cell_type": "code",
   "execution_count": 38,
   "id": "e63b9e53",
   "metadata": {
    "ExecuteTime": {
     "end_time": "2022-08-03T06:01:04.368433Z",
     "start_time": "2022-08-03T06:01:04.357462Z"
    }
   },
   "outputs": [],
   "source": [
    "dir_company = os.path.join(dir_result, company)\n",
    "dir_company_y = os.path.join(dir_company, y)"
   ]
  },
  {
   "cell_type": "code",
   "execution_count": 39,
   "id": "5c2dc7ac",
   "metadata": {
    "ExecuteTime": {
     "end_time": "2022-08-03T06:01:04.775449Z",
     "start_time": "2022-08-03T06:01:04.727396Z"
    }
   },
   "outputs": [],
   "source": [
    "result = pd.read_csv(os.path.join(dir_company_y, 'result.csv'))\n",
    "result_sub = pd.read_csv(os.path.join(dir_company_y, 'result_sub.csv'))"
   ]
  },
  {
   "cell_type": "markdown",
   "id": "b84647fe",
   "metadata": {},
   "source": [
    "## Compare : total ~ sub"
   ]
  },
  {
   "cell_type": "markdown",
   "id": "04f17c7b",
   "metadata": {},
   "source": [
    "### over 0.7"
   ]
  },
  {
   "cell_type": "code",
   "execution_count": 40,
   "id": "f66ea36a",
   "metadata": {
    "ExecuteTime": {
     "end_time": "2022-08-03T06:01:06.384534Z",
     "start_time": "2022-08-03T06:01:06.357606Z"
    },
    "scrolled": false
   },
   "outputs": [],
   "source": [
    "result_total_7 = pd.merge(result[np.abs(result['corr'])>0.7], result_sub[np.abs(result_sub['corr'])>0.7], \n",
    "                          on=['company', 'variable', 'group', 'importance'], how='outer',\n",
    "                         suffixes = (\"_total\", \"_sub\"))\n",
    "result_total_7 = result_total_7.sort_values(['corr_total'], ascending=False)"
   ]
  },
  {
   "cell_type": "code",
   "execution_count": 41,
   "id": "bfa90de8",
   "metadata": {
    "ExecuteTime": {
     "end_time": "2022-08-03T06:01:06.804810Z",
     "start_time": "2022-08-03T06:01:06.794822Z"
    }
   },
   "outputs": [],
   "source": [
    "result_total_7 = result_total_7[['company', 'variable', 'group', 'importance', 'corr_total', 'corr_sub']]"
   ]
  },
  {
   "cell_type": "code",
   "execution_count": 42,
   "id": "1b954873",
   "metadata": {
    "ExecuteTime": {
     "end_time": "2022-08-03T06:01:07.236344Z",
     "start_time": "2022-08-03T06:01:07.214399Z"
    }
   },
   "outputs": [],
   "source": [
    "result_total_7.to_csv(os.path.join(dir_company_y, 'compare_period_corr_07.csv'), index=False, encoding='utf-8-sig')"
   ]
  },
  {
   "cell_type": "markdown",
   "id": "f8c58bcc",
   "metadata": {},
   "source": [
    "### over 0.5"
   ]
  },
  {
   "cell_type": "code",
   "execution_count": 43,
   "id": "3e62c47b",
   "metadata": {
    "ExecuteTime": {
     "end_time": "2022-08-03T06:01:08.753254Z",
     "start_time": "2022-08-03T06:01:08.725720Z"
    }
   },
   "outputs": [],
   "source": [
    "result_total_5 = pd.merge(result[np.abs(result['corr'])>0.5], result_sub[np.abs(result_sub['corr'])>0.5], \n",
    "                          on=['company', 'variable', 'group', 'importance'], how='outer',\n",
    "                         suffixes = (\"_total\", \"_sub\"))\n",
    "\n",
    "result_total_5 = result_total_5.sort_values(['corr_total'], ascending=False)"
   ]
  },
  {
   "cell_type": "code",
   "execution_count": 44,
   "id": "1e6affac",
   "metadata": {
    "ExecuteTime": {
     "end_time": "2022-08-03T06:01:09.089601Z",
     "start_time": "2022-08-03T06:01:09.078631Z"
    }
   },
   "outputs": [],
   "source": [
    "result_total_5 = result_total_5[['company', 'variable', 'group', 'importance', 'corr_total', 'corr_sub']]"
   ]
  },
  {
   "cell_type": "code",
   "execution_count": 45,
   "id": "6f3aedfd",
   "metadata": {
    "ExecuteTime": {
     "end_time": "2022-08-03T06:01:09.486556Z",
     "start_time": "2022-08-03T06:01:09.470597Z"
    }
   },
   "outputs": [],
   "source": [
    "result_total_5.to_csv(os.path.join(dir_company_y, 'compare_period_corr_05.csv'), index=False, encoding='utf-8-sig')"
   ]
  },
  {
   "cell_type": "markdown",
   "id": "8a6e86b1",
   "metadata": {},
   "source": [
    "### Save"
   ]
  },
  {
   "cell_type": "code",
   "execution_count": 46,
   "id": "6bae3340",
   "metadata": {
    "ExecuteTime": {
     "end_time": "2022-08-03T06:01:11.122324Z",
     "start_time": "2022-08-03T06:01:10.683435Z"
    }
   },
   "outputs": [],
   "source": [
    "writer = pd.ExcelWriter(os.path.join(dir_company_y, y+'.xlsx'), engine='xlsxwriter')\n",
    "pd.concat([result, result_sub], axis=1).to_excel(writer, sheet_name='Correlation', index=False)\n",
    "result_total_7.to_excel(writer, sheet_name='Correlation > 0.7', index=False)\n",
    "result_total_5.to_excel(writer, sheet_name='Correlation > 0.5', index=False)\n",
    "writer.save()"
   ]
  },
  {
   "cell_type": "code",
   "execution_count": null,
   "id": "21c8335b",
   "metadata": {},
   "outputs": [],
   "source": []
  },
  {
   "cell_type": "code",
   "execution_count": null,
   "id": "8f230b30",
   "metadata": {},
   "outputs": [],
   "source": []
  }
 ],
 "metadata": {
  "hide_input": false,
  "kernelspec": {
   "display_name": "Python 3 (ipykernel)",
   "language": "python",
   "name": "python3"
  },
  "language_info": {
   "codemirror_mode": {
    "name": "ipython",
    "version": 3
   },
   "file_extension": ".py",
   "mimetype": "text/x-python",
   "name": "python",
   "nbconvert_exporter": "python",
   "pygments_lexer": "ipython3",
   "version": "3.9.7"
  },
  "toc": {
   "base_numbering": 1,
   "nav_menu": {},
   "number_sections": true,
   "sideBar": true,
   "skip_h1_title": false,
   "title_cell": "Table of Contents",
   "title_sidebar": "Contents",
   "toc_cell": false,
   "toc_position": {
    "height": "calc(100% - 180px)",
    "left": "10px",
    "top": "150px",
    "width": "290.955px"
   },
   "toc_section_display": true,
   "toc_window_display": true
  },
  "varInspector": {
   "cols": {
    "lenName": 16,
    "lenType": 16,
    "lenVar": 40
   },
   "kernels_config": {
    "python": {
     "delete_cmd_postfix": "",
     "delete_cmd_prefix": "del ",
     "library": "var_list.py",
     "varRefreshCmd": "print(var_dic_list())"
    },
    "r": {
     "delete_cmd_postfix": ") ",
     "delete_cmd_prefix": "rm(",
     "library": "var_list.r",
     "varRefreshCmd": "cat(var_dic_list()) "
    }
   },
   "types_to_exclude": [
    "module",
    "function",
    "builtin_function_or_method",
    "instance",
    "_Feature"
   ],
   "window_display": false
  }
 },
 "nbformat": 4,
 "nbformat_minor": 5
}
