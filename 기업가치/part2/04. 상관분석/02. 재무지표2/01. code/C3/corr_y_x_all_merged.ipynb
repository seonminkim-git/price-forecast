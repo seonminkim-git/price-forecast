{
 "cells": [
  {
   "cell_type": "code",
   "execution_count": 2,
   "id": "29e66115",
   "metadata": {
    "ExecuteTime": {
     "end_time": "2022-08-03T10:28:43.515899Z",
     "start_time": "2022-08-03T10:28:43.494326Z"
    }
   },
   "outputs": [],
   "source": [
    "import pandas as pd\n",
    "import numpy as np\n",
    "import os\n",
    "from scipy.cluster import hierarchy as hc\n",
    "import matplotlib\n",
    "import matplotlib.pyplot as plt\n",
    "import warnings\n",
    "import seaborn as sns\n",
    "from scipy import stats\n",
    "import math\n",
    "\n",
    "%matplotlib inline\n",
    "warnings.filterwarnings(action='ignore')\n",
    "\n",
    "matplotlib.rcParams['font.family'] ='Malgun Gothic'\n",
    "matplotlib.rcParams['axes.unicode_minus'] =False"
   ]
  },
  {
   "cell_type": "markdown",
   "id": "241606c8",
   "metadata": {},
   "source": [
    "# Merge result.csv to make all correlation combined"
   ]
  },
  {
   "cell_type": "code",
   "execution_count": 3,
   "id": "a4ba4241",
   "metadata": {
    "ExecuteTime": {
     "end_time": "2022-08-03T10:28:43.887917Z",
     "start_time": "2022-08-03T10:28:43.875556Z"
    }
   },
   "outputs": [],
   "source": [
    "dir_root = '../../../../../'\n",
    "current_dir = os.getcwd()\n",
    "dir_master = os.path.join(dir_root, '01. Data','00. master_data')\n",
    "dir_processed = os.path.join(dir_root, '01. Data','02. 재무지표2', '01. preprocessed')\n",
    "dir_result = os.path.join(dir_root, '04. 상관분석','02. 재무지표2','02. result')       "
   ]
  },
  {
   "cell_type": "code",
   "execution_count": 4,
   "id": "c1d4fcac",
   "metadata": {
    "ExecuteTime": {
     "end_time": "2022-08-03T10:28:44.054461Z",
     "start_time": "2022-08-03T10:28:44.046794Z"
    }
   },
   "outputs": [],
   "source": [
    "y = '투자비 대비 매출 (Rev/GI)s'\n",
    "\n",
    "# 탐색기에서 파일명 만들 때, \"/\"사용 불가하여 처리하는 부분\n",
    "y_file_name = y.replace(\"/\",\"\")"
   ]
  },
  {
   "cell_type": "code",
   "execution_count": 5,
   "id": "ce2415d1",
   "metadata": {
    "ExecuteTime": {
     "end_time": "2022-08-03T10:28:44.220082Z",
     "start_time": "2022-08-03T10:28:44.214110Z"
    }
   },
   "outputs": [],
   "source": [
    "# company = ['Accenture', 'Infosys', 'TCS', 'Cognizant', 'Salesforce', 'Servicenow', 'Splunk', 'Teradata', 'Ansys', 'Intuit', 'Kinaxis', 'Allscripts']\n",
    "company = ['Accenture', 'Infosys', 'TCS', 'Cognizant']"
   ]
  },
  {
   "cell_type": "code",
   "execution_count": 6,
   "id": "947e0dea",
   "metadata": {
    "ExecuteTime": {
     "end_time": "2022-08-03T10:28:44.375168Z",
     "start_time": "2022-08-03T10:28:44.369845Z"
    }
   },
   "outputs": [],
   "source": [
    "dir_all_save = os.path.join(dir_result, 'All')"
   ]
  },
  {
   "cell_type": "code",
   "execution_count": 7,
   "id": "6b4e8fea",
   "metadata": {
    "ExecuteTime": {
     "end_time": "2022-08-03T10:28:44.663419Z",
     "start_time": "2022-08-03T10:28:44.519073Z"
    }
   },
   "outputs": [],
   "source": [
    "for i in company[0:1]:\n",
    "#     tmp = pd.read_csv(os.path.join(dir_result, i, y, 'result.csv'))\n",
    "    tmp = pd.read_csv(os.path.join(dir_result, i, y_file_name, 'result.csv'))\n",
    "    tmp = tmp.rename({'corr':tmp.company.unique()[0]}, axis=1)\n",
    "    tmp = tmp.drop('company', axis=1)\n",
    "    tmp = tmp[['variable','group', 'importance', i]]"
   ]
  },
  {
   "cell_type": "code",
   "execution_count": 8,
   "id": "9f333acc",
   "metadata": {
    "ExecuteTime": {
     "end_time": "2022-08-03T10:28:44.954450Z",
     "start_time": "2022-08-03T10:28:44.812130Z"
    }
   },
   "outputs": [],
   "source": [
    "for i in company[1:]:\n",
    "#     tmp2 = pd.read_csv(os.path.join(dir_result, i, y, 'result.csv'))\n",
    "    tmp2 = pd.read_csv(os.path.join(dir_result, i, y_file_name, 'result.csv'))\n",
    "    tmp2 = tmp2.rename({'corr':tmp2.company.unique()[0]}, axis=1)\n",
    "    tmp2 = tmp2.drop('company', axis=1)\n",
    "    tmp = pd.merge(tmp, tmp2, how='outer', on=['variable', 'group','importance'])\n",
    "    "
   ]
  },
  {
   "cell_type": "code",
   "execution_count": 9,
   "id": "65e7e471",
   "metadata": {
    "ExecuteTime": {
     "end_time": "2022-08-03T10:28:45.705752Z",
     "start_time": "2022-08-03T10:28:45.690421Z"
    }
   },
   "outputs": [],
   "source": [
    "\n",
    "# dir_all_y_save = os.path.join(dir_all_save, y)\n",
    "dir_all_y_save = os.path.join(dir_all_save, y_file_name)\n",
    "\n",
    "if os.path.exists(dir_all_y_save)==False:\n",
    "    os.makedirs(dir_all_y_save)\n",
    "    \n"
   ]
  },
  {
   "cell_type": "code",
   "execution_count": 10,
   "id": "366c6e2c",
   "metadata": {
    "ExecuteTime": {
     "end_time": "2022-08-03T10:28:46.207615Z",
     "start_time": "2022-08-03T10:28:46.165970Z"
    }
   },
   "outputs": [],
   "source": [
    "tmp.to_csv(os.path.join(dir_all_y_save, 'correlation_all.csv'), index=False, encoding='utf-8-sig')"
   ]
  },
  {
   "cell_type": "code",
   "execution_count": null,
   "id": "70332959",
   "metadata": {},
   "outputs": [],
   "source": []
  },
  {
   "cell_type": "code",
   "execution_count": null,
   "id": "3a23481b",
   "metadata": {},
   "outputs": [],
   "source": []
  }
 ],
 "metadata": {
  "hide_input": false,
  "kernelspec": {
   "display_name": "Python 3 (ipykernel)",
   "language": "python",
   "name": "python3"
  },
  "language_info": {
   "codemirror_mode": {
    "name": "ipython",
    "version": 3
   },
   "file_extension": ".py",
   "mimetype": "text/x-python",
   "name": "python",
   "nbconvert_exporter": "python",
   "pygments_lexer": "ipython3",
   "version": "3.9.7"
  },
  "toc": {
   "base_numbering": 1,
   "nav_menu": {},
   "number_sections": true,
   "sideBar": true,
   "skip_h1_title": false,
   "title_cell": "Table of Contents",
   "title_sidebar": "Contents",
   "toc_cell": false,
   "toc_position": {
    "height": "calc(100% - 180px)",
    "left": "10px",
    "top": "150px",
    "width": "164.988px"
   },
   "toc_section_display": true,
   "toc_window_display": true
  },
  "varInspector": {
   "cols": {
    "lenName": 16,
    "lenType": 16,
    "lenVar": 40
   },
   "kernels_config": {
    "python": {
     "delete_cmd_postfix": "",
     "delete_cmd_prefix": "del ",
     "library": "var_list.py",
     "varRefreshCmd": "print(var_dic_list())"
    },
    "r": {
     "delete_cmd_postfix": ") ",
     "delete_cmd_prefix": "rm(",
     "library": "var_list.r",
     "varRefreshCmd": "cat(var_dic_list()) "
    }
   },
   "types_to_exclude": [
    "module",
    "function",
    "builtin_function_or_method",
    "instance",
    "_Feature"
   ],
   "window_display": false
  }
 },
 "nbformat": 4,
 "nbformat_minor": 5
}
