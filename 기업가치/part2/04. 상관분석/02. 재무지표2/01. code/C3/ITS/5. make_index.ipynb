{
 "cells": [
  {
   "cell_type": "code",
   "execution_count": 12,
   "id": "29e66115",
   "metadata": {
    "ExecuteTime": {
     "end_time": "2022-08-03T05:33:46.454369Z",
     "start_time": "2022-08-03T05:33:46.445393Z"
    }
   },
   "outputs": [],
   "source": [
    "import pandas as pd\n",
    "import numpy as np\n",
    "import os\n",
    "from scipy.cluster import hierarchy as hc\n",
    "import matplotlib\n",
    "import matplotlib.pyplot as plt\n",
    "import warnings\n",
    "import seaborn as sns\n",
    "from scipy import stats\n",
    "import math\n",
    "from sklearn.preprocessing import MinMaxScaler\n",
    "\n",
    "%matplotlib inline\n",
    "warnings.filterwarnings(action='ignore')\n",
    "\n",
    "matplotlib.rcParams['font.family'] ='Malgun Gothic'\n",
    "matplotlib.rcParams['axes.unicode_minus'] =False"
   ]
  },
  {
   "cell_type": "markdown",
   "id": "e5fb7b91",
   "metadata": {},
   "source": [
    "# Load data"
   ]
  },
  {
   "cell_type": "code",
   "execution_count": 13,
   "id": "a4ba4241",
   "metadata": {
    "ExecuteTime": {
     "end_time": "2022-08-03T05:33:46.758307Z",
     "start_time": "2022-08-03T05:33:46.752642Z"
    }
   },
   "outputs": [],
   "source": [
    "dir_root = '../../../../../'\n",
    "current_dir = os.getcwd()\n",
    "dir_master = os.path.join(dir_root, '01. Data','00. master_data')\n",
    "dir_processed = os.path.join(dir_root, '01. Data','02. 재무지표2', '01. preprocessed')\n",
    "dir_result = os.path.join(dir_root, '04. 상관분석','02. 재무지표2','02. result')"
   ]
  },
  {
   "cell_type": "code",
   "execution_count": 14,
   "id": "83f34bb3",
   "metadata": {
    "ExecuteTime": {
     "end_time": "2022-08-03T05:33:46.909505Z",
     "start_time": "2022-08-03T05:33:46.901526Z"
    }
   },
   "outputs": [],
   "source": [
    "y = '투자비 대비 매출 (Rev/GI)s'\n",
    "\n",
    "# 탐색기에서 파일명 만들 때, \"/\"사용 불가하여 처리하는 부분\n",
    "y_file_name = y.replace(\"/\",\"\")\n",
    "c1 = 'Accenture'\n",
    "c2 = 'Infosys'\n",
    "c3 = 'TCS'\n",
    "c4 = 'Cognizant'"
   ]
  },
  {
   "cell_type": "code",
   "execution_count": 15,
   "id": "e5667460",
   "metadata": {
    "ExecuteTime": {
     "end_time": "2022-08-03T05:33:47.059396Z",
     "start_time": "2022-08-03T05:33:47.054409Z"
    }
   },
   "outputs": [],
   "source": [
    "outperform = [c1, c2, c3]\n",
    "lowperform = [c4]"
   ]
  },
  {
   "cell_type": "code",
   "execution_count": 16,
   "id": "2ea9998e",
   "metadata": {
    "ExecuteTime": {
     "end_time": "2022-08-03T05:33:47.267511Z",
     "start_time": "2022-08-03T05:33:47.261528Z"
    }
   },
   "outputs": [],
   "source": [
    "target_out = [s+'_show' for s in outperform]\n",
    "target_low = [s+'_show' for s in lowperform]\n",
    "target_col = [s+'_show' for s in outperform+lowperform]"
   ]
  },
  {
   "cell_type": "code",
   "execution_count": 17,
   "id": "c0c3a134",
   "metadata": {
    "ExecuteTime": {
     "end_time": "2022-08-03T05:33:47.707605Z",
     "start_time": "2022-08-03T05:33:47.702617Z"
    }
   },
   "outputs": [],
   "source": [
    "# dir_result_all = os.path.join(dir_result, 'All_ITS', y)\n",
    "dir_result_all = os.path.join(dir_result, 'All_ITS', y_file_name)"
   ]
  },
  {
   "cell_type": "code",
   "execution_count": 18,
   "id": "ef61a030",
   "metadata": {
    "ExecuteTime": {
     "end_time": "2022-08-03T05:33:50.459644Z",
     "start_time": "2022-08-03T05:33:48.784266Z"
    }
   },
   "outputs": [],
   "source": [
    "df = pd.read_excel(os.path.join(dir_result_all, 'corr_y_x_over7.xlsx'))"
   ]
  },
  {
   "cell_type": "code",
   "execution_count": 19,
   "id": "b748b726",
   "metadata": {
    "ExecuteTime": {
     "end_time": "2022-08-03T05:33:50.519483Z",
     "start_time": "2022-08-03T05:33:50.512503Z"
    }
   },
   "outputs": [
    {
     "data": {
      "text/plain": [
       "Index(['variable', 'group', 'importance', 'TCS_filtered', 'Infosys_filtered',\n",
       "       'Cognizant_filtered', 'Accenture', 'Infosys_show', 'TCS_show',\n",
       "       'Cognizant_show'],\n",
       "      dtype='object')"
      ]
     },
     "execution_count": 19,
     "metadata": {},
     "output_type": "execute_result"
    }
   ],
   "source": [
    "df.columns"
   ]
  },
  {
   "cell_type": "markdown",
   "id": "e1bed34e",
   "metadata": {},
   "source": [
    "# Make index"
   ]
  },
  {
   "cell_type": "code",
   "execution_count": 20,
   "id": "4a663fac",
   "metadata": {
    "ExecuteTime": {
     "end_time": "2022-08-03T05:34:00.552862Z",
     "start_time": "2022-08-03T05:34:00.534125Z"
    }
   },
   "outputs": [],
   "source": [
    "df['Outperform_avg'] = df[list(set(target_out)&set(df.columns))].mean(axis=1)\n",
    "df['Gap(Out~Low)'] = np.abs(df['Outperform_avg']-df[target_low[0]])\n",
    "df['Std(Out)'] = df[list(set(target_out)&set(df.columns))].std(axis=1)"
   ]
  },
  {
   "cell_type": "code",
   "execution_count": 21,
   "id": "5b49a521",
   "metadata": {
    "ExecuteTime": {
     "end_time": "2022-08-03T05:34:01.471345Z",
     "start_time": "2022-08-03T05:34:01.460257Z"
    }
   },
   "outputs": [],
   "source": [
    "scaler = MinMaxScaler()\n",
    "df['Gap normed+1'] = pd.DataFrame(scaler.fit_transform(df[['Gap(Out~Low)']])+1)[0]"
   ]
  },
  {
   "cell_type": "code",
   "execution_count": 22,
   "id": "b1ff81d6",
   "metadata": {
    "ExecuteTime": {
     "end_time": "2022-08-03T05:34:01.831083Z",
     "start_time": "2022-08-03T05:34:01.817120Z"
    }
   },
   "outputs": [],
   "source": [
    "scaler = MinMaxScaler()\n",
    "df['Std normed+1'] = pd.DataFrame(scaler.fit_transform(df[['Std(Out)']])+1)[0]"
   ]
  },
  {
   "cell_type": "code",
   "execution_count": 23,
   "id": "51b252d3",
   "metadata": {
    "ExecuteTime": {
     "end_time": "2022-08-03T05:34:02.097442Z",
     "start_time": "2022-08-03T05:34:02.090460Z"
    }
   },
   "outputs": [],
   "source": [
    "df['index 1'] = df['Gap normed+1']/df['Std normed+1']"
   ]
  },
  {
   "cell_type": "code",
   "execution_count": 24,
   "id": "891cbf96",
   "metadata": {
    "ExecuteTime": {
     "end_time": "2022-08-03T05:34:03.204985Z",
     "start_time": "2022-08-03T05:34:03.193015Z"
    }
   },
   "outputs": [],
   "source": [
    "scaler = MinMaxScaler()\n",
    "df['Std normed original'] = pd.DataFrame(scaler.fit_transform(df[['Std(Out)']]))[0]"
   ]
  },
  {
   "cell_type": "code",
   "execution_count": 25,
   "id": "06c7728f",
   "metadata": {
    "ExecuteTime": {
     "end_time": "2022-08-03T05:34:03.624831Z",
     "start_time": "2022-08-03T05:34:03.617848Z"
    }
   },
   "outputs": [],
   "source": [
    "df['Std normed 0.5'] = df['Std normed original']*0.5 + 0.5\n",
    "df['1/Std normed'] = 1/df['Std normed 0.5']"
   ]
  },
  {
   "cell_type": "code",
   "execution_count": 26,
   "id": "7d944319",
   "metadata": {
    "ExecuteTime": {
     "end_time": "2022-08-03T05:34:04.001417Z",
     "start_time": "2022-08-03T05:34:03.993925Z"
    }
   },
   "outputs": [],
   "source": [
    "df['Index 2'] = 0.6*df['Gap normed+1']+0.4*df['1/Std normed']"
   ]
  },
  {
   "cell_type": "code",
   "execution_count": 27,
   "id": "055974f7",
   "metadata": {
    "ExecuteTime": {
     "end_time": "2022-08-03T05:34:04.757466Z",
     "start_time": "2022-08-03T05:34:04.746495Z"
    }
   },
   "outputs": [],
   "source": [
    "df[[s+'_marked' for s in outperform+lowperform]+[s+'_plot' for s in outperform+lowperform]] = np.nan"
   ]
  },
  {
   "cell_type": "code",
   "execution_count": 28,
   "id": "3eecc42b",
   "metadata": {
    "ExecuteTime": {
     "end_time": "2022-08-03T05:34:08.150726Z",
     "start_time": "2022-08-03T05:34:08.024152Z"
    }
   },
   "outputs": [],
   "source": [
    "writer = pd.ExcelWriter(os.path.join(dir_result_all, 'correlation_index.xlsx'), engine='xlsxwriter')\n",
    "df.to_excel(writer, index=False)\n",
    "writer.save()"
   ]
  },
  {
   "cell_type": "code",
   "execution_count": null,
   "id": "06d60ef7",
   "metadata": {},
   "outputs": [],
   "source": []
  },
  {
   "cell_type": "code",
   "execution_count": null,
   "id": "9bb16fd1",
   "metadata": {},
   "outputs": [],
   "source": []
  }
 ],
 "metadata": {
  "hide_input": false,
  "kernelspec": {
   "display_name": "Python 3 (ipykernel)",
   "language": "python",
   "name": "python3"
  },
  "language_info": {
   "codemirror_mode": {
    "name": "ipython",
    "version": 3
   },
   "file_extension": ".py",
   "mimetype": "text/x-python",
   "name": "python",
   "nbconvert_exporter": "python",
   "pygments_lexer": "ipython3",
   "version": "3.9.7"
  },
  "toc": {
   "base_numbering": 1,
   "nav_menu": {},
   "number_sections": true,
   "sideBar": true,
   "skip_h1_title": false,
   "title_cell": "Table of Contents",
   "title_sidebar": "Contents",
   "toc_cell": false,
   "toc_position": {
    "height": "calc(100% - 180px)",
    "left": "10px",
    "top": "150px",
    "width": "225px"
   },
   "toc_section_display": true,
   "toc_window_display": true
  },
  "varInspector": {
   "cols": {
    "lenName": 16,
    "lenType": 16,
    "lenVar": 40
   },
   "kernels_config": {
    "python": {
     "delete_cmd_postfix": "",
     "delete_cmd_prefix": "del ",
     "library": "var_list.py",
     "varRefreshCmd": "print(var_dic_list())"
    },
    "r": {
     "delete_cmd_postfix": ") ",
     "delete_cmd_prefix": "rm(",
     "library": "var_list.r",
     "varRefreshCmd": "cat(var_dic_list()) "
    }
   },
   "types_to_exclude": [
    "module",
    "function",
    "builtin_function_or_method",
    "instance",
    "_Feature"
   ],
   "window_display": false
  }
 },
 "nbformat": 4,
 "nbformat_minor": 5
}
