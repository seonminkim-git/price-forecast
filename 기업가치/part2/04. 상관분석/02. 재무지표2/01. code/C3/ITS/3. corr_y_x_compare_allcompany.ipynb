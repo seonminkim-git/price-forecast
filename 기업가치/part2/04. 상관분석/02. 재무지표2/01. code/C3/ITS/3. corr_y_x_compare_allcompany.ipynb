{
 "cells": [
  {
   "cell_type": "code",
   "execution_count": 1,
   "id": "29e66115",
   "metadata": {
    "ExecuteTime": {
     "end_time": "2022-08-03T10:24:42.171600Z",
     "start_time": "2022-08-03T10:24:36.374208Z"
    }
   },
   "outputs": [],
   "source": [
    "import pandas as pd\n",
    "import numpy as np\n",
    "import os\n",
    "from scipy.cluster import hierarchy as hc\n",
    "import matplotlib\n",
    "import matplotlib.pyplot as plt\n",
    "import warnings\n",
    "import seaborn as sns\n",
    "from scipy import stats\n",
    "import math\n",
    "\n",
    "%matplotlib inline\n",
    "warnings.filterwarnings(action='ignore')\n",
    "\n",
    "matplotlib.rcParams['font.family'] ='Malgun Gothic'\n",
    "matplotlib.rcParams['axes.unicode_minus'] =False"
   ]
  },
  {
   "cell_type": "markdown",
   "id": "e5fb7b91",
   "metadata": {},
   "source": [
    "# Load data"
   ]
  },
  {
   "cell_type": "code",
   "execution_count": 2,
   "id": "a4ba4241",
   "metadata": {
    "ExecuteTime": {
     "end_time": "2022-08-03T10:24:42.219390Z",
     "start_time": "2022-08-03T10:24:42.202141Z"
    }
   },
   "outputs": [],
   "source": [
    "# dir_root = 'C:/Users/kkt71/OneDrive/바탕 화면/기업가치분석'\n",
    "dir_root = 'C:/Users/10188/Desktop/기업가치/상관분석/기업가치분석_data_result'\n",
    "dir_master = os.path.join(dir_root, '01. data', 'master')\n",
    "dir_processed = os.path.join(dir_root, '01. data', 'processed')\n",
    "dir_result = os.path.join(dir_root, '03. result')"
   ]
  },
  {
   "cell_type": "code",
   "execution_count": 3,
   "id": "83f34bb3",
   "metadata": {
    "ExecuteTime": {
     "end_time": "2022-08-03T10:24:42.261011Z",
     "start_time": "2022-08-03T10:24:42.245143Z"
    }
   },
   "outputs": [],
   "source": [
    "y = '투자비 대비 매출 (Rev/GI)s'\n",
    "y_file_name = y.replace(\"/\",\"\")\n",
    "c1 = 'Accenture'\n",
    "c2 = 'Infosys'\n",
    "c3 = 'TCS'\n",
    "c4 = 'Cognizant'"
   ]
  },
  {
   "cell_type": "code",
   "execution_count": 4,
   "id": "e5667460",
   "metadata": {
    "ExecuteTime": {
     "end_time": "2022-08-03T10:24:43.039873Z",
     "start_time": "2022-08-03T10:24:43.031343Z"
    }
   },
   "outputs": [],
   "source": [
    "outperform = [c1, c2, c3]\n",
    "lowperform = [c4]"
   ]
  },
  {
   "cell_type": "code",
   "execution_count": 5,
   "id": "c0c3a134",
   "metadata": {
    "ExecuteTime": {
     "end_time": "2022-08-03T10:24:43.211153Z",
     "start_time": "2022-08-03T10:24:43.195805Z"
    }
   },
   "outputs": [],
   "source": [
    "# dir_result_all = os.path.join(dir_result, 'All_ITS', y)\n",
    "dir_result_all = os.path.join(dir_result, 'All_ITS', y_file_name)\n",
    "\n",
    "if os.path.exists(dir_result_all)==False:\n",
    "    os.makedirs(dir_result_all)"
   ]
  },
  {
   "cell_type": "markdown",
   "id": "fb6e0ed4",
   "metadata": {},
   "source": [
    "# total 기간에 대해서, 존재하는 변수 기준으로 inner join"
   ]
  },
  {
   "cell_type": "code",
   "execution_count": 6,
   "id": "0043f676",
   "metadata": {
    "ExecuteTime": {
     "end_time": "2022-08-03T10:24:43.617571Z",
     "start_time": "2022-08-03T10:24:43.524212Z"
    }
   },
   "outputs": [],
   "source": [
    "df_c1 = pd.read_csv(os.path.join(dir_result, c1, y_file_name, y_file_name+'.csv')).iloc[:,:5]\n",
    "df_c2 = pd.read_csv(os.path.join(dir_result, c2, y_file_name, y_file_name+'.csv')).iloc[:,:5]\n",
    "df_c3 = pd.read_csv(os.path.join(dir_result, c3, y_file_name, y_file_name+'.csv')).iloc[:,:5]\n",
    "df_c4 = pd.read_csv(os.path.join(dir_result, c4, y_file_name, y_file_name+'.csv')).iloc[:,:5]"
   ]
  },
  {
   "cell_type": "code",
   "execution_count": 7,
   "id": "e43ff89c",
   "metadata": {
    "ExecuteTime": {
     "end_time": "2022-08-03T10:24:44.488705Z",
     "start_time": "2022-08-03T10:24:44.455596Z"
    }
   },
   "outputs": [],
   "source": [
    "df_c1.rename({'corr' : df_c1.company.unique()[0]}, axis=1, inplace=True)\n",
    "df_c2.rename({'corr' : df_c2.company.unique()[0]}, axis=1, inplace=True)\n",
    "df_c3.rename({'corr' : df_c3.company.unique()[0]}, axis=1, inplace=True)\n",
    "df_c4.rename({'corr' : df_c4.company.unique()[0]}, axis=1, inplace=True)\n",
    "\n",
    "df_c1.drop(['company'], axis=1, inplace=True)\n",
    "df_c2.drop(['company'], axis=1, inplace=True)\n",
    "df_c3.drop(['company'], axis=1, inplace=True)\n",
    "df_c4.drop(['company'], axis=1, inplace=True)"
   ]
  },
  {
   "cell_type": "code",
   "execution_count": 8,
   "id": "6ab4750c",
   "metadata": {
    "ExecuteTime": {
     "end_time": "2022-08-03T10:24:45.190494Z",
     "start_time": "2022-08-03T10:24:45.164182Z"
    }
   },
   "outputs": [],
   "source": [
    "df_all_variable = pd.merge(pd.merge(pd.merge(df_c1, df_c2, on=['variable','group', 'importance'], how='inner'), \n",
    "                          df_c3, on=['variable','group', 'importance'], how='inner'), \n",
    "                 df_c4, on=['variable','group', 'importance'], how='inner')"
   ]
  },
  {
   "cell_type": "code",
   "execution_count": 9,
   "id": "b385d7d2",
   "metadata": {
    "ExecuteTime": {
     "end_time": "2022-08-03T10:24:45.414288Z",
     "start_time": "2022-08-03T10:24:45.406006Z"
    }
   },
   "outputs": [],
   "source": [
    "df_all_variable = df_all_variable[['variable', 'group', 'importance']+outperform+lowperform]"
   ]
  },
  {
   "cell_type": "markdown",
   "id": "df4fd82a",
   "metadata": {},
   "source": [
    "# 0.7 이상 상관계수가 하나라도 있으면, 남기도록 outer join"
   ]
  },
  {
   "cell_type": "code",
   "execution_count": 10,
   "id": "41ce8575",
   "metadata": {
    "ExecuteTime": {
     "end_time": "2022-08-03T10:24:45.771346Z",
     "start_time": "2022-08-03T10:24:45.735972Z"
    }
   },
   "outputs": [],
   "source": [
    "df_c1 = pd.read_csv(os.path.join(dir_result, c1, y_file_name, 'compare_period_corr_07.csv'))\n",
    "df_c2 = pd.read_csv(os.path.join(dir_result, c2, y_file_name, 'compare_period_corr_07.csv'))\n",
    "df_c3 = pd.read_csv(os.path.join(dir_result, c3, y_file_name, 'compare_period_corr_07.csv'))\n",
    "df_c4 = pd.read_csv(os.path.join(dir_result, c4, y_file_name, 'compare_period_corr_07.csv'))"
   ]
  },
  {
   "cell_type": "code",
   "execution_count": 11,
   "id": "2f1e8255",
   "metadata": {
    "ExecuteTime": {
     "end_time": "2022-08-03T10:24:45.944352Z",
     "start_time": "2022-08-03T10:24:45.925913Z"
    }
   },
   "outputs": [],
   "source": [
    "# df_c1.rename({'corr_total' : df_c1.company.unique()[0]}, axis=1, inplace=True)\n",
    "df_c2.rename({'corr_total' : df_c2.company.unique()[0]}, axis=1, inplace=True)\n",
    "df_c3.rename({'corr_total' : df_c3.company.unique()[0]}, axis=1, inplace=True)\n",
    "df_c4.rename({'corr_total' : df_c4.company.unique()[0]}, axis=1, inplace=True)\n",
    "\n",
    "# df_c1.drop(['corr_sub', 'company'], axis=1, inplace=True)\n",
    "df_c2.drop(['corr_sub', 'company'], axis=1, inplace=True)\n",
    "df_c3.drop(['corr_sub', 'company'], axis=1, inplace=True)\n",
    "df_c4.drop(['corr_sub', 'company'], axis=1, inplace=True)"
   ]
  },
  {
   "cell_type": "code",
   "execution_count": 12,
   "id": "4a020dba",
   "metadata": {
    "ExecuteTime": {
     "end_time": "2022-08-03T10:24:46.107755Z",
     "start_time": "2022-08-03T10:24:46.094527Z"
    }
   },
   "outputs": [],
   "source": [
    "# df_c1 = df_c1.dropna()\n",
    "df_c2 = df_c2.dropna()\n",
    "df_c3 = df_c3.dropna()\n",
    "df_c4 = df_c4.dropna()"
   ]
  },
  {
   "cell_type": "code",
   "execution_count": 13,
   "id": "b509893b",
   "metadata": {
    "ExecuteTime": {
     "end_time": "2022-08-03T10:24:46.294119Z",
     "start_time": "2022-08-03T10:24:46.281848Z"
    }
   },
   "outputs": [],
   "source": [
    "# df_all = pd.merge(pd.merge(df_c1, df_c3, on=['variable','group', 'importance'], how='outer'), \n",
    "#                           df_c4, on=['variable','group', 'importance'], how='outer')\n",
    "                 "
   ]
  },
  {
   "cell_type": "code",
   "execution_count": 14,
   "id": "fd173093",
   "metadata": {
    "ExecuteTime": {
     "end_time": "2022-08-03T10:24:46.508353Z",
     "start_time": "2022-08-03T10:24:46.472634Z"
    }
   },
   "outputs": [],
   "source": [
    "df_all = pd.merge(pd.merge(pd.merge(df_c1, df_c2, on=['variable','group', 'importance'], how='outer'), \n",
    "                          df_c3, on=['variable','group', 'importance'], how='outer'), \n",
    "                 df_c4, on=['variable','group', 'importance'], how='outer')\n",
    "# df_all = pd.merge(pd.merge(df_c2, df_c3, on=['variable','group', 'importance'], how='outer'), \n",
    "#                           df_c4, on=['variable','group', 'importance'], how='outer')"
   ]
  },
  {
   "cell_type": "code",
   "execution_count": 15,
   "id": "dadd5ff3",
   "metadata": {
    "ExecuteTime": {
     "end_time": "2022-08-03T10:24:46.728437Z",
     "start_time": "2022-08-03T10:24:46.709896Z"
    }
   },
   "outputs": [],
   "source": [
    "df_all = df_all[['variable', 'group', 'importance']+list(set(outperform)&set(df_all.columns))+list(set(lowperform)&set(df_all.columns))]"
   ]
  },
  {
   "cell_type": "code",
   "execution_count": 16,
   "id": "2630469f",
   "metadata": {
    "ExecuteTime": {
     "end_time": "2022-08-03T10:24:46.926759Z",
     "start_time": "2022-08-03T10:24:46.915984Z"
    }
   },
   "outputs": [],
   "source": [
    "# df_all = df_all[['variable', 'group', 'importance']+[c1, c3, c4]]"
   ]
  },
  {
   "cell_type": "markdown",
   "id": "86a12d1d",
   "metadata": {},
   "source": [
    "# 위의 두 개 inner join"
   ]
  },
  {
   "cell_type": "code",
   "execution_count": 17,
   "id": "1da05261",
   "metadata": {
    "ExecuteTime": {
     "end_time": "2022-08-03T10:24:48.116359Z",
     "start_time": "2022-08-03T10:24:48.097312Z"
    }
   },
   "outputs": [],
   "source": [
    "df_all_merged = pd.merge(df_all, df_all_variable, how='inner', on=['variable','group','importance'], suffixes = (\"_filtered\", \"_show\"))"
   ]
  },
  {
   "cell_type": "code",
   "execution_count": 18,
   "id": "9290166c",
   "metadata": {
    "ExecuteTime": {
     "end_time": "2022-08-03T10:24:48.310091Z",
     "start_time": "2022-08-03T10:24:48.299770Z"
    }
   },
   "outputs": [],
   "source": [
    "# df_all_merged.to_csv(os.path.join(dir_result, 'All_ITS', 'corr_y_x_over7.csv'), index=False, encoding='utf-8-sig')"
   ]
  },
  {
   "cell_type": "code",
   "execution_count": 19,
   "id": "16787e13",
   "metadata": {
    "ExecuteTime": {
     "end_time": "2022-08-03T10:24:48.939696Z",
     "start_time": "2022-08-03T10:24:48.545185Z"
    }
   },
   "outputs": [],
   "source": [
    "writer = pd.ExcelWriter(os.path.join(dir_result_all, 'corr_y_x_over7.xlsx'), engine='xlsxwriter')\n",
    "df_all_merged.to_excel(writer, index=False)\n",
    "writer.save()"
   ]
  },
  {
   "cell_type": "code",
   "execution_count": 20,
   "id": "02b03d96",
   "metadata": {
    "ExecuteTime": {
     "end_time": "2022-08-03T10:24:49.246171Z",
     "start_time": "2022-08-03T10:24:49.204912Z"
    }
   },
   "outputs": [
    {
     "data": {
      "text/plain": [
       "Index(['variable', 'group', 'importance', 'Infosys_filtered', 'TCS_filtered',\n",
       "       'Cognizant_filtered', 'Accenture', 'Infosys_show', 'TCS_show',\n",
       "       'Cognizant_show'],\n",
       "      dtype='object')"
      ]
     },
     "execution_count": 20,
     "metadata": {},
     "output_type": "execute_result"
    }
   ],
   "source": [
    "df_all_merged.columns"
   ]
  },
  {
   "cell_type": "code",
   "execution_count": 21,
   "id": "4b407857",
   "metadata": {
    "ExecuteTime": {
     "end_time": "2022-08-03T10:24:49.871869Z",
     "start_time": "2022-08-03T10:24:49.821458Z"
    }
   },
   "outputs": [
    {
     "data": {
      "text/html": [
       "<div>\n",
       "<style scoped>\n",
       "    .dataframe tbody tr th:only-of-type {\n",
       "        vertical-align: middle;\n",
       "    }\n",
       "\n",
       "    .dataframe tbody tr th {\n",
       "        vertical-align: top;\n",
       "    }\n",
       "\n",
       "    .dataframe thead th {\n",
       "        text-align: right;\n",
       "    }\n",
       "</style>\n",
       "<table border=\"1\" class=\"dataframe\">\n",
       "  <thead>\n",
       "    <tr style=\"text-align: right;\">\n",
       "      <th></th>\n",
       "      <th>variable</th>\n",
       "      <th>group</th>\n",
       "      <th>importance</th>\n",
       "      <th>Infosys_filtered</th>\n",
       "      <th>TCS_filtered</th>\n",
       "      <th>Cognizant_filtered</th>\n",
       "      <th>Accenture</th>\n",
       "      <th>Infosys_show</th>\n",
       "      <th>TCS_show</th>\n",
       "      <th>Cognizant_show</th>\n",
       "    </tr>\n",
       "  </thead>\n",
       "  <tbody>\n",
       "    <tr>\n",
       "      <th>0</th>\n",
       "      <td>CF_Sale/Maturity of Investment</td>\n",
       "      <td>CF</td>\n",
       "      <td>5.0</td>\n",
       "      <td>NaN</td>\n",
       "      <td>NaN</td>\n",
       "      <td>NaN</td>\n",
       "      <td>0.706</td>\n",
       "      <td>-0.347</td>\n",
       "      <td>0.138</td>\n",
       "      <td>-0.275</td>\n",
       "    </tr>\n",
       "    <tr>\n",
       "      <th>1</th>\n",
       "      <td>ROGI(%)</td>\n",
       "      <td>수익성</td>\n",
       "      <td>0.0</td>\n",
       "      <td>0.787</td>\n",
       "      <td>0.796</td>\n",
       "      <td>0.940</td>\n",
       "      <td>-0.204</td>\n",
       "      <td>0.787</td>\n",
       "      <td>0.796</td>\n",
       "      <td>0.940</td>\n",
       "    </tr>\n",
       "    <tr>\n",
       "      <th>2</th>\n",
       "      <td>무형자산회전율s</td>\n",
       "      <td>활동성</td>\n",
       "      <td>0.0</td>\n",
       "      <td>0.782</td>\n",
       "      <td>0.702</td>\n",
       "      <td>0.789</td>\n",
       "      <td>0.042</td>\n",
       "      <td>0.782</td>\n",
       "      <td>0.702</td>\n",
       "      <td>0.789</td>\n",
       "    </tr>\n",
       "    <tr>\n",
       "      <th>3</th>\n",
       "      <td>FS_Working Capital to Total Assets</td>\n",
       "      <td>FS</td>\n",
       "      <td>5.0</td>\n",
       "      <td>0.703</td>\n",
       "      <td>NaN</td>\n",
       "      <td>NaN</td>\n",
       "      <td>0.018</td>\n",
       "      <td>0.703</td>\n",
       "      <td>0.624</td>\n",
       "      <td>0.613</td>\n",
       "    </tr>\n",
       "    <tr>\n",
       "      <th>4</th>\n",
       "      <td>비유동비율(천원)</td>\n",
       "      <td>안정성</td>\n",
       "      <td>2.0</td>\n",
       "      <td>-0.740</td>\n",
       "      <td>NaN</td>\n",
       "      <td>NaN</td>\n",
       "      <td>0.165</td>\n",
       "      <td>-0.740</td>\n",
       "      <td>-0.698</td>\n",
       "      <td>-0.671</td>\n",
       "    </tr>\n",
       "    <tr>\n",
       "      <th>...</th>\n",
       "      <td>...</td>\n",
       "      <td>...</td>\n",
       "      <td>...</td>\n",
       "      <td>...</td>\n",
       "      <td>...</td>\n",
       "      <td>...</td>\n",
       "      <td>...</td>\n",
       "      <td>...</td>\n",
       "      <td>...</td>\n",
       "      <td>...</td>\n",
       "    </tr>\n",
       "    <tr>\n",
       "      <th>68</th>\n",
       "      <td>BS_Net Debt Incl. Pref.Stock &amp; Min.Interest</td>\n",
       "      <td>BS</td>\n",
       "      <td>5.0</td>\n",
       "      <td>NaN</td>\n",
       "      <td>-0.703</td>\n",
       "      <td>NaN</td>\n",
       "      <td>0.320</td>\n",
       "      <td>-0.325</td>\n",
       "      <td>-0.703</td>\n",
       "      <td>-0.061</td>\n",
       "    </tr>\n",
       "    <tr>\n",
       "      <th>69</th>\n",
       "      <td>순부채(천원)</td>\n",
       "      <td>안정성</td>\n",
       "      <td>2.0</td>\n",
       "      <td>NaN</td>\n",
       "      <td>-0.703</td>\n",
       "      <td>NaN</td>\n",
       "      <td>0.320</td>\n",
       "      <td>-0.325</td>\n",
       "      <td>-0.703</td>\n",
       "      <td>-0.061</td>\n",
       "    </tr>\n",
       "    <tr>\n",
       "      <th>70</th>\n",
       "      <td>BS_Additional Paid-In Capital</td>\n",
       "      <td>BS</td>\n",
       "      <td>5.0</td>\n",
       "      <td>NaN</td>\n",
       "      <td>-0.711</td>\n",
       "      <td>NaN</td>\n",
       "      <td>-0.442</td>\n",
       "      <td>0.622</td>\n",
       "      <td>-0.711</td>\n",
       "      <td>0.684</td>\n",
       "    </tr>\n",
       "    <tr>\n",
       "      <th>71</th>\n",
       "      <td>BS_Accumulated Depreciation, Total</td>\n",
       "      <td>BS</td>\n",
       "      <td>5.0</td>\n",
       "      <td>NaN</td>\n",
       "      <td>-0.743</td>\n",
       "      <td>NaN</td>\n",
       "      <td>0.217</td>\n",
       "      <td>0.403</td>\n",
       "      <td>-0.743</td>\n",
       "      <td>0.451</td>\n",
       "    </tr>\n",
       "    <tr>\n",
       "      <th>72</th>\n",
       "      <td>유형자산감상비 누계</td>\n",
       "      <td>안정성</td>\n",
       "      <td>1.0</td>\n",
       "      <td>NaN</td>\n",
       "      <td>-0.743</td>\n",
       "      <td>NaN</td>\n",
       "      <td>0.217</td>\n",
       "      <td>0.403</td>\n",
       "      <td>-0.743</td>\n",
       "      <td>0.451</td>\n",
       "    </tr>\n",
       "  </tbody>\n",
       "</table>\n",
       "<p>73 rows × 10 columns</p>\n",
       "</div>"
      ],
      "text/plain": [
       "                                       variable group  importance  \\\n",
       "0                CF_Sale/Maturity of Investment    CF         5.0   \n",
       "1                                       ROGI(%)   수익성         0.0   \n",
       "2                                      무형자산회전율s   활동성         0.0   \n",
       "3            FS_Working Capital to Total Assets    FS         5.0   \n",
       "4                                     비유동비율(천원)   안정성         2.0   \n",
       "..                                          ...   ...         ...   \n",
       "68  BS_Net Debt Incl. Pref.Stock & Min.Interest    BS         5.0   \n",
       "69                                      순부채(천원)   안정성         2.0   \n",
       "70                BS_Additional Paid-In Capital    BS         5.0   \n",
       "71           BS_Accumulated Depreciation, Total    BS         5.0   \n",
       "72                                   유형자산감상비 누계   안정성         1.0   \n",
       "\n",
       "    Infosys_filtered  TCS_filtered  Cognizant_filtered  Accenture  \\\n",
       "0                NaN           NaN                 NaN      0.706   \n",
       "1              0.787         0.796               0.940     -0.204   \n",
       "2              0.782         0.702               0.789      0.042   \n",
       "3              0.703           NaN                 NaN      0.018   \n",
       "4             -0.740           NaN                 NaN      0.165   \n",
       "..               ...           ...                 ...        ...   \n",
       "68               NaN        -0.703                 NaN      0.320   \n",
       "69               NaN        -0.703                 NaN      0.320   \n",
       "70               NaN        -0.711                 NaN     -0.442   \n",
       "71               NaN        -0.743                 NaN      0.217   \n",
       "72               NaN        -0.743                 NaN      0.217   \n",
       "\n",
       "    Infosys_show  TCS_show  Cognizant_show  \n",
       "0         -0.347     0.138          -0.275  \n",
       "1          0.787     0.796           0.940  \n",
       "2          0.782     0.702           0.789  \n",
       "3          0.703     0.624           0.613  \n",
       "4         -0.740    -0.698          -0.671  \n",
       "..           ...       ...             ...  \n",
       "68        -0.325    -0.703          -0.061  \n",
       "69        -0.325    -0.703          -0.061  \n",
       "70         0.622    -0.711           0.684  \n",
       "71         0.403    -0.743           0.451  \n",
       "72         0.403    -0.743           0.451  \n",
       "\n",
       "[73 rows x 10 columns]"
      ]
     },
     "execution_count": 21,
     "metadata": {},
     "output_type": "execute_result"
    }
   ],
   "source": [
    "df_all_merged"
   ]
  },
  {
   "cell_type": "code",
   "execution_count": null,
   "id": "ad0fc507",
   "metadata": {},
   "outputs": [],
   "source": []
  }
 ],
 "metadata": {
  "hide_input": false,
  "kernelspec": {
   "display_name": "Python 3 (ipykernel)",
   "language": "python",
   "name": "python3"
  },
  "language_info": {
   "codemirror_mode": {
    "name": "ipython",
    "version": 3
   },
   "file_extension": ".py",
   "mimetype": "text/x-python",
   "name": "python",
   "nbconvert_exporter": "python",
   "pygments_lexer": "ipython3",
   "version": "3.9.7"
  },
  "toc": {
   "base_numbering": 1,
   "nav_menu": {},
   "number_sections": true,
   "sideBar": true,
   "skip_h1_title": false,
   "title_cell": "Table of Contents",
   "title_sidebar": "Contents",
   "toc_cell": false,
   "toc_position": {
    "height": "calc(100% - 180px)",
    "left": "10px",
    "top": "150px",
    "width": "225px"
   },
   "toc_section_display": true,
   "toc_window_display": true
  },
  "varInspector": {
   "cols": {
    "lenName": 16,
    "lenType": 16,
    "lenVar": 40
   },
   "kernels_config": {
    "python": {
     "delete_cmd_postfix": "",
     "delete_cmd_prefix": "del ",
     "library": "var_list.py",
     "varRefreshCmd": "print(var_dic_list())"
    },
    "r": {
     "delete_cmd_postfix": ") ",
     "delete_cmd_prefix": "rm(",
     "library": "var_list.r",
     "varRefreshCmd": "cat(var_dic_list()) "
    }
   },
   "types_to_exclude": [
    "module",
    "function",
    "builtin_function_or_method",
    "instance",
    "_Feature"
   ],
   "window_display": false
  }
 },
 "nbformat": 4,
 "nbformat_minor": 5
}
