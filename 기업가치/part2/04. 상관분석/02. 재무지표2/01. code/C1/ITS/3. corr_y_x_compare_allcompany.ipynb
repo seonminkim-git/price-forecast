{
 "cells": [
  {
   "cell_type": "code",
   "execution_count": 2,
   "id": "29e66115",
   "metadata": {
    "ExecuteTime": {
     "end_time": "2022-08-29T02:09:50.943602Z",
     "start_time": "2022-08-29T02:09:46.584737Z"
    }
   },
   "outputs": [],
   "source": [
    "import pandas as pd\n",
    "import numpy as np\n",
    "import os\n",
    "from scipy.cluster import hierarchy as hc\n",
    "import matplotlib\n",
    "import matplotlib.pyplot as plt\n",
    "import warnings\n",
    "import seaborn as sns\n",
    "from scipy import stats\n",
    "import math\n",
    "\n",
    "%matplotlib inline\n",
    "warnings.filterwarnings(action='ignore')\n",
    "\n",
    "matplotlib.rcParams['font.family'] ='Malgun Gothic'\n",
    "matplotlib.rcParams['axes.unicode_minus'] =False"
   ]
  },
  {
   "cell_type": "markdown",
   "id": "e5fb7b91",
   "metadata": {},
   "source": [
    "# Load data"
   ]
  },
  {
   "cell_type": "code",
   "execution_count": 3,
   "id": "a4ba4241",
   "metadata": {
    "ExecuteTime": {
     "end_time": "2022-08-29T02:09:50.960557Z",
     "start_time": "2022-08-29T02:09:50.954573Z"
    }
   },
   "outputs": [],
   "source": [
    "# dir_root = 'C:/Users/kkt71/OneDrive/바탕 화면/기업가치분석'\n",
    "dir_root = '../../../../../'\n",
    "current_dir = os.getcwd()\n",
    "dir_master = os.path.join(dir_root, '01. Data','00. master_data')\n",
    "dir_processed = os.path.join(dir_root, '01. Data','02. 재무지표2', '01. preprocessed')\n",
    "dir_result = os.path.join(dir_root, '04. 상관분석','02. 재무지표2','02. result')"
   ]
  },
  {
   "cell_type": "code",
   "execution_count": 3,
   "id": "83f34bb3",
   "metadata": {
    "ExecuteTime": {
     "end_time": "2022-08-03T07:57:57.304133Z",
     "start_time": "2022-08-03T07:57:57.298150Z"
    }
   },
   "outputs": [],
   "source": [
    "y = '매출액증가율(YoY)(연도)'\n",
    "c1 = 'Accenture'\n",
    "c2 = 'Infosys'\n",
    "c3 = 'TCS'\n",
    "c4 = 'Cognizant'"
   ]
  },
  {
   "cell_type": "code",
   "execution_count": 4,
   "id": "e5667460",
   "metadata": {
    "ExecuteTime": {
     "end_time": "2022-08-03T07:57:57.333085Z",
     "start_time": "2022-08-03T07:57:57.329095Z"
    }
   },
   "outputs": [],
   "source": [
    "outperform = [c1, c2, c3]\n",
    "lowperform = [c4]"
   ]
  },
  {
   "cell_type": "code",
   "execution_count": 5,
   "id": "c0c3a134",
   "metadata": {
    "ExecuteTime": {
     "end_time": "2022-08-03T07:57:57.366994Z",
     "start_time": "2022-08-03T07:57:57.357020Z"
    }
   },
   "outputs": [],
   "source": [
    "dir_result_all = os.path.join(dir_result, 'All_ITS', y)\n",
    "\n",
    "if os.path.exists(dir_result_all)==False:\n",
    "    os.makedirs(dir_result_all)"
   ]
  },
  {
   "cell_type": "markdown",
   "id": "fb6e0ed4",
   "metadata": {},
   "source": [
    "# total 기간에 대해서, 존재하는 변수 기준으로 inner join"
   ]
  },
  {
   "cell_type": "code",
   "execution_count": 6,
   "id": "0043f676",
   "metadata": {
    "ExecuteTime": {
     "end_time": "2022-08-03T07:57:58.477581Z",
     "start_time": "2022-08-03T07:57:58.425694Z"
    }
   },
   "outputs": [],
   "source": [
    "df_c1 = pd.read_csv(os.path.join(dir_result, c1, y, y+'.csv')).iloc[:,:5]\n",
    "df_c2 = pd.read_csv(os.path.join(dir_result, c2, y, y+'.csv')).iloc[:,:5]\n",
    "df_c3 = pd.read_csv(os.path.join(dir_result, c3, y, y+'.csv')).iloc[:,:5]\n",
    "df_c4 = pd.read_csv(os.path.join(dir_result, c4, y, y+'.csv')).iloc[:,:5]"
   ]
  },
  {
   "cell_type": "code",
   "execution_count": 7,
   "id": "e43ff89c",
   "metadata": {
    "ExecuteTime": {
     "end_time": "2022-08-03T07:57:58.727918Z",
     "start_time": "2022-08-03T07:57:58.710963Z"
    }
   },
   "outputs": [],
   "source": [
    "df_c1.rename({'corr' : df_c1.company.unique()[0]}, axis=1, inplace=True)\n",
    "df_c2.rename({'corr' : df_c2.company.unique()[0]}, axis=1, inplace=True)\n",
    "df_c3.rename({'corr' : df_c3.company.unique()[0]}, axis=1, inplace=True)\n",
    "df_c4.rename({'corr' : df_c4.company.unique()[0]}, axis=1, inplace=True)\n",
    "\n",
    "df_c1.drop(['company'], axis=1, inplace=True)\n",
    "df_c2.drop(['company'], axis=1, inplace=True)\n",
    "df_c3.drop(['company'], axis=1, inplace=True)\n",
    "df_c4.drop(['company'], axis=1, inplace=True)"
   ]
  },
  {
   "cell_type": "code",
   "execution_count": 8,
   "id": "6ab4750c",
   "metadata": {
    "ExecuteTime": {
     "end_time": "2022-08-03T07:58:00.447449Z",
     "start_time": "2022-08-03T07:58:00.425507Z"
    }
   },
   "outputs": [],
   "source": [
    "df_all_variable = pd.merge(pd.merge(pd.merge(df_c1, df_c2, on=['variable','group', 'importance'], how='inner'), \n",
    "                          df_c3, on=['variable','group', 'importance'], how='inner'), \n",
    "                 df_c4, on=['variable','group', 'importance'], how='inner')"
   ]
  },
  {
   "cell_type": "code",
   "execution_count": 9,
   "id": "b385d7d2",
   "metadata": {
    "ExecuteTime": {
     "end_time": "2022-08-03T07:58:01.135643Z",
     "start_time": "2022-08-03T07:58:01.128662Z"
    }
   },
   "outputs": [],
   "source": [
    "df_all_variable = df_all_variable[['variable', 'group', 'importance']+outperform+lowperform]"
   ]
  },
  {
   "cell_type": "markdown",
   "id": "df4fd82a",
   "metadata": {},
   "source": [
    "# 0.7 이상 상관계수가 하나라도 있으면, 남기도록 outer join"
   ]
  },
  {
   "cell_type": "code",
   "execution_count": 10,
   "id": "41ce8575",
   "metadata": {
    "ExecuteTime": {
     "end_time": "2022-08-03T07:58:02.379352Z",
     "start_time": "2022-08-03T07:58:02.355387Z"
    }
   },
   "outputs": [],
   "source": [
    "df_c1 = pd.read_csv(os.path.join(dir_result, c1, y, 'compare_period_corr_07.csv'))\n",
    "df_c2 = pd.read_csv(os.path.join(dir_result, c2, y, 'compare_period_corr_07.csv'))\n",
    "df_c3 = pd.read_csv(os.path.join(dir_result, c3, y, 'compare_period_corr_07.csv'))\n",
    "df_c4 = pd.read_csv(os.path.join(dir_result, c4, y, 'compare_period_corr_07.csv'))"
   ]
  },
  {
   "cell_type": "code",
   "execution_count": 12,
   "id": "2f1e8255",
   "metadata": {
    "ExecuteTime": {
     "end_time": "2022-08-03T07:58:13.377057Z",
     "start_time": "2022-08-03T07:58:13.365014Z"
    }
   },
   "outputs": [],
   "source": [
    "# df_c1.rename({'corr_total' : df_c1.company.unique()[0]}, axis=1, inplace=True)\n",
    "df_c2.rename({'corr_total' : df_c2.company.unique()[0]}, axis=1, inplace=True)\n",
    "df_c3.rename({'corr_total' : df_c3.company.unique()[0]}, axis=1, inplace=True)\n",
    "df_c4.rename({'corr_total' : df_c4.company.unique()[0]}, axis=1, inplace=True)\n",
    "\n",
    "# df_c1.drop(['corr_sub', 'company'], axis=1, inplace=True)\n",
    "df_c2.drop(['corr_sub', 'company'], axis=1, inplace=True)\n",
    "df_c3.drop(['corr_sub', 'company'], axis=1, inplace=True)\n",
    "df_c4.drop(['corr_sub', 'company'], axis=1, inplace=True)"
   ]
  },
  {
   "cell_type": "code",
   "execution_count": 13,
   "id": "4a020dba",
   "metadata": {
    "ExecuteTime": {
     "end_time": "2022-08-03T07:58:14.027926Z",
     "start_time": "2022-08-03T07:58:14.020982Z"
    }
   },
   "outputs": [],
   "source": [
    "# df_c1 = df_c1.dropna()\n",
    "df_c2 = df_c2.dropna()\n",
    "df_c3 = df_c3.dropna()\n",
    "df_c4 = df_c4.dropna()"
   ]
  },
  {
   "cell_type": "code",
   "execution_count": 14,
   "id": "b509893b",
   "metadata": {
    "ExecuteTime": {
     "end_time": "2022-08-03T07:58:15.822844Z",
     "start_time": "2022-08-03T07:58:15.818855Z"
    }
   },
   "outputs": [],
   "source": [
    "# df_all = pd.merge(pd.merge(df_c1, df_c3, on=['variable','group', 'importance'], how='outer'), \n",
    "#                           df_c4, on=['variable','group', 'importance'], how='outer')\n",
    "                 "
   ]
  },
  {
   "cell_type": "code",
   "execution_count": 15,
   "id": "fd173093",
   "metadata": {
    "ExecuteTime": {
     "end_time": "2022-08-03T07:58:16.091689Z",
     "start_time": "2022-08-03T07:58:16.067752Z"
    }
   },
   "outputs": [],
   "source": [
    "df_all = pd.merge(pd.merge(pd.merge(df_c1, df_c2, on=['variable','group', 'importance'], how='outer'), \n",
    "                          df_c3, on=['variable','group', 'importance'], how='outer'), \n",
    "                 df_c4, on=['variable','group', 'importance'], how='outer')\n",
    "# df_all = pd.merge(pd.merge(df_c2, df_c3, on=['variable','group', 'importance'], how='outer'), \n",
    "#                           df_c4, on=['variable','group', 'importance'], how='outer')"
   ]
  },
  {
   "cell_type": "code",
   "execution_count": 16,
   "id": "dadd5ff3",
   "metadata": {
    "ExecuteTime": {
     "end_time": "2022-08-03T07:58:16.364957Z",
     "start_time": "2022-08-03T07:58:16.357978Z"
    }
   },
   "outputs": [],
   "source": [
    "df_all = df_all[['variable', 'group', 'importance']+list(set(outperform)&set(df_all.columns))+list(set(lowperform)&set(df_all.columns))]"
   ]
  },
  {
   "cell_type": "code",
   "execution_count": 17,
   "id": "2630469f",
   "metadata": {
    "ExecuteTime": {
     "end_time": "2022-08-03T07:58:17.630011Z",
     "start_time": "2022-08-03T07:58:17.626022Z"
    }
   },
   "outputs": [],
   "source": [
    "# df_all = df_all[['variable', 'group', 'importance']+[c1, c3, c4]]"
   ]
  },
  {
   "cell_type": "markdown",
   "id": "86a12d1d",
   "metadata": {},
   "source": [
    "# 위의 두 개 inner join"
   ]
  },
  {
   "cell_type": "code",
   "execution_count": 18,
   "id": "1da05261",
   "metadata": {
    "ExecuteTime": {
     "end_time": "2022-08-03T07:58:18.713460Z",
     "start_time": "2022-08-03T07:58:18.702488Z"
    }
   },
   "outputs": [],
   "source": [
    "df_all_merged = pd.merge(df_all, df_all_variable, how='inner', on=['variable','group','importance'], suffixes = (\"_filtered\", \"_show\"))"
   ]
  },
  {
   "cell_type": "code",
   "execution_count": 19,
   "id": "9290166c",
   "metadata": {
    "ExecuteTime": {
     "end_time": "2022-08-03T07:58:19.384824Z",
     "start_time": "2022-08-03T07:58:19.381827Z"
    }
   },
   "outputs": [],
   "source": [
    "# df_all_merged.to_csv(os.path.join(dir_result, 'All_ITS', 'corr_y_x_over7.csv'), index=False, encoding='utf-8-sig')"
   ]
  },
  {
   "cell_type": "code",
   "execution_count": 20,
   "id": "16787e13",
   "metadata": {
    "ExecuteTime": {
     "end_time": "2022-08-03T07:58:19.865059Z",
     "start_time": "2022-08-03T07:58:19.620190Z"
    }
   },
   "outputs": [],
   "source": [
    "writer = pd.ExcelWriter(os.path.join(dir_result_all, 'corr_y_x_over7.xlsx'), engine='xlsxwriter')\n",
    "df_all_merged.to_excel(writer, index=False)\n",
    "writer.save()"
   ]
  },
  {
   "cell_type": "code",
   "execution_count": 21,
   "id": "02b03d96",
   "metadata": {
    "ExecuteTime": {
     "end_time": "2022-08-03T07:58:20.959223Z",
     "start_time": "2022-08-03T07:58:20.951243Z"
    }
   },
   "outputs": [
    {
     "data": {
      "text/plain": [
       "Index(['variable', 'group', 'importance', 'Infosys_filtered', 'TCS_filtered',\n",
       "       'Cognizant_filtered', 'Accenture', 'Infosys_show', 'TCS_show',\n",
       "       'Cognizant_show'],\n",
       "      dtype='object')"
      ]
     },
     "execution_count": 21,
     "metadata": {},
     "output_type": "execute_result"
    }
   ],
   "source": [
    "df_all_merged.columns"
   ]
  },
  {
   "cell_type": "code",
   "execution_count": null,
   "id": "01fc2cd9",
   "metadata": {},
   "outputs": [],
   "source": []
  }
 ],
 "metadata": {
  "hide_input": false,
  "kernelspec": {
   "display_name": "Python 3 (ipykernel)",
   "language": "python",
   "name": "python3"
  },
  "language_info": {
   "codemirror_mode": {
    "name": "ipython",
    "version": 3
   },
   "file_extension": ".py",
   "mimetype": "text/x-python",
   "name": "python",
   "nbconvert_exporter": "python",
   "pygments_lexer": "ipython3",
   "version": "3.9.7"
  },
  "toc": {
   "base_numbering": 1,
   "nav_menu": {},
   "number_sections": true,
   "sideBar": true,
   "skip_h1_title": false,
   "title_cell": "Table of Contents",
   "title_sidebar": "Contents",
   "toc_cell": false,
   "toc_position": {
    "height": "calc(100% - 180px)",
    "left": "10px",
    "top": "150px",
    "width": "225px"
   },
   "toc_section_display": true,
   "toc_window_display": true
  },
  "varInspector": {
   "cols": {
    "lenName": 16,
    "lenType": 16,
    "lenVar": 40
   },
   "kernels_config": {
    "python": {
     "delete_cmd_postfix": "",
     "delete_cmd_prefix": "del ",
     "library": "var_list.py",
     "varRefreshCmd": "print(var_dic_list())"
    },
    "r": {
     "delete_cmd_postfix": ") ",
     "delete_cmd_prefix": "rm(",
     "library": "var_list.r",
     "varRefreshCmd": "cat(var_dic_list()) "
    }
   },
   "types_to_exclude": [
    "module",
    "function",
    "builtin_function_or_method",
    "instance",
    "_Feature"
   ],
   "window_display": false
  }
 },
 "nbformat": 4,
 "nbformat_minor": 5
}
