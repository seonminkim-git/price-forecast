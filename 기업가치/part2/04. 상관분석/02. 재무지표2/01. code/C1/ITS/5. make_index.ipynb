{
 "cells": [
  {
   "cell_type": "code",
   "execution_count": 1,
   "id": "29e66115",
   "metadata": {
    "ExecuteTime": {
     "end_time": "2022-08-03T09:14:37.874175Z",
     "start_time": "2022-08-03T09:14:30.302917Z"
    }
   },
   "outputs": [],
   "source": [
    "import pandas as pd\n",
    "import numpy as np\n",
    "import os\n",
    "from scipy.cluster import hierarchy as hc\n",
    "import matplotlib\n",
    "import matplotlib.pyplot as plt\n",
    "import warnings\n",
    "import seaborn as sns\n",
    "from scipy import stats\n",
    "import math\n",
    "from sklearn.preprocessing import MinMaxScaler\n",
    "\n",
    "%matplotlib inline\n",
    "warnings.filterwarnings(action='ignore')\n",
    "\n",
    "matplotlib.rcParams['font.family'] ='Malgun Gothic'\n",
    "matplotlib.rcParams['axes.unicode_minus'] =False"
   ]
  },
  {
   "cell_type": "markdown",
   "id": "e5fb7b91",
   "metadata": {},
   "source": [
    "# Load data"
   ]
  },
  {
   "cell_type": "code",
   "execution_count": 2,
   "id": "a4ba4241",
   "metadata": {
    "ExecuteTime": {
     "end_time": "2022-08-03T09:14:37.942998Z",
     "start_time": "2022-08-03T09:14:37.928956Z"
    }
   },
   "outputs": [],
   "source": [
    "# dir_root = 'C:/Users/kkt71/OneDrive/바탕 화면/기업가치분석'\n",
    "dir_root = 'C:/Users/10188/Desktop/기업가치/상관분석/기업가치분석_data_result'\n",
    "dir_master = os.path.join(dir_root, '01. data', 'master')\n",
    "dir_processed = os.path.join(dir_root, '01. data', 'processed')\n",
    "dir_result = os.path.join(dir_root, '03. result')"
   ]
  },
  {
   "cell_type": "code",
   "execution_count": 3,
   "id": "83f34bb3",
   "metadata": {
    "ExecuteTime": {
     "end_time": "2022-08-03T09:14:38.013590Z",
     "start_time": "2022-08-03T09:14:38.000071Z"
    }
   },
   "outputs": [],
   "source": [
    "y = '매출액증가율(YoY)(연도)'\n",
    "c1 = 'Accenture'\n",
    "c2 = 'Infosys'\n",
    "c3 = 'TCS'\n",
    "c4 = 'Cognizant'"
   ]
  },
  {
   "cell_type": "code",
   "execution_count": 4,
   "id": "e5667460",
   "metadata": {
    "ExecuteTime": {
     "end_time": "2022-08-03T09:14:39.356164Z",
     "start_time": "2022-08-03T09:14:39.352465Z"
    }
   },
   "outputs": [],
   "source": [
    "outperform = [c1, c2, c3]\n",
    "lowperform = [c4]"
   ]
  },
  {
   "cell_type": "code",
   "execution_count": 5,
   "id": "2ea9998e",
   "metadata": {
    "ExecuteTime": {
     "end_time": "2022-08-03T09:14:39.685987Z",
     "start_time": "2022-08-03T09:14:39.675408Z"
    }
   },
   "outputs": [],
   "source": [
    "target_out = [s+'_show' for s in outperform]\n",
    "target_low = [s+'_show' for s in lowperform]\n",
    "target_col = [s+'_show' for s in outperform+lowperform]"
   ]
  },
  {
   "cell_type": "code",
   "execution_count": 6,
   "id": "c0c3a134",
   "metadata": {
    "ExecuteTime": {
     "end_time": "2022-08-03T09:14:39.932320Z",
     "start_time": "2022-08-03T09:14:39.925083Z"
    }
   },
   "outputs": [],
   "source": [
    "dir_result_all = os.path.join(dir_result, 'All_ITS', y)"
   ]
  },
  {
   "cell_type": "code",
   "execution_count": 7,
   "id": "ef61a030",
   "metadata": {
    "ExecuteTime": {
     "end_time": "2022-08-03T09:14:43.103773Z",
     "start_time": "2022-08-03T09:14:40.198613Z"
    }
   },
   "outputs": [],
   "source": [
    "df = pd.read_excel(os.path.join(dir_result_all, 'corr_y_x_over7.xlsx'))"
   ]
  },
  {
   "cell_type": "code",
   "execution_count": 8,
   "id": "b748b726",
   "metadata": {
    "ExecuteTime": {
     "end_time": "2022-08-03T09:14:43.219166Z",
     "start_time": "2022-08-03T09:14:43.199487Z"
    }
   },
   "outputs": [
    {
     "data": {
      "text/plain": [
       "Index(['variable', 'group', 'importance', 'Infosys_filtered', 'TCS_filtered',\n",
       "       'Cognizant_filtered', 'Accenture', 'Infosys_show', 'TCS_show',\n",
       "       'Cognizant_show'],\n",
       "      dtype='object')"
      ]
     },
     "execution_count": 8,
     "metadata": {},
     "output_type": "execute_result"
    }
   ],
   "source": [
    "df.columns"
   ]
  },
  {
   "cell_type": "markdown",
   "id": "e1bed34e",
   "metadata": {},
   "source": [
    "# Make index"
   ]
  },
  {
   "cell_type": "code",
   "execution_count": 9,
   "id": "4a663fac",
   "metadata": {
    "ExecuteTime": {
     "end_time": "2022-08-03T09:14:44.026105Z",
     "start_time": "2022-08-03T09:14:44.007619Z"
    }
   },
   "outputs": [],
   "source": [
    "df['Outperform_avg'] = df[list(set(target_out)&set(df.columns))].mean(axis=1)\n",
    "df['Gap(Out~Low)'] = np.abs(df['Outperform_avg']-df[target_low[0]])\n",
    "df['Std(Out)'] = df[list(set(target_out)&set(df.columns))].std(axis=1)"
   ]
  },
  {
   "cell_type": "code",
   "execution_count": 10,
   "id": "5b49a521",
   "metadata": {
    "ExecuteTime": {
     "end_time": "2022-08-03T09:14:44.194354Z",
     "start_time": "2022-08-03T09:14:44.174394Z"
    }
   },
   "outputs": [],
   "source": [
    "scaler = MinMaxScaler()\n",
    "df['Gap normed+1'] = pd.DataFrame(scaler.fit_transform(df[['Gap(Out~Low)']])+1)[0]"
   ]
  },
  {
   "cell_type": "code",
   "execution_count": 11,
   "id": "b1ff81d6",
   "metadata": {
    "ExecuteTime": {
     "end_time": "2022-08-03T09:14:44.397251Z",
     "start_time": "2022-08-03T09:14:44.379144Z"
    }
   },
   "outputs": [],
   "source": [
    "scaler = MinMaxScaler()\n",
    "df['Std normed+1'] = pd.DataFrame(scaler.fit_transform(df[['Std(Out)']])+1)[0]"
   ]
  },
  {
   "cell_type": "code",
   "execution_count": 12,
   "id": "51b252d3",
   "metadata": {
    "ExecuteTime": {
     "end_time": "2022-08-03T09:14:44.621329Z",
     "start_time": "2022-08-03T09:14:44.613636Z"
    }
   },
   "outputs": [],
   "source": [
    "df['index 1'] = df['Gap normed+1']/df['Std normed+1']"
   ]
  },
  {
   "cell_type": "code",
   "execution_count": 13,
   "id": "891cbf96",
   "metadata": {
    "ExecuteTime": {
     "end_time": "2022-08-03T09:14:45.868539Z",
     "start_time": "2022-08-03T09:14:45.846165Z"
    }
   },
   "outputs": [],
   "source": [
    "scaler = MinMaxScaler()\n",
    "df['Std normed original'] = pd.DataFrame(scaler.fit_transform(df[['Std(Out)']]))[0]"
   ]
  },
  {
   "cell_type": "code",
   "execution_count": 14,
   "id": "06c7728f",
   "metadata": {
    "ExecuteTime": {
     "end_time": "2022-08-03T09:14:46.120403Z",
     "start_time": "2022-08-03T09:14:46.108898Z"
    }
   },
   "outputs": [],
   "source": [
    "df['Std normed 0.5'] = df['Std normed original']*0.5 + 0.5\n",
    "df['1/Std normed'] = 1/df['Std normed 0.5']"
   ]
  },
  {
   "cell_type": "code",
   "execution_count": 15,
   "id": "7d944319",
   "metadata": {
    "ExecuteTime": {
     "end_time": "2022-08-03T09:14:46.620236Z",
     "start_time": "2022-08-03T09:14:46.608505Z"
    }
   },
   "outputs": [],
   "source": [
    "df['Index 2'] = 0.6*df['Gap normed+1']+0.4*df['1/Std normed']"
   ]
  },
  {
   "cell_type": "code",
   "execution_count": 16,
   "id": "055974f7",
   "metadata": {
    "ExecuteTime": {
     "end_time": "2022-08-03T09:14:46.870818Z",
     "start_time": "2022-08-03T09:14:46.849354Z"
    }
   },
   "outputs": [],
   "source": [
    "df[[s+'_marked' for s in outperform+lowperform]+[s+'_plot' for s in outperform+lowperform]] = np.nan"
   ]
  },
  {
   "cell_type": "code",
   "execution_count": 18,
   "id": "3eecc42b",
   "metadata": {
    "ExecuteTime": {
     "end_time": "2022-08-03T09:14:54.672101Z",
     "start_time": "2022-08-03T09:14:54.263432Z"
    }
   },
   "outputs": [],
   "source": [
    "writer = pd.ExcelWriter(os.path.join(dir_result_all, 'correlation_index.xlsx'), engine='xlsxwriter')\n",
    "df.to_excel(writer, index=False)\n",
    "writer.save()"
   ]
  },
  {
   "cell_type": "code",
   "execution_count": 17,
   "id": "06d60ef7",
   "metadata": {
    "ExecuteTime": {
     "end_time": "2022-08-03T09:14:50.410362Z",
     "start_time": "2022-08-03T09:14:50.349990Z"
    }
   },
   "outputs": [
    {
     "data": {
      "text/html": [
       "<div>\n",
       "<style scoped>\n",
       "    .dataframe tbody tr th:only-of-type {\n",
       "        vertical-align: middle;\n",
       "    }\n",
       "\n",
       "    .dataframe tbody tr th {\n",
       "        vertical-align: top;\n",
       "    }\n",
       "\n",
       "    .dataframe thead th {\n",
       "        text-align: right;\n",
       "    }\n",
       "</style>\n",
       "<table border=\"1\" class=\"dataframe\">\n",
       "  <thead>\n",
       "    <tr style=\"text-align: right;\">\n",
       "      <th></th>\n",
       "      <th>variable</th>\n",
       "      <th>group</th>\n",
       "      <th>importance</th>\n",
       "      <th>Infosys_filtered</th>\n",
       "      <th>TCS_filtered</th>\n",
       "      <th>Cognizant_filtered</th>\n",
       "      <th>Accenture</th>\n",
       "      <th>Infosys_show</th>\n",
       "      <th>TCS_show</th>\n",
       "      <th>Cognizant_show</th>\n",
       "      <th>...</th>\n",
       "      <th>1/Std normed</th>\n",
       "      <th>Index 2</th>\n",
       "      <th>Accenture_marked</th>\n",
       "      <th>Infosys_marked</th>\n",
       "      <th>TCS_marked</th>\n",
       "      <th>Cognizant_marked</th>\n",
       "      <th>Accenture_plot</th>\n",
       "      <th>Infosys_plot</th>\n",
       "      <th>TCS_plot</th>\n",
       "      <th>Cognizant_plot</th>\n",
       "    </tr>\n",
       "  </thead>\n",
       "  <tbody>\n",
       "    <tr>\n",
       "      <th>0</th>\n",
       "      <td>영업이익증가율(YoY)(연도)</td>\n",
       "      <td>성장성</td>\n",
       "      <td>1</td>\n",
       "      <td>0.853</td>\n",
       "      <td>NaN</td>\n",
       "      <td>0.882</td>\n",
       "      <td>0.330</td>\n",
       "      <td>0.853</td>\n",
       "      <td>0.548</td>\n",
       "      <td>0.882</td>\n",
       "      <td>...</td>\n",
       "      <td>1.508885</td>\n",
       "      <td>1.245627</td>\n",
       "      <td>NaN</td>\n",
       "      <td>NaN</td>\n",
       "      <td>NaN</td>\n",
       "      <td>NaN</td>\n",
       "      <td>NaN</td>\n",
       "      <td>NaN</td>\n",
       "      <td>NaN</td>\n",
       "      <td>NaN</td>\n",
       "    </tr>\n",
       "    <tr>\n",
       "      <th>1</th>\n",
       "      <td>BPS(지배, Adj.)(원/주)</td>\n",
       "      <td>안정성</td>\n",
       "      <td>2</td>\n",
       "      <td>0.843</td>\n",
       "      <td>NaN</td>\n",
       "      <td>0.855</td>\n",
       "      <td>0.302</td>\n",
       "      <td>0.843</td>\n",
       "      <td>0.281</td>\n",
       "      <td>0.855</td>\n",
       "      <td>...</td>\n",
       "      <td>1.249498</td>\n",
       "      <td>1.200148</td>\n",
       "      <td>NaN</td>\n",
       "      <td>NaN</td>\n",
       "      <td>NaN</td>\n",
       "      <td>NaN</td>\n",
       "      <td>NaN</td>\n",
       "      <td>NaN</td>\n",
       "      <td>NaN</td>\n",
       "      <td>NaN</td>\n",
       "    </tr>\n",
       "    <tr>\n",
       "      <th>2</th>\n",
       "      <td>순이익증가율(YoY)(비율)</td>\n",
       "      <td>성장성</td>\n",
       "      <td>1</td>\n",
       "      <td>0.827</td>\n",
       "      <td>NaN</td>\n",
       "      <td>NaN</td>\n",
       "      <td>0.259</td>\n",
       "      <td>0.827</td>\n",
       "      <td>0.615</td>\n",
       "      <td>0.163</td>\n",
       "      <td>...</td>\n",
       "      <td>1.631441</td>\n",
       "      <td>1.491427</td>\n",
       "      <td>NaN</td>\n",
       "      <td>NaN</td>\n",
       "      <td>NaN</td>\n",
       "      <td>NaN</td>\n",
       "      <td>NaN</td>\n",
       "      <td>NaN</td>\n",
       "      <td>NaN</td>\n",
       "      <td>NaN</td>\n",
       "    </tr>\n",
       "    <tr>\n",
       "      <th>3</th>\n",
       "      <td>ROE(지배)(비율)</td>\n",
       "      <td>수익성</td>\n",
       "      <td>1</td>\n",
       "      <td>0.785</td>\n",
       "      <td>NaN</td>\n",
       "      <td>0.863</td>\n",
       "      <td>-0.064</td>\n",
       "      <td>0.785</td>\n",
       "      <td>0.689</td>\n",
       "      <td>0.863</td>\n",
       "      <td>...</td>\n",
       "      <td>1.815355</td>\n",
       "      <td>1.339208</td>\n",
       "      <td>NaN</td>\n",
       "      <td>NaN</td>\n",
       "      <td>NaN</td>\n",
       "      <td>NaN</td>\n",
       "      <td>NaN</td>\n",
       "      <td>NaN</td>\n",
       "      <td>NaN</td>\n",
       "      <td>NaN</td>\n",
       "    </tr>\n",
       "    <tr>\n",
       "      <th>4</th>\n",
       "      <td>FS_ROE</td>\n",
       "      <td>FS</td>\n",
       "      <td>5</td>\n",
       "      <td>0.785</td>\n",
       "      <td>NaN</td>\n",
       "      <td>0.863</td>\n",
       "      <td>-0.064</td>\n",
       "      <td>0.785</td>\n",
       "      <td>0.689</td>\n",
       "      <td>0.863</td>\n",
       "      <td>...</td>\n",
       "      <td>1.815355</td>\n",
       "      <td>1.339208</td>\n",
       "      <td>NaN</td>\n",
       "      <td>NaN</td>\n",
       "      <td>NaN</td>\n",
       "      <td>NaN</td>\n",
       "      <td>NaN</td>\n",
       "      <td>NaN</td>\n",
       "      <td>NaN</td>\n",
       "      <td>NaN</td>\n",
       "    </tr>\n",
       "    <tr>\n",
       "      <th>...</th>\n",
       "      <td>...</td>\n",
       "      <td>...</td>\n",
       "      <td>...</td>\n",
       "      <td>...</td>\n",
       "      <td>...</td>\n",
       "      <td>...</td>\n",
       "      <td>...</td>\n",
       "      <td>...</td>\n",
       "      <td>...</td>\n",
       "      <td>...</td>\n",
       "      <td>...</td>\n",
       "      <td>...</td>\n",
       "      <td>...</td>\n",
       "      <td>...</td>\n",
       "      <td>...</td>\n",
       "      <td>...</td>\n",
       "      <td>...</td>\n",
       "      <td>...</td>\n",
       "      <td>...</td>\n",
       "      <td>...</td>\n",
       "      <td>...</td>\n",
       "    </tr>\n",
       "    <tr>\n",
       "      <th>125</th>\n",
       "      <td>FS_Gross Profit - Industrials/Property - Total</td>\n",
       "      <td>FS</td>\n",
       "      <td>5</td>\n",
       "      <td>NaN</td>\n",
       "      <td>NaN</td>\n",
       "      <td>-0.877</td>\n",
       "      <td>0.161</td>\n",
       "      <td>-0.626</td>\n",
       "      <td>-0.465</td>\n",
       "      <td>-0.877</td>\n",
       "      <td>...</td>\n",
       "      <td>1.707495</td>\n",
       "      <td>1.403469</td>\n",
       "      <td>NaN</td>\n",
       "      <td>NaN</td>\n",
       "      <td>NaN</td>\n",
       "      <td>NaN</td>\n",
       "      <td>NaN</td>\n",
       "      <td>NaN</td>\n",
       "      <td>NaN</td>\n",
       "      <td>NaN</td>\n",
       "    </tr>\n",
       "    <tr>\n",
       "      <th>126</th>\n",
       "      <td>IS_Gross Profit</td>\n",
       "      <td>IS</td>\n",
       "      <td>5</td>\n",
       "      <td>NaN</td>\n",
       "      <td>NaN</td>\n",
       "      <td>-0.877</td>\n",
       "      <td>0.161</td>\n",
       "      <td>-0.675</td>\n",
       "      <td>-0.467</td>\n",
       "      <td>-0.877</td>\n",
       "      <td>...</td>\n",
       "      <td>1.637160</td>\n",
       "      <td>1.362007</td>\n",
       "      <td>NaN</td>\n",
       "      <td>NaN</td>\n",
       "      <td>NaN</td>\n",
       "      <td>NaN</td>\n",
       "      <td>NaN</td>\n",
       "      <td>NaN</td>\n",
       "      <td>NaN</td>\n",
       "      <td>NaN</td>\n",
       "    </tr>\n",
       "    <tr>\n",
       "      <th>127</th>\n",
       "      <td>인당매출s</td>\n",
       "      <td>성장성</td>\n",
       "      <td>0</td>\n",
       "      <td>NaN</td>\n",
       "      <td>NaN</td>\n",
       "      <td>-0.885</td>\n",
       "      <td>0.008</td>\n",
       "      <td>0.440</td>\n",
       "      <td>0.288</td>\n",
       "      <td>-0.885</td>\n",
       "      <td>...</td>\n",
       "      <td>1.721659</td>\n",
       "      <td>1.888664</td>\n",
       "      <td>NaN</td>\n",
       "      <td>NaN</td>\n",
       "      <td>NaN</td>\n",
       "      <td>NaN</td>\n",
       "      <td>NaN</td>\n",
       "      <td>NaN</td>\n",
       "      <td>NaN</td>\n",
       "      <td>NaN</td>\n",
       "    </tr>\n",
       "    <tr>\n",
       "      <th>128</th>\n",
       "      <td>BS_Property/Plant/Equipment, Total - Gross</td>\n",
       "      <td>BS</td>\n",
       "      <td>5</td>\n",
       "      <td>NaN</td>\n",
       "      <td>NaN</td>\n",
       "      <td>-0.902</td>\n",
       "      <td>0.182</td>\n",
       "      <td>-0.608</td>\n",
       "      <td>-0.448</td>\n",
       "      <td>-0.902</td>\n",
       "      <td>...</td>\n",
       "      <td>1.709058</td>\n",
       "      <td>1.426306</td>\n",
       "      <td>NaN</td>\n",
       "      <td>NaN</td>\n",
       "      <td>NaN</td>\n",
       "      <td>NaN</td>\n",
       "      <td>NaN</td>\n",
       "      <td>NaN</td>\n",
       "      <td>NaN</td>\n",
       "      <td>NaN</td>\n",
       "    </tr>\n",
       "    <tr>\n",
       "      <th>129</th>\n",
       "      <td>FS_Free Cash Flow Yield - %, TTM</td>\n",
       "      <td>FS</td>\n",
       "      <td>5</td>\n",
       "      <td>NaN</td>\n",
       "      <td>NaN</td>\n",
       "      <td>-0.910</td>\n",
       "      <td>-0.406</td>\n",
       "      <td>0.354</td>\n",
       "      <td>-0.581</td>\n",
       "      <td>-0.910</td>\n",
       "      <td>...</td>\n",
       "      <td>1.000000</td>\n",
       "      <td>1.363502</td>\n",
       "      <td>NaN</td>\n",
       "      <td>NaN</td>\n",
       "      <td>NaN</td>\n",
       "      <td>NaN</td>\n",
       "      <td>NaN</td>\n",
       "      <td>NaN</td>\n",
       "      <td>NaN</td>\n",
       "      <td>NaN</td>\n",
       "    </tr>\n",
       "  </tbody>\n",
       "</table>\n",
       "<p>130 rows × 28 columns</p>\n",
       "</div>"
      ],
      "text/plain": [
       "                                           variable group  importance  \\\n",
       "0                                  영업이익증가율(YoY)(연도)   성장성           1   \n",
       "1                                BPS(지배, Adj.)(원/주)   안정성           2   \n",
       "2                                   순이익증가율(YoY)(비율)   성장성           1   \n",
       "3                                       ROE(지배)(비율)   수익성           1   \n",
       "4                                            FS_ROE    FS           5   \n",
       "..                                              ...   ...         ...   \n",
       "125  FS_Gross Profit - Industrials/Property - Total    FS           5   \n",
       "126                                 IS_Gross Profit    IS           5   \n",
       "127                                           인당매출s   성장성           0   \n",
       "128      BS_Property/Plant/Equipment, Total - Gross    BS           5   \n",
       "129                FS_Free Cash Flow Yield - %, TTM    FS           5   \n",
       "\n",
       "     Infosys_filtered  TCS_filtered  Cognizant_filtered  Accenture  \\\n",
       "0               0.853           NaN               0.882      0.330   \n",
       "1               0.843           NaN               0.855      0.302   \n",
       "2               0.827           NaN                 NaN      0.259   \n",
       "3               0.785           NaN               0.863     -0.064   \n",
       "4               0.785           NaN               0.863     -0.064   \n",
       "..                ...           ...                 ...        ...   \n",
       "125               NaN           NaN              -0.877      0.161   \n",
       "126               NaN           NaN              -0.877      0.161   \n",
       "127               NaN           NaN              -0.885      0.008   \n",
       "128               NaN           NaN              -0.902      0.182   \n",
       "129               NaN           NaN              -0.910     -0.406   \n",
       "\n",
       "     Infosys_show  TCS_show  Cognizant_show  ...  1/Std normed   Index 2  \\\n",
       "0           0.853     0.548           0.882  ...      1.508885  1.245627   \n",
       "1           0.843     0.281           0.855  ...      1.249498  1.200148   \n",
       "2           0.827     0.615           0.163  ...      1.631441  1.491427   \n",
       "3           0.785     0.689           0.863  ...      1.815355  1.339208   \n",
       "4           0.785     0.689           0.863  ...      1.815355  1.339208   \n",
       "..            ...       ...             ...  ...           ...       ...   \n",
       "125        -0.626    -0.465          -0.877  ...      1.707495  1.403469   \n",
       "126        -0.675    -0.467          -0.877  ...      1.637160  1.362007   \n",
       "127         0.440     0.288          -0.885  ...      1.721659  1.888664   \n",
       "128        -0.608    -0.448          -0.902  ...      1.709058  1.426306   \n",
       "129         0.354    -0.581          -0.910  ...      1.000000  1.363502   \n",
       "\n",
       "     Accenture_marked  Infosys_marked  TCS_marked  Cognizant_marked  \\\n",
       "0                 NaN             NaN         NaN               NaN   \n",
       "1                 NaN             NaN         NaN               NaN   \n",
       "2                 NaN             NaN         NaN               NaN   \n",
       "3                 NaN             NaN         NaN               NaN   \n",
       "4                 NaN             NaN         NaN               NaN   \n",
       "..                ...             ...         ...               ...   \n",
       "125               NaN             NaN         NaN               NaN   \n",
       "126               NaN             NaN         NaN               NaN   \n",
       "127               NaN             NaN         NaN               NaN   \n",
       "128               NaN             NaN         NaN               NaN   \n",
       "129               NaN             NaN         NaN               NaN   \n",
       "\n",
       "     Accenture_plot  Infosys_plot  TCS_plot  Cognizant_plot  \n",
       "0               NaN           NaN       NaN             NaN  \n",
       "1               NaN           NaN       NaN             NaN  \n",
       "2               NaN           NaN       NaN             NaN  \n",
       "3               NaN           NaN       NaN             NaN  \n",
       "4               NaN           NaN       NaN             NaN  \n",
       "..              ...           ...       ...             ...  \n",
       "125             NaN           NaN       NaN             NaN  \n",
       "126             NaN           NaN       NaN             NaN  \n",
       "127             NaN           NaN       NaN             NaN  \n",
       "128             NaN           NaN       NaN             NaN  \n",
       "129             NaN           NaN       NaN             NaN  \n",
       "\n",
       "[130 rows x 28 columns]"
      ]
     },
     "execution_count": 17,
     "metadata": {},
     "output_type": "execute_result"
    }
   ],
   "source": [
    "df"
   ]
  },
  {
   "cell_type": "code",
   "execution_count": null,
   "id": "8ae177e3",
   "metadata": {},
   "outputs": [],
   "source": []
  }
 ],
 "metadata": {
  "hide_input": false,
  "kernelspec": {
   "display_name": "Python 3 (ipykernel)",
   "language": "python",
   "name": "python3"
  },
  "language_info": {
   "codemirror_mode": {
    "name": "ipython",
    "version": 3
   },
   "file_extension": ".py",
   "mimetype": "text/x-python",
   "name": "python",
   "nbconvert_exporter": "python",
   "pygments_lexer": "ipython3",
   "version": "3.9.7"
  },
  "toc": {
   "base_numbering": 1,
   "nav_menu": {},
   "number_sections": true,
   "sideBar": true,
   "skip_h1_title": false,
   "title_cell": "Table of Contents",
   "title_sidebar": "Contents",
   "toc_cell": false,
   "toc_position": {
    "height": "calc(100% - 180px)",
    "left": "10px",
    "top": "150px",
    "width": "225px"
   },
   "toc_section_display": true,
   "toc_window_display": true
  },
  "varInspector": {
   "cols": {
    "lenName": 16,
    "lenType": 16,
    "lenVar": 40
   },
   "kernels_config": {
    "python": {
     "delete_cmd_postfix": "",
     "delete_cmd_prefix": "del ",
     "library": "var_list.py",
     "varRefreshCmd": "print(var_dic_list())"
    },
    "r": {
     "delete_cmd_postfix": ") ",
     "delete_cmd_prefix": "rm(",
     "library": "var_list.r",
     "varRefreshCmd": "cat(var_dic_list()) "
    }
   },
   "types_to_exclude": [
    "module",
    "function",
    "builtin_function_or_method",
    "instance",
    "_Feature"
   ],
   "window_display": false
  }
 },
 "nbformat": 4,
 "nbformat_minor": 5
}
