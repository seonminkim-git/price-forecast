{
 "cells": [
  {
   "cell_type": "code",
   "execution_count": 1,
   "id": "29e66115",
   "metadata": {
    "ExecuteTime": {
     "end_time": "2022-08-03T07:57:27.366920Z",
     "start_time": "2022-08-03T07:57:24.525502Z"
    }
   },
   "outputs": [],
   "source": [
    "import pandas as pd\n",
    "import numpy as np\n",
    "import os\n",
    "from scipy.cluster import hierarchy as hc\n",
    "import matplotlib\n",
    "import matplotlib.pyplot as plt\n",
    "import warnings\n",
    "import seaborn as sns\n",
    "from scipy import stats\n",
    "import math\n",
    "\n",
    "%matplotlib inline\n",
    "warnings.filterwarnings(action='ignore')\n",
    "\n",
    "matplotlib.rcParams['font.family'] ='Malgun Gothic'\n",
    "matplotlib.rcParams['axes.unicode_minus'] =False"
   ]
  },
  {
   "cell_type": "markdown",
   "id": "3eab435b",
   "metadata": {},
   "source": [
    "# Accenture"
   ]
  },
  {
   "cell_type": "markdown",
   "id": "e5fb7b91",
   "metadata": {},
   "source": [
    "## Load data"
   ]
  },
  {
   "cell_type": "code",
   "execution_count": 2,
   "id": "a4ba4241",
   "metadata": {
    "ExecuteTime": {
     "end_time": "2022-08-03T07:57:27.398396Z",
     "start_time": "2022-08-03T07:57:27.393409Z"
    }
   },
   "outputs": [],
   "source": [
    "# dir_root = 'C:/Users/kkt71/OneDrive/바탕 화면/기업가치분석'\n",
    "dir_root = 'C:/Users/10188/Desktop/기업가치/상관분석/기업가치분석_data_result'\n",
    "dir_master = os.path.join(dir_root, '01. data', 'master')\n",
    "dir_processed = os.path.join(dir_root, '01. data', 'processed')\n",
    "dir_result = os.path.join(dir_root, '03. result')"
   ]
  },
  {
   "cell_type": "code",
   "execution_count": 3,
   "id": "c1d4fcac",
   "metadata": {
    "ExecuteTime": {
     "end_time": "2022-08-03T07:57:27.423839Z",
     "start_time": "2022-08-03T07:57:27.418853Z"
    }
   },
   "outputs": [],
   "source": [
    "company = 'Accenture'\n",
    "y = '매출액증가율(YoY)(연도)'"
   ]
  },
  {
   "cell_type": "code",
   "execution_count": 4,
   "id": "a3d6495a",
   "metadata": {
    "ExecuteTime": {
     "end_time": "2022-08-03T07:57:27.449770Z",
     "start_time": "2022-08-03T07:57:27.445780Z"
    }
   },
   "outputs": [],
   "source": [
    "dir_company = os.path.join(dir_result, company)\n",
    "dir_company_y = os.path.join(dir_company, y)"
   ]
  },
  {
   "cell_type": "code",
   "execution_count": 5,
   "id": "b5cdc209",
   "metadata": {
    "ExecuteTime": {
     "end_time": "2022-08-03T07:57:27.487671Z",
     "start_time": "2022-08-03T07:57:27.468722Z"
    }
   },
   "outputs": [],
   "source": [
    "result = pd.read_csv(os.path.join(dir_company_y, 'result.csv'))\n",
    "result_sub = pd.read_csv(os.path.join(dir_company_y, 'result_sub.csv'))"
   ]
  },
  {
   "cell_type": "markdown",
   "id": "d2c97fa4",
   "metadata": {},
   "source": [
    "## Compare : total ~ sub"
   ]
  },
  {
   "cell_type": "markdown",
   "id": "e7671c11",
   "metadata": {},
   "source": [
    "### over 0.7"
   ]
  },
  {
   "cell_type": "code",
   "execution_count": 6,
   "id": "159f8ff1",
   "metadata": {
    "ExecuteTime": {
     "end_time": "2022-08-03T07:57:28.971479Z",
     "start_time": "2022-08-03T07:57:28.955522Z"
    },
    "scrolled": false
   },
   "outputs": [],
   "source": [
    "result_total_7 = pd.merge(result[np.abs(result['corr'])>0.7], result_sub[np.abs(result_sub['corr'])>0.7], \n",
    "                          on=['company', 'variable', 'group', 'importance'], how='outer',\n",
    "                         suffixes = (\"_total\", \"_sub\"))\n",
    "result_total_7 = result_total_7.sort_values(['corr_total'], ascending=False)"
   ]
  },
  {
   "cell_type": "code",
   "execution_count": 7,
   "id": "c2a161f3",
   "metadata": {
    "ExecuteTime": {
     "end_time": "2022-08-03T07:57:29.219815Z",
     "start_time": "2022-08-03T07:57:29.213830Z"
    }
   },
   "outputs": [],
   "source": [
    "result_total_7 = result_total_7[['company', 'variable', 'group', 'importance', 'corr_total', 'corr_sub']]"
   ]
  },
  {
   "cell_type": "code",
   "execution_count": 8,
   "id": "595a413f",
   "metadata": {
    "ExecuteTime": {
     "end_time": "2022-08-03T07:57:29.500509Z",
     "start_time": "2022-08-03T07:57:29.477060Z"
    }
   },
   "outputs": [],
   "source": [
    "result_total_7.to_csv(os.path.join(dir_company_y, 'compare_period_corr_07.csv'), index=False, encoding='utf-8-sig')"
   ]
  },
  {
   "cell_type": "markdown",
   "id": "7c9ee1a4",
   "metadata": {},
   "source": [
    "### over 0.5"
   ]
  },
  {
   "cell_type": "code",
   "execution_count": 9,
   "id": "a202be8d",
   "metadata": {
    "ExecuteTime": {
     "end_time": "2022-08-03T07:57:30.543856Z",
     "start_time": "2022-08-03T07:57:30.531135Z"
    }
   },
   "outputs": [],
   "source": [
    "result_total_5 = pd.merge(result[np.abs(result['corr'])>0.5], result_sub[np.abs(result_sub['corr'])>0.5], \n",
    "                          on=['company', 'variable', 'group', 'importance'], how='outer',\n",
    "                         suffixes = (\"_total\", \"_sub\"))\n",
    "\n",
    "result_total_5 = result_total_5.sort_values(['corr_total'], ascending=False)"
   ]
  },
  {
   "cell_type": "code",
   "execution_count": 10,
   "id": "77cd95fe",
   "metadata": {
    "ExecuteTime": {
     "end_time": "2022-08-03T07:57:30.763543Z",
     "start_time": "2022-08-03T07:57:30.755563Z"
    }
   },
   "outputs": [],
   "source": [
    "result_total_5 = result_total_5[['company', 'variable', 'group', 'importance', 'corr_total', 'corr_sub']]"
   ]
  },
  {
   "cell_type": "code",
   "execution_count": 11,
   "id": "c40b4ee8",
   "metadata": {
    "ExecuteTime": {
     "end_time": "2022-08-03T07:57:31.026381Z",
     "start_time": "2022-08-03T07:57:31.016410Z"
    }
   },
   "outputs": [],
   "source": [
    "result_total_5.to_csv(os.path.join(dir_company_y, 'compare_period_corr_05.csv'), index=False, encoding='utf-8-sig')"
   ]
  },
  {
   "cell_type": "markdown",
   "id": "0d55692c",
   "metadata": {},
   "source": [
    "### Save"
   ]
  },
  {
   "cell_type": "code",
   "execution_count": 12,
   "id": "1349241b",
   "metadata": {
    "ExecuteTime": {
     "end_time": "2022-08-03T07:57:31.879696Z",
     "start_time": "2022-08-03T07:57:31.544388Z"
    }
   },
   "outputs": [],
   "source": [
    "writer = pd.ExcelWriter(os.path.join(dir_company_y, y+'.xlsx'), engine='xlsxwriter')\n",
    "pd.concat([result, result_sub], axis=1).to_excel(writer, sheet_name='Correlation', index=False)\n",
    "result_total_7.to_excel(writer, sheet_name='Correlation > 0.7', index=False)\n",
    "result_total_5.to_excel(writer, sheet_name='Correlation > 0.5', index=False)\n",
    "writer.save()"
   ]
  },
  {
   "cell_type": "code",
   "execution_count": null,
   "id": "287b7253",
   "metadata": {},
   "outputs": [],
   "source": []
  },
  {
   "cell_type": "markdown",
   "id": "0740d136",
   "metadata": {},
   "source": [
    "# Infosys"
   ]
  },
  {
   "cell_type": "markdown",
   "id": "79572d0b",
   "metadata": {},
   "source": [
    "## Load data"
   ]
  },
  {
   "cell_type": "code",
   "execution_count": 13,
   "id": "9cc55e61",
   "metadata": {
    "ExecuteTime": {
     "end_time": "2022-08-03T07:57:33.279159Z",
     "start_time": "2022-08-03T07:57:33.273175Z"
    }
   },
   "outputs": [],
   "source": [
    "# dir_root = 'C:/Users/kkt71/OneDrive/바탕 화면/기업가치분석'\n",
    "dir_root = 'C:/Users/10188/Desktop/기업가치/상관분석/기업가치분석_data_result'\n",
    "dir_master = os.path.join(dir_root, '01. data', 'master')\n",
    "dir_processed = os.path.join(dir_root, '01. data', 'processed')\n",
    "dir_result = os.path.join(dir_root, '03. result')"
   ]
  },
  {
   "cell_type": "code",
   "execution_count": 14,
   "id": "fcf85bda",
   "metadata": {
    "ExecuteTime": {
     "end_time": "2022-08-03T07:57:33.548465Z",
     "start_time": "2022-08-03T07:57:33.543479Z"
    }
   },
   "outputs": [],
   "source": [
    "company = 'Infosys'\n",
    "y = '매출액증가율(YoY)(연도)'"
   ]
  },
  {
   "cell_type": "code",
   "execution_count": 15,
   "id": "fdee7bfe",
   "metadata": {
    "ExecuteTime": {
     "end_time": "2022-08-03T07:57:33.895547Z",
     "start_time": "2022-08-03T07:57:33.889564Z"
    }
   },
   "outputs": [],
   "source": [
    "dir_company = os.path.join(dir_result, company)\n",
    "dir_company_y = os.path.join(dir_company, y)"
   ]
  },
  {
   "cell_type": "code",
   "execution_count": 16,
   "id": "ac8c6901",
   "metadata": {
    "ExecuteTime": {
     "end_time": "2022-08-03T07:57:34.725197Z",
     "start_time": "2022-08-03T07:57:34.706224Z"
    }
   },
   "outputs": [],
   "source": [
    "result = pd.read_csv(os.path.join(dir_company_y, 'result.csv'))\n",
    "result_sub = pd.read_csv(os.path.join(dir_company_y, 'result_sub.csv'))"
   ]
  },
  {
   "cell_type": "markdown",
   "id": "1232eaef",
   "metadata": {},
   "source": [
    "## Compare : total ~ sub"
   ]
  },
  {
   "cell_type": "markdown",
   "id": "73925faf",
   "metadata": {},
   "source": [
    "### over 0.7"
   ]
  },
  {
   "cell_type": "code",
   "execution_count": 17,
   "id": "3d35c02c",
   "metadata": {
    "ExecuteTime": {
     "end_time": "2022-08-03T07:57:35.405206Z",
     "start_time": "2022-08-03T07:57:35.385259Z"
    }
   },
   "outputs": [],
   "source": [
    "result_total_7 = pd.merge(result[np.abs(result['corr'])>0.7], result_sub[np.abs(result_sub['corr'])>0.7], \n",
    "                          on=['company', 'variable', 'group', 'importance'], how='outer',\n",
    "                         suffixes = (\"_total\", \"_sub\"))\n",
    "result_total_7 = result_total_7.sort_values(['corr_total'], ascending=False)"
   ]
  },
  {
   "cell_type": "code",
   "execution_count": 18,
   "id": "c6988b0d",
   "metadata": {
    "ExecuteTime": {
     "end_time": "2022-08-03T07:57:35.645937Z",
     "start_time": "2022-08-03T07:57:35.638956Z"
    }
   },
   "outputs": [],
   "source": [
    "result_total_7 = result_total_7[['company', 'variable', 'group', 'importance', 'corr_total', 'corr_sub']]"
   ]
  },
  {
   "cell_type": "code",
   "execution_count": 19,
   "id": "111f2a66",
   "metadata": {
    "ExecuteTime": {
     "end_time": "2022-08-03T07:57:36.468032Z",
     "start_time": "2022-08-03T07:57:36.456550Z"
    }
   },
   "outputs": [],
   "source": [
    "result_total_7.to_csv(os.path.join(dir_company_y, 'compare_period_corr_07.csv'), index=False, encoding='utf-8-sig')"
   ]
  },
  {
   "cell_type": "markdown",
   "id": "5095161d",
   "metadata": {},
   "source": [
    "### over 0.5"
   ]
  },
  {
   "cell_type": "code",
   "execution_count": 20,
   "id": "132a31bb",
   "metadata": {
    "ExecuteTime": {
     "end_time": "2022-08-03T07:57:36.995407Z",
     "start_time": "2022-08-03T07:57:36.974463Z"
    }
   },
   "outputs": [],
   "source": [
    "result_total_5 = pd.merge(result[np.abs(result['corr'])>0.5], result_sub[np.abs(result_sub['corr'])>0.5], \n",
    "                          on=['company', 'variable', 'group', 'importance'], how='outer',\n",
    "                         suffixes = (\"_total\", \"_sub\"))\n",
    "\n",
    "result_total_5 = result_total_5.sort_values(['corr_total'], ascending=False)"
   ]
  },
  {
   "cell_type": "code",
   "execution_count": 21,
   "id": "1bbd8dd2",
   "metadata": {
    "ExecuteTime": {
     "end_time": "2022-08-03T07:57:37.207880Z",
     "start_time": "2022-08-03T07:57:37.200857Z"
    }
   },
   "outputs": [],
   "source": [
    "result_total_5 = result_total_5[['company', 'variable', 'group', 'importance', 'corr_total', 'corr_sub']]"
   ]
  },
  {
   "cell_type": "code",
   "execution_count": 22,
   "id": "d2b03354",
   "metadata": {
    "ExecuteTime": {
     "end_time": "2022-08-03T07:57:37.909436Z",
     "start_time": "2022-08-03T07:57:37.899954Z"
    }
   },
   "outputs": [],
   "source": [
    "result_total_5.to_csv(os.path.join(dir_company_y, 'compare_period_corr_05.csv'), index=False, encoding='utf-8-sig')"
   ]
  },
  {
   "cell_type": "markdown",
   "id": "fb38e998",
   "metadata": {},
   "source": [
    "### Save"
   ]
  },
  {
   "cell_type": "code",
   "execution_count": 23,
   "id": "33eedc72",
   "metadata": {
    "ExecuteTime": {
     "end_time": "2022-08-03T07:57:38.603487Z",
     "start_time": "2022-08-03T07:57:38.349802Z"
    }
   },
   "outputs": [],
   "source": [
    "writer = pd.ExcelWriter(os.path.join(dir_company_y, y+'.xlsx'), engine='xlsxwriter')\n",
    "pd.concat([result, result_sub], axis=1).to_excel(writer, sheet_name='Correlation', index=False)\n",
    "result_total_7.to_excel(writer, sheet_name='Correlation > 0.7', index=False)\n",
    "result_total_5.to_excel(writer, sheet_name='Correlation > 0.5', index=False)\n",
    "writer.save()"
   ]
  },
  {
   "cell_type": "code",
   "execution_count": null,
   "id": "480687d1",
   "metadata": {},
   "outputs": [],
   "source": []
  },
  {
   "cell_type": "markdown",
   "id": "3b8239a1",
   "metadata": {},
   "source": [
    "# TCS"
   ]
  },
  {
   "cell_type": "markdown",
   "id": "5b23b13d",
   "metadata": {},
   "source": [
    "## Load data"
   ]
  },
  {
   "cell_type": "code",
   "execution_count": 24,
   "id": "ffb8df6b",
   "metadata": {
    "ExecuteTime": {
     "end_time": "2022-08-03T07:57:40.037456Z",
     "start_time": "2022-08-03T07:57:40.030474Z"
    }
   },
   "outputs": [],
   "source": [
    "# dir_root = 'C:/Users/kkt71/OneDrive/바탕 화면/기업가치분석'\n",
    "dir_root = 'C:/Users/10188/Desktop/기업가치/상관분석/기업가치분석_data_result'\n",
    "dir_master = os.path.join(dir_root, '01. data', 'master')\n",
    "dir_processed = os.path.join(dir_root, '01. data', 'processed')\n",
    "dir_result = os.path.join(dir_root, '03. result')"
   ]
  },
  {
   "cell_type": "code",
   "execution_count": 25,
   "id": "c8b70ec3",
   "metadata": {
    "ExecuteTime": {
     "end_time": "2022-08-03T07:57:40.277325Z",
     "start_time": "2022-08-03T07:57:40.273335Z"
    }
   },
   "outputs": [],
   "source": [
    "company = 'TCS'\n",
    "y = '매출액증가율(YoY)(연도)'"
   ]
  },
  {
   "cell_type": "code",
   "execution_count": 26,
   "id": "b98b2c55",
   "metadata": {
    "ExecuteTime": {
     "end_time": "2022-08-03T07:57:40.495742Z",
     "start_time": "2022-08-03T07:57:40.490754Z"
    }
   },
   "outputs": [],
   "source": [
    "dir_company = os.path.join(dir_result, company)\n",
    "dir_company_y = os.path.join(dir_company, y)"
   ]
  },
  {
   "cell_type": "code",
   "execution_count": 27,
   "id": "a04d2428",
   "metadata": {
    "ExecuteTime": {
     "end_time": "2022-08-03T07:57:41.314223Z",
     "start_time": "2022-08-03T07:57:41.296373Z"
    }
   },
   "outputs": [],
   "source": [
    "result = pd.read_csv(os.path.join(dir_company_y, 'result.csv'))\n",
    "result_sub = pd.read_csv(os.path.join(dir_company_y, 'result_sub.csv'))"
   ]
  },
  {
   "cell_type": "markdown",
   "id": "a03ed54b",
   "metadata": {},
   "source": [
    "## Compare : total ~ sub"
   ]
  },
  {
   "cell_type": "markdown",
   "id": "7c80f43c",
   "metadata": {},
   "source": [
    "### over 0.7"
   ]
  },
  {
   "cell_type": "code",
   "execution_count": 28,
   "id": "bd80c9a8",
   "metadata": {
    "ExecuteTime": {
     "end_time": "2022-08-03T07:57:41.947739Z",
     "start_time": "2022-08-03T07:57:41.936768Z"
    },
    "scrolled": false
   },
   "outputs": [],
   "source": [
    "result_total_7 = pd.merge(result[np.abs(result['corr'])>0.7], result_sub[np.abs(result_sub['corr'])>0.7], \n",
    "                          on=['company', 'variable', 'group', 'importance'], how='outer',\n",
    "                         suffixes = (\"_total\", \"_sub\"))\n",
    "result_total_7 = result_total_7.sort_values(['corr_total'], ascending=False)"
   ]
  },
  {
   "cell_type": "code",
   "execution_count": 29,
   "id": "ade66cd0",
   "metadata": {
    "ExecuteTime": {
     "end_time": "2022-08-03T07:57:42.188863Z",
     "start_time": "2022-08-03T07:57:42.182368Z"
    }
   },
   "outputs": [],
   "source": [
    "result_total_7 = result_total_7[['company', 'variable', 'group', 'importance', 'corr_total', 'corr_sub']]"
   ]
  },
  {
   "cell_type": "code",
   "execution_count": 30,
   "id": "edddbbc5",
   "metadata": {
    "ExecuteTime": {
     "end_time": "2022-08-03T07:57:42.940734Z",
     "start_time": "2022-08-03T07:57:42.929252Z"
    }
   },
   "outputs": [],
   "source": [
    "result_total_7.to_csv(os.path.join(dir_company_y, 'compare_period_corr_07.csv'), index=False, encoding='utf-8-sig')"
   ]
  },
  {
   "cell_type": "markdown",
   "id": "458c9011",
   "metadata": {},
   "source": [
    "### over 0.5"
   ]
  },
  {
   "cell_type": "code",
   "execution_count": 31,
   "id": "c9eea7fc",
   "metadata": {
    "ExecuteTime": {
     "end_time": "2022-08-03T07:57:43.364836Z",
     "start_time": "2022-08-03T07:57:43.345337Z"
    }
   },
   "outputs": [],
   "source": [
    "result_total_5 = pd.merge(result[np.abs(result['corr'])>0.5], result_sub[np.abs(result_sub['corr'])>0.5], \n",
    "                          on=['company', 'variable', 'group', 'importance'], how='outer',\n",
    "                         suffixes = (\"_total\", \"_sub\"))\n",
    "\n",
    "result_total_5 = result_total_5.sort_values(['corr_total'], ascending=False)"
   ]
  },
  {
   "cell_type": "code",
   "execution_count": 32,
   "id": "3ee0923e",
   "metadata": {
    "ExecuteTime": {
     "end_time": "2022-08-03T07:57:43.797395Z",
     "start_time": "2022-08-03T07:57:43.790688Z"
    }
   },
   "outputs": [],
   "source": [
    "result_total_5 = result_total_5[['company', 'variable', 'group', 'importance', 'corr_total', 'corr_sub']]"
   ]
  },
  {
   "cell_type": "code",
   "execution_count": 33,
   "id": "30e4be11",
   "metadata": {
    "ExecuteTime": {
     "end_time": "2022-08-03T07:57:44.096138Z",
     "start_time": "2022-08-03T07:57:44.088158Z"
    }
   },
   "outputs": [],
   "source": [
    "result_total_5.to_csv(os.path.join(dir_company_y, 'compare_period_corr_05.csv'), index=False, encoding='utf-8-sig')"
   ]
  },
  {
   "cell_type": "markdown",
   "id": "f7f933f3",
   "metadata": {},
   "source": [
    "### Save"
   ]
  },
  {
   "cell_type": "code",
   "execution_count": 34,
   "id": "5665215e",
   "metadata": {
    "ExecuteTime": {
     "end_time": "2022-08-03T07:57:45.309840Z",
     "start_time": "2022-08-03T07:57:45.136505Z"
    }
   },
   "outputs": [],
   "source": [
    "writer = pd.ExcelWriter(os.path.join(dir_company_y, y+'.xlsx'), engine='xlsxwriter')\n",
    "pd.concat([result, result_sub], axis=1).to_excel(writer, sheet_name='Correlation', index=False)\n",
    "result_total_7.to_excel(writer, sheet_name='Correlation > 0.7', index=False)\n",
    "result_total_5.to_excel(writer, sheet_name='Correlation > 0.5', index=False)\n",
    "writer.save()"
   ]
  },
  {
   "cell_type": "code",
   "execution_count": null,
   "id": "c2e94412",
   "metadata": {},
   "outputs": [],
   "source": []
  },
  {
   "cell_type": "markdown",
   "id": "f6db3333",
   "metadata": {},
   "source": [
    "# Cognizant"
   ]
  },
  {
   "cell_type": "markdown",
   "id": "1f5f7ca0",
   "metadata": {},
   "source": [
    "## Load data"
   ]
  },
  {
   "cell_type": "code",
   "execution_count": 35,
   "id": "26b9f379",
   "metadata": {
    "ExecuteTime": {
     "end_time": "2022-08-03T07:57:46.102770Z",
     "start_time": "2022-08-03T07:57:46.097754Z"
    }
   },
   "outputs": [],
   "source": [
    "# dir_root = 'C:/Users/kkt71/OneDrive/바탕 화면/기업가치분석'\n",
    "dir_root = 'C:/Users/10188/Desktop/기업가치/상관분석/기업가치분석_data_result'\n",
    "dir_master = os.path.join(dir_root, '01. data', 'master')\n",
    "dir_processed = os.path.join(dir_root, '01. data', 'processed')\n",
    "dir_result = os.path.join(dir_root, '03. result')"
   ]
  },
  {
   "cell_type": "code",
   "execution_count": 36,
   "id": "2ce0559e",
   "metadata": {
    "ExecuteTime": {
     "end_time": "2022-08-03T07:57:46.818238Z",
     "start_time": "2022-08-03T07:57:46.813250Z"
    }
   },
   "outputs": [],
   "source": [
    "company = 'Cognizant'\n",
    "y = '매출액증가율(YoY)(연도)'"
   ]
  },
  {
   "cell_type": "code",
   "execution_count": 37,
   "id": "e63b9e53",
   "metadata": {
    "ExecuteTime": {
     "end_time": "2022-08-03T07:57:47.051680Z",
     "start_time": "2022-08-03T07:57:47.044699Z"
    }
   },
   "outputs": [],
   "source": [
    "dir_company = os.path.join(dir_result, company)\n",
    "dir_company_y = os.path.join(dir_company, y)"
   ]
  },
  {
   "cell_type": "code",
   "execution_count": 38,
   "id": "5c2dc7ac",
   "metadata": {
    "ExecuteTime": {
     "end_time": "2022-08-03T07:57:47.269619Z",
     "start_time": "2022-08-03T07:57:47.251155Z"
    }
   },
   "outputs": [],
   "source": [
    "result = pd.read_csv(os.path.join(dir_company_y, 'result.csv'))\n",
    "result_sub = pd.read_csv(os.path.join(dir_company_y, 'result_sub.csv'))"
   ]
  },
  {
   "cell_type": "markdown",
   "id": "b84647fe",
   "metadata": {},
   "source": [
    "## Compare : total ~ sub"
   ]
  },
  {
   "cell_type": "markdown",
   "id": "04f17c7b",
   "metadata": {},
   "source": [
    "### over 0.7"
   ]
  },
  {
   "cell_type": "code",
   "execution_count": 39,
   "id": "f66ea36a",
   "metadata": {
    "ExecuteTime": {
     "end_time": "2022-08-03T07:57:47.881043Z",
     "start_time": "2022-08-03T07:57:47.862094Z"
    },
    "scrolled": false
   },
   "outputs": [],
   "source": [
    "result_total_7 = pd.merge(result[np.abs(result['corr'])>0.7], result_sub[np.abs(result_sub['corr'])>0.7], \n",
    "                          on=['company', 'variable', 'group', 'importance'], how='outer',\n",
    "                         suffixes = (\"_total\", \"_sub\"))\n",
    "result_total_7 = result_total_7.sort_values(['corr_total'], ascending=False)"
   ]
  },
  {
   "cell_type": "code",
   "execution_count": 40,
   "id": "bfa90de8",
   "metadata": {
    "ExecuteTime": {
     "end_time": "2022-08-03T07:57:48.594695Z",
     "start_time": "2022-08-03T07:57:48.589675Z"
    }
   },
   "outputs": [],
   "source": [
    "result_total_7 = result_total_7[['company', 'variable', 'group', 'importance', 'corr_total', 'corr_sub']]"
   ]
  },
  {
   "cell_type": "code",
   "execution_count": 41,
   "id": "1b954873",
   "metadata": {
    "ExecuteTime": {
     "end_time": "2022-08-03T07:57:48.796121Z",
     "start_time": "2022-08-03T07:57:48.784153Z"
    }
   },
   "outputs": [],
   "source": [
    "result_total_7.to_csv(os.path.join(dir_company_y, 'compare_period_corr_07.csv'), index=False, encoding='utf-8-sig')"
   ]
  },
  {
   "cell_type": "markdown",
   "id": "f8c58bcc",
   "metadata": {},
   "source": [
    "### over 0.5"
   ]
  },
  {
   "cell_type": "code",
   "execution_count": 42,
   "id": "3e62c47b",
   "metadata": {
    "ExecuteTime": {
     "end_time": "2022-08-03T07:57:49.230999Z",
     "start_time": "2022-08-03T07:57:49.212050Z"
    }
   },
   "outputs": [],
   "source": [
    "result_total_5 = pd.merge(result[np.abs(result['corr'])>0.5], result_sub[np.abs(result_sub['corr'])>0.5], \n",
    "                          on=['company', 'variable', 'group', 'importance'], how='outer',\n",
    "                         suffixes = (\"_total\", \"_sub\"))\n",
    "\n",
    "result_total_5 = result_total_5.sort_values(['corr_total'], ascending=False)"
   ]
  },
  {
   "cell_type": "code",
   "execution_count": 43,
   "id": "1e6affac",
   "metadata": {
    "ExecuteTime": {
     "end_time": "2022-08-03T07:57:49.396081Z",
     "start_time": "2022-08-03T07:57:49.390098Z"
    }
   },
   "outputs": [],
   "source": [
    "result_total_5 = result_total_5[['company', 'variable', 'group', 'importance', 'corr_total', 'corr_sub']]"
   ]
  },
  {
   "cell_type": "code",
   "execution_count": 44,
   "id": "6f3aedfd",
   "metadata": {
    "ExecuteTime": {
     "end_time": "2022-08-03T07:57:49.606552Z",
     "start_time": "2022-08-03T07:57:49.598645Z"
    }
   },
   "outputs": [],
   "source": [
    "result_total_5.to_csv(os.path.join(dir_company_y, 'compare_period_corr_05.csv'), index=False, encoding='utf-8-sig')"
   ]
  },
  {
   "cell_type": "markdown",
   "id": "8a6e86b1",
   "metadata": {},
   "source": [
    "### Save"
   ]
  },
  {
   "cell_type": "code",
   "execution_count": 45,
   "id": "6bae3340",
   "metadata": {
    "ExecuteTime": {
     "end_time": "2022-08-03T07:57:50.791982Z",
     "start_time": "2022-08-03T07:57:50.590462Z"
    }
   },
   "outputs": [],
   "source": [
    "writer = pd.ExcelWriter(os.path.join(dir_company_y, y+'.xlsx'), engine='xlsxwriter')\n",
    "pd.concat([result, result_sub], axis=1).to_excel(writer, sheet_name='Correlation', index=False)\n",
    "result_total_7.to_excel(writer, sheet_name='Correlation > 0.7', index=False)\n",
    "result_total_5.to_excel(writer, sheet_name='Correlation > 0.5', index=False)\n",
    "writer.save()"
   ]
  },
  {
   "cell_type": "code",
   "execution_count": null,
   "id": "21c8335b",
   "metadata": {},
   "outputs": [],
   "source": []
  },
  {
   "cell_type": "code",
   "execution_count": null,
   "id": "8f230b30",
   "metadata": {},
   "outputs": [],
   "source": []
  }
 ],
 "metadata": {
  "hide_input": false,
  "kernelspec": {
   "display_name": "Python 3 (ipykernel)",
   "language": "python",
   "name": "python3"
  },
  "language_info": {
   "codemirror_mode": {
    "name": "ipython",
    "version": 3
   },
   "file_extension": ".py",
   "mimetype": "text/x-python",
   "name": "python",
   "nbconvert_exporter": "python",
   "pygments_lexer": "ipython3",
   "version": "3.9.7"
  },
  "toc": {
   "base_numbering": 1,
   "nav_menu": {},
   "number_sections": true,
   "sideBar": true,
   "skip_h1_title": false,
   "title_cell": "Table of Contents",
   "title_sidebar": "Contents",
   "toc_cell": false,
   "toc_position": {
    "height": "calc(100% - 180px)",
    "left": "10px",
    "top": "150px",
    "width": "290.961px"
   },
   "toc_section_display": true,
   "toc_window_display": true
  },
  "varInspector": {
   "cols": {
    "lenName": 16,
    "lenType": 16,
    "lenVar": 40
   },
   "kernels_config": {
    "python": {
     "delete_cmd_postfix": "",
     "delete_cmd_prefix": "del ",
     "library": "var_list.py",
     "varRefreshCmd": "print(var_dic_list())"
    },
    "r": {
     "delete_cmd_postfix": ") ",
     "delete_cmd_prefix": "rm(",
     "library": "var_list.r",
     "varRefreshCmd": "cat(var_dic_list()) "
    }
   },
   "types_to_exclude": [
    "module",
    "function",
    "builtin_function_or_method",
    "instance",
    "_Feature"
   ],
   "window_display": false
  }
 },
 "nbformat": 4,
 "nbformat_minor": 5
}
