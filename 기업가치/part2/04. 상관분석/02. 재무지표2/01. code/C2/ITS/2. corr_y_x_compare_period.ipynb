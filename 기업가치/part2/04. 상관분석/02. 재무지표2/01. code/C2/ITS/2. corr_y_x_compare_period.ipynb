{
 "cells": [
  {
   "cell_type": "code",
   "execution_count": 46,
   "id": "29e66115",
   "metadata": {
    "ExecuteTime": {
     "end_time": "2022-08-03T01:45:52.855314Z",
     "start_time": "2022-08-03T01:45:52.843478Z"
    }
   },
   "outputs": [],
   "source": [
    "import pandas as pd\n",
    "import numpy as np\n",
    "import os\n",
    "from scipy.cluster import hierarchy as hc\n",
    "import matplotlib\n",
    "import matplotlib.pyplot as plt\n",
    "import warnings\n",
    "import seaborn as sns\n",
    "from scipy import stats\n",
    "import math\n",
    "\n",
    "%matplotlib inline\n",
    "warnings.filterwarnings(action='ignore')\n",
    "\n",
    "matplotlib.rcParams['font.family'] ='Malgun Gothic'\n",
    "matplotlib.rcParams['axes.unicode_minus'] =False"
   ]
  },
  {
   "cell_type": "markdown",
   "id": "3eab435b",
   "metadata": {},
   "source": [
    "# Accenture"
   ]
  },
  {
   "cell_type": "markdown",
   "id": "e5fb7b91",
   "metadata": {},
   "source": [
    "## Load data"
   ]
  },
  {
   "cell_type": "code",
   "execution_count": 47,
   "id": "a4ba4241",
   "metadata": {
    "ExecuteTime": {
     "end_time": "2022-08-03T01:45:53.501398Z",
     "start_time": "2022-08-03T01:45:53.496412Z"
    }
   },
   "outputs": [],
   "source": [
    "# dir_root = 'C:/Users/kkt71/OneDrive/바탕 화면/기업가치분석'\n",
    "dir_root = 'C:/Users/10188/Desktop/기업가치/상관분석/기업가치분석_data_result'\n",
    "dir_master = os.path.join(dir_root, '01. data', 'master')\n",
    "dir_processed = os.path.join(dir_root, '01. data', 'processed')\n",
    "dir_result = os.path.join(dir_root, '03. result')"
   ]
  },
  {
   "cell_type": "code",
   "execution_count": 48,
   "id": "c1d4fcac",
   "metadata": {
    "ExecuteTime": {
     "end_time": "2022-08-03T01:45:53.730227Z",
     "start_time": "2022-08-03T01:45:53.726239Z"
    }
   },
   "outputs": [],
   "source": [
    "company = 'Accenture'\n",
    "y = '매출총이익(천원)'"
   ]
  },
  {
   "cell_type": "code",
   "execution_count": 49,
   "id": "a3d6495a",
   "metadata": {
    "ExecuteTime": {
     "end_time": "2022-08-03T01:45:53.957257Z",
     "start_time": "2022-08-03T01:45:53.953268Z"
    }
   },
   "outputs": [],
   "source": [
    "dir_company = os.path.join(dir_result, company)\n",
    "dir_company_y = os.path.join(dir_company, y)"
   ]
  },
  {
   "cell_type": "code",
   "execution_count": 50,
   "id": "b5cdc209",
   "metadata": {
    "ExecuteTime": {
     "end_time": "2022-08-03T01:45:54.198352Z",
     "start_time": "2022-08-03T01:45:54.179504Z"
    }
   },
   "outputs": [],
   "source": [
    "result = pd.read_csv(os.path.join(dir_company_y, 'result.csv'))\n",
    "result_sub = pd.read_csv(os.path.join(dir_company_y, 'result_sub.csv'))"
   ]
  },
  {
   "cell_type": "markdown",
   "id": "d2c97fa4",
   "metadata": {},
   "source": [
    "## Compare : total ~ sub"
   ]
  },
  {
   "cell_type": "markdown",
   "id": "e7671c11",
   "metadata": {},
   "source": [
    "### over 0.7"
   ]
  },
  {
   "cell_type": "code",
   "execution_count": 51,
   "id": "159f8ff1",
   "metadata": {
    "ExecuteTime": {
     "end_time": "2022-08-03T01:45:56.785159Z",
     "start_time": "2022-08-03T01:45:56.769559Z"
    },
    "scrolled": false
   },
   "outputs": [],
   "source": [
    "result_total_7 = pd.merge(result[np.abs(result['corr'])>0.7], result_sub[np.abs(result_sub['corr'])>0.7], \n",
    "                          on=['company', 'variable', 'group', 'importance'], how='outer',\n",
    "                         suffixes = (\"_total\", \"_sub\"))\n",
    "result_total_7 = result_total_7.sort_values(['corr_total'], ascending=False)"
   ]
  },
  {
   "cell_type": "code",
   "execution_count": 52,
   "id": "c2a161f3",
   "metadata": {
    "ExecuteTime": {
     "end_time": "2022-08-03T01:45:57.026683Z",
     "start_time": "2022-08-03T01:45:57.020331Z"
    }
   },
   "outputs": [],
   "source": [
    "result_total_7 = result_total_7[['company', 'variable', 'group', 'importance', 'corr_total', 'corr_sub']]"
   ]
  },
  {
   "cell_type": "code",
   "execution_count": 53,
   "id": "595a413f",
   "metadata": {
    "ExecuteTime": {
     "end_time": "2022-08-03T01:45:57.298428Z",
     "start_time": "2022-08-03T01:45:57.288451Z"
    }
   },
   "outputs": [],
   "source": [
    "result_total_7.to_csv(os.path.join(dir_company_y, 'compare_period_corr_07.csv'), index=False, encoding='utf-8-sig')"
   ]
  },
  {
   "cell_type": "markdown",
   "id": "7c9ee1a4",
   "metadata": {},
   "source": [
    "### over 0.5"
   ]
  },
  {
   "cell_type": "code",
   "execution_count": 54,
   "id": "a202be8d",
   "metadata": {
    "ExecuteTime": {
     "end_time": "2022-08-03T01:45:57.808385Z",
     "start_time": "2022-08-03T01:45:57.793383Z"
    }
   },
   "outputs": [],
   "source": [
    "result_total_5 = pd.merge(result[np.abs(result['corr'])>0.5], result_sub[np.abs(result_sub['corr'])>0.5], \n",
    "                          on=['company', 'variable', 'group', 'importance'], how='outer',\n",
    "                         suffixes = (\"_total\", \"_sub\"))\n",
    "\n",
    "result_total_5 = result_total_5.sort_values(['corr_total'], ascending=False)"
   ]
  },
  {
   "cell_type": "code",
   "execution_count": 55,
   "id": "77cd95fe",
   "metadata": {
    "ExecuteTime": {
     "end_time": "2022-08-03T01:45:58.043466Z",
     "start_time": "2022-08-03T01:45:58.037482Z"
    }
   },
   "outputs": [],
   "source": [
    "result_total_5 = result_total_5[['company', 'variable', 'group', 'importance', 'corr_total', 'corr_sub']]"
   ]
  },
  {
   "cell_type": "code",
   "execution_count": 56,
   "id": "c40b4ee8",
   "metadata": {
    "ExecuteTime": {
     "end_time": "2022-08-03T01:45:58.310922Z",
     "start_time": "2022-08-03T01:45:58.298942Z"
    }
   },
   "outputs": [],
   "source": [
    "result_total_5.to_csv(os.path.join(dir_company_y, 'compare_period_corr_05.csv'), index=False, encoding='utf-8-sig')"
   ]
  },
  {
   "cell_type": "markdown",
   "id": "0d55692c",
   "metadata": {},
   "source": [
    "### Save"
   ]
  },
  {
   "cell_type": "code",
   "execution_count": 57,
   "id": "1349241b",
   "metadata": {
    "ExecuteTime": {
     "end_time": "2022-08-03T01:45:59.266872Z",
     "start_time": "2022-08-03T01:45:59.106129Z"
    }
   },
   "outputs": [],
   "source": [
    "writer = pd.ExcelWriter(os.path.join(dir_company_y, y+'.xlsx'), engine='xlsxwriter')\n",
    "pd.concat([result, result_sub], axis=1).to_excel(writer, sheet_name='Correlation', index=False)\n",
    "result_total_7.to_excel(writer, sheet_name='Correlation > 0.7', index=False)\n",
    "result_total_5.to_excel(writer, sheet_name='Correlation > 0.5', index=False)\n",
    "writer.save()"
   ]
  },
  {
   "cell_type": "code",
   "execution_count": null,
   "id": "287b7253",
   "metadata": {},
   "outputs": [],
   "source": []
  },
  {
   "cell_type": "markdown",
   "id": "0740d136",
   "metadata": {},
   "source": [
    "# Infosys"
   ]
  },
  {
   "cell_type": "markdown",
   "id": "79572d0b",
   "metadata": {},
   "source": [
    "## Load data"
   ]
  },
  {
   "cell_type": "code",
   "execution_count": 58,
   "id": "9cc55e61",
   "metadata": {
    "ExecuteTime": {
     "end_time": "2022-08-03T01:46:00.671335Z",
     "start_time": "2022-08-03T01:46:00.666370Z"
    }
   },
   "outputs": [],
   "source": [
    "# dir_root = 'C:/Users/kkt71/OneDrive/바탕 화면/기업가치분석'\n",
    "dir_root = 'C:/Users/10188/Desktop/기업가치/상관분석/기업가치분석_data_result'\n",
    "dir_master = os.path.join(dir_root, '01. data', 'master')\n",
    "dir_processed = os.path.join(dir_root, '01. data', 'processed')\n",
    "dir_result = os.path.join(dir_root, '03. result')"
   ]
  },
  {
   "cell_type": "code",
   "execution_count": 59,
   "id": "fcf85bda",
   "metadata": {
    "ExecuteTime": {
     "end_time": "2022-08-03T01:46:00.996276Z",
     "start_time": "2022-08-03T01:46:00.991291Z"
    }
   },
   "outputs": [],
   "source": [
    "company = 'Infosys'\n",
    "y = '매출총이익(천원)'"
   ]
  },
  {
   "cell_type": "code",
   "execution_count": 60,
   "id": "fdee7bfe",
   "metadata": {
    "ExecuteTime": {
     "end_time": "2022-08-03T01:46:01.365265Z",
     "start_time": "2022-08-03T01:46:01.361275Z"
    }
   },
   "outputs": [],
   "source": [
    "dir_company = os.path.join(dir_result, company)\n",
    "dir_company_y = os.path.join(dir_company, y)"
   ]
  },
  {
   "cell_type": "code",
   "execution_count": 61,
   "id": "ac8c6901",
   "metadata": {
    "ExecuteTime": {
     "end_time": "2022-08-03T01:46:01.756672Z",
     "start_time": "2022-08-03T01:46:01.740260Z"
    }
   },
   "outputs": [],
   "source": [
    "result = pd.read_csv(os.path.join(dir_company_y, 'result.csv'))\n",
    "result_sub = pd.read_csv(os.path.join(dir_company_y, 'result_sub.csv'))"
   ]
  },
  {
   "cell_type": "markdown",
   "id": "1232eaef",
   "metadata": {},
   "source": [
    "## Compare : total ~ sub"
   ]
  },
  {
   "cell_type": "markdown",
   "id": "73925faf",
   "metadata": {},
   "source": [
    "### over 0.7"
   ]
  },
  {
   "cell_type": "code",
   "execution_count": 62,
   "id": "3d35c02c",
   "metadata": {
    "ExecuteTime": {
     "end_time": "2022-08-03T01:46:02.769381Z",
     "start_time": "2022-08-03T01:46:02.755383Z"
    }
   },
   "outputs": [],
   "source": [
    "result_total_7 = pd.merge(result[np.abs(result['corr'])>0.7], result_sub[np.abs(result_sub['corr'])>0.7], \n",
    "                          on=['company', 'variable', 'group', 'importance'], how='outer',\n",
    "                         suffixes = (\"_total\", \"_sub\"))\n",
    "result_total_7 = result_total_7.sort_values(['corr_total'], ascending=False)"
   ]
  },
  {
   "cell_type": "code",
   "execution_count": 63,
   "id": "c6988b0d",
   "metadata": {
    "ExecuteTime": {
     "end_time": "2022-08-03T01:46:03.149060Z",
     "start_time": "2022-08-03T01:46:03.144073Z"
    }
   },
   "outputs": [],
   "source": [
    "result_total_7 = result_total_7[['company', 'variable', 'group', 'importance', 'corr_total', 'corr_sub']]"
   ]
  },
  {
   "cell_type": "code",
   "execution_count": 64,
   "id": "111f2a66",
   "metadata": {
    "ExecuteTime": {
     "end_time": "2022-08-03T01:46:03.490348Z",
     "start_time": "2022-08-03T01:46:03.480407Z"
    }
   },
   "outputs": [],
   "source": [
    "result_total_7.to_csv(os.path.join(dir_company_y, 'compare_period_corr_07.csv'), index=False, encoding='utf-8-sig')"
   ]
  },
  {
   "cell_type": "markdown",
   "id": "5095161d",
   "metadata": {},
   "source": [
    "### over 0.5"
   ]
  },
  {
   "cell_type": "code",
   "execution_count": 65,
   "id": "132a31bb",
   "metadata": {
    "ExecuteTime": {
     "end_time": "2022-08-03T01:46:04.138356Z",
     "start_time": "2022-08-03T01:46:04.124789Z"
    }
   },
   "outputs": [],
   "source": [
    "result_total_5 = pd.merge(result[np.abs(result['corr'])>0.5], result_sub[np.abs(result_sub['corr'])>0.5], \n",
    "                          on=['company', 'variable', 'group', 'importance'], how='outer',\n",
    "                         suffixes = (\"_total\", \"_sub\"))\n",
    "\n",
    "result_total_5 = result_total_5.sort_values(['corr_total'], ascending=False)"
   ]
  },
  {
   "cell_type": "code",
   "execution_count": 66,
   "id": "1bbd8dd2",
   "metadata": {
    "ExecuteTime": {
     "end_time": "2022-08-03T01:46:04.451623Z",
     "start_time": "2022-08-03T01:46:04.443529Z"
    }
   },
   "outputs": [],
   "source": [
    "result_total_5 = result_total_5[['company', 'variable', 'group', 'importance', 'corr_total', 'corr_sub']]"
   ]
  },
  {
   "cell_type": "code",
   "execution_count": 67,
   "id": "d2b03354",
   "metadata": {
    "ExecuteTime": {
     "end_time": "2022-08-03T01:46:04.770565Z",
     "start_time": "2022-08-03T01:46:04.761611Z"
    }
   },
   "outputs": [],
   "source": [
    "result_total_5.to_csv(os.path.join(dir_company_y, 'compare_period_corr_05.csv'), index=False, encoding='utf-8-sig')"
   ]
  },
  {
   "cell_type": "markdown",
   "id": "fb38e998",
   "metadata": {},
   "source": [
    "### Save"
   ]
  },
  {
   "cell_type": "code",
   "execution_count": 68,
   "id": "33eedc72",
   "metadata": {
    "ExecuteTime": {
     "end_time": "2022-08-03T01:46:05.545154Z",
     "start_time": "2022-08-03T01:46:05.381515Z"
    }
   },
   "outputs": [],
   "source": [
    "writer = pd.ExcelWriter(os.path.join(dir_company_y, y+'.xlsx'), engine='xlsxwriter')\n",
    "pd.concat([result, result_sub], axis=1).to_excel(writer, sheet_name='Correlation', index=False)\n",
    "result_total_7.to_excel(writer, sheet_name='Correlation > 0.7', index=False)\n",
    "result_total_5.to_excel(writer, sheet_name='Correlation > 0.5', index=False)\n",
    "writer.save()"
   ]
  },
  {
   "cell_type": "code",
   "execution_count": null,
   "id": "480687d1",
   "metadata": {},
   "outputs": [],
   "source": []
  },
  {
   "cell_type": "markdown",
   "id": "3b8239a1",
   "metadata": {},
   "source": [
    "# TCS"
   ]
  },
  {
   "cell_type": "markdown",
   "id": "5b23b13d",
   "metadata": {},
   "source": [
    "## Load data"
   ]
  },
  {
   "cell_type": "code",
   "execution_count": 69,
   "id": "ffb8df6b",
   "metadata": {
    "ExecuteTime": {
     "end_time": "2022-08-03T01:46:06.981872Z",
     "start_time": "2022-08-03T01:46:06.975252Z"
    }
   },
   "outputs": [],
   "source": [
    "# dir_root = 'C:/Users/kkt71/OneDrive/바탕 화면/기업가치분석'\n",
    "dir_root = 'C:/Users/10188/Desktop/기업가치/상관분석/기업가치분석_data_result'\n",
    "dir_master = os.path.join(dir_root, '01. data', 'master')\n",
    "dir_processed = os.path.join(dir_root, '01. data', 'processed')\n",
    "dir_result = os.path.join(dir_root, '03. result')"
   ]
  },
  {
   "cell_type": "code",
   "execution_count": 70,
   "id": "c8b70ec3",
   "metadata": {
    "ExecuteTime": {
     "end_time": "2022-08-03T01:46:07.358006Z",
     "start_time": "2022-08-03T01:46:07.354212Z"
    }
   },
   "outputs": [],
   "source": [
    "company = 'TCS'\n",
    "y = '매출총이익(천원)'"
   ]
  },
  {
   "cell_type": "code",
   "execution_count": 71,
   "id": "b98b2c55",
   "metadata": {
    "ExecuteTime": {
     "end_time": "2022-08-03T01:46:07.769209Z",
     "start_time": "2022-08-03T01:46:07.764500Z"
    }
   },
   "outputs": [],
   "source": [
    "dir_company = os.path.join(dir_result, company)\n",
    "dir_company_y = os.path.join(dir_company, y)"
   ]
  },
  {
   "cell_type": "code",
   "execution_count": 72,
   "id": "a04d2428",
   "metadata": {
    "ExecuteTime": {
     "end_time": "2022-08-03T01:46:08.169326Z",
     "start_time": "2022-08-03T01:46:08.150093Z"
    }
   },
   "outputs": [],
   "source": [
    "result = pd.read_csv(os.path.join(dir_company_y, 'result.csv'))\n",
    "result_sub = pd.read_csv(os.path.join(dir_company_y, 'result_sub.csv'))"
   ]
  },
  {
   "cell_type": "markdown",
   "id": "a03ed54b",
   "metadata": {},
   "source": [
    "## Compare : total ~ sub"
   ]
  },
  {
   "cell_type": "markdown",
   "id": "7c80f43c",
   "metadata": {},
   "source": [
    "### over 0.7"
   ]
  },
  {
   "cell_type": "code",
   "execution_count": 73,
   "id": "bd80c9a8",
   "metadata": {
    "ExecuteTime": {
     "end_time": "2022-08-03T01:46:09.240021Z",
     "start_time": "2022-08-03T01:46:09.226919Z"
    },
    "scrolled": false
   },
   "outputs": [],
   "source": [
    "result_total_7 = pd.merge(result[np.abs(result['corr'])>0.7], result_sub[np.abs(result_sub['corr'])>0.7], \n",
    "                          on=['company', 'variable', 'group', 'importance'], how='outer',\n",
    "                         suffixes = (\"_total\", \"_sub\"))\n",
    "result_total_7 = result_total_7.sort_values(['corr_total'], ascending=False)"
   ]
  },
  {
   "cell_type": "code",
   "execution_count": 74,
   "id": "ade66cd0",
   "metadata": {
    "ExecuteTime": {
     "end_time": "2022-08-03T01:46:09.563972Z",
     "start_time": "2022-08-03T01:46:09.559012Z"
    }
   },
   "outputs": [],
   "source": [
    "result_total_7 = result_total_7[['company', 'variable', 'group', 'importance', 'corr_total', 'corr_sub']]"
   ]
  },
  {
   "cell_type": "code",
   "execution_count": 75,
   "id": "edddbbc5",
   "metadata": {
    "ExecuteTime": {
     "end_time": "2022-08-03T01:46:09.935206Z",
     "start_time": "2022-08-03T01:46:09.919219Z"
    }
   },
   "outputs": [],
   "source": [
    "result_total_7.to_csv(os.path.join(dir_company_y, 'compare_period_corr_07.csv'), index=False, encoding='utf-8-sig')"
   ]
  },
  {
   "cell_type": "markdown",
   "id": "458c9011",
   "metadata": {},
   "source": [
    "### over 0.5"
   ]
  },
  {
   "cell_type": "code",
   "execution_count": 76,
   "id": "c9eea7fc",
   "metadata": {
    "ExecuteTime": {
     "end_time": "2022-08-03T01:46:10.661976Z",
     "start_time": "2022-08-03T01:46:10.649455Z"
    }
   },
   "outputs": [],
   "source": [
    "result_total_5 = pd.merge(result[np.abs(result['corr'])>0.5], result_sub[np.abs(result_sub['corr'])>0.5], \n",
    "                          on=['company', 'variable', 'group', 'importance'], how='outer',\n",
    "                         suffixes = (\"_total\", \"_sub\"))\n",
    "\n",
    "result_total_5 = result_total_5.sort_values(['corr_total'], ascending=False)"
   ]
  },
  {
   "cell_type": "code",
   "execution_count": 77,
   "id": "3ee0923e",
   "metadata": {
    "ExecuteTime": {
     "end_time": "2022-08-03T01:46:10.993209Z",
     "start_time": "2022-08-03T01:46:10.987225Z"
    }
   },
   "outputs": [],
   "source": [
    "result_total_5 = result_total_5[['company', 'variable', 'group', 'importance', 'corr_total', 'corr_sub']]"
   ]
  },
  {
   "cell_type": "code",
   "execution_count": 78,
   "id": "30e4be11",
   "metadata": {
    "ExecuteTime": {
     "end_time": "2022-08-03T01:46:11.344877Z",
     "start_time": "2022-08-03T01:46:11.336912Z"
    }
   },
   "outputs": [],
   "source": [
    "result_total_5.to_csv(os.path.join(dir_company_y, 'compare_period_corr_05.csv'), index=False, encoding='utf-8-sig')"
   ]
  },
  {
   "cell_type": "markdown",
   "id": "f7f933f3",
   "metadata": {},
   "source": [
    "### Save"
   ]
  },
  {
   "cell_type": "code",
   "execution_count": 79,
   "id": "5665215e",
   "metadata": {
    "ExecuteTime": {
     "end_time": "2022-08-03T01:46:12.165375Z",
     "start_time": "2022-08-03T01:46:11.999700Z"
    }
   },
   "outputs": [],
   "source": [
    "writer = pd.ExcelWriter(os.path.join(dir_company_y, y+'.xlsx'), engine='xlsxwriter')\n",
    "pd.concat([result, result_sub], axis=1).to_excel(writer, sheet_name='Correlation', index=False)\n",
    "result_total_7.to_excel(writer, sheet_name='Correlation > 0.7', index=False)\n",
    "result_total_5.to_excel(writer, sheet_name='Correlation > 0.5', index=False)\n",
    "writer.save()"
   ]
  },
  {
   "cell_type": "code",
   "execution_count": null,
   "id": "c2e94412",
   "metadata": {},
   "outputs": [],
   "source": []
  },
  {
   "cell_type": "markdown",
   "id": "f6db3333",
   "metadata": {},
   "source": [
    "# Cognizant"
   ]
  },
  {
   "cell_type": "markdown",
   "id": "1f5f7ca0",
   "metadata": {},
   "source": [
    "## Load data"
   ]
  },
  {
   "cell_type": "code",
   "execution_count": 80,
   "id": "26b9f379",
   "metadata": {
    "ExecuteTime": {
     "end_time": "2022-08-03T01:46:13.297602Z",
     "start_time": "2022-08-03T01:46:13.292808Z"
    }
   },
   "outputs": [],
   "source": [
    "# dir_root = 'C:/Users/kkt71/OneDrive/바탕 화면/기업가치분석'\n",
    "dir_root = 'C:/Users/10188/Desktop/기업가치/상관분석/기업가치분석_data_result'\n",
    "dir_master = os.path.join(dir_root, '01. data', 'master')\n",
    "dir_processed = os.path.join(dir_root, '01. data', 'processed')\n",
    "dir_result = os.path.join(dir_root, '03. result')"
   ]
  },
  {
   "cell_type": "code",
   "execution_count": 81,
   "id": "2ce0559e",
   "metadata": {
    "ExecuteTime": {
     "end_time": "2022-08-03T01:46:13.607603Z",
     "start_time": "2022-08-03T01:46:13.603647Z"
    }
   },
   "outputs": [],
   "source": [
    "company = 'Cognizant'\n",
    "y = '매출총이익(천원)'"
   ]
  },
  {
   "cell_type": "code",
   "execution_count": 82,
   "id": "e63b9e53",
   "metadata": {
    "ExecuteTime": {
     "end_time": "2022-08-03T01:46:13.933556Z",
     "start_time": "2022-08-03T01:46:13.929996Z"
    }
   },
   "outputs": [],
   "source": [
    "dir_company = os.path.join(dir_result, company)\n",
    "dir_company_y = os.path.join(dir_company, y)"
   ]
  },
  {
   "cell_type": "code",
   "execution_count": 83,
   "id": "5c2dc7ac",
   "metadata": {
    "ExecuteTime": {
     "end_time": "2022-08-03T01:46:14.297473Z",
     "start_time": "2022-08-03T01:46:14.283232Z"
    }
   },
   "outputs": [],
   "source": [
    "result = pd.read_csv(os.path.join(dir_company_y, 'result.csv'))\n",
    "result_sub = pd.read_csv(os.path.join(dir_company_y, 'result_sub.csv'))"
   ]
  },
  {
   "cell_type": "markdown",
   "id": "b84647fe",
   "metadata": {},
   "source": [
    "## Compare : total ~ sub"
   ]
  },
  {
   "cell_type": "markdown",
   "id": "04f17c7b",
   "metadata": {},
   "source": [
    "### over 0.7"
   ]
  },
  {
   "cell_type": "code",
   "execution_count": 84,
   "id": "f66ea36a",
   "metadata": {
    "ExecuteTime": {
     "end_time": "2022-08-03T01:46:15.314010Z",
     "start_time": "2022-08-03T01:46:15.300896Z"
    },
    "scrolled": false
   },
   "outputs": [],
   "source": [
    "result_total_7 = pd.merge(result[np.abs(result['corr'])>0.7], result_sub[np.abs(result_sub['corr'])>0.7], \n",
    "                          on=['company', 'variable', 'group', 'importance'], how='outer',\n",
    "                         suffixes = (\"_total\", \"_sub\"))\n",
    "result_total_7 = result_total_7.sort_values(['corr_total'], ascending=False)"
   ]
  },
  {
   "cell_type": "code",
   "execution_count": 85,
   "id": "bfa90de8",
   "metadata": {
    "ExecuteTime": {
     "end_time": "2022-08-03T01:46:15.758025Z",
     "start_time": "2022-08-03T01:46:15.752516Z"
    }
   },
   "outputs": [],
   "source": [
    "result_total_7 = result_total_7[['company', 'variable', 'group', 'importance', 'corr_total', 'corr_sub']]"
   ]
  },
  {
   "cell_type": "code",
   "execution_count": 86,
   "id": "1b954873",
   "metadata": {
    "ExecuteTime": {
     "end_time": "2022-08-03T01:46:16.075250Z",
     "start_time": "2022-08-03T01:46:16.065244Z"
    }
   },
   "outputs": [],
   "source": [
    "result_total_7.to_csv(os.path.join(dir_company_y, 'compare_period_corr_07.csv'), index=False, encoding='utf-8-sig')"
   ]
  },
  {
   "cell_type": "markdown",
   "id": "f8c58bcc",
   "metadata": {},
   "source": [
    "### over 0.5"
   ]
  },
  {
   "cell_type": "code",
   "execution_count": 87,
   "id": "3e62c47b",
   "metadata": {
    "ExecuteTime": {
     "end_time": "2022-08-03T01:46:16.751312Z",
     "start_time": "2022-08-03T01:46:16.738349Z"
    }
   },
   "outputs": [],
   "source": [
    "result_total_5 = pd.merge(result[np.abs(result['corr'])>0.5], result_sub[np.abs(result_sub['corr'])>0.5], \n",
    "                          on=['company', 'variable', 'group', 'importance'], how='outer',\n",
    "                         suffixes = (\"_total\", \"_sub\"))\n",
    "\n",
    "result_total_5 = result_total_5.sort_values(['corr_total'], ascending=False)"
   ]
  },
  {
   "cell_type": "code",
   "execution_count": 88,
   "id": "1e6affac",
   "metadata": {
    "ExecuteTime": {
     "end_time": "2022-08-03T01:46:17.094245Z",
     "start_time": "2022-08-03T01:46:17.088260Z"
    }
   },
   "outputs": [],
   "source": [
    "result_total_5 = result_total_5[['company', 'variable', 'group', 'importance', 'corr_total', 'corr_sub']]"
   ]
  },
  {
   "cell_type": "code",
   "execution_count": 89,
   "id": "6f3aedfd",
   "metadata": {
    "ExecuteTime": {
     "end_time": "2022-08-03T01:46:17.409115Z",
     "start_time": "2022-08-03T01:46:17.400989Z"
    }
   },
   "outputs": [],
   "source": [
    "result_total_5.to_csv(os.path.join(dir_company_y, 'compare_period_corr_05.csv'), index=False, encoding='utf-8-sig')"
   ]
  },
  {
   "cell_type": "markdown",
   "id": "8a6e86b1",
   "metadata": {},
   "source": [
    "### Save"
   ]
  },
  {
   "cell_type": "code",
   "execution_count": 90,
   "id": "6bae3340",
   "metadata": {
    "ExecuteTime": {
     "end_time": "2022-08-03T01:46:18.249642Z",
     "start_time": "2022-08-03T01:46:18.061511Z"
    }
   },
   "outputs": [],
   "source": [
    "writer = pd.ExcelWriter(os.path.join(dir_company_y, y+'.xlsx'), engine='xlsxwriter')\n",
    "pd.concat([result, result_sub], axis=1).to_excel(writer, sheet_name='Correlation', index=False)\n",
    "result_total_7.to_excel(writer, sheet_name='Correlation > 0.7', index=False)\n",
    "result_total_5.to_excel(writer, sheet_name='Correlation > 0.5', index=False)\n",
    "writer.save()"
   ]
  },
  {
   "cell_type": "code",
   "execution_count": null,
   "id": "21c8335b",
   "metadata": {},
   "outputs": [],
   "source": []
  },
  {
   "cell_type": "code",
   "execution_count": null,
   "id": "8f230b30",
   "metadata": {},
   "outputs": [],
   "source": []
  }
 ],
 "metadata": {
  "hide_input": false,
  "kernelspec": {
   "display_name": "Python 3 (ipykernel)",
   "language": "python",
   "name": "python3"
  },
  "language_info": {
   "codemirror_mode": {
    "name": "ipython",
    "version": 3
   },
   "file_extension": ".py",
   "mimetype": "text/x-python",
   "name": "python",
   "nbconvert_exporter": "python",
   "pygments_lexer": "ipython3",
   "version": "3.9.7"
  },
  "toc": {
   "base_numbering": 1,
   "nav_menu": {},
   "number_sections": true,
   "sideBar": true,
   "skip_h1_title": false,
   "title_cell": "Table of Contents",
   "title_sidebar": "Contents",
   "toc_cell": false,
   "toc_position": {
    "height": "calc(100% - 180px)",
    "left": "10px",
    "top": "150px",
    "width": "290.955px"
   },
   "toc_section_display": true,
   "toc_window_display": true
  },
  "varInspector": {
   "cols": {
    "lenName": 16,
    "lenType": 16,
    "lenVar": 40
   },
   "kernels_config": {
    "python": {
     "delete_cmd_postfix": "",
     "delete_cmd_prefix": "del ",
     "library": "var_list.py",
     "varRefreshCmd": "print(var_dic_list())"
    },
    "r": {
     "delete_cmd_postfix": ") ",
     "delete_cmd_prefix": "rm(",
     "library": "var_list.r",
     "varRefreshCmd": "cat(var_dic_list()) "
    }
   },
   "types_to_exclude": [
    "module",
    "function",
    "builtin_function_or_method",
    "instance",
    "_Feature"
   ],
   "window_display": false
  }
 },
 "nbformat": 4,
 "nbformat_minor": 5
}
