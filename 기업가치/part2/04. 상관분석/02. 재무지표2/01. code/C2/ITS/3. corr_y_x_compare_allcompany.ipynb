{
 "cells": [
  {
   "cell_type": "code",
   "execution_count": 43,
   "id": "29e66115",
   "metadata": {
    "ExecuteTime": {
     "end_time": "2022-08-03T02:08:25.864387Z",
     "start_time": "2022-08-03T02:08:25.853416Z"
    }
   },
   "outputs": [],
   "source": [
    "import pandas as pd\n",
    "import numpy as np\n",
    "import os\n",
    "from scipy.cluster import hierarchy as hc\n",
    "import matplotlib\n",
    "import matplotlib.pyplot as plt\n",
    "import warnings\n",
    "import seaborn as sns\n",
    "from scipy import stats\n",
    "import math\n",
    "\n",
    "%matplotlib inline\n",
    "warnings.filterwarnings(action='ignore')\n",
    "\n",
    "matplotlib.rcParams['font.family'] ='Malgun Gothic'\n",
    "matplotlib.rcParams['axes.unicode_minus'] =False"
   ]
  },
  {
   "cell_type": "markdown",
   "id": "e5fb7b91",
   "metadata": {},
   "source": [
    "# Load data"
   ]
  },
  {
   "cell_type": "code",
   "execution_count": 44,
   "id": "a4ba4241",
   "metadata": {
    "ExecuteTime": {
     "end_time": "2022-08-03T02:08:26.206256Z",
     "start_time": "2022-08-03T02:08:26.202235Z"
    }
   },
   "outputs": [],
   "source": [
    "dir_root = '../../../../../'\n",
    "current_dir = os.getcwd()\n",
    "dir_master = os.path.join(dir_root, '01. Data','00. master_data')\n",
    "dir_processed = os.path.join(dir_root, '01. Data','02. 재무지표2', '01. preprocessed')\n",
    "dir_result = os.path.join(dir_root, '04. 상관분석','02. 재무지표2','02. result')"
   ]
  },
  {
   "cell_type": "code",
   "execution_count": 45,
   "id": "83f34bb3",
   "metadata": {
    "ExecuteTime": {
     "end_time": "2022-08-03T02:08:26.395873Z",
     "start_time": "2022-08-03T02:08:26.390885Z"
    }
   },
   "outputs": [],
   "source": [
    "y = '매출총이익(천원)'\n",
    "c1 = 'Accenture'\n",
    "c2 = 'Infosys'\n",
    "c3 = 'TCS'\n",
    "c4 = 'Cognizant'"
   ]
  },
  {
   "cell_type": "code",
   "execution_count": 46,
   "id": "e5667460",
   "metadata": {
    "ExecuteTime": {
     "end_time": "2022-08-03T02:08:26.572480Z",
     "start_time": "2022-08-03T02:08:26.565499Z"
    }
   },
   "outputs": [],
   "source": [
    "outperform = [c1, c2, c3]\n",
    "lowperform = [c4]"
   ]
  },
  {
   "cell_type": "code",
   "execution_count": 47,
   "id": "c0c3a134",
   "metadata": {
    "ExecuteTime": {
     "end_time": "2022-08-03T02:08:26.756610Z",
     "start_time": "2022-08-03T02:08:26.751338Z"
    }
   },
   "outputs": [],
   "source": [
    "dir_result_all = os.path.join(dir_result, 'All_ITS', y)\n",
    "\n",
    "if os.path.exists(dir_result_all)==False:\n",
    "    os.makedirs(dir_result_all)"
   ]
  },
  {
   "cell_type": "markdown",
   "id": "fb6e0ed4",
   "metadata": {},
   "source": [
    "# total 기간에 대해서, 존재하는 변수 기준으로 inner join"
   ]
  },
  {
   "cell_type": "code",
   "execution_count": 48,
   "id": "0043f676",
   "metadata": {
    "ExecuteTime": {
     "end_time": "2022-08-03T02:08:28.181108Z",
     "start_time": "2022-08-03T02:08:28.143793Z"
    }
   },
   "outputs": [],
   "source": [
    "df_c1 = pd.read_csv(os.path.join(dir_result, c1, y, y+'.csv')).iloc[:,:5]\n",
    "df_c2 = pd.read_csv(os.path.join(dir_result, c2, y, y+'.csv')).iloc[:,:5]\n",
    "df_c3 = pd.read_csv(os.path.join(dir_result, c3, y, y+'.csv')).iloc[:,:5]\n",
    "df_c4 = pd.read_csv(os.path.join(dir_result, c4, y, y+'.csv')).iloc[:,:5]"
   ]
  },
  {
   "cell_type": "code",
   "execution_count": 49,
   "id": "e43ff89c",
   "metadata": {
    "ExecuteTime": {
     "end_time": "2022-08-03T02:08:29.585164Z",
     "start_time": "2022-08-03T02:08:29.563213Z"
    }
   },
   "outputs": [],
   "source": [
    "df_c1.rename({'corr' : df_c1.company.unique()[0]}, axis=1, inplace=True)\n",
    "df_c2.rename({'corr' : df_c2.company.unique()[0]}, axis=1, inplace=True)\n",
    "df_c3.rename({'corr' : df_c3.company.unique()[0]}, axis=1, inplace=True)\n",
    "df_c4.rename({'corr' : df_c4.company.unique()[0]}, axis=1, inplace=True)\n",
    "\n",
    "df_c1.drop(['company'], axis=1, inplace=True)\n",
    "df_c2.drop(['company'], axis=1, inplace=True)\n",
    "df_c3.drop(['company'], axis=1, inplace=True)\n",
    "df_c4.drop(['company'], axis=1, inplace=True)"
   ]
  },
  {
   "cell_type": "code",
   "execution_count": 50,
   "id": "6ab4750c",
   "metadata": {
    "ExecuteTime": {
     "end_time": "2022-08-03T02:08:29.965163Z",
     "start_time": "2022-08-03T02:08:29.937595Z"
    }
   },
   "outputs": [],
   "source": [
    "df_all_variable = pd.merge(pd.merge(pd.merge(df_c1, df_c2, on=['variable','group', 'importance'], how='inner'), \n",
    "                          df_c3, on=['variable','group', 'importance'], how='inner'), \n",
    "                 df_c4, on=['variable','group', 'importance'], how='inner')"
   ]
  },
  {
   "cell_type": "code",
   "execution_count": 51,
   "id": "b385d7d2",
   "metadata": {
    "ExecuteTime": {
     "end_time": "2022-08-03T02:08:30.596511Z",
     "start_time": "2022-08-03T02:08:30.590529Z"
    }
   },
   "outputs": [],
   "source": [
    "df_all_variable = df_all_variable[['variable', 'group', 'importance']+outperform+lowperform]"
   ]
  },
  {
   "cell_type": "markdown",
   "id": "df4fd82a",
   "metadata": {},
   "source": [
    "# 0.7 이상 상관계수가 하나라도 있으면, 남기도록 outer join"
   ]
  },
  {
   "cell_type": "code",
   "execution_count": 53,
   "id": "41ce8575",
   "metadata": {
    "ExecuteTime": {
     "end_time": "2022-08-03T02:08:41.334267Z",
     "start_time": "2022-08-03T02:08:41.308239Z"
    }
   },
   "outputs": [],
   "source": [
    "df_c1 = pd.read_csv(os.path.join(dir_result, c1, y, 'compare_period_corr_07.csv'))\n",
    "df_c2 = pd.read_csv(os.path.join(dir_result, c2, y, 'compare_period_corr_07.csv'))\n",
    "df_c3 = pd.read_csv(os.path.join(dir_result, c3, y, 'compare_period_corr_07.csv'))\n",
    "df_c4 = pd.read_csv(os.path.join(dir_result, c4, y, 'compare_period_corr_07.csv'))"
   ]
  },
  {
   "cell_type": "code",
   "execution_count": 54,
   "id": "2f1e8255",
   "metadata": {
    "ExecuteTime": {
     "end_time": "2022-08-03T02:08:41.726096Z",
     "start_time": "2022-08-03T02:08:41.704555Z"
    }
   },
   "outputs": [],
   "source": [
    "df_c1.rename({'corr_total' : df_c1.company.unique()[0]}, axis=1, inplace=True)\n",
    "df_c2.rename({'corr_total' : df_c2.company.unique()[0]}, axis=1, inplace=True)\n",
    "df_c3.rename({'corr_total' : df_c3.company.unique()[0]}, axis=1, inplace=True)\n",
    "df_c4.rename({'corr_total' : df_c4.company.unique()[0]}, axis=1, inplace=True)\n",
    "\n",
    "df_c1.drop(['corr_sub', 'company'], axis=1, inplace=True)\n",
    "df_c2.drop(['corr_sub', 'company'], axis=1, inplace=True)\n",
    "df_c3.drop(['corr_sub', 'company'], axis=1, inplace=True)\n",
    "df_c4.drop(['corr_sub', 'company'], axis=1, inplace=True)"
   ]
  },
  {
   "cell_type": "code",
   "execution_count": 55,
   "id": "4a020dba",
   "metadata": {
    "ExecuteTime": {
     "end_time": "2022-08-03T02:08:42.689232Z",
     "start_time": "2022-08-03T02:08:42.672354Z"
    }
   },
   "outputs": [],
   "source": [
    "df_c1 = df_c1.dropna()\n",
    "df_c2 = df_c2.dropna()\n",
    "df_c3 = df_c3.dropna()\n",
    "df_c4 = df_c4.dropna()"
   ]
  },
  {
   "cell_type": "code",
   "execution_count": 56,
   "id": "b509893b",
   "metadata": {
    "ExecuteTime": {
     "end_time": "2022-08-03T02:08:43.606092Z",
     "start_time": "2022-08-03T02:08:43.603067Z"
    }
   },
   "outputs": [],
   "source": [
    "# df_all = pd.merge(pd.merge(df_c1, df_c3, on=['variable','group', 'importance'], how='outer'), \n",
    "#                           df_c4, on=['variable','group', 'importance'], how='outer')\n",
    "                 "
   ]
  },
  {
   "cell_type": "code",
   "execution_count": 57,
   "id": "fd173093",
   "metadata": {
    "ExecuteTime": {
     "end_time": "2022-08-03T02:08:47.316247Z",
     "start_time": "2022-08-03T02:08:47.297295Z"
    }
   },
   "outputs": [],
   "source": [
    "df_all = pd.merge(pd.merge(pd.merge(df_c1, df_c2, on=['variable','group', 'importance'], how='outer'), \n",
    "                          df_c3, on=['variable','group', 'importance'], how='outer'), \n",
    "                 df_c4, on=['variable','group', 'importance'], how='outer')\n",
    "# df_all = pd.merge(pd.merge(df_c2, df_c3, on=['variable','group', 'importance'], how='outer'), \n",
    "#                           df_c4, on=['variable','group', 'importance'], how='outer')"
   ]
  },
  {
   "cell_type": "code",
   "execution_count": 59,
   "id": "dadd5ff3",
   "metadata": {
    "ExecuteTime": {
     "end_time": "2022-08-03T02:09:15.130607Z",
     "start_time": "2022-08-03T02:09:15.125612Z"
    }
   },
   "outputs": [],
   "source": [
    "df_all = df_all[['variable', 'group', 'importance']+outperform+lowperform]"
   ]
  },
  {
   "cell_type": "code",
   "execution_count": 61,
   "id": "2630469f",
   "metadata": {
    "ExecuteTime": {
     "end_time": "2022-08-03T02:09:23.032465Z",
     "start_time": "2022-08-03T02:09:23.029474Z"
    }
   },
   "outputs": [],
   "source": [
    "# df_all = df_all[['variable', 'group', 'importance']+[c1, c3, c4]]"
   ]
  },
  {
   "cell_type": "markdown",
   "id": "86a12d1d",
   "metadata": {},
   "source": [
    "# 위의 두 개 inner join"
   ]
  },
  {
   "cell_type": "code",
   "execution_count": 62,
   "id": "1da05261",
   "metadata": {
    "ExecuteTime": {
     "end_time": "2022-08-03T02:09:23.484672Z",
     "start_time": "2022-08-03T02:09:23.476766Z"
    }
   },
   "outputs": [],
   "source": [
    "df_all_merged = pd.merge(df_all, df_all_variable, how='inner', on=['variable','group','importance'], suffixes = (\"_filtered\", \"_show\"))"
   ]
  },
  {
   "cell_type": "code",
   "execution_count": 63,
   "id": "9290166c",
   "metadata": {
    "ExecuteTime": {
     "end_time": "2022-08-03T02:09:23.659760Z",
     "start_time": "2022-08-03T02:09:23.655764Z"
    }
   },
   "outputs": [],
   "source": [
    "# df_all_merged.to_csv(os.path.join(dir_result, 'All_ITS', 'corr_y_x_over7.csv'), index=False, encoding='utf-8-sig')"
   ]
  },
  {
   "cell_type": "code",
   "execution_count": 64,
   "id": "16787e13",
   "metadata": {
    "ExecuteTime": {
     "end_time": "2022-08-03T02:09:23.942219Z",
     "start_time": "2022-08-03T02:09:23.837318Z"
    }
   },
   "outputs": [],
   "source": [
    "writer = pd.ExcelWriter(os.path.join(dir_result_all, 'corr_y_x_over7.xlsx'), engine='xlsxwriter')\n",
    "df_all_merged.to_excel(writer, index=False)\n",
    "writer.save()"
   ]
  },
  {
   "cell_type": "code",
   "execution_count": 65,
   "id": "02b03d96",
   "metadata": {
    "ExecuteTime": {
     "end_time": "2022-08-03T02:09:24.196139Z",
     "start_time": "2022-08-03T02:09:24.191152Z"
    }
   },
   "outputs": [
    {
     "data": {
      "text/plain": [
       "Index(['variable', 'group', 'importance', 'Accenture_filtered',\n",
       "       'Infosys_filtered', 'TCS_filtered', 'Cognizant_filtered',\n",
       "       'Accenture_show', 'Infosys_show', 'TCS_show', 'Cognizant_show'],\n",
       "      dtype='object')"
      ]
     },
     "execution_count": 65,
     "metadata": {},
     "output_type": "execute_result"
    }
   ],
   "source": [
    "df_all_merged.columns"
   ]
  },
  {
   "cell_type": "code",
   "execution_count": 66,
   "id": "01fc2cd9",
   "metadata": {
    "ExecuteTime": {
     "end_time": "2022-08-03T02:09:25.176426Z",
     "start_time": "2022-08-03T02:09:25.154489Z"
    }
   },
   "outputs": [
    {
     "data": {
      "text/html": [
       "<div>\n",
       "<style scoped>\n",
       "    .dataframe tbody tr th:only-of-type {\n",
       "        vertical-align: middle;\n",
       "    }\n",
       "\n",
       "    .dataframe tbody tr th {\n",
       "        vertical-align: top;\n",
       "    }\n",
       "\n",
       "    .dataframe thead th {\n",
       "        text-align: right;\n",
       "    }\n",
       "</style>\n",
       "<table border=\"1\" class=\"dataframe\">\n",
       "  <thead>\n",
       "    <tr style=\"text-align: right;\">\n",
       "      <th></th>\n",
       "      <th>variable</th>\n",
       "      <th>group</th>\n",
       "      <th>importance</th>\n",
       "      <th>Accenture_filtered</th>\n",
       "      <th>Infosys_filtered</th>\n",
       "      <th>TCS_filtered</th>\n",
       "      <th>Cognizant_filtered</th>\n",
       "      <th>Accenture_show</th>\n",
       "      <th>Infosys_show</th>\n",
       "      <th>TCS_show</th>\n",
       "      <th>Cognizant_show</th>\n",
       "    </tr>\n",
       "  </thead>\n",
       "  <tbody>\n",
       "    <tr>\n",
       "      <th>0</th>\n",
       "      <td>FS_Gross Profit - Industrials/Property - Total</td>\n",
       "      <td>FS</td>\n",
       "      <td>5.0</td>\n",
       "      <td>1.000</td>\n",
       "      <td>0.860</td>\n",
       "      <td>1.000</td>\n",
       "      <td>1.000</td>\n",
       "      <td>1.000</td>\n",
       "      <td>0.860</td>\n",
       "      <td>1.000</td>\n",
       "      <td>1.000</td>\n",
       "    </tr>\n",
       "    <tr>\n",
       "      <th>1</th>\n",
       "      <td>IS_Gross Profit</td>\n",
       "      <td>IS</td>\n",
       "      <td>5.0</td>\n",
       "      <td>1.000</td>\n",
       "      <td>1.000</td>\n",
       "      <td>1.000</td>\n",
       "      <td>1.000</td>\n",
       "      <td>1.000</td>\n",
       "      <td>1.000</td>\n",
       "      <td>1.000</td>\n",
       "      <td>1.000</td>\n",
       "    </tr>\n",
       "    <tr>\n",
       "      <th>2</th>\n",
       "      <td>FS_Operating Profit before Non-Recurring Incom...</td>\n",
       "      <td>FS</td>\n",
       "      <td>5.0</td>\n",
       "      <td>0.995</td>\n",
       "      <td>0.743</td>\n",
       "      <td>0.984</td>\n",
       "      <td>0.988</td>\n",
       "      <td>0.995</td>\n",
       "      <td>0.743</td>\n",
       "      <td>0.984</td>\n",
       "      <td>0.988</td>\n",
       "    </tr>\n",
       "    <tr>\n",
       "      <th>3</th>\n",
       "      <td>IS_Normalized EBIT</td>\n",
       "      <td>IS</td>\n",
       "      <td>5.0</td>\n",
       "      <td>0.995</td>\n",
       "      <td>0.996</td>\n",
       "      <td>0.984</td>\n",
       "      <td>0.988</td>\n",
       "      <td>0.995</td>\n",
       "      <td>0.996</td>\n",
       "      <td>0.984</td>\n",
       "      <td>0.988</td>\n",
       "    </tr>\n",
       "    <tr>\n",
       "      <th>4</th>\n",
       "      <td>EBIT(천원)</td>\n",
       "      <td>수익성</td>\n",
       "      <td>1.0</td>\n",
       "      <td>0.995</td>\n",
       "      <td>0.996</td>\n",
       "      <td>0.984</td>\n",
       "      <td>0.988</td>\n",
       "      <td>0.995</td>\n",
       "      <td>0.996</td>\n",
       "      <td>0.984</td>\n",
       "      <td>0.988</td>\n",
       "    </tr>\n",
       "    <tr>\n",
       "      <th>...</th>\n",
       "      <td>...</td>\n",
       "      <td>...</td>\n",
       "      <td>...</td>\n",
       "      <td>...</td>\n",
       "      <td>...</td>\n",
       "      <td>...</td>\n",
       "      <td>...</td>\n",
       "      <td>...</td>\n",
       "      <td>...</td>\n",
       "      <td>...</td>\n",
       "      <td>...</td>\n",
       "    </tr>\n",
       "    <tr>\n",
       "      <th>157</th>\n",
       "      <td>매출액이익률(비율)</td>\n",
       "      <td>수익성</td>\n",
       "      <td>0.0</td>\n",
       "      <td>NaN</td>\n",
       "      <td>NaN</td>\n",
       "      <td>NaN</td>\n",
       "      <td>-0.824</td>\n",
       "      <td>0.006</td>\n",
       "      <td>-0.534</td>\n",
       "      <td>0.676</td>\n",
       "      <td>-0.824</td>\n",
       "    </tr>\n",
       "    <tr>\n",
       "      <th>158</th>\n",
       "      <td>FS_Gross Profit Margin - %</td>\n",
       "      <td>FS</td>\n",
       "      <td>5.0</td>\n",
       "      <td>NaN</td>\n",
       "      <td>NaN</td>\n",
       "      <td>NaN</td>\n",
       "      <td>-0.824</td>\n",
       "      <td>0.006</td>\n",
       "      <td>-0.534</td>\n",
       "      <td>0.676</td>\n",
       "      <td>-0.824</td>\n",
       "    </tr>\n",
       "    <tr>\n",
       "      <th>159</th>\n",
       "      <td>FS_Current Ratio</td>\n",
       "      <td>FS</td>\n",
       "      <td>5.0</td>\n",
       "      <td>NaN</td>\n",
       "      <td>NaN</td>\n",
       "      <td>NaN</td>\n",
       "      <td>-0.855</td>\n",
       "      <td>-0.186</td>\n",
       "      <td>-0.248</td>\n",
       "      <td>0.602</td>\n",
       "      <td>-0.855</td>\n",
       "    </tr>\n",
       "    <tr>\n",
       "      <th>160</th>\n",
       "      <td>유동비율(비율)</td>\n",
       "      <td>안정성</td>\n",
       "      <td>2.0</td>\n",
       "      <td>NaN</td>\n",
       "      <td>NaN</td>\n",
       "      <td>NaN</td>\n",
       "      <td>-0.855</td>\n",
       "      <td>-0.186</td>\n",
       "      <td>-0.248</td>\n",
       "      <td>0.602</td>\n",
       "      <td>-0.855</td>\n",
       "    </tr>\n",
       "    <tr>\n",
       "      <th>161</th>\n",
       "      <td>매출액증가율(YoY)(연도)</td>\n",
       "      <td>성장성</td>\n",
       "      <td>0.0</td>\n",
       "      <td>NaN</td>\n",
       "      <td>NaN</td>\n",
       "      <td>NaN</td>\n",
       "      <td>-0.877</td>\n",
       "      <td>0.161</td>\n",
       "      <td>-0.675</td>\n",
       "      <td>-0.467</td>\n",
       "      <td>-0.877</td>\n",
       "    </tr>\n",
       "  </tbody>\n",
       "</table>\n",
       "<p>162 rows × 11 columns</p>\n",
       "</div>"
      ],
      "text/plain": [
       "                                              variable group  importance  \\\n",
       "0       FS_Gross Profit - Industrials/Property - Total    FS         5.0   \n",
       "1                                      IS_Gross Profit    IS         5.0   \n",
       "2    FS_Operating Profit before Non-Recurring Incom...    FS         5.0   \n",
       "3                                   IS_Normalized EBIT    IS         5.0   \n",
       "4                                             EBIT(천원)   수익성         1.0   \n",
       "..                                                 ...   ...         ...   \n",
       "157                                         매출액이익률(비율)   수익성         0.0   \n",
       "158                         FS_Gross Profit Margin - %    FS         5.0   \n",
       "159                                   FS_Current Ratio    FS         5.0   \n",
       "160                                           유동비율(비율)   안정성         2.0   \n",
       "161                                    매출액증가율(YoY)(연도)   성장성         0.0   \n",
       "\n",
       "     Accenture_filtered  Infosys_filtered  TCS_filtered  Cognizant_filtered  \\\n",
       "0                 1.000             0.860         1.000               1.000   \n",
       "1                 1.000             1.000         1.000               1.000   \n",
       "2                 0.995             0.743         0.984               0.988   \n",
       "3                 0.995             0.996         0.984               0.988   \n",
       "4                 0.995             0.996         0.984               0.988   \n",
       "..                  ...               ...           ...                 ...   \n",
       "157                 NaN               NaN           NaN              -0.824   \n",
       "158                 NaN               NaN           NaN              -0.824   \n",
       "159                 NaN               NaN           NaN              -0.855   \n",
       "160                 NaN               NaN           NaN              -0.855   \n",
       "161                 NaN               NaN           NaN              -0.877   \n",
       "\n",
       "     Accenture_show  Infosys_show  TCS_show  Cognizant_show  \n",
       "0             1.000         0.860     1.000           1.000  \n",
       "1             1.000         1.000     1.000           1.000  \n",
       "2             0.995         0.743     0.984           0.988  \n",
       "3             0.995         0.996     0.984           0.988  \n",
       "4             0.995         0.996     0.984           0.988  \n",
       "..              ...           ...       ...             ...  \n",
       "157           0.006        -0.534     0.676          -0.824  \n",
       "158           0.006        -0.534     0.676          -0.824  \n",
       "159          -0.186        -0.248     0.602          -0.855  \n",
       "160          -0.186        -0.248     0.602          -0.855  \n",
       "161           0.161        -0.675    -0.467          -0.877  \n",
       "\n",
       "[162 rows x 11 columns]"
      ]
     },
     "execution_count": 66,
     "metadata": {},
     "output_type": "execute_result"
    }
   ],
   "source": [
    "df_all_merged"
   ]
  },
  {
   "cell_type": "code",
   "execution_count": null,
   "id": "4b407857",
   "metadata": {},
   "outputs": [],
   "source": []
  }
 ],
 "metadata": {
  "hide_input": false,
  "kernelspec": {
   "display_name": "Python 3 (ipykernel)",
   "language": "python",
   "name": "python3"
  },
  "language_info": {
   "codemirror_mode": {
    "name": "ipython",
    "version": 3
   },
   "file_extension": ".py",
   "mimetype": "text/x-python",
   "name": "python",
   "nbconvert_exporter": "python",
   "pygments_lexer": "ipython3",
   "version": "3.9.7"
  },
  "toc": {
   "base_numbering": 1,
   "nav_menu": {},
   "number_sections": true,
   "sideBar": true,
   "skip_h1_title": false,
   "title_cell": "Table of Contents",
   "title_sidebar": "Contents",
   "toc_cell": false,
   "toc_position": {
    "height": "calc(100% - 180px)",
    "left": "10px",
    "top": "150px",
    "width": "225px"
   },
   "toc_section_display": true,
   "toc_window_display": true
  },
  "varInspector": {
   "cols": {
    "lenName": 16,
    "lenType": 16,
    "lenVar": 40
   },
   "kernels_config": {
    "python": {
     "delete_cmd_postfix": "",
     "delete_cmd_prefix": "del ",
     "library": "var_list.py",
     "varRefreshCmd": "print(var_dic_list())"
    },
    "r": {
     "delete_cmd_postfix": ") ",
     "delete_cmd_prefix": "rm(",
     "library": "var_list.r",
     "varRefreshCmd": "cat(var_dic_list()) "
    }
   },
   "types_to_exclude": [
    "module",
    "function",
    "builtin_function_or_method",
    "instance",
    "_Feature"
   ],
   "window_display": false
  }
 },
 "nbformat": 4,
 "nbformat_minor": 5
}
