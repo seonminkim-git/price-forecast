{
 "cells": [
  {
   "cell_type": "code",
   "execution_count": 21,
   "id": "29e66115",
   "metadata": {
    "ExecuteTime": {
     "end_time": "2022-08-03T02:10:18.734767Z",
     "start_time": "2022-08-03T02:10:18.719808Z"
    }
   },
   "outputs": [],
   "source": [
    "import pandas as pd\n",
    "import numpy as np\n",
    "import os\n",
    "from scipy.cluster import hierarchy as hc\n",
    "import matplotlib\n",
    "import matplotlib.pyplot as plt\n",
    "import warnings\n",
    "import seaborn as sns\n",
    "from scipy import stats\n",
    "import math\n",
    "from sklearn.preprocessing import MinMaxScaler\n",
    "\n",
    "%matplotlib inline\n",
    "warnings.filterwarnings(action='ignore')\n",
    "\n",
    "matplotlib.rcParams['font.family'] ='Malgun Gothic'\n",
    "matplotlib.rcParams['axes.unicode_minus'] =False"
   ]
  },
  {
   "cell_type": "markdown",
   "id": "e5fb7b91",
   "metadata": {},
   "source": [
    "# Load data"
   ]
  },
  {
   "cell_type": "code",
   "execution_count": 22,
   "id": "a4ba4241",
   "metadata": {
    "ExecuteTime": {
     "end_time": "2022-08-03T02:10:19.084110Z",
     "start_time": "2022-08-03T02:10:19.077128Z"
    }
   },
   "outputs": [],
   "source": [
    "# dir_root = 'C:/Users/kkt71/OneDrive/바탕 화면/기업가치분석'\n",
    "dir_root = 'C:/Users/10188/Desktop/기업가치/상관분석/기업가치분석_data_result'\n",
    "dir_master = os.path.join(dir_root, '01. data', 'master')\n",
    "dir_processed = os.path.join(dir_root, '01. data', 'processed')\n",
    "dir_result = os.path.join(dir_root, '03. result')"
   ]
  },
  {
   "cell_type": "code",
   "execution_count": 23,
   "id": "83f34bb3",
   "metadata": {
    "ExecuteTime": {
     "end_time": "2022-08-03T02:10:19.953510Z",
     "start_time": "2022-08-03T02:10:19.947528Z"
    }
   },
   "outputs": [],
   "source": [
    "y = '매출총이익(천원)'\n",
    "c1 = 'Accenture'\n",
    "c2 = 'Infosys'\n",
    "c3 = 'TCS'\n",
    "c4 = 'Cognizant'"
   ]
  },
  {
   "cell_type": "code",
   "execution_count": 24,
   "id": "e5667460",
   "metadata": {
    "ExecuteTime": {
     "end_time": "2022-08-03T02:10:20.176065Z",
     "start_time": "2022-08-03T02:10:20.171077Z"
    }
   },
   "outputs": [],
   "source": [
    "outperform = [c1, c2, c3]\n",
    "lowperform = [c4]"
   ]
  },
  {
   "cell_type": "code",
   "execution_count": 25,
   "id": "2ea9998e",
   "metadata": {
    "ExecuteTime": {
     "end_time": "2022-08-03T02:10:20.506637Z",
     "start_time": "2022-08-03T02:10:20.500653Z"
    }
   },
   "outputs": [],
   "source": [
    "target_out = [s+'_show' for s in outperform]\n",
    "target_low = [s+'_show' for s in lowperform]\n",
    "target_col = [s+'_show' for s in outperform+lowperform]"
   ]
  },
  {
   "cell_type": "code",
   "execution_count": 26,
   "id": "c0c3a134",
   "metadata": {
    "ExecuteTime": {
     "end_time": "2022-08-03T02:10:20.799666Z",
     "start_time": "2022-08-03T02:10:20.794676Z"
    }
   },
   "outputs": [],
   "source": [
    "dir_result_all = os.path.join(dir_result, 'All_ITS', y)"
   ]
  },
  {
   "cell_type": "code",
   "execution_count": 27,
   "id": "ef61a030",
   "metadata": {
    "ExecuteTime": {
     "end_time": "2022-08-03T02:10:21.308031Z",
     "start_time": "2022-08-03T02:10:21.210705Z"
    }
   },
   "outputs": [],
   "source": [
    "df = pd.read_excel(os.path.join(dir_result_all, 'corr_y_x_over7.xlsx'))"
   ]
  },
  {
   "cell_type": "code",
   "execution_count": 28,
   "id": "b748b726",
   "metadata": {
    "ExecuteTime": {
     "end_time": "2022-08-03T02:10:22.086196Z",
     "start_time": "2022-08-03T02:10:22.078217Z"
    }
   },
   "outputs": [
    {
     "data": {
      "text/plain": [
       "Index(['variable', 'group', 'importance', 'Accenture_filtered',\n",
       "       'Infosys_filtered', 'TCS_filtered', 'Cognizant_filtered',\n",
       "       'Accenture_show', 'Infosys_show', 'TCS_show', 'Cognizant_show'],\n",
       "      dtype='object')"
      ]
     },
     "execution_count": 28,
     "metadata": {},
     "output_type": "execute_result"
    }
   ],
   "source": [
    "df.columns"
   ]
  },
  {
   "cell_type": "markdown",
   "id": "e1bed34e",
   "metadata": {},
   "source": [
    "# Make index"
   ]
  },
  {
   "cell_type": "code",
   "execution_count": 29,
   "id": "4a663fac",
   "metadata": {
    "ExecuteTime": {
     "end_time": "2022-08-03T02:10:24.746113Z",
     "start_time": "2022-08-03T02:10:24.731155Z"
    }
   },
   "outputs": [],
   "source": [
    "df['Outperform_avg'] = df[list(set(target_out)&set(df.columns))].mean(axis=1)\n",
    "df['Gap(Out~Low)'] = np.abs(df['Outperform_avg']-df[target_low[0]])\n",
    "df['Std(Out)'] = df[list(set(target_out)&set(df.columns))].std(axis=1)"
   ]
  },
  {
   "cell_type": "code",
   "execution_count": 30,
   "id": "5b49a521",
   "metadata": {
    "ExecuteTime": {
     "end_time": "2022-08-03T02:10:28.127281Z",
     "start_time": "2022-08-03T02:10:28.116311Z"
    }
   },
   "outputs": [],
   "source": [
    "scaler = MinMaxScaler()\n",
    "df['Gap normed+1'] = pd.DataFrame(scaler.fit_transform(df[['Gap(Out~Low)']])+1)[0]"
   ]
  },
  {
   "cell_type": "code",
   "execution_count": 31,
   "id": "b1ff81d6",
   "metadata": {
    "ExecuteTime": {
     "end_time": "2022-08-03T02:10:29.310363Z",
     "start_time": "2022-08-03T02:10:29.294407Z"
    }
   },
   "outputs": [],
   "source": [
    "scaler = MinMaxScaler()\n",
    "df['Std normed+1'] = pd.DataFrame(scaler.fit_transform(df[['Std(Out)']])+1)[0]"
   ]
  },
  {
   "cell_type": "code",
   "execution_count": 32,
   "id": "51b252d3",
   "metadata": {
    "ExecuteTime": {
     "end_time": "2022-08-03T02:10:29.472217Z",
     "start_time": "2022-08-03T02:10:29.464237Z"
    }
   },
   "outputs": [],
   "source": [
    "df['index 1'] = df['Gap normed+1']/df['Std normed+1']"
   ]
  },
  {
   "cell_type": "code",
   "execution_count": 33,
   "id": "891cbf96",
   "metadata": {
    "ExecuteTime": {
     "end_time": "2022-08-03T02:10:29.649368Z",
     "start_time": "2022-08-03T02:10:29.635405Z"
    }
   },
   "outputs": [],
   "source": [
    "scaler = MinMaxScaler()\n",
    "df['Std normed original'] = pd.DataFrame(scaler.fit_transform(df[['Std(Out)']]))[0]"
   ]
  },
  {
   "cell_type": "code",
   "execution_count": 34,
   "id": "06c7728f",
   "metadata": {
    "ExecuteTime": {
     "end_time": "2022-08-03T02:10:29.831455Z",
     "start_time": "2022-08-03T02:10:29.822480Z"
    }
   },
   "outputs": [],
   "source": [
    "df['Std normed 0.5'] = df['Std normed original']*0.5 + 0.5\n",
    "df['1/Std normed'] = 1/df['Std normed 0.5']"
   ]
  },
  {
   "cell_type": "code",
   "execution_count": 35,
   "id": "7d944319",
   "metadata": {
    "ExecuteTime": {
     "end_time": "2022-08-03T02:10:29.980058Z",
     "start_time": "2022-08-03T02:10:29.972080Z"
    }
   },
   "outputs": [],
   "source": [
    "df['Index 2'] = 0.6*df['Gap normed+1']+0.4*df['1/Std normed']"
   ]
  },
  {
   "cell_type": "code",
   "execution_count": 36,
   "id": "055974f7",
   "metadata": {
    "ExecuteTime": {
     "end_time": "2022-08-03T02:10:30.134820Z",
     "start_time": "2022-08-03T02:10:30.123846Z"
    }
   },
   "outputs": [],
   "source": [
    "df[[s+'_marked' for s in outperform+lowperform]+[s+'_plot' for s in outperform+lowperform]] = np.nan"
   ]
  },
  {
   "cell_type": "code",
   "execution_count": 37,
   "id": "3eecc42b",
   "metadata": {
    "ExecuteTime": {
     "end_time": "2022-08-03T02:10:35.154344Z",
     "start_time": "2022-08-03T02:10:34.888395Z"
    }
   },
   "outputs": [],
   "source": [
    "writer = pd.ExcelWriter(os.path.join(dir_result_all, 'correlation_index.xlsx'), engine='xlsxwriter')\n",
    "df.to_excel(writer, index=False)\n",
    "writer.save()"
   ]
  },
  {
   "cell_type": "code",
   "execution_count": null,
   "id": "06d60ef7",
   "metadata": {},
   "outputs": [],
   "source": []
  },
  {
   "cell_type": "code",
   "execution_count": null,
   "id": "9bb16fd1",
   "metadata": {},
   "outputs": [],
   "source": []
  }
 ],
 "metadata": {
  "hide_input": false,
  "kernelspec": {
   "display_name": "Python 3 (ipykernel)",
   "language": "python",
   "name": "python3"
  },
  "language_info": {
   "codemirror_mode": {
    "name": "ipython",
    "version": 3
   },
   "file_extension": ".py",
   "mimetype": "text/x-python",
   "name": "python",
   "nbconvert_exporter": "python",
   "pygments_lexer": "ipython3",
   "version": "3.9.7"
  },
  "toc": {
   "base_numbering": 1,
   "nav_menu": {},
   "number_sections": true,
   "sideBar": true,
   "skip_h1_title": false,
   "title_cell": "Table of Contents",
   "title_sidebar": "Contents",
   "toc_cell": false,
   "toc_position": {
    "height": "calc(100% - 180px)",
    "left": "10px",
    "top": "150px",
    "width": "225px"
   },
   "toc_section_display": true,
   "toc_window_display": true
  },
  "varInspector": {
   "cols": {
    "lenName": 16,
    "lenType": 16,
    "lenVar": 40
   },
   "kernels_config": {
    "python": {
     "delete_cmd_postfix": "",
     "delete_cmd_prefix": "del ",
     "library": "var_list.py",
     "varRefreshCmd": "print(var_dic_list())"
    },
    "r": {
     "delete_cmd_postfix": ") ",
     "delete_cmd_prefix": "rm(",
     "library": "var_list.r",
     "varRefreshCmd": "cat(var_dic_list()) "
    }
   },
   "types_to_exclude": [
    "module",
    "function",
    "builtin_function_or_method",
    "instance",
    "_Feature"
   ],
   "window_display": false
  }
 },
 "nbformat": 4,
 "nbformat_minor": 5
}
