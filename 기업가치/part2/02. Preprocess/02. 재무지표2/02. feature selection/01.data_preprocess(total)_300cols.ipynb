{
 "cells": [
  {
   "cell_type": "markdown",
   "id": "0f0e47c7",
   "metadata": {},
   "source": [
    "# IMPORT LIBARAY"
   ]
  },
  {
   "cell_type": "code",
   "execution_count": 1,
   "id": "14f1f69d",
   "metadata": {
    "ExecuteTime": {
     "end_time": "2022-08-22T07:28:17.928279Z",
     "start_time": "2022-08-22T07:28:14.611688Z"
    }
   },
   "outputs": [],
   "source": [
    "import pandas as pd\n",
    "import numpy as np\n",
    "import os\n",
    "import glob\n",
    "import datetime\n",
    "import warnings\n",
    "warnings.filterwarnings('ignore')\n",
    "\n",
    "from collections import Counter\n",
    "from scipy import interpolate\n",
    "\n",
    "import matplotlib.pyplot as plt\n",
    "import matplotlib.font_manager as fm\n",
    "import seaborn as sns\n",
    "import plotly.graph_objects as go\n",
    "from matplotlib import dates\n",
    "from plotly.subplots import make_subplots\n",
    "import plotly\n",
    "import plotly.express as px\n",
    "pd.options.display.float_format = '{:.5f}'.format\n",
    "\n",
    "import FinanceDataReader as fdr\n",
    "\n",
    "from sklearn.preprocessing import MinMaxScaler\n",
    "\n",
    "# os.getcwd()\n",
    "### 설치된 폰트 출력\n",
    "font_list = [font.name for font in fm.fontManager.ttflist]\n",
    "font_list\n",
    "plt.rc(\"font\", family=\"DejaVu Sans\")\n",
    "parameters = {'axes.labelsize': 20,\n",
    "          'axes.titlesize': 25,\n",
    "          'xtick.labelsize': 20,\n",
    "          'ytick.labelsize': 20,\n",
    "        'legend.fontsize': 20,\n",
    "          }\n",
    "plt.rcParams.update(parameters)\n",
    "plt.rcParams['font.family'] = 'DejaVu Sans'\n",
    "\n",
    "current_dir = os.getcwd()\n",
    "plt.style.use(\"seaborn-dark\")\n",
    "plt.rcParams['font.family'] = 'DejaVu Sans'"
   ]
  },
  {
   "cell_type": "code",
   "execution_count": 2,
   "id": "8b725794",
   "metadata": {
    "ExecuteTime": {
     "end_time": "2022-08-22T07:28:17.934003Z",
     "start_time": "2022-08-22T07:28:17.930015Z"
    }
   },
   "outputs": [],
   "source": [
    "root_path = '../../../'\n",
    "current_dir = os.getcwd()\n",
    "\n",
    "master_path = os.path.join(root_path, '01. Data','00. master_data')\n",
    "rawfile_path = os.path.join(master_path, \"result_xlsx\")\n",
    "\n",
    "out_path = os.path.join(root_path, '01. Data','02. 재무지표2', '01. preprocessed')"
   ]
  },
  {
   "cell_type": "markdown",
   "id": "0d335db7",
   "metadata": {},
   "source": [
    "# 결측처리 및 컬럼 처리"
   ]
  },
  {
   "cell_type": "code",
   "execution_count": 3,
   "id": "ee0ef86e",
   "metadata": {
    "ExecuteTime": {
     "end_time": "2022-08-22T07:28:19.187258Z",
     "start_time": "2022-08-22T07:28:17.935998Z"
    }
   },
   "outputs": [
    {
     "data": {
      "text/html": [
       "<div>\n",
       "<style scoped>\n",
       "    .dataframe tbody tr th:only-of-type {\n",
       "        vertical-align: middle;\n",
       "    }\n",
       "\n",
       "    .dataframe tbody tr th {\n",
       "        vertical-align: top;\n",
       "    }\n",
       "\n",
       "    .dataframe thead th {\n",
       "        text-align: right;\n",
       "    }\n",
       "</style>\n",
       "<table border=\"1\" class=\"dataframe\">\n",
       "  <thead>\n",
       "    <tr style=\"text-align: right;\">\n",
       "      <th></th>\n",
       "      <th>raw</th>\n",
       "      <th>no</th>\n",
       "      <th>variable</th>\n",
       "      <th>group</th>\n",
       "      <th>importance</th>\n",
       "    </tr>\n",
       "  </thead>\n",
       "  <tbody>\n",
       "    <tr>\n",
       "      <th>0</th>\n",
       "      <td>Date_x</td>\n",
       "      <td>1</td>\n",
       "      <td>Date_x</td>\n",
       "      <td>DT</td>\n",
       "      <td>9</td>\n",
       "    </tr>\n",
       "    <tr>\n",
       "      <th>1</th>\n",
       "      <td>BS_Earnings Quality Score</td>\n",
       "      <td>2</td>\n",
       "      <td>BS_Earnings Quality Score</td>\n",
       "      <td>BS</td>\n",
       "      <td>5</td>\n",
       "    </tr>\n",
       "  </tbody>\n",
       "</table>\n",
       "</div>"
      ],
      "text/plain": [
       "                         raw  no                   variable group  importance\n",
       "0                     Date_x   1                     Date_x    DT           9\n",
       "1  BS_Earnings Quality Score   2  BS_Earnings Quality Score    BS           5"
      ]
     },
     "execution_count": 3,
     "metadata": {},
     "output_type": "execute_result"
    }
   ],
   "source": [
    "desc = pd.read_excel(os.path.join(master_path, \"desc_v2.2.xlsx\"), sheet_name='desc', header=0, usecols=['no','raw','variable','group','importance'])\n",
    "desc.head(2)"
   ]
  },
  {
   "cell_type": "code",
   "execution_count": 4,
   "id": "a768348b",
   "metadata": {
    "ExecuteTime": {
     "end_time": "2022-08-22T07:28:19.217185Z",
     "start_time": "2022-08-22T07:28:19.189342Z"
    }
   },
   "outputs": [],
   "source": [
    "# desc 데이터 기준, group이 한글인 경우(재무팀에서 뽑아준 항목들) + 전체(영어 포함)를 target variable로 가져감\n",
    "# target_variable = desc.loc[~desc['group'].apply(lambda x: x.encode().isalpha()),\"variable\"].values.tolist()\n",
    "\n",
    "dic_group = dict()\n",
    "for _, xcol in enumerate(desc['variable'].values):\n",
    "    dic_group[xcol] = desc.loc[_,'group']\n",
    "\n",
    "\n",
    "dic_imp = dict()\n",
    "for _, xcol in enumerate(desc['variable'].values):\n",
    "    dic_imp[xcol] = desc.loc[_,'importance']\n",
    "\n",
    "\n",
    "\n",
    "dic_name = dict()\n",
    "for _, xcol in enumerate(desc['raw'].values):\n",
    "    dic_name[xcol] = desc.loc[_, 'variable']\n",
    "\n",
    "dic_name['Dividend Yield - Common Stock - Net - Issue Specific - %, TTM.1'] = \"FS_Dividend Yield - Common Stock - Net - Issue Specific - %, TTM.1\"\n",
    "dic_name['Dividend Yield - Common Stock - Net - Issue Specific - %, TTM.2'] = \"FS_Dividend Yield - Common Stock - Net - Issue Specific - %, TTM.2\"\n",
    "dic_name['Dividend Yield - Common Stock - Net - Issue Specific - %, TTM.3'] = \"FS_Dividend Yield - Common Stock - Net - Issue Specific - %, TTM.3\"\n",
    "\n",
    "dic_name['IS_Other, Net.1'] = \"IS_Other, Net.1\"\n",
    "dic_name['IS_Current Tax - Total.1'] = \"IS_Current Tax - Total.1\"\n",
    "dic_name['IS_Deferred Tax - Total.1'] = \"IS_Deferred Tax - Total.1\"\n",
    "\n",
    "\n",
    "# # C1, C2, C3, C4, C5\n",
    "# C = ['매출액증가율(YoY)(연도)', 'Gross Investment (GI)','무형자산회전율s','매출총이익(천원)','무형자산'] \n",
    "# dic_c = {C[0]:\"C1\", C[1]: \"C2\", C[2]: \"C3\", C[3]:\"C4\", C[4]: \"C5\"}\n",
    "# C_ = ['C1','C2','C3','C4','C5']\n",
    "\n",
    "# Y1, Y2, Y3, Y4\n",
    "Y = ['close','close_weighted','PBR','EV_EBITDA']\n",
    "\n",
    "remove_col = ['인당매출','무형자산회전율','인당영업이익','인당순이익','투자비 대비 매출 (Rev/GI)']\n",
    "ev_col = ['FS_Enterprise Value', 'EBITDA2(천원)', 'EBIT(천원)' ]"
   ]
  },
  {
   "cell_type": "markdown",
   "id": "be957585",
   "metadata": {},
   "source": [
    "## Accenture"
   ]
  },
  {
   "cell_type": "code",
   "execution_count": 5,
   "id": "5318bd40",
   "metadata": {
    "ExecuteTime": {
     "end_time": "2022-08-22T07:28:19.891263Z",
     "start_time": "2022-08-22T07:28:19.219144Z"
    }
   },
   "outputs": [
    {
     "name": "stdout",
     "output_type": "stream",
     "text": [
      "before:  (80, 383)\n",
      "after:  (80, 378)\n"
     ]
    }
   ],
   "source": [
    "raw_file_name = \"Accenture_non_shift.xlsx\"\n",
    "\n",
    "df = pd.read_excel(os.path.join(rawfile_path,raw_file_name))\n",
    "df['Date_x'] = pd.to_datetime(df['Date_x']).dt.to_period('Q')\n",
    "df['Date_x'] = pd.PeriodIndex(df['Date_x'], freq='Q').to_timestamp()\n",
    "\n",
    "for col in df.columns:\n",
    "    if col in list(dic_name.keys()) :\n",
    "        df.rename(columns={col:dic_name[col]}, inplace=True)\n",
    "        \n",
    "print(\"before: \", df.shape)\n",
    "new_df = df[df.columns.difference(remove_col)]\n",
    "print(\"after: \", new_df.shape)"
   ]
  },
  {
   "cell_type": "markdown",
   "id": "a1bc998b",
   "metadata": {},
   "source": [
    "### 결측 처리"
   ]
  },
  {
   "cell_type": "code",
   "execution_count": 6,
   "id": "09f9bacc",
   "metadata": {
    "ExecuteTime": {
     "end_time": "2022-08-22T07:28:20.696905Z",
     "start_time": "2022-08-22T07:28:19.893250Z"
    }
   },
   "outputs": [
    {
     "name": "stdout",
     "output_type": "stream",
     "text": [
      "결측값 확인:  127\n",
      "BPS증가율(YoY)(비율)\n",
      "EBITDA2증가율(YoY)(비율)\n",
      "EPS증가율(YoY)(비율)\n",
      "FS_Dividend Coverage - %\n",
      "FS_Dividend Yield - Common Stock - Net - Issue Specific - %, TTM\n",
      "ROGI(%)\n",
      "매출액증가율(YoY)(연도)\n",
      "순이익증가율(YoY)(비율)\n",
      "영업이익증가율(YoY)(연도)\n",
      "==> 4개 이상의 결측값을 가지는 컬럼 확인\n",
      "(80, 378)\n"
     ]
    }
   ],
   "source": [
    "print(\"결측값 확인: \", new_df.isna().sum().sum())\n",
    "for i in range(len(new_df.columns)):\n",
    "    flg = 0\n",
    "    for j in range(len(new_df)):\n",
    "        if pd.isna(new_df.iloc[j,i]):\n",
    "            flg += 1\n",
    "        else:\n",
    "            flg = 0\n",
    "            \n",
    "        if flg >= 4:\n",
    "            print(new_df.columns[i])\n",
    "            flg = 0\n",
    "            break\n",
    "print(\"==> 4개 이상의 결측값을 가지는 컬럼 확인\")\n",
    "print(new_df.shape)"
   ]
  },
  {
   "cell_type": "code",
   "execution_count": 7,
   "id": "e6d9c953",
   "metadata": {
    "ExecuteTime": {
     "end_time": "2022-08-22T07:28:20.709344Z",
     "start_time": "2022-08-22T07:28:20.699500Z"
    }
   },
   "outputs": [
    {
     "data": {
      "text/html": [
       "<div>\n",
       "<style scoped>\n",
       "    .dataframe tbody tr th:only-of-type {\n",
       "        vertical-align: middle;\n",
       "    }\n",
       "\n",
       "    .dataframe tbody tr th {\n",
       "        vertical-align: top;\n",
       "    }\n",
       "\n",
       "    .dataframe thead th {\n",
       "        text-align: right;\n",
       "    }\n",
       "</style>\n",
       "<table border=\"1\" class=\"dataframe\">\n",
       "  <thead>\n",
       "    <tr style=\"text-align: right;\">\n",
       "      <th></th>\n",
       "      <th>Accenture</th>\n",
       "      <th>ratio</th>\n",
       "    </tr>\n",
       "  </thead>\n",
       "  <tbody>\n",
       "    <tr>\n",
       "      <th>0</th>\n",
       "      <td>13</td>\n",
       "      <td>0.03439</td>\n",
       "    </tr>\n",
       "    <tr>\n",
       "      <th>1</th>\n",
       "      <td>13</td>\n",
       "      <td>0.03439</td>\n",
       "    </tr>\n",
       "    <tr>\n",
       "      <th>2</th>\n",
       "      <td>13</td>\n",
       "      <td>0.03439</td>\n",
       "    </tr>\n",
       "    <tr>\n",
       "      <th>3</th>\n",
       "      <td>8</td>\n",
       "      <td>0.02116</td>\n",
       "    </tr>\n",
       "    <tr>\n",
       "      <th>4</th>\n",
       "      <td>1</td>\n",
       "      <td>0.00265</td>\n",
       "    </tr>\n",
       "    <tr>\n",
       "      <th>5</th>\n",
       "      <td>1</td>\n",
       "      <td>0.00265</td>\n",
       "    </tr>\n",
       "    <tr>\n",
       "      <th>6</th>\n",
       "      <td>1</td>\n",
       "      <td>0.00265</td>\n",
       "    </tr>\n",
       "    <tr>\n",
       "      <th>7</th>\n",
       "      <td>1</td>\n",
       "      <td>0.00265</td>\n",
       "    </tr>\n",
       "    <tr>\n",
       "      <th>8</th>\n",
       "      <td>1</td>\n",
       "      <td>0.00265</td>\n",
       "    </tr>\n",
       "    <tr>\n",
       "      <th>9</th>\n",
       "      <td>1</td>\n",
       "      <td>0.00265</td>\n",
       "    </tr>\n",
       "  </tbody>\n",
       "</table>\n",
       "</div>"
      ],
      "text/plain": [
       "   Accenture   ratio\n",
       "0         13 0.03439\n",
       "1         13 0.03439\n",
       "2         13 0.03439\n",
       "3          8 0.02116\n",
       "4          1 0.00265\n",
       "5          1 0.00265\n",
       "6          1 0.00265\n",
       "7          1 0.00265\n",
       "8          1 0.00265\n",
       "9          1 0.00265"
      ]
     },
     "execution_count": 7,
     "metadata": {},
     "output_type": "execute_result"
    }
   ],
   "source": [
    "# 행별 결측 비율 확인\n",
    "tmp = new_df.isna().sum(axis=1).to_frame().rename(columns={0:raw_file_name.split(\"_\")[0]})\n",
    "\n",
    "company = raw_file_name.split(\"_\")[0]\n",
    "tmp['ratio'] = tmp[company] / len(new_df.columns)\n",
    "tmp[:10]"
   ]
  },
  {
   "cell_type": "code",
   "execution_count": 8,
   "id": "1a3e3310",
   "metadata": {
    "ExecuteTime": {
     "end_time": "2022-08-22T07:28:20.720295Z",
     "start_time": "2022-08-22T07:28:20.712279Z"
    }
   },
   "outputs": [],
   "source": [
    "### 초기 4개의 행 삭제\n",
    "new_df = new_df.loc[4:,:].reset_index(drop=True)"
   ]
  },
  {
   "cell_type": "code",
   "execution_count": 9,
   "id": "8e850fab",
   "metadata": {
    "ExecuteTime": {
     "end_time": "2022-08-22T07:28:20.746951Z",
     "start_time": "2022-08-22T07:28:20.722254Z"
    }
   },
   "outputs": [
    {
     "name": "stdout",
     "output_type": "stream",
     "text": [
      "결측값 확인:  80\n",
      "FS_Dividend Coverage - %\n",
      "FS_Dividend Yield - Common Stock - Net - Issue Specific - %, TTM\n",
      "4개 이상의 결측값을 가지는 컬럼 확인 \n",
      "*------------------------------------*\n",
      "before:  (76, 378)\n",
      "drop_lst4:  2\n",
      "after:  (76, 376)\n"
     ]
    }
   ],
   "source": [
    "print(\"결측값 확인: \", new_df.isna().sum().sum())\n",
    "na_cols = new_df.isna().sum()[new_df.isna().sum() > 0].index\n",
    "\n",
    "drop_lst4 = []\n",
    "for i in range(len(na_cols)):\n",
    "    flg = 0\n",
    "    for j in range(len(new_df)):\n",
    "        if pd.isna(new_df.loc[j,na_cols[i]]):\n",
    "            flg += 1\n",
    "        else:\n",
    "            flg = 0 \n",
    "            \n",
    "        if flg >= 4:\n",
    "            print(na_cols[i])\n",
    "            flg = 0\n",
    "            drop_lst4.append(na_cols[i])\n",
    "            break\n",
    "            \n",
    "print(\"4개 이상의 결측값을 가지는 컬럼 확인 \")\n",
    "drop_lst4 = list(set(drop_lst4)&set(new_df.columns))\n",
    "print(\"*------------------------------------*\")\n",
    "print(\"before: \", new_df.shape)\n",
    "print(\"drop_lst4: \",len(drop_lst4))\n",
    "new_df = new_df[new_df.columns.difference(drop_lst4)]\n",
    "print(\"after: \", new_df.shape)"
   ]
  },
  {
   "cell_type": "markdown",
   "id": "e4b44a77",
   "metadata": {},
   "source": [
    "### 동일한 값인 경우 (std = 0인 경우)"
   ]
  },
  {
   "cell_type": "code",
   "execution_count": 10,
   "id": "5592e2ae",
   "metadata": {
    "ExecuteTime": {
     "end_time": "2022-08-22T07:28:23.623151Z",
     "start_time": "2022-08-22T07:28:20.748697Z"
    }
   },
   "outputs": [
    {
     "name": "stdout",
     "output_type": "stream",
     "text": [
      "before:  (76, 376)\n",
      "drop_lst:  34\n",
      "after:  (76, 342)\n"
     ]
    },
    {
     "data": {
      "text/plain": [
       "['BS_Common Stock, Total',\n",
       " 'IS_Actuarial Gains and Losses - Post-Retir.',\n",
       " 'IS_Service Cost - Post-Retirement',\n",
       " 'BS_Treasury Shares - Common Issue 3',\n",
       " 'IS_Prior Service Cost - Foreign',\n",
       " 'IS_Labor & Related Expense',\n",
       " 'IS_Actuarial Gains and Losses - Foreign',\n",
       " 'IS_Interest Cost - Post-Retirement',\n",
       " 'CF_Amortization of Intangibles',\n",
       " 'BS_Shares Outstanding - Common Issue 3',\n",
       " 'BS_Common Stock',\n",
       " 'BS_Long Term Debt Maturing in Year 2',\n",
       " 'IS_Accounting Change',\n",
       " 'CF_Equity in Net Earnings (Loss)',\n",
       " 'BS_Long Term Debt Maturing in Year 4',\n",
       " 'IS_Expected Return on Assets - Post-Retir.',\n",
       " 'BS_Long Term Debt Maturing in 2-3 Years',\n",
       " 'CF_Accounting Change',\n",
       " 'BS_Long Term Debt Maturing in 4-5 Years',\n",
       " 'BS_Long Term Debt Matur. in Year 6 & Beyond',\n",
       " 'CF_Amortization',\n",
       " 'BS_Long Term Debt Maturing in Year 3',\n",
       " 'IS_Dividends per Share - Com Stock Issue 2',\n",
       " 'BS_Long Term Debt Maturing in Year 5',\n",
       " 'BS_Treasury Shares - Common Issue 2',\n",
       " 'CF_Purchase/Acquisition of Intangibles',\n",
       " 'IS_Prior Service Cost - Post-Retirement',\n",
       " 'CF_Other Assets & Liabilities, Net',\n",
       " 'IS_Litigation',\n",
       " 'IS_Prior Service Cost - Domestic',\n",
       " '자본금(천원)',\n",
       " 'IS_Curtailments & Settlements - Post-Retir.',\n",
       " 'IS_Actuarial Gains and Losses - Domestic',\n",
       " 'IS_Transition Costs - Post-Retirement']"
      ]
     },
     "execution_count": 10,
     "metadata": {},
     "output_type": "execute_result"
    }
   ],
   "source": [
    "tmp = new_df.describe().loc['std',:][new_df.describe().loc['std',:] == 0].index\n",
    "TF = new_df.describe().loc['min',:] == new_df.describe().loc['max',:]\n",
    "tmp1 = new_df.describe().loc[:,TF].columns.values.tolist()\n",
    "\n",
    "tmp = list(set(tmp) | set(tmp1))\n",
    "tmp = list(set(tmp) & set(new_df.columns))\n",
    "\n",
    "drop_lst1 = list(tmp)\n",
    "\n",
    "print(\"before: \", new_df.shape)\n",
    "print(\"drop_lst: \",len(list(drop_lst1)))\n",
    "new_df = new_df[new_df.columns.difference(drop_lst1)]\n",
    "print(\"after: \", new_df.shape)\n",
    "\n",
    "drop_lst1\n"
   ]
  },
  {
   "cell_type": "markdown",
   "id": "083885a5",
   "metadata": {},
   "source": [
    "### importance=9 인 경우"
   ]
  },
  {
   "cell_type": "code",
   "execution_count": 11,
   "id": "93908845",
   "metadata": {
    "ExecuteTime": {
     "end_time": "2022-08-22T07:28:23.633400Z",
     "start_time": "2022-08-22T07:28:23.625119Z"
    }
   },
   "outputs": [
    {
     "name": "stdout",
     "output_type": "stream",
     "text": [
      "before:  (76, 342)\n",
      "drop_lst2:  4\n",
      "after:  (76, 338)\n"
     ]
    },
    {
     "data": {
      "text/plain": [
       "['PBR', '인력수', 'close_weighted', 'close']"
      ]
     },
     "execution_count": 11,
     "metadata": {},
     "output_type": "execute_result"
    }
   ],
   "source": [
    "drop_lst2 = ['Sum of 종가*거래량','Sum of Volume','인력수','close','close_weighted','PBR']\n",
    "drop_lst2 = list(set(drop_lst2)&set(new_df.columns))\n",
    "print(\"before: \", new_df.shape)\n",
    "print(\"drop_lst2: \",len(drop_lst2))\n",
    "new_df = new_df[new_df.columns.difference(drop_lst2)]\n",
    "print(\"after: \", new_df.shape)\n",
    "\n",
    "drop_lst2"
   ]
  },
  {
   "cell_type": "markdown",
   "id": "e5c0f973",
   "metadata": {},
   "source": [
    "### 종속 변수에 사용되는 경우"
   ]
  },
  {
   "cell_type": "code",
   "execution_count": 12,
   "id": "817f8f13",
   "metadata": {
    "ExecuteTime": {
     "end_time": "2022-08-22T07:28:23.643333Z",
     "start_time": "2022-08-22T07:28:23.635354Z"
    }
   },
   "outputs": [
    {
     "name": "stdout",
     "output_type": "stream",
     "text": [
      "before:  (76, 338)\n",
      "after:  (76, 335)\n"
     ]
    }
   ],
   "source": [
    "print(\"before: \", new_df.shape)\n",
    "new_df = new_df[new_df.columns.difference(ev_col)]\n",
    "print(\"after: \", new_df.shape)"
   ]
  },
  {
   "cell_type": "markdown",
   "id": "15c39ea2",
   "metadata": {},
   "source": [
    "### 최빈값 60% 초과인 경우"
   ]
  },
  {
   "cell_type": "code",
   "execution_count": 13,
   "id": "31ee989d",
   "metadata": {
    "ExecuteTime": {
     "end_time": "2022-08-22T07:28:23.684270Z",
     "start_time": "2022-08-22T07:28:23.646327Z"
    }
   },
   "outputs": [
    {
     "name": "stdout",
     "output_type": "stream",
     "text": [
      "before:  (76, 335)\n",
      "drop_lst3:  43\n",
      "after:  (76, 292)\n"
     ]
    },
    {
     "data": {
      "text/plain": [
       "['IS_Service Cost - Foreign',\n",
       " 'IS_Amort of Intangibles, Supplemental',\n",
       " 'IS_Curtailments & Settlements - Foreign',\n",
       " 'BS_Curr Port of LT Operating Leases, Suppl.',\n",
       " 'CF_Short Term Debt Reduction',\n",
       " 'IS_Rental Expense, Supplemental',\n",
       " 'BS_Contract Assets - Short Term',\n",
       " 'IS_Extraordinary Item',\n",
       " 'IS_Total Plan Interest Cost',\n",
       " 'BS_Other Property/Plant/Equipment - Net',\n",
       " 'IS_Income Taxes - Non-Recurring Tax Change',\n",
       " 'BS_Revolving Line of Credit - Outstanding',\n",
       " 'IS_Other Unusual Expense (Income)',\n",
       " 'IS_Service Cost - Domestic',\n",
       " 'IS_Expected Return on Assets - Domestic',\n",
       " 'IS_Interest Cost - Domestic',\n",
       " 'BS_Long-Term Operating Lease Liabs., Suppl.',\n",
       " 'CF_Short Term Debt Issued',\n",
       " 'CF_Long Term Debt Issued',\n",
       " 'IS_Pro Forma Stock Compensation Expense',\n",
       " 'BS_Notes Payable/Short Term Debt',\n",
       " 'IS_Interest Cost - Foreign',\n",
       " 'BS_Long Term Debt Maturing within 1 Year',\n",
       " 'IS_Net Income after Stock Based Comp. Exp.',\n",
       " 'IS_Post-Retirement Plan Expense',\n",
       " 'BS_Operating Leases - Interest Cost',\n",
       " 'BS_Right-of-Use Assets-Op.Lease, Net-Suppl.',\n",
       " 'IS_Diluted EPS after Stock Based Comp. Exp.',\n",
       " 'IS_Basic EPS after Stock Based Comp. Exp.',\n",
       " 'IS_Total Pension Expense',\n",
       " 'IS_Total Extraordinary Items',\n",
       " 'IS_Total Plan Expected Return',\n",
       " 'IS_Domestic Pension Plan Expense',\n",
       " 'BS_Restricted Cash - Current',\n",
       " 'IS_Total Plan Service Cost',\n",
       " 'BS_LT Investment - Affiliate Companies',\n",
       " 'BS_Total Long Term Debt, Supplemental',\n",
       " 'CF_Other Investing Cash Flow',\n",
       " 'BS_Rvlvng Line of Credit - Principal Amount',\n",
       " 'BS_Unrealized Gain (Loss)',\n",
       " 'IS_Curtailments & Settlements - Domestic',\n",
       " 'IS_Expected Return on Assets - Foreign',\n",
       " 'IS_Foreign Pension Plan Expense']"
      ]
     },
     "execution_count": 13,
     "metadata": {},
     "output_type": "execute_result"
    }
   ],
   "source": [
    "drop_lst3 = []\n",
    "leng = len(new_df)\n",
    "for i in new_df.columns:\n",
    "    data = Counter(new_df[i])\n",
    "    if data.most_common(1)[0][1] > (leng * 0.6) :\n",
    "        drop_lst3.append(i)\n",
    "\n",
    "drop_lst3 = list(set(drop_lst3)&set(new_df.columns))\n",
    "print(\"before: \", new_df.shape)\n",
    "print(\"drop_lst3: \",len(drop_lst3))\n",
    "new_df = new_df[new_df.columns.difference(drop_lst3)]\n",
    "print(\"after: \", new_df.shape)\n",
    "drop_lst3\n"
   ]
  },
  {
   "cell_type": "markdown",
   "id": "69ffc104",
   "metadata": {},
   "source": [
    "### 나머지 결측은 선형 보간"
   ]
  },
  {
   "cell_type": "code",
   "execution_count": 14,
   "id": "877ffdec",
   "metadata": {
    "ExecuteTime": {
     "end_time": "2022-08-22T07:28:23.876156Z",
     "start_time": "2022-08-22T07:28:23.686220Z"
    }
   },
   "outputs": [
    {
     "name": "stdout",
     "output_type": "stream",
     "text": [
      "결측값 확인(before):  2\n",
      "~~선형 보간 적용~~\n",
      "결측값 확인(after):  0\n"
     ]
    }
   ],
   "source": [
    "# 선형 보간\n",
    "print(\"결측값 확인(before): \", new_df.isna().sum().sum())\n",
    "for _, col in enumerate(new_df.columns):\n",
    "    if col != \"Date_x\":\n",
    "        new_df[col] = new_df[col].interpolate(method='linear')\n",
    "\n",
    "print(\"~~선형 보간 적용~~\")\n",
    "print(\"결측값 확인(after): \", new_df.isna().sum().sum())"
   ]
  },
  {
   "cell_type": "code",
   "execution_count": 15,
   "id": "09e355e3",
   "metadata": {
    "ExecuteTime": {
     "end_time": "2022-08-22T07:28:26.591136Z",
     "start_time": "2022-08-22T07:28:23.878152Z"
    }
   },
   "outputs": [
    {
     "name": "stdout",
     "output_type": "stream",
     "text": [
      "new_df.shape:  (76, 292)\n",
      "결측 개수:  0\n"
     ]
    },
    {
     "data": {
      "text/html": [
       "<div>\n",
       "<style scoped>\n",
       "    .dataframe tbody tr th:only-of-type {\n",
       "        vertical-align: middle;\n",
       "    }\n",
       "\n",
       "    .dataframe tbody tr th {\n",
       "        vertical-align: top;\n",
       "    }\n",
       "\n",
       "    .dataframe thead th {\n",
       "        text-align: right;\n",
       "    }\n",
       "</style>\n",
       "<table border=\"1\" class=\"dataframe\">\n",
       "  <thead>\n",
       "    <tr style=\"text-align: right;\">\n",
       "      <th></th>\n",
       "      <th>Date_x</th>\n",
       "      <th>BPS(지배, Adj.)(원/주)</th>\n",
       "      <th>BPS증가율(YoY)(비율)</th>\n",
       "      <th>BS_Accounts Payable</th>\n",
       "      <th>BS_Accounts Receivable - Trade, Gross</th>\n",
       "      <th>BS_Accounts Receivable - Trade, Net</th>\n",
       "      <th>BS_Accrued Expenses</th>\n",
       "      <th>BS_Accumulated Depreciation, Total</th>\n",
       "      <th>BS_Accumulated Intangible Amort, Suppl.</th>\n",
       "      <th>BS_Accumulated Intangible Amortization</th>\n",
       "      <th>...</th>\n",
       "      <th>인당순이익s</th>\n",
       "      <th>인당영업이익s</th>\n",
       "      <th>자기자본비율</th>\n",
       "      <th>자산총계(천원)</th>\n",
       "      <th>재고자산회전율(비율)</th>\n",
       "      <th>채무총계</th>\n",
       "      <th>총자산회전율(비율)</th>\n",
       "      <th>투자비 대비 매출 (Rev/GI)s</th>\n",
       "      <th>현금배당성향(%)</th>\n",
       "      <th>EV_EBITDA</th>\n",
       "    </tr>\n",
       "  </thead>\n",
       "  <tbody>\n",
       "    <tr>\n",
       "      <th>0</th>\n",
       "      <td>2003-07-01</td>\n",
       "      <td>14.20292</td>\n",
       "      <td>-0.41881</td>\n",
       "      <td>573</td>\n",
       "      <td>1703</td>\n",
       "      <td>2245</td>\n",
       "      <td>1319</td>\n",
       "      <td>-1220</td>\n",
       "      <td>177</td>\n",
       "      <td>-177</td>\n",
       "      <td>...</td>\n",
       "      <td>0.00618</td>\n",
       "      <td>0.01924</td>\n",
       "      <td>12.86577</td>\n",
       "      <td>6459</td>\n",
       "      <td>0.68731</td>\n",
       "      <td>60</td>\n",
       "      <td>1.98000</td>\n",
       "      <td>-49.33851</td>\n",
       "      <td>0.00000</td>\n",
       "      <td>4.37000</td>\n",
       "    </tr>\n",
       "    <tr>\n",
       "      <th>1</th>\n",
       "      <td>2003-10-01</td>\n",
       "      <td>11.97411</td>\n",
       "      <td>-0.11801</td>\n",
       "      <td>497</td>\n",
       "      <td>1703</td>\n",
       "      <td>2490</td>\n",
       "      <td>1454</td>\n",
       "      <td>-1220</td>\n",
       "      <td>177</td>\n",
       "      <td>-177</td>\n",
       "      <td>...</td>\n",
       "      <td>0.00658</td>\n",
       "      <td>0.01963</td>\n",
       "      <td>15.51544</td>\n",
       "      <td>6703</td>\n",
       "      <td>0.68050</td>\n",
       "      <td>50</td>\n",
       "      <td>1.97000</td>\n",
       "      <td>-32.43158</td>\n",
       "      <td>0.00000</td>\n",
       "      <td>6.31000</td>\n",
       "    </tr>\n",
       "  </tbody>\n",
       "</table>\n",
       "<p>2 rows × 292 columns</p>\n",
       "</div>"
      ],
      "text/plain": [
       "      Date_x  BPS(지배, Adj.)(원/주)  BPS증가율(YoY)(비율)  BS_Accounts Payable  \\\n",
       "0 2003-07-01            14.20292         -0.41881                  573   \n",
       "1 2003-10-01            11.97411         -0.11801                  497   \n",
       "\n",
       "   BS_Accounts Receivable - Trade, Gross  BS_Accounts Receivable - Trade, Net  \\\n",
       "0                                   1703                                 2245   \n",
       "1                                   1703                                 2490   \n",
       "\n",
       "   BS_Accrued Expenses  BS_Accumulated Depreciation, Total  \\\n",
       "0                 1319                               -1220   \n",
       "1                 1454                               -1220   \n",
       "\n",
       "   BS_Accumulated Intangible Amort, Suppl.  \\\n",
       "0                                      177   \n",
       "1                                      177   \n",
       "\n",
       "   BS_Accumulated Intangible Amortization  ...  인당순이익s  인당영업이익s   자기자본비율  \\\n",
       "0                                    -177  ... 0.00618  0.01924 12.86577   \n",
       "1                                    -177  ... 0.00658  0.01963 15.51544   \n",
       "\n",
       "   자산총계(천원)  재고자산회전율(비율)  채무총계  총자산회전율(비율)  투자비 대비 매출 (Rev/GI)s  현금배당성향(%)  \\\n",
       "0      6459      0.68731    60     1.98000            -49.33851    0.00000   \n",
       "1      6703      0.68050    50     1.97000            -32.43158    0.00000   \n",
       "\n",
       "   EV_EBITDA  \n",
       "0    4.37000  \n",
       "1    6.31000  \n",
       "\n",
       "[2 rows x 292 columns]"
      ]
     },
     "execution_count": 15,
     "metadata": {},
     "output_type": "execute_result"
    }
   ],
   "source": [
    "# 이 때, 편의를 위해 \"Date_x\" 변수를 맨 앞으로, Y1~Y4 변수는 맨 뒤로 위치시킴\n",
    "col_ = new_df.pop(\"Date_x\")\n",
    "new_df.insert(0, col_.name, col_)\n",
    "\n",
    "col_ = new_df.pop(\"EV_EBITDA\")\n",
    "new_df.insert(new_df.shape[1], col_.name, col_)\n",
    "# for i in range(len(Y)):\n",
    "#     col_ = new_df.pop(Y[i])\n",
    "#     new_df.insert(new_df.shape[1], col_.name, col_)\n",
    "\n",
    "print(\"new_df.shape: \",new_df.shape)\n",
    "print(\"결측 개수: \", new_df.isna().sum().sum())\n",
    "new_df.head(2)"
   ]
  },
  {
   "cell_type": "markdown",
   "id": "302ce423",
   "metadata": {},
   "source": [
    "### 제외 컬럼 "
   ]
  },
  {
   "cell_type": "code",
   "execution_count": 16,
   "id": "a29cb4d3",
   "metadata": {
    "ExecuteTime": {
     "end_time": "2022-08-22T07:28:26.622321Z",
     "start_time": "2022-08-22T07:28:26.594092Z"
    },
    "scrolled": false
   },
   "outputs": [
    {
     "name": "stdout",
     "output_type": "stream",
     "text": [
      "drop_col num:  91\n"
     ]
    },
    {
     "data": {
      "text/html": [
       "<div>\n",
       "<style scoped>\n",
       "    .dataframe tbody tr th:only-of-type {\n",
       "        vertical-align: middle;\n",
       "    }\n",
       "\n",
       "    .dataframe tbody tr th {\n",
       "        vertical-align: top;\n",
       "    }\n",
       "\n",
       "    .dataframe thead th {\n",
       "        text-align: right;\n",
       "    }\n",
       "</style>\n",
       "<table border=\"1\" class=\"dataframe\">\n",
       "  <thead>\n",
       "    <tr style=\"text-align: right;\">\n",
       "      <th></th>\n",
       "      <th>drop_cols</th>\n",
       "      <th>part</th>\n",
       "      <th>group</th>\n",
       "      <th>importance</th>\n",
       "    </tr>\n",
       "  </thead>\n",
       "  <tbody>\n",
       "    <tr>\n",
       "      <th>0</th>\n",
       "      <td>인당매출</td>\n",
       "      <td>중복되는 컬럼</td>\n",
       "      <td>NaN</td>\n",
       "      <td>NaN</td>\n",
       "    </tr>\n",
       "    <tr>\n",
       "      <th>1</th>\n",
       "      <td>무형자산회전율</td>\n",
       "      <td>중복되는 컬럼</td>\n",
       "      <td>NaN</td>\n",
       "      <td>NaN</td>\n",
       "    </tr>\n",
       "    <tr>\n",
       "      <th>2</th>\n",
       "      <td>인당영업이익</td>\n",
       "      <td>중복되는 컬럼</td>\n",
       "      <td>NaN</td>\n",
       "      <td>NaN</td>\n",
       "    </tr>\n",
       "    <tr>\n",
       "      <th>3</th>\n",
       "      <td>인당순이익</td>\n",
       "      <td>중복되는 컬럼</td>\n",
       "      <td>NaN</td>\n",
       "      <td>NaN</td>\n",
       "    </tr>\n",
       "    <tr>\n",
       "      <th>4</th>\n",
       "      <td>투자비 대비 매출 (Rev/GI)</td>\n",
       "      <td>중복되는 컬럼</td>\n",
       "      <td>NaN</td>\n",
       "      <td>NaN</td>\n",
       "    </tr>\n",
       "    <tr>\n",
       "      <th>...</th>\n",
       "      <td>...</td>\n",
       "      <td>...</td>\n",
       "      <td>...</td>\n",
       "      <td>...</td>\n",
       "    </tr>\n",
       "    <tr>\n",
       "      <th>86</th>\n",
       "      <td>IS_Curtailments &amp; Settlements - Domestic</td>\n",
       "      <td>최빈값60%초과</td>\n",
       "      <td>IS</td>\n",
       "      <td>5.00000</td>\n",
       "    </tr>\n",
       "    <tr>\n",
       "      <th>87</th>\n",
       "      <td>IS_Expected Return on Assets - Foreign</td>\n",
       "      <td>최빈값60%초과</td>\n",
       "      <td>IS</td>\n",
       "      <td>5.00000</td>\n",
       "    </tr>\n",
       "    <tr>\n",
       "      <th>88</th>\n",
       "      <td>IS_Foreign Pension Plan Expense</td>\n",
       "      <td>최빈값60%초과</td>\n",
       "      <td>IS</td>\n",
       "      <td>5.00000</td>\n",
       "    </tr>\n",
       "    <tr>\n",
       "      <th>89</th>\n",
       "      <td>FS_Dividend Coverage - %</td>\n",
       "      <td>4개 이상의 결측</td>\n",
       "      <td>FS</td>\n",
       "      <td>5.00000</td>\n",
       "    </tr>\n",
       "    <tr>\n",
       "      <th>90</th>\n",
       "      <td>FS_Dividend Yield - Common Stock - Net - Issue...</td>\n",
       "      <td>4개 이상의 결측</td>\n",
       "      <td>FS</td>\n",
       "      <td>5.00000</td>\n",
       "    </tr>\n",
       "  </tbody>\n",
       "</table>\n",
       "<p>91 rows × 4 columns</p>\n",
       "</div>"
      ],
      "text/plain": [
       "                                            drop_cols       part group  \\\n",
       "0                                                인당매출    중복되는 컬럼   NaN   \n",
       "1                                             무형자산회전율    중복되는 컬럼   NaN   \n",
       "2                                              인당영업이익    중복되는 컬럼   NaN   \n",
       "3                                               인당순이익    중복되는 컬럼   NaN   \n",
       "4                                  투자비 대비 매출 (Rev/GI)    중복되는 컬럼   NaN   \n",
       "..                                                ...        ...   ...   \n",
       "86           IS_Curtailments & Settlements - Domestic   최빈값60%초과    IS   \n",
       "87             IS_Expected Return on Assets - Foreign   최빈값60%초과    IS   \n",
       "88                    IS_Foreign Pension Plan Expense   최빈값60%초과    IS   \n",
       "89                           FS_Dividend Coverage - %  4개 이상의 결측    FS   \n",
       "90  FS_Dividend Yield - Common Stock - Net - Issue...  4개 이상의 결측    FS   \n",
       "\n",
       "    importance  \n",
       "0          NaN  \n",
       "1          NaN  \n",
       "2          NaN  \n",
       "3          NaN  \n",
       "4          NaN  \n",
       "..         ...  \n",
       "86     5.00000  \n",
       "87     5.00000  \n",
       "88     5.00000  \n",
       "89     5.00000  \n",
       "90     5.00000  \n",
       "\n",
       "[91 rows x 4 columns]"
      ]
     },
     "execution_count": 16,
     "metadata": {},
     "output_type": "execute_result"
    }
   ],
   "source": [
    "drop_lst0 = pd.DataFrame({'drop_cols':remove_col, 'part':'중복되는 컬럼'})\n",
    "drop_lst00 = pd.DataFrame({'drop_cols':ev_col, 'part':'종속변수 생성에 사용'})\n",
    "drop_lst1 = pd.DataFrame({'drop_cols':drop_lst1, 'part':'동일한 값'})\n",
    "drop_lst2 = pd.DataFrame({'drop_cols':drop_lst2, 'part':'importance9'})\n",
    "drop_lst3 = pd.DataFrame({'drop_cols':drop_lst3, 'part':'최빈값60%초과'})\n",
    "drop_lst4 = pd.DataFrame({'drop_cols':drop_lst4, 'part':'4개 이상의 결측'})\n",
    "\n",
    "drop_cols = pd.concat([drop_lst0,drop_lst00,drop_lst1,drop_lst2,drop_lst3, drop_lst4], axis=0).reset_index(drop=True)\n",
    "drop_cols['group'] = drop_cols['drop_cols'].map(dic_group)\n",
    "drop_cols['importance'] = drop_cols['drop_cols'].map(dic_imp)\n",
    "print(\"drop_col num: \", len(drop_cols))\n",
    "drop_cols"
   ]
  },
  {
   "cell_type": "markdown",
   "id": "2af87f7d",
   "metadata": {},
   "source": [
    "### 파일 내보내기"
   ]
  },
  {
   "cell_type": "code",
   "execution_count": 17,
   "id": "6d6b96cb",
   "metadata": {
    "ExecuteTime": {
     "end_time": "2022-08-22T07:28:27.251422Z",
     "start_time": "2022-08-22T07:28:26.625311Z"
    }
   },
   "outputs": [],
   "source": [
    "### 최종 dataset을 csv, xlsx 파일로 out ###\n",
    "new_df.to_csv(os.path.join(out_path, raw_file_name.split('.')[0] + \"_clean_total_v1.1.csv\"), index=False, encoding='utf-8')\n",
    "new_df.to_excel(os.path.join(out_path, raw_file_name.split('.')[0] + \"_clean_total_v1.1.xlsx\"), index=False)\n",
    "\n",
    "drop_cols.to_excel(os.path.join(out_path, raw_file_name.split('.')[0] + \"_dropcols_v1.1.xlsx\"), index=False)"
   ]
  },
  {
   "cell_type": "code",
   "execution_count": null,
   "id": "ad670503",
   "metadata": {},
   "outputs": [],
   "source": []
  },
  {
   "cell_type": "code",
   "execution_count": null,
   "id": "26f856bc",
   "metadata": {},
   "outputs": [],
   "source": []
  },
  {
   "cell_type": "markdown",
   "id": "7efbae96",
   "metadata": {},
   "source": [
    "## Infosys"
   ]
  },
  {
   "cell_type": "code",
   "execution_count": 18,
   "id": "bd9bc8f4",
   "metadata": {
    "ExecuteTime": {
     "end_time": "2022-08-22T07:28:28.056021Z",
     "start_time": "2022-08-22T07:28:27.253150Z"
    }
   },
   "outputs": [
    {
     "name": "stdout",
     "output_type": "stream",
     "text": [
      "before:  (80, 415)\n",
      "after:  (80, 410)\n"
     ]
    }
   ],
   "source": [
    "raw_file_name = \"Infosys_non_shift.xlsx\"\n",
    "\n",
    "df = pd.read_excel(os.path.join(rawfile_path,raw_file_name))\n",
    "df['Date_x'] = pd.to_datetime(df['Date_x']).dt.to_period('Q')\n",
    "df['Date_x'] = pd.PeriodIndex(df['Date_x'], freq='Q').to_timestamp()\n",
    "\n",
    "for col in df.columns:\n",
    "    if col in list(dic_name.keys()) :\n",
    "        df.rename(columns={col:dic_name[col]}, inplace=True)\n",
    "        \n",
    "print(\"before: \", df.shape)\n",
    "new_df = df[df.columns.difference(remove_col)]\n",
    "print(\"after: \", new_df.shape)"
   ]
  },
  {
   "cell_type": "markdown",
   "id": "20f7575a",
   "metadata": {},
   "source": [
    "### 결측 처리"
   ]
  },
  {
   "cell_type": "code",
   "execution_count": 19,
   "id": "977b532a",
   "metadata": {
    "ExecuteTime": {
     "end_time": "2022-08-22T07:28:29.011145Z",
     "start_time": "2022-08-22T07:28:28.058013Z"
    }
   },
   "outputs": [
    {
     "name": "stdout",
     "output_type": "stream",
     "text": [
      "결측값 확인:  674\n",
      "BPS증가율(YoY)(비율)\n",
      "EBITDA2증가율(YoY)(비율)\n",
      "EPS증가율(YoY)(비율)\n",
      "FS_Accounts Receivable Turnover, TTM\n",
      "FS_Asset Turnover, TTM\n",
      "FS_Average Inventory Days, TTM\n",
      "FS_Average Net Trade Cycle Days, TTM\n",
      "FS_Average Payables Payment Days, TTM\n",
      "FS_Average Receivables Collection Days, TTM\n",
      "FS_Debt - Total\n",
      "FS_Interest Coverage Ratio\n",
      "FS_Inventory Turnover, TTM\n",
      "FS_Payables Turnover, TTM\n",
      "FS_Preferred Shareholders Equity\n",
      "FS_Pretax ROA - %, TTM\n",
      "FS_Pretax ROE - %, TTM\n",
      "FS_ROA\n",
      "FS_ROE\n",
      "FS_ROIC\n",
      "FS_Reinvestment Rate - %, TTM\n",
      "FS_Total Assets to Total Shareholders Equity - including Minority Interest & Hybrid Debt, Average TTM\n",
      "FS_Total Debt Percentage of Total Assets\n",
      "FS_Total Debt Percentage of Total Capital\n",
      "FS_Total Debt Percentage of Total Equity\n",
      "Minority Interest - Total\n",
      "ROA(비율)\n",
      "ROE(지배)(비율)\n",
      "ROGI(%)\n",
      "매출액증가율(YoY)(연도)\n",
      "순이익증가율(YoY)(비율)\n",
      "영업이익증가율(YoY)(연도)\n",
      "총자산회전율(비율)\n",
      "==> 4개 이상의 결측값을 가지는 컬럼 확인\n",
      "(80, 410)\n"
     ]
    }
   ],
   "source": [
    "print(\"결측값 확인: \", new_df.isna().sum().sum())\n",
    "for i in range(len(new_df.columns)):\n",
    "    flg = 0\n",
    "    for j in range(len(new_df)):\n",
    "        if pd.isna(new_df.iloc[j,i]):\n",
    "            flg += 1\n",
    "        else:\n",
    "            flg = 0\n",
    "            \n",
    "        if flg >= 4:\n",
    "            print(new_df.columns[i])\n",
    "            flg = 0\n",
    "            break\n",
    "print(\"==> 4개 이상의 결측값을 가지는 컬럼 확인\")\n",
    "print(new_df.shape)"
   ]
  },
  {
   "cell_type": "code",
   "execution_count": 20,
   "id": "1c21ace9",
   "metadata": {
    "ExecuteTime": {
     "end_time": "2022-08-22T07:28:29.025073Z",
     "start_time": "2022-08-22T07:28:29.013104Z"
    }
   },
   "outputs": [
    {
     "data": {
      "text/html": [
       "<div>\n",
       "<style scoped>\n",
       "    .dataframe tbody tr th:only-of-type {\n",
       "        vertical-align: middle;\n",
       "    }\n",
       "\n",
       "    .dataframe tbody tr th {\n",
       "        vertical-align: top;\n",
       "    }\n",
       "\n",
       "    .dataframe thead th {\n",
       "        text-align: right;\n",
       "    }\n",
       "</style>\n",
       "<table border=\"1\" class=\"dataframe\">\n",
       "  <thead>\n",
       "    <tr style=\"text-align: right;\">\n",
       "      <th></th>\n",
       "      <th>Infosys</th>\n",
       "      <th>ratio</th>\n",
       "    </tr>\n",
       "  </thead>\n",
       "  <tbody>\n",
       "    <tr>\n",
       "      <th>0</th>\n",
       "      <td>46</td>\n",
       "      <td>0.11220</td>\n",
       "    </tr>\n",
       "    <tr>\n",
       "      <th>1</th>\n",
       "      <td>45</td>\n",
       "      <td>0.10976</td>\n",
       "    </tr>\n",
       "    <tr>\n",
       "      <th>2</th>\n",
       "      <td>46</td>\n",
       "      <td>0.11220</td>\n",
       "    </tr>\n",
       "    <tr>\n",
       "      <th>3</th>\n",
       "      <td>31</td>\n",
       "      <td>0.07561</td>\n",
       "    </tr>\n",
       "    <tr>\n",
       "      <th>4</th>\n",
       "      <td>11</td>\n",
       "      <td>0.02683</td>\n",
       "    </tr>\n",
       "    <tr>\n",
       "      <th>5</th>\n",
       "      <td>10</td>\n",
       "      <td>0.02439</td>\n",
       "    </tr>\n",
       "    <tr>\n",
       "      <th>6</th>\n",
       "      <td>11</td>\n",
       "      <td>0.02683</td>\n",
       "    </tr>\n",
       "    <tr>\n",
       "      <th>7</th>\n",
       "      <td>10</td>\n",
       "      <td>0.02439</td>\n",
       "    </tr>\n",
       "    <tr>\n",
       "      <th>8</th>\n",
       "      <td>10</td>\n",
       "      <td>0.02439</td>\n",
       "    </tr>\n",
       "    <tr>\n",
       "      <th>9</th>\n",
       "      <td>9</td>\n",
       "      <td>0.02195</td>\n",
       "    </tr>\n",
       "  </tbody>\n",
       "</table>\n",
       "</div>"
      ],
      "text/plain": [
       "   Infosys   ratio\n",
       "0       46 0.11220\n",
       "1       45 0.10976\n",
       "2       46 0.11220\n",
       "3       31 0.07561\n",
       "4       11 0.02683\n",
       "5       10 0.02439\n",
       "6       11 0.02683\n",
       "7       10 0.02439\n",
       "8       10 0.02439\n",
       "9        9 0.02195"
      ]
     },
     "execution_count": 20,
     "metadata": {},
     "output_type": "execute_result"
    }
   ],
   "source": [
    "# 행별 결측 비율 확인\n",
    "tmp = new_df.isna().sum(axis=1).to_frame().rename(columns={0:raw_file_name.split(\"_\")[0]})\n",
    "\n",
    "company = raw_file_name.split(\"_\")[0]\n",
    "tmp['ratio'] = tmp[company] / len(new_df.columns)\n",
    "tmp[:10]"
   ]
  },
  {
   "cell_type": "code",
   "execution_count": 21,
   "id": "968aeec9",
   "metadata": {
    "ExecuteTime": {
     "end_time": "2022-08-22T07:28:29.032069Z",
     "start_time": "2022-08-22T07:28:29.028064Z"
    }
   },
   "outputs": [],
   "source": [
    "### 초기 5개의 행 삭제\n",
    "new_df = new_df.loc[5:,:].reset_index(drop=True)"
   ]
  },
  {
   "cell_type": "code",
   "execution_count": 22,
   "id": "f4f66d53",
   "metadata": {
    "ExecuteTime": {
     "end_time": "2022-08-22T07:28:29.073461Z",
     "start_time": "2022-08-22T07:28:29.035054Z"
    }
   },
   "outputs": [
    {
     "name": "stdout",
     "output_type": "stream",
     "text": [
      "결측값 확인:  495\n",
      "FS_Average Inventory Days, TTM\n",
      "FS_Average Payables Payment Days, TTM\n",
      "FS_Debt - Total\n",
      "FS_Interest Coverage Ratio\n",
      "FS_Inventory Turnover, TTM\n",
      "FS_Payables Turnover, TTM\n",
      "FS_Preferred Shareholders Equity\n",
      "FS_Total Debt Percentage of Total Assets\n",
      "FS_Total Debt Percentage of Total Capital\n",
      "FS_Total Debt Percentage of Total Equity\n",
      "Minority Interest - Total\n",
      "4개 이상의 결측값을 가지는 컬럼 확인 \n",
      "*------------------------------------*\n",
      "before:  (75, 410)\n",
      "drop_lst4:  11\n",
      "after:  (75, 399)\n"
     ]
    }
   ],
   "source": [
    "print(\"결측값 확인: \", new_df.isna().sum().sum())\n",
    "na_cols = new_df.isna().sum()[new_df.isna().sum() > 0].index\n",
    "\n",
    "drop_lst4 = []\n",
    "for i in range(len(na_cols)):\n",
    "    flg = 0\n",
    "    for j in range(len(new_df)):\n",
    "        if pd.isna(new_df.loc[j,na_cols[i]]):\n",
    "            flg += 1\n",
    "        else:\n",
    "            flg = 0 \n",
    "            \n",
    "        if flg >= 4:\n",
    "            print(na_cols[i])\n",
    "            flg = 0\n",
    "            drop_lst4.append(na_cols[i])\n",
    "            break\n",
    "            \n",
    "print(\"4개 이상의 결측값을 가지는 컬럼 확인 \")\n",
    "drop_lst4 = list(set(drop_lst4)&set(new_df.columns))\n",
    "print(\"*------------------------------------*\")\n",
    "print(\"before: \", new_df.shape)\n",
    "print(\"drop_lst4: \",len(drop_lst4))\n",
    "new_df = new_df[new_df.columns.difference(drop_lst4)]\n",
    "print(\"after: \", new_df.shape)"
   ]
  },
  {
   "cell_type": "markdown",
   "id": "dc2b4680",
   "metadata": {},
   "source": [
    "### 동일한 값인 경우 (std = 0인 경우)"
   ]
  },
  {
   "cell_type": "code",
   "execution_count": 23,
   "id": "f3382e3d",
   "metadata": {
    "ExecuteTime": {
     "end_time": "2022-08-22T07:28:32.264144Z",
     "start_time": "2022-08-22T07:28:29.080422Z"
    }
   },
   "outputs": [
    {
     "name": "stdout",
     "output_type": "stream",
     "text": [
      "before:  (75, 399)\n",
      "drop_lst:  11\n",
      "after:  (75, 388)\n"
     ]
    },
    {
     "data": {
      "text/plain": [
       "['IS_Interest Expense, Net - Operating',\n",
       " 'IS_Total Adjustments to Net Income',\n",
       " 'IS_Interest Expense - Operating',\n",
       " 'IS_Miscellaneous Earnings Adjustment',\n",
       " 'BS_Restricted Cash - Long Term',\n",
       " 'IS_Interest Exp.(Inc.),Net-Operating, Total',\n",
       " 'CF_Sale of Business',\n",
       " 'BS_Other Investments % - Domestic',\n",
       " 'BS_Deferred Income Tax - Current Asset',\n",
       " 'BS_Notes Payable/Short Term Debt',\n",
       " 'IS_Dilution Adjustment']"
      ]
     },
     "execution_count": 23,
     "metadata": {},
     "output_type": "execute_result"
    }
   ],
   "source": [
    "tmp = new_df.describe().loc['std',:][new_df.describe().loc['std',:] == 0].index\n",
    "TF = new_df.describe().loc['min',:] == new_df.describe().loc['max',:]\n",
    "tmp1 = new_df.describe().loc[:,TF].columns.values.tolist()\n",
    "\n",
    "tmp = list(set(tmp) | set(tmp1))\n",
    "tmp = list(set(tmp) & set(new_df.columns))\n",
    "\n",
    "drop_lst1 = list(tmp)\n",
    "\n",
    "print(\"before: \", new_df.shape)\n",
    "print(\"drop_lst: \",len(list(drop_lst1)))\n",
    "new_df = new_df[new_df.columns.difference(drop_lst1)]\n",
    "print(\"after: \", new_df.shape)\n",
    "\n",
    "drop_lst1\n"
   ]
  },
  {
   "cell_type": "markdown",
   "id": "0df54835",
   "metadata": {},
   "source": [
    "### importance=9 인 경우"
   ]
  },
  {
   "cell_type": "code",
   "execution_count": 24,
   "id": "a12d209d",
   "metadata": {
    "ExecuteTime": {
     "end_time": "2022-08-22T07:28:32.276103Z",
     "start_time": "2022-08-22T07:28:32.266104Z"
    }
   },
   "outputs": [
    {
     "name": "stdout",
     "output_type": "stream",
     "text": [
      "before:  (75, 388)\n",
      "drop_lst2:  4\n",
      "after:  (75, 384)\n"
     ]
    },
    {
     "data": {
      "text/plain": [
       "['PBR', '인력수', 'close_weighted', 'close']"
      ]
     },
     "execution_count": 24,
     "metadata": {},
     "output_type": "execute_result"
    }
   ],
   "source": [
    "drop_lst2 = ['Sum of 종가*거래량','Sum of Volume','인력수','close','close_weighted','PBR']\n",
    "drop_lst2 = list(set(drop_lst2)&set(new_df.columns))\n",
    "print(\"before: \", new_df.shape)\n",
    "print(\"drop_lst2: \",len(drop_lst2))\n",
    "new_df = new_df[new_df.columns.difference(drop_lst2)]\n",
    "print(\"after: \", new_df.shape)\n",
    "\n",
    "drop_lst2"
   ]
  },
  {
   "cell_type": "markdown",
   "id": "4885fa45",
   "metadata": {},
   "source": [
    "### 종속 변수에 사용되는 경우"
   ]
  },
  {
   "cell_type": "code",
   "execution_count": 25,
   "id": "6380fe75",
   "metadata": {
    "ExecuteTime": {
     "end_time": "2022-08-22T07:28:32.299420Z",
     "start_time": "2022-08-22T07:28:32.278589Z"
    }
   },
   "outputs": [
    {
     "name": "stdout",
     "output_type": "stream",
     "text": [
      "before:  (75, 384)\n",
      "after:  (75, 381)\n"
     ]
    }
   ],
   "source": [
    "print(\"before: \", new_df.shape)\n",
    "new_df = new_df[new_df.columns.difference(ev_col)]\n",
    "print(\"after: \", new_df.shape)"
   ]
  },
  {
   "cell_type": "markdown",
   "id": "955965c3",
   "metadata": {},
   "source": [
    "### 최빈값 60% 초과인 경우"
   ]
  },
  {
   "cell_type": "code",
   "execution_count": 26,
   "id": "29c67769",
   "metadata": {
    "ExecuteTime": {
     "end_time": "2022-08-22T07:28:32.314324Z",
     "start_time": "2022-08-22T07:28:32.302376Z"
    }
   },
   "outputs": [
    {
     "data": {
      "text/plain": [
       "0.56"
      ]
     },
     "execution_count": 26,
     "metadata": {},
     "output_type": "execute_result"
    }
   ],
   "source": [
    "Counter(new_df['무형자산']).most_common(1)[0][1] / len(new_df)"
   ]
  },
  {
   "cell_type": "code",
   "execution_count": 27,
   "id": "8b1de5af",
   "metadata": {
    "ExecuteTime": {
     "end_time": "2022-08-22T07:28:32.364125Z",
     "start_time": "2022-08-22T07:28:32.316315Z"
    },
    "scrolled": true
   },
   "outputs": [
    {
     "name": "stdout",
     "output_type": "stream",
     "text": [
      "before:  (75, 381)\n",
      "drop_lst3:  74\n",
      "after:  (75, 307)\n"
     ]
    },
    {
     "data": {
      "text/plain": [
       "['CF_Issuance (Retirement) of Debt, Net',\n",
       " 'BS_Capital Lease Payments Due in 2-3 Years',\n",
       " 'IS_Current Tax - Total.1',\n",
       " 'CF_Sale of Intangible Assets',\n",
       " 'BS_Curr. Port. of LT Capital Leases, Suppl.',\n",
       " 'BS_Contract Assets - Long Term',\n",
       " 'CF_Long Term Debt Reduction',\n",
       " 'CF_Sale of Fixed Assets',\n",
       " 'IS_Interest Expense, Net Non-Operating',\n",
       " 'BS_Capital Lease Payments Due in Year 4',\n",
       " 'BS_Discountinued Operations - Current Asset',\n",
       " 'CF_Preferred Stock, Net',\n",
       " 'BS_Cap. Lease Pymts. Due in Year 6 & Beyond',\n",
       " 'IS_Impairment-Assets Held for Use',\n",
       " 'CF_Common Stock, Net',\n",
       " 'IS_(Gain) Loss on Sale of Assets, Suppl.',\n",
       " 'IS_Extraordinary Item',\n",
       " 'BS_Right-of-Use Assets-Cap.Lease,Gross-Sup.',\n",
       " 'IS_Other Unusual Expense (Income)',\n",
       " 'IS_Special DPS - Common Stock Primary Issue',\n",
       " '채무총계',\n",
       " 'BS_Convertible Preferred Stock - Non Rdmbl',\n",
       " 'BS_Minority Interest',\n",
       " 'CF_Repurchase/Retirement of Common',\n",
       " 'BS_Treas Shares - Common Stock Prmry Issue',\n",
       " 'IS_Depreciation/Amortization',\n",
       " 'BS_Preferred Stock - Non Redeemable, Net',\n",
       " 'BS_Accrued Liabilities - Domestic',\n",
       " 'BS_Capital Lease Obligations',\n",
       " 'IS_Stock-Based Compensation, Supplemental',\n",
       " 'CF_Other Assets',\n",
       " 'IS_Pro Forma Stock Compensation Expense',\n",
       " 'IS_Depreciation of Right-of-Use Assets,Sup.',\n",
       " 'IS_Deferred Tax - Total.1',\n",
       " 'IS_Minority Interest',\n",
       " 'IS_Net Income after Stock Based Comp. Exp.',\n",
       " 'BS_Current Port. of LT Debt/Capital Leases',\n",
       " 'IS_Depreciation',\n",
       " 'IS_Advertising Expense',\n",
       " 'BS_Other Comprehensive Income',\n",
       " 'IS_Equity in Affiliates, Supplemental',\n",
       " 'BS_Translation Adjustment',\n",
       " 'BS_Total Debt',\n",
       " 'BS_Total Capital Leases, Supplemental',\n",
       " 'CF_Sale/Issuance of Common',\n",
       " 'IS_Diluted EPS after Stock Based Comp. Exp.',\n",
       " 'BS_Net Domestic Pension Assets',\n",
       " 'BS_Total Long Term Debt',\n",
       " 'BS_Capital Lease Payments Due in Year 1',\n",
       " 'BS_Capital Lease Payments Due in Year 3',\n",
       " 'IS_Basic EPS after Stock Based Comp. Exp.',\n",
       " 'IS_Net Interest Cost - Domestic',\n",
       " 'IS_Scrip Issue',\n",
       " 'BS_Dividends Payable',\n",
       " 'IS_Total Extraordinary Items',\n",
       " 'BS_Debt Securities % - Domestic',\n",
       " 'BS_Capital Lease Payments Due in Year 5',\n",
       " 'IS_Audit Fees',\n",
       " 'CF_Long Term Debt, Net',\n",
       " 'CF_Purchase/Acquisition of Intangibles',\n",
       " 'IS_Non-Recurring Items, Supplemental, Total',\n",
       " 'IS_Interest Expense, Supplemental',\n",
       " 'BS_LT Investment - Affiliate Companies',\n",
       " 'BS_Deferred Revenue - Long Term',\n",
       " 'IS_Interest Expense - Non-Operating',\n",
       " 'IS_Interest Expense on Lease Liabs., Suppl.',\n",
       " 'BS_Minority Interest - Non Redeemable',\n",
       " 'IS_Curtailments & Settlements - Domestic',\n",
       " 'BS_Discontinued Operations - Curr Liability',\n",
       " 'BS_Capital Lease Payments Due in Year 2',\n",
       " 'IS_Impairment-Assets Held for Sale',\n",
       " 'IS_Actuarial Gains and Losses - Domestic',\n",
       " 'BS_Capital Lease Payments Due in 4-5 Years',\n",
       " 'IS_Minority Interest, Supplemental']"
      ]
     },
     "execution_count": 27,
     "metadata": {},
     "output_type": "execute_result"
    }
   ],
   "source": [
    "drop_lst3 = []\n",
    "leng = len(new_df)\n",
    "for i in new_df.columns:\n",
    "    data = Counter(new_df[i])\n",
    "    if data.most_common(1)[0][1] > (leng * 0.6) :\n",
    "        drop_lst3.append(i)\n",
    "\n",
    "drop_lst3 = list(set(drop_lst3)&set(new_df.columns))\n",
    "print(\"before: \", new_df.shape)\n",
    "print(\"drop_lst3: \",len(drop_lst3))\n",
    "new_df = new_df[new_df.columns.difference(drop_lst3)]\n",
    "print(\"after: \", new_df.shape)\n",
    "drop_lst3\n"
   ]
  },
  {
   "cell_type": "markdown",
   "id": "ddb3cd9d",
   "metadata": {},
   "source": [
    "### 나머지 결측은 선형 보간"
   ]
  },
  {
   "cell_type": "code",
   "execution_count": 28,
   "id": "a8c12b44",
   "metadata": {
    "ExecuteTime": {
     "end_time": "2022-08-22T07:28:32.606753Z",
     "start_time": "2022-08-22T07:28:32.367070Z"
    }
   },
   "outputs": [
    {
     "name": "stdout",
     "output_type": "stream",
     "text": [
      "결측값 확인(before):  61\n",
      "~~선형 보간 적용~~\n",
      "결측값 확인(after):  0\n"
     ]
    }
   ],
   "source": [
    "# 선형 보간\n",
    "print(\"결측값 확인(before): \", new_df.isna().sum().sum())\n",
    "for _, col in enumerate(new_df.columns):\n",
    "    if col != \"Date_x\":\n",
    "        new_df[col] = new_df[col].interpolate(method='linear')\n",
    "\n",
    "print(\"~~선형 보간 적용~~\")\n",
    "print(\"결측값 확인(after): \", new_df.isna().sum().sum())"
   ]
  },
  {
   "cell_type": "code",
   "execution_count": 29,
   "id": "055c198d",
   "metadata": {
    "ExecuteTime": {
     "end_time": "2022-08-22T07:28:32.746456Z",
     "start_time": "2022-08-22T07:28:32.608534Z"
    }
   },
   "outputs": [
    {
     "name": "stdout",
     "output_type": "stream",
     "text": [
      "new_df.shape:  (75, 307)\n",
      "결측 개수:  0\n"
     ]
    },
    {
     "data": {
      "text/html": [
       "<div>\n",
       "<style scoped>\n",
       "    .dataframe tbody tr th:only-of-type {\n",
       "        vertical-align: middle;\n",
       "    }\n",
       "\n",
       "    .dataframe tbody tr th {\n",
       "        vertical-align: top;\n",
       "    }\n",
       "\n",
       "    .dataframe thead th {\n",
       "        text-align: right;\n",
       "    }\n",
       "</style>\n",
       "<table border=\"1\" class=\"dataframe\">\n",
       "  <thead>\n",
       "    <tr style=\"text-align: right;\">\n",
       "      <th></th>\n",
       "      <th>Date_x</th>\n",
       "      <th>BPS(지배, Adj.)(원/주)</th>\n",
       "      <th>BPS증가율(YoY)(비율)</th>\n",
       "      <th>BS_Accounts Payable</th>\n",
       "      <th>BS_Accounts Receivable - Trade, Gross</th>\n",
       "      <th>BS_Accounts Receivable - Trade, Net</th>\n",
       "      <th>BS_Accrued Expenses</th>\n",
       "      <th>BS_Accumulated Depreciation, Total</th>\n",
       "      <th>BS_Accumulated Intangible Amort, Suppl.</th>\n",
       "      <th>BS_Accumulated Intangible Amortization</th>\n",
       "      <th>...</th>\n",
       "      <th>인당순이익s</th>\n",
       "      <th>인당영업이익s</th>\n",
       "      <th>자기자본비율</th>\n",
       "      <th>자본금(천원)</th>\n",
       "      <th>자산총계(천원)</th>\n",
       "      <th>재고자산회전율(비율)</th>\n",
       "      <th>총자산회전율(비율)</th>\n",
       "      <th>투자비 대비 매출 (Rev/GI)s</th>\n",
       "      <th>현금배당성향(%)</th>\n",
       "      <th>EV_EBITDA</th>\n",
       "    </tr>\n",
       "  </thead>\n",
       "  <tbody>\n",
       "    <tr>\n",
       "      <th>0</th>\n",
       "      <td>2003-07-01</td>\n",
       "      <td>10.30660</td>\n",
       "      <td>0.26789</td>\n",
       "      <td>1</td>\n",
       "      <td>307</td>\n",
       "      <td>130</td>\n",
       "      <td>72</td>\n",
       "      <td>-151</td>\n",
       "      <td>2</td>\n",
       "      <td>0</td>\n",
       "      <td>...</td>\n",
       "      <td>0.01623</td>\n",
       "      <td>0.01773</td>\n",
       "      <td>82.44444</td>\n",
       "      <td>7</td>\n",
       "      <td>900</td>\n",
       "      <td>0.40764</td>\n",
       "      <td>1.16000</td>\n",
       "      <td>1.79815</td>\n",
       "      <td>0.31908</td>\n",
       "      <td>17.93000</td>\n",
       "    </tr>\n",
       "    <tr>\n",
       "      <th>1</th>\n",
       "      <td>2003-10-01</td>\n",
       "      <td>10.54978</td>\n",
       "      <td>0.12981</td>\n",
       "      <td>1</td>\n",
       "      <td>307</td>\n",
       "      <td>153</td>\n",
       "      <td>72</td>\n",
       "      <td>-164</td>\n",
       "      <td>2</td>\n",
       "      <td>0</td>\n",
       "      <td>...</td>\n",
       "      <td>0.01585</td>\n",
       "      <td>0.01711</td>\n",
       "      <td>81.71937</td>\n",
       "      <td>7</td>\n",
       "      <td>1012</td>\n",
       "      <td>0.40218</td>\n",
       "      <td>1.13000</td>\n",
       "      <td>1.78511</td>\n",
       "      <td>0.00000</td>\n",
       "      <td>21.11000</td>\n",
       "    </tr>\n",
       "  </tbody>\n",
       "</table>\n",
       "<p>2 rows × 307 columns</p>\n",
       "</div>"
      ],
      "text/plain": [
       "      Date_x  BPS(지배, Adj.)(원/주)  BPS증가율(YoY)(비율)  BS_Accounts Payable  \\\n",
       "0 2003-07-01            10.30660          0.26789                    1   \n",
       "1 2003-10-01            10.54978          0.12981                    1   \n",
       "\n",
       "   BS_Accounts Receivable - Trade, Gross  BS_Accounts Receivable - Trade, Net  \\\n",
       "0                                    307                                  130   \n",
       "1                                    307                                  153   \n",
       "\n",
       "   BS_Accrued Expenses  BS_Accumulated Depreciation, Total  \\\n",
       "0                   72                                -151   \n",
       "1                   72                                -164   \n",
       "\n",
       "   BS_Accumulated Intangible Amort, Suppl.  \\\n",
       "0                                        2   \n",
       "1                                        2   \n",
       "\n",
       "   BS_Accumulated Intangible Amortization  ...  인당순이익s  인당영업이익s   자기자본비율  \\\n",
       "0                                       0  ... 0.01623  0.01773 82.44444   \n",
       "1                                       0  ... 0.01585  0.01711 81.71937   \n",
       "\n",
       "   자본금(천원)  자산총계(천원)  재고자산회전율(비율)  총자산회전율(비율)  투자비 대비 매출 (Rev/GI)s  현금배당성향(%)  \\\n",
       "0        7       900      0.40764     1.16000              1.79815    0.31908   \n",
       "1        7      1012      0.40218     1.13000              1.78511    0.00000   \n",
       "\n",
       "   EV_EBITDA  \n",
       "0   17.93000  \n",
       "1   21.11000  \n",
       "\n",
       "[2 rows x 307 columns]"
      ]
     },
     "execution_count": 29,
     "metadata": {},
     "output_type": "execute_result"
    }
   ],
   "source": [
    "# 이 때, 편의를 위해 \"Date_x\" 변수를 맨 앞으로, Y1~Y4 변수는 맨 뒤로 위치시킴\n",
    "col_ = new_df.pop(\"Date_x\")\n",
    "new_df.insert(0, col_.name, col_)\n",
    "\n",
    "col_ = new_df.pop(\"EV_EBITDA\")\n",
    "new_df.insert(new_df.shape[1], col_.name, col_)\n",
    "# for i in range(len(Y)):\n",
    "#     col_ = new_df.pop(Y[i])\n",
    "#     new_df.insert(new_df.shape[1], col_.name, col_)\n",
    "\n",
    "print(\"new_df.shape: \",new_df.shape)\n",
    "print(\"결측 개수: \", new_df.isna().sum().sum())\n",
    "new_df.head(2)"
   ]
  },
  {
   "cell_type": "markdown",
   "id": "d704477e",
   "metadata": {},
   "source": [
    "### 제외 컬럼 "
   ]
  },
  {
   "cell_type": "code",
   "execution_count": 30,
   "id": "3ff329ae",
   "metadata": {
    "ExecuteTime": {
     "end_time": "2022-08-22T07:28:32.779203Z",
     "start_time": "2022-08-22T07:28:32.750283Z"
    },
    "scrolled": true
   },
   "outputs": [
    {
     "name": "stdout",
     "output_type": "stream",
     "text": [
      "drop_col num:  108\n"
     ]
    },
    {
     "data": {
      "text/html": [
       "<div>\n",
       "<style scoped>\n",
       "    .dataframe tbody tr th:only-of-type {\n",
       "        vertical-align: middle;\n",
       "    }\n",
       "\n",
       "    .dataframe tbody tr th {\n",
       "        vertical-align: top;\n",
       "    }\n",
       "\n",
       "    .dataframe thead th {\n",
       "        text-align: right;\n",
       "    }\n",
       "</style>\n",
       "<table border=\"1\" class=\"dataframe\">\n",
       "  <thead>\n",
       "    <tr style=\"text-align: right;\">\n",
       "      <th></th>\n",
       "      <th>drop_cols</th>\n",
       "      <th>part</th>\n",
       "      <th>group</th>\n",
       "      <th>importance</th>\n",
       "    </tr>\n",
       "  </thead>\n",
       "  <tbody>\n",
       "    <tr>\n",
       "      <th>0</th>\n",
       "      <td>인당매출</td>\n",
       "      <td>중복되는 컬럼</td>\n",
       "      <td>NaN</td>\n",
       "      <td>NaN</td>\n",
       "    </tr>\n",
       "    <tr>\n",
       "      <th>1</th>\n",
       "      <td>무형자산회전율</td>\n",
       "      <td>중복되는 컬럼</td>\n",
       "      <td>NaN</td>\n",
       "      <td>NaN</td>\n",
       "    </tr>\n",
       "    <tr>\n",
       "      <th>2</th>\n",
       "      <td>인당영업이익</td>\n",
       "      <td>중복되는 컬럼</td>\n",
       "      <td>NaN</td>\n",
       "      <td>NaN</td>\n",
       "    </tr>\n",
       "    <tr>\n",
       "      <th>3</th>\n",
       "      <td>인당순이익</td>\n",
       "      <td>중복되는 컬럼</td>\n",
       "      <td>NaN</td>\n",
       "      <td>NaN</td>\n",
       "    </tr>\n",
       "    <tr>\n",
       "      <th>4</th>\n",
       "      <td>투자비 대비 매출 (Rev/GI)</td>\n",
       "      <td>중복되는 컬럼</td>\n",
       "      <td>NaN</td>\n",
       "      <td>NaN</td>\n",
       "    </tr>\n",
       "    <tr>\n",
       "      <th>...</th>\n",
       "      <td>...</td>\n",
       "      <td>...</td>\n",
       "      <td>...</td>\n",
       "      <td>...</td>\n",
       "    </tr>\n",
       "    <tr>\n",
       "      <th>103</th>\n",
       "      <td>FS_Average Inventory Days, TTM</td>\n",
       "      <td>4개 이상의 결측</td>\n",
       "      <td>FS</td>\n",
       "      <td>5.00000</td>\n",
       "    </tr>\n",
       "    <tr>\n",
       "      <th>104</th>\n",
       "      <td>FS_Total Debt Percentage of Total Equity</td>\n",
       "      <td>4개 이상의 결측</td>\n",
       "      <td>FS</td>\n",
       "      <td>5.00000</td>\n",
       "    </tr>\n",
       "    <tr>\n",
       "      <th>105</th>\n",
       "      <td>FS_Total Debt Percentage of Total Assets</td>\n",
       "      <td>4개 이상의 결측</td>\n",
       "      <td>FS</td>\n",
       "      <td>5.00000</td>\n",
       "    </tr>\n",
       "    <tr>\n",
       "      <th>106</th>\n",
       "      <td>FS_Average Payables Payment Days, TTM</td>\n",
       "      <td>4개 이상의 결측</td>\n",
       "      <td>DL</td>\n",
       "      <td>9.00000</td>\n",
       "    </tr>\n",
       "    <tr>\n",
       "      <th>107</th>\n",
       "      <td>FS_Debt - Total</td>\n",
       "      <td>4개 이상의 결측</td>\n",
       "      <td>FS</td>\n",
       "      <td>5.00000</td>\n",
       "    </tr>\n",
       "  </tbody>\n",
       "</table>\n",
       "<p>108 rows × 4 columns</p>\n",
       "</div>"
      ],
      "text/plain": [
       "                                    drop_cols       part group  importance\n",
       "0                                        인당매출    중복되는 컬럼   NaN         NaN\n",
       "1                                     무형자산회전율    중복되는 컬럼   NaN         NaN\n",
       "2                                      인당영업이익    중복되는 컬럼   NaN         NaN\n",
       "3                                       인당순이익    중복되는 컬럼   NaN         NaN\n",
       "4                          투자비 대비 매출 (Rev/GI)    중복되는 컬럼   NaN         NaN\n",
       "..                                        ...        ...   ...         ...\n",
       "103            FS_Average Inventory Days, TTM  4개 이상의 결측    FS     5.00000\n",
       "104  FS_Total Debt Percentage of Total Equity  4개 이상의 결측    FS     5.00000\n",
       "105  FS_Total Debt Percentage of Total Assets  4개 이상의 결측    FS     5.00000\n",
       "106     FS_Average Payables Payment Days, TTM  4개 이상의 결측    DL     9.00000\n",
       "107                           FS_Debt - Total  4개 이상의 결측    FS     5.00000\n",
       "\n",
       "[108 rows x 4 columns]"
      ]
     },
     "execution_count": 30,
     "metadata": {},
     "output_type": "execute_result"
    }
   ],
   "source": [
    "drop_lst0 = pd.DataFrame({'drop_cols':remove_col, 'part':'중복되는 컬럼'})\n",
    "drop_lst00 = pd.DataFrame({'drop_cols':ev_col, 'part':'종속변수 생성에 사용'})\n",
    "drop_lst1 = pd.DataFrame({'drop_cols':drop_lst1, 'part':'동일한 값'})\n",
    "drop_lst2 = pd.DataFrame({'drop_cols':drop_lst2, 'part':'importance9'})\n",
    "drop_lst3 = pd.DataFrame({'drop_cols':drop_lst3, 'part':'최빈값60%초과'})\n",
    "drop_lst4 = pd.DataFrame({'drop_cols':drop_lst4, 'part':'4개 이상의 결측'})\n",
    "\n",
    "drop_cols = pd.concat([drop_lst0,drop_lst00,drop_lst1,drop_lst2,drop_lst3, drop_lst4], axis=0).reset_index(drop=True)\n",
    "drop_cols['group'] = drop_cols['drop_cols'].map(dic_group)\n",
    "drop_cols['importance'] = drop_cols['drop_cols'].map(dic_imp)\n",
    "print(\"drop_col num: \", len(drop_cols))\n",
    "drop_cols"
   ]
  },
  {
   "cell_type": "markdown",
   "id": "efb22c4e",
   "metadata": {},
   "source": [
    "### 파일 내보내기"
   ]
  },
  {
   "cell_type": "code",
   "execution_count": 31,
   "id": "f8cce11c",
   "metadata": {
    "ExecuteTime": {
     "end_time": "2022-08-22T07:28:33.409074Z",
     "start_time": "2022-08-22T07:28:32.783229Z"
    }
   },
   "outputs": [],
   "source": [
    "### 최종 dataset을 csv, xlsx 파일로 out ###\n",
    "new_df.to_csv(os.path.join(out_path, raw_file_name.split('.')[0] + \"_clean_total_v1.1.csv\"), index=False, encoding='utf-8')\n",
    "new_df.to_excel(os.path.join(out_path, raw_file_name.split('.')[0] + \"_clean_total_v1.1.xlsx\"), index=False)\n",
    "\n",
    "drop_cols.to_excel(os.path.join(out_path, raw_file_name.split('.')[0] + \"_dropcols_v1.1.xlsx\"), index=False)"
   ]
  },
  {
   "cell_type": "code",
   "execution_count": null,
   "id": "40ebbd34",
   "metadata": {},
   "outputs": [],
   "source": []
  },
  {
   "cell_type": "code",
   "execution_count": null,
   "id": "2e2a4aa9",
   "metadata": {},
   "outputs": [],
   "source": []
  },
  {
   "cell_type": "markdown",
   "id": "965d5de6",
   "metadata": {},
   "source": [
    "## TCS"
   ]
  },
  {
   "cell_type": "code",
   "execution_count": 32,
   "id": "15fa62e9",
   "metadata": {
    "ExecuteTime": {
     "end_time": "2022-08-22T07:28:34.137343Z",
     "start_time": "2022-08-22T07:28:33.411090Z"
    }
   },
   "outputs": [
    {
     "name": "stdout",
     "output_type": "stream",
     "text": [
      "before:  (68, 395)\n",
      "after:  (68, 390)\n"
     ]
    }
   ],
   "source": [
    "raw_file_name = \"TCS_non_shift.xlsx\"\n",
    "\n",
    "df = pd.read_excel(os.path.join(rawfile_path,raw_file_name))\n",
    "df['Date_x'] = pd.to_datetime(df['Date_x']).dt.to_period('Q')\n",
    "df['Date_x'] = pd.PeriodIndex(df['Date_x'], freq='Q').to_timestamp()\n",
    "\n",
    "for col in df.columns:\n",
    "    if col in list(dic_name.keys()) :\n",
    "        df.rename(columns={col:dic_name[col]}, inplace=True)\n",
    "        \n",
    "print(\"before: \", df.shape)\n",
    "new_df = df[df.columns.difference(remove_col)]\n",
    "print(\"after: \", new_df.shape)"
   ]
  },
  {
   "cell_type": "markdown",
   "id": "b4d924b2",
   "metadata": {},
   "source": [
    "### 결측 처리"
   ]
  },
  {
   "cell_type": "code",
   "execution_count": 33,
   "id": "e363b968",
   "metadata": {
    "ExecuteTime": {
     "end_time": "2022-08-22T07:28:34.881121Z",
     "start_time": "2022-08-22T07:28:34.139303Z"
    }
   },
   "outputs": [
    {
     "name": "stdout",
     "output_type": "stream",
     "text": [
      "결측값 확인:  440\n",
      "BPS증가율(YoY)(비율)\n",
      "EBITDA2증가율(YoY)(비율)\n",
      "EPS증가율(YoY)(비율)\n",
      "FS_Accounts Receivable Turnover, TTM\n",
      "FS_Asset Turnover, TTM\n",
      "FS_Average Inventory Days, TTM\n",
      "FS_Average Net Trade Cycle Days, TTM\n",
      "FS_Average Payables Payment Days, TTM\n",
      "FS_Average Receivables Collection Days, TTM\n",
      "FS_Depreciation, Depletion & Amortization including Impairment - Cash Flow - to Reconcile\n",
      "FS_Inventory Turnover, TTM\n",
      "FS_Payables Turnover, TTM\n",
      "FS_Preferred Shareholders Equity\n",
      "FS_Pretax ROA - %, TTM\n",
      "FS_Pretax ROE - %, TTM\n",
      "FS_ROA\n",
      "FS_ROE\n",
      "FS_ROIC\n",
      "FS_Reinvestment Rate - %, TTM\n",
      "FS_Total Assets to Total Shareholders Equity - including Minority Interest & Hybrid Debt, Average TTM\n",
      "ROA(비율)\n",
      "ROE(지배)(비율)\n",
      "ROGI(%)\n",
      "매출액증가율(YoY)(연도)\n",
      "순이익증가율(YoY)(비율)\n",
      "영업이익증가율(YoY)(연도)\n",
      "총자산회전율(비율)\n",
      "==> 4개 이상의 결측값을 가지는 컬럼 확인\n",
      "(68, 390)\n"
     ]
    }
   ],
   "source": [
    "print(\"결측값 확인: \", new_df.isna().sum().sum())\n",
    "for i in range(len(new_df.columns)):\n",
    "    flg = 0\n",
    "    for j in range(len(new_df)):\n",
    "        if pd.isna(new_df.iloc[j,i]):\n",
    "            flg += 1\n",
    "        else:\n",
    "            flg = 0\n",
    "            \n",
    "        if flg >= 4:\n",
    "            print(new_df.columns[i])\n",
    "            flg = 0\n",
    "            break\n",
    "print(\"==> 4개 이상의 결측값을 가지는 컬럼 확인\")\n",
    "print(new_df.shape)"
   ]
  },
  {
   "cell_type": "code",
   "execution_count": 34,
   "id": "c06dc03c",
   "metadata": {
    "ExecuteTime": {
     "end_time": "2022-08-22T07:28:34.897102Z",
     "start_time": "2022-08-22T07:28:34.883114Z"
    }
   },
   "outputs": [
    {
     "data": {
      "text/html": [
       "<div>\n",
       "<style scoped>\n",
       "    .dataframe tbody tr th:only-of-type {\n",
       "        vertical-align: middle;\n",
       "    }\n",
       "\n",
       "    .dataframe tbody tr th {\n",
       "        vertical-align: top;\n",
       "    }\n",
       "\n",
       "    .dataframe thead th {\n",
       "        text-align: right;\n",
       "    }\n",
       "</style>\n",
       "<table border=\"1\" class=\"dataframe\">\n",
       "  <thead>\n",
       "    <tr style=\"text-align: right;\">\n",
       "      <th></th>\n",
       "      <th>TCS</th>\n",
       "      <th>ratio</th>\n",
       "    </tr>\n",
       "  </thead>\n",
       "  <tbody>\n",
       "    <tr>\n",
       "      <th>0</th>\n",
       "      <td>51</td>\n",
       "      <td>0.13077</td>\n",
       "    </tr>\n",
       "    <tr>\n",
       "      <th>1</th>\n",
       "      <td>33</td>\n",
       "      <td>0.08462</td>\n",
       "    </tr>\n",
       "    <tr>\n",
       "      <th>2</th>\n",
       "      <td>33</td>\n",
       "      <td>0.08462</td>\n",
       "    </tr>\n",
       "    <tr>\n",
       "      <th>3</th>\n",
       "      <td>27</td>\n",
       "      <td>0.06923</td>\n",
       "    </tr>\n",
       "    <tr>\n",
       "      <th>4</th>\n",
       "      <td>20</td>\n",
       "      <td>0.05128</td>\n",
       "    </tr>\n",
       "    <tr>\n",
       "      <th>5</th>\n",
       "      <td>37</td>\n",
       "      <td>0.09487</td>\n",
       "    </tr>\n",
       "    <tr>\n",
       "      <th>6</th>\n",
       "      <td>2</td>\n",
       "      <td>0.00513</td>\n",
       "    </tr>\n",
       "    <tr>\n",
       "      <th>7</th>\n",
       "      <td>2</td>\n",
       "      <td>0.00513</td>\n",
       "    </tr>\n",
       "    <tr>\n",
       "      <th>8</th>\n",
       "      <td>2</td>\n",
       "      <td>0.00513</td>\n",
       "    </tr>\n",
       "    <tr>\n",
       "      <th>9</th>\n",
       "      <td>20</td>\n",
       "      <td>0.05128</td>\n",
       "    </tr>\n",
       "  </tbody>\n",
       "</table>\n",
       "</div>"
      ],
      "text/plain": [
       "   TCS   ratio\n",
       "0   51 0.13077\n",
       "1   33 0.08462\n",
       "2   33 0.08462\n",
       "3   27 0.06923\n",
       "4   20 0.05128\n",
       "5   37 0.09487\n",
       "6    2 0.00513\n",
       "7    2 0.00513\n",
       "8    2 0.00513\n",
       "9   20 0.05128"
      ]
     },
     "execution_count": 34,
     "metadata": {},
     "output_type": "execute_result"
    }
   ],
   "source": [
    "# 행별 결측 비율 확인\n",
    "tmp = new_df.isna().sum(axis=1).to_frame().rename(columns={0:raw_file_name.split(\"_\")[0]})\n",
    "\n",
    "company = raw_file_name.split(\"_\")[0]\n",
    "tmp['ratio'] = tmp[company] / len(new_df.columns)\n",
    "tmp[:10]"
   ]
  },
  {
   "cell_type": "code",
   "execution_count": 35,
   "id": "0e5cc60d",
   "metadata": {
    "ExecuteTime": {
     "end_time": "2022-08-22T07:28:34.908072Z",
     "start_time": "2022-08-22T07:28:34.901093Z"
    }
   },
   "outputs": [],
   "source": [
    "### 초기 6개의 행 삭제\n",
    "new_df = new_df.loc[6:,:].reset_index(drop=True)"
   ]
  },
  {
   "cell_type": "code",
   "execution_count": 36,
   "id": "2cd8f3b5",
   "metadata": {
    "ExecuteTime": {
     "end_time": "2022-08-22T07:28:35.039002Z",
     "start_time": "2022-08-22T07:28:34.910689Z"
    }
   },
   "outputs": [
    {
     "name": "stdout",
     "output_type": "stream",
     "text": [
      "결측값 확인:  239\n",
      "FS_Depreciation, Depletion & Amortization including Impairment - Cash Flow - to Reconcile\n",
      "FS_Preferred Shareholders Equity\n",
      "4개 이상의 결측값을 가지는 컬럼 확인 \n",
      "*------------------------------------*\n",
      "before:  (62, 390)\n",
      "drop_lst4:  2\n",
      "after:  (62, 388)\n"
     ]
    }
   ],
   "source": [
    "print(\"결측값 확인: \", new_df.isna().sum().sum())\n",
    "na_cols = new_df.isna().sum()[new_df.isna().sum() > 0].index\n",
    "\n",
    "drop_lst4 = []\n",
    "for i in range(len(na_cols)):\n",
    "    flg = 0\n",
    "    for j in range(len(new_df)):\n",
    "        if pd.isna(new_df.loc[j,na_cols[i]]):\n",
    "            flg += 1\n",
    "        else:\n",
    "            flg = 0 \n",
    "            \n",
    "        if flg >= 4:\n",
    "            print(na_cols[i])\n",
    "            flg = 0\n",
    "            drop_lst4.append(na_cols[i])\n",
    "            break\n",
    "            \n",
    "print(\"4개 이상의 결측값을 가지는 컬럼 확인 \")\n",
    "drop_lst4 = list(set(drop_lst4)&set(new_df.columns))\n",
    "print(\"*------------------------------------*\")\n",
    "print(\"before: \", new_df.shape)\n",
    "print(\"drop_lst4: \",len(drop_lst4))\n",
    "new_df = new_df[new_df.columns.difference(drop_lst4)]\n",
    "print(\"after: \", new_df.shape)"
   ]
  },
  {
   "cell_type": "markdown",
   "id": "07d68738",
   "metadata": {},
   "source": [
    "### 동일한 값인 경우 (std = 0인 경우)"
   ]
  },
  {
   "cell_type": "code",
   "execution_count": 37,
   "id": "465128a6",
   "metadata": {
    "ExecuteTime": {
     "end_time": "2022-08-22T07:28:38.163125Z",
     "start_time": "2022-08-22T07:28:35.040946Z"
    }
   },
   "outputs": [
    {
     "name": "stdout",
     "output_type": "stream",
     "text": [
      "before:  (62, 388)\n",
      "drop_lst:  17\n",
      "after:  (62, 371)\n"
     ]
    },
    {
     "data": {
      "text/plain": [
       "['BS_Operating Lease Payments Due in Year 2',\n",
       " 'BS_Operating Lease Payments Due in Year 5',\n",
       " 'BS_Operating Lease Payments Due in Year 1',\n",
       " 'BS_Deferred Income Tax - Current Liability',\n",
       " 'BS_Long Term Debt Matur. in Year 6 & Beyond',\n",
       " 'IS_Miscellaneous Earnings Adjustment',\n",
       " 'BS_Long-Term Operating Lease Liabs., Suppl.',\n",
       " 'CF_Sale/Issuance of Preferred',\n",
       " 'BS_Total Operating Leases, Supplemental',\n",
       " 'BS_Oper. Lse. Pymts. Due in Year 6 & Beyond',\n",
       " 'CF_Short Term Debt Reduction',\n",
       " 'BS_Operating Lease Pymts. Due in 2-3 Years',\n",
       " 'BS_Operating Lease Payments Due in Year 3',\n",
       " 'BS_Operating Lease Pymts. Due in 4-5 Years',\n",
       " 'IS_Scrip Issue',\n",
       " 'BS_Treasury Shares - Preferred Issue 1',\n",
       " 'BS_Operating Lease Payments Due in Year 4']"
      ]
     },
     "execution_count": 37,
     "metadata": {},
     "output_type": "execute_result"
    }
   ],
   "source": [
    "tmp = new_df.describe().loc['std',:][new_df.describe().loc['std',:] == 0].index\n",
    "TF = new_df.describe().loc['min',:] == new_df.describe().loc['max',:]\n",
    "tmp1 = new_df.describe().loc[:,TF].columns.values.tolist()\n",
    "\n",
    "tmp = list(set(tmp) | set(tmp1))\n",
    "tmp = list(set(tmp) & set(new_df.columns))\n",
    "\n",
    "drop_lst1 = list(tmp)\n",
    "\n",
    "print(\"before: \", new_df.shape)\n",
    "print(\"drop_lst: \",len(list(drop_lst1)))\n",
    "new_df = new_df[new_df.columns.difference(drop_lst1)]\n",
    "print(\"after: \", new_df.shape)\n",
    "\n",
    "drop_lst1\n"
   ]
  },
  {
   "cell_type": "markdown",
   "id": "a0739003",
   "metadata": {},
   "source": [
    "### importance=9 인 경우"
   ]
  },
  {
   "cell_type": "code",
   "execution_count": 38,
   "id": "5f15e5e3",
   "metadata": {
    "ExecuteTime": {
     "end_time": "2022-08-22T07:28:38.176970Z",
     "start_time": "2022-08-22T07:28:38.166093Z"
    }
   },
   "outputs": [
    {
     "name": "stdout",
     "output_type": "stream",
     "text": [
      "before:  (62, 371)\n",
      "drop_lst2:  4\n",
      "after:  (62, 367)\n"
     ]
    },
    {
     "data": {
      "text/plain": [
       "['PBR', '인력수', 'close_weighted', 'close']"
      ]
     },
     "execution_count": 38,
     "metadata": {},
     "output_type": "execute_result"
    }
   ],
   "source": [
    "drop_lst2 = ['Sum of 종가*거래량','Sum of Volume','인력수','close','close_weighted','PBR']\n",
    "drop_lst2 = list(set(drop_lst2)&set(new_df.columns))\n",
    "print(\"before: \", new_df.shape)\n",
    "print(\"drop_lst2: \",len(drop_lst2))\n",
    "new_df = new_df[new_df.columns.difference(drop_lst2)]\n",
    "print(\"after: \", new_df.shape)\n",
    "\n",
    "drop_lst2"
   ]
  },
  {
   "cell_type": "markdown",
   "id": "e7873300",
   "metadata": {},
   "source": [
    "### 종속 변수에 사용되는 경우"
   ]
  },
  {
   "cell_type": "code",
   "execution_count": 39,
   "id": "80fd51c8",
   "metadata": {
    "ExecuteTime": {
     "end_time": "2022-08-22T07:28:38.191643Z",
     "start_time": "2022-08-22T07:28:38.179651Z"
    }
   },
   "outputs": [
    {
     "name": "stdout",
     "output_type": "stream",
     "text": [
      "before:  (62, 367)\n",
      "after:  (62, 364)\n"
     ]
    }
   ],
   "source": [
    "print(\"before: \", new_df.shape)\n",
    "new_df = new_df[new_df.columns.difference(ev_col)]\n",
    "print(\"after: \", new_df.shape)"
   ]
  },
  {
   "cell_type": "markdown",
   "id": "2f89515c",
   "metadata": {},
   "source": [
    "### 최빈값 60% 초과인 경우"
   ]
  },
  {
   "cell_type": "code",
   "execution_count": 40,
   "id": "4c658cfa",
   "metadata": {
    "ExecuteTime": {
     "end_time": "2022-08-22T07:28:38.206588Z",
     "start_time": "2022-08-22T07:28:38.193602Z"
    }
   },
   "outputs": [
    {
     "data": {
      "text/plain": [
       "0.3548387096774194"
      ]
     },
     "execution_count": 40,
     "metadata": {},
     "output_type": "execute_result"
    }
   ],
   "source": [
    "Counter(new_df['무형자산']).most_common(1)[0][1] / len(new_df)"
   ]
  },
  {
   "cell_type": "code",
   "execution_count": 41,
   "id": "659d1eec",
   "metadata": {
    "ExecuteTime": {
     "end_time": "2022-08-22T07:28:38.262170Z",
     "start_time": "2022-08-22T07:28:38.209578Z"
    },
    "scrolled": true
   },
   "outputs": [
    {
     "name": "stdout",
     "output_type": "stream",
     "text": [
      "before:  (62, 364)\n",
      "drop_lst3:  45\n",
      "after:  (62, 319)\n"
     ]
    },
    {
     "data": {
      "text/plain": [
       "['CF_Sale of Intangible Assets',\n",
       " 'BS_Long Term Debt',\n",
       " 'BS_Contract Assets - Long Term',\n",
       " 'BS_Curr Port of LT Operating Leases, Suppl.',\n",
       " 'CF_Net Income/Starting Line',\n",
       " 'CF_Unusual Items',\n",
       " 'CF_Inventories',\n",
       " 'CF_Non-Cash Items',\n",
       " 'IS_Investment Income - Operating',\n",
       " 'IS_Impairment-Assets Held for Use',\n",
       " 'CF_Other Non-Cash Items',\n",
       " 'BS_Contract Assets - Short Term',\n",
       " 'BS_Right-of-Use Assets-Cap.Lease,Gross-Sup.',\n",
       " 'CF_Depreciation/Depletion',\n",
       " 'IS_Other Unusual Expense (Income)',\n",
       " 'IS_Loss(Gain) on Sale of Assets - Operating',\n",
       " 'CF_Repurchase/Retirement of Common',\n",
       " 'IS_Amortization of Intangibles',\n",
       " 'BS_Treas Shares - Common Stock Prmry Issue',\n",
       " 'IS_Interest/Investment Income - Operating',\n",
       " 'CF_Accounts Receivable',\n",
       " 'CF_Other Assets',\n",
       " 'IS_Depreciation of Right-of-Use Assets,Sup.',\n",
       " 'BS_Treasury Stock - Common',\n",
       " 'BS_Notes Payable/Short Term Debt',\n",
       " 'CF_Depreciation',\n",
       " 'BS_Long Term Debt Maturing within 1 Year',\n",
       " 'BS_Inventories - Other',\n",
       " 'CF_Other Liabilities',\n",
       " 'BS_Contract Liability - Short Term',\n",
       " 'IS_Equity in Affiliates, Supplemental',\n",
       " 'BS_Restricted Cash - Long Term',\n",
       " 'IS_Interest Exp.(Inc.),Net-Operating, Total',\n",
       " 'CF_Sale/Issuance of Common',\n",
       " 'CF_Net Changes in Working Capital',\n",
       " 'IS_Equity In Affiliates',\n",
       " 'BS_LT Investment - Affiliate Companies',\n",
       " 'BS_Deferred Revenue - Long Term',\n",
       " 'BS_Total Long Term Debt, Supplemental',\n",
       " 'CF_Accounts Payable',\n",
       " 'IS_Interest Expense on Lease Liabs., Suppl.',\n",
       " 'IS_Current Tax - Domestic',\n",
       " 'IS_Litigation',\n",
       " 'IS_Amort of Acquisition Costs, Supplemental',\n",
       " 'IS_Impairment-Assets Held for Sale']"
      ]
     },
     "execution_count": 41,
     "metadata": {},
     "output_type": "execute_result"
    }
   ],
   "source": [
    "drop_lst3 = []\n",
    "leng = len(new_df)\n",
    "for i in new_df.columns:\n",
    "    data = Counter(new_df[i])\n",
    "    if data.most_common(1)[0][1] > (leng * 0.6) :\n",
    "        drop_lst3.append(i)\n",
    "\n",
    "drop_lst3 = list(set(drop_lst3)&set(new_df.columns))\n",
    "print(\"before: \", new_df.shape)\n",
    "print(\"drop_lst3: \",len(drop_lst3))\n",
    "new_df = new_df[new_df.columns.difference(drop_lst3)]\n",
    "print(\"after: \", new_df.shape)\n",
    "drop_lst3\n"
   ]
  },
  {
   "cell_type": "markdown",
   "id": "e5516877",
   "metadata": {},
   "source": [
    "### 나머지 결측은 선형 보간"
   ]
  },
  {
   "cell_type": "code",
   "execution_count": 42,
   "id": "9aa8552b",
   "metadata": {
    "ExecuteTime": {
     "end_time": "2022-08-22T07:28:38.511425Z",
     "start_time": "2022-08-22T07:28:38.264165Z"
    }
   },
   "outputs": [
    {
     "name": "stdout",
     "output_type": "stream",
     "text": [
      "결측값 확인(before):  159\n",
      "~~선형 보간 적용~~\n",
      "결측값 확인(after):  0\n"
     ]
    }
   ],
   "source": [
    "# 선형 보간\n",
    "print(\"결측값 확인(before): \", new_df.isna().sum().sum())\n",
    "for _, col in enumerate(new_df.columns):\n",
    "    if col != \"Date_x\":\n",
    "        new_df[col] = new_df[col].interpolate(method='linear')\n",
    "\n",
    "print(\"~~선형 보간 적용~~\")\n",
    "print(\"결측값 확인(after): \", new_df.isna().sum().sum())"
   ]
  },
  {
   "cell_type": "code",
   "execution_count": 43,
   "id": "b5bedb41",
   "metadata": {
    "ExecuteTime": {
     "end_time": "2022-08-22T07:28:38.674381Z",
     "start_time": "2022-08-22T07:28:38.513419Z"
    }
   },
   "outputs": [
    {
     "name": "stdout",
     "output_type": "stream",
     "text": [
      "new_df.shape:  (62, 319)\n",
      "결측 개수:  0\n"
     ]
    },
    {
     "data": {
      "text/html": [
       "<div>\n",
       "<style scoped>\n",
       "    .dataframe tbody tr th:only-of-type {\n",
       "        vertical-align: middle;\n",
       "    }\n",
       "\n",
       "    .dataframe tbody tr th {\n",
       "        vertical-align: top;\n",
       "    }\n",
       "\n",
       "    .dataframe thead th {\n",
       "        text-align: right;\n",
       "    }\n",
       "</style>\n",
       "<table border=\"1\" class=\"dataframe\">\n",
       "  <thead>\n",
       "    <tr style=\"text-align: right;\">\n",
       "      <th></th>\n",
       "      <th>Date_x</th>\n",
       "      <th>BPS(지배, Adj.)(원/주)</th>\n",
       "      <th>BPS증가율(YoY)(비율)</th>\n",
       "      <th>BS_Accounts Payable</th>\n",
       "      <th>BS_Accounts Receivable - Trade, Gross</th>\n",
       "      <th>BS_Accounts Receivable - Trade, Net</th>\n",
       "      <th>BS_Accrued Expenses</th>\n",
       "      <th>BS_Accumulated Depreciation, Total</th>\n",
       "      <th>BS_Accumulated Goodwill Amortization</th>\n",
       "      <th>BS_Accumulated Goodwill Amortization Suppl.</th>\n",
       "      <th>...</th>\n",
       "      <th>인당영업이익s</th>\n",
       "      <th>자기자본비율</th>\n",
       "      <th>자본금(천원)</th>\n",
       "      <th>자산총계(천원)</th>\n",
       "      <th>재고자산회전율(비율)</th>\n",
       "      <th>채무총계</th>\n",
       "      <th>총자산회전율(비율)</th>\n",
       "      <th>투자비 대비 매출 (Rev/GI)s</th>\n",
       "      <th>현금배당성향(%)</th>\n",
       "      <th>EV_EBITDA</th>\n",
       "    </tr>\n",
       "  </thead>\n",
       "  <tbody>\n",
       "    <tr>\n",
       "      <th>0</th>\n",
       "      <td>2006-10-01</td>\n",
       "      <td>10.56255</td>\n",
       "      <td>-0.16945</td>\n",
       "      <td>310</td>\n",
       "      <td>970</td>\n",
       "      <td>1104</td>\n",
       "      <td>96</td>\n",
       "      <td>-205</td>\n",
       "      <td>-4</td>\n",
       "      <td>4</td>\n",
       "      <td>...</td>\n",
       "      <td>0.01512</td>\n",
       "      <td>68.65672</td>\n",
       "      <td>22</td>\n",
       "      <td>2680</td>\n",
       "      <td>0.66905</td>\n",
       "      <td>13</td>\n",
       "      <td>1.88000</td>\n",
       "      <td>2.45815</td>\n",
       "      <td>0.21658</td>\n",
       "      <td>24.91000</td>\n",
       "    </tr>\n",
       "    <tr>\n",
       "      <th>1</th>\n",
       "      <td>2007-01-01</td>\n",
       "      <td>11.39251</td>\n",
       "      <td>0.57520</td>\n",
       "      <td>320</td>\n",
       "      <td>1019</td>\n",
       "      <td>1179</td>\n",
       "      <td>85</td>\n",
       "      <td>-234</td>\n",
       "      <td>-6</td>\n",
       "      <td>6</td>\n",
       "      <td>...</td>\n",
       "      <td>0.01534</td>\n",
       "      <td>67.11344</td>\n",
       "      <td>23</td>\n",
       "      <td>3059</td>\n",
       "      <td>0.64560</td>\n",
       "      <td>118</td>\n",
       "      <td>1.71000</td>\n",
       "      <td>2.33429</td>\n",
       "      <td>0.32399</td>\n",
       "      <td>23.31000</td>\n",
       "    </tr>\n",
       "  </tbody>\n",
       "</table>\n",
       "<p>2 rows × 319 columns</p>\n",
       "</div>"
      ],
      "text/plain": [
       "      Date_x  BPS(지배, Adj.)(원/주)  BPS증가율(YoY)(비율)  BS_Accounts Payable  \\\n",
       "0 2006-10-01            10.56255         -0.16945                  310   \n",
       "1 2007-01-01            11.39251          0.57520                  320   \n",
       "\n",
       "   BS_Accounts Receivable - Trade, Gross  BS_Accounts Receivable - Trade, Net  \\\n",
       "0                                    970                                 1104   \n",
       "1                                   1019                                 1179   \n",
       "\n",
       "   BS_Accrued Expenses  BS_Accumulated Depreciation, Total  \\\n",
       "0                   96                                -205   \n",
       "1                   85                                -234   \n",
       "\n",
       "   BS_Accumulated Goodwill Amortization  \\\n",
       "0                                    -4   \n",
       "1                                    -6   \n",
       "\n",
       "   BS_Accumulated Goodwill Amortization Suppl.  ...  인당영업이익s   자기자본비율  \\\n",
       "0                                            4  ...  0.01512 68.65672   \n",
       "1                                            6  ...  0.01534 67.11344   \n",
       "\n",
       "   자본금(천원)  자산총계(천원)  재고자산회전율(비율)  채무총계  총자산회전율(비율)  투자비 대비 매출 (Rev/GI)s  \\\n",
       "0       22      2680      0.66905    13     1.88000              2.45815   \n",
       "1       23      3059      0.64560   118     1.71000              2.33429   \n",
       "\n",
       "   현금배당성향(%)  EV_EBITDA  \n",
       "0    0.21658   24.91000  \n",
       "1    0.32399   23.31000  \n",
       "\n",
       "[2 rows x 319 columns]"
      ]
     },
     "execution_count": 43,
     "metadata": {},
     "output_type": "execute_result"
    }
   ],
   "source": [
    "# 이 때, 편의를 위해 \"Date_x\" 변수를 맨 앞으로, Y1~Y4 변수는 맨 뒤로 위치시킴\n",
    "col_ = new_df.pop(\"Date_x\")\n",
    "new_df.insert(0, col_.name, col_)\n",
    "\n",
    "col_ = new_df.pop(\"EV_EBITDA\")\n",
    "new_df.insert(new_df.shape[1], col_.name, col_)\n",
    "# for i in range(len(Y)):\n",
    "#     col_ = new_df.pop(Y[i])\n",
    "#     new_df.insert(new_df.shape[1], col_.name, col_)\n",
    "\n",
    "print(\"new_df.shape: \",new_df.shape)\n",
    "print(\"결측 개수: \", new_df.isna().sum().sum())\n",
    "new_df.head(2)"
   ]
  },
  {
   "cell_type": "markdown",
   "id": "055acbb3",
   "metadata": {},
   "source": [
    "### 제외 컬럼 "
   ]
  },
  {
   "cell_type": "code",
   "execution_count": 44,
   "id": "327d8efc",
   "metadata": {
    "ExecuteTime": {
     "end_time": "2022-08-22T07:28:38.791329Z",
     "start_time": "2022-08-22T07:28:38.676375Z"
    },
    "scrolled": true
   },
   "outputs": [
    {
     "name": "stdout",
     "output_type": "stream",
     "text": [
      "drop_col num:  76\n"
     ]
    },
    {
     "data": {
      "text/html": [
       "<div>\n",
       "<style scoped>\n",
       "    .dataframe tbody tr th:only-of-type {\n",
       "        vertical-align: middle;\n",
       "    }\n",
       "\n",
       "    .dataframe tbody tr th {\n",
       "        vertical-align: top;\n",
       "    }\n",
       "\n",
       "    .dataframe thead th {\n",
       "        text-align: right;\n",
       "    }\n",
       "</style>\n",
       "<table border=\"1\" class=\"dataframe\">\n",
       "  <thead>\n",
       "    <tr style=\"text-align: right;\">\n",
       "      <th></th>\n",
       "      <th>drop_cols</th>\n",
       "      <th>part</th>\n",
       "      <th>group</th>\n",
       "      <th>importance</th>\n",
       "    </tr>\n",
       "  </thead>\n",
       "  <tbody>\n",
       "    <tr>\n",
       "      <th>0</th>\n",
       "      <td>인당매출</td>\n",
       "      <td>중복되는 컬럼</td>\n",
       "      <td>NaN</td>\n",
       "      <td>NaN</td>\n",
       "    </tr>\n",
       "    <tr>\n",
       "      <th>1</th>\n",
       "      <td>무형자산회전율</td>\n",
       "      <td>중복되는 컬럼</td>\n",
       "      <td>NaN</td>\n",
       "      <td>NaN</td>\n",
       "    </tr>\n",
       "    <tr>\n",
       "      <th>2</th>\n",
       "      <td>인당영업이익</td>\n",
       "      <td>중복되는 컬럼</td>\n",
       "      <td>NaN</td>\n",
       "      <td>NaN</td>\n",
       "    </tr>\n",
       "    <tr>\n",
       "      <th>3</th>\n",
       "      <td>인당순이익</td>\n",
       "      <td>중복되는 컬럼</td>\n",
       "      <td>NaN</td>\n",
       "      <td>NaN</td>\n",
       "    </tr>\n",
       "    <tr>\n",
       "      <th>4</th>\n",
       "      <td>투자비 대비 매출 (Rev/GI)</td>\n",
       "      <td>중복되는 컬럼</td>\n",
       "      <td>NaN</td>\n",
       "      <td>NaN</td>\n",
       "    </tr>\n",
       "    <tr>\n",
       "      <th>...</th>\n",
       "      <td>...</td>\n",
       "      <td>...</td>\n",
       "      <td>...</td>\n",
       "      <td>...</td>\n",
       "    </tr>\n",
       "    <tr>\n",
       "      <th>71</th>\n",
       "      <td>IS_Litigation</td>\n",
       "      <td>최빈값60%초과</td>\n",
       "      <td>IS</td>\n",
       "      <td>5.00000</td>\n",
       "    </tr>\n",
       "    <tr>\n",
       "      <th>72</th>\n",
       "      <td>IS_Amort of Acquisition Costs, Supplemental</td>\n",
       "      <td>최빈값60%초과</td>\n",
       "      <td>IS</td>\n",
       "      <td>5.00000</td>\n",
       "    </tr>\n",
       "    <tr>\n",
       "      <th>73</th>\n",
       "      <td>IS_Impairment-Assets Held for Sale</td>\n",
       "      <td>최빈값60%초과</td>\n",
       "      <td>IS</td>\n",
       "      <td>5.00000</td>\n",
       "    </tr>\n",
       "    <tr>\n",
       "      <th>74</th>\n",
       "      <td>FS_Preferred Shareholders Equity</td>\n",
       "      <td>4개 이상의 결측</td>\n",
       "      <td>FS</td>\n",
       "      <td>5.00000</td>\n",
       "    </tr>\n",
       "    <tr>\n",
       "      <th>75</th>\n",
       "      <td>FS_Depreciation, Depletion &amp; Amortization incl...</td>\n",
       "      <td>4개 이상의 결측</td>\n",
       "      <td>FS</td>\n",
       "      <td>5.00000</td>\n",
       "    </tr>\n",
       "  </tbody>\n",
       "</table>\n",
       "<p>76 rows × 4 columns</p>\n",
       "</div>"
      ],
      "text/plain": [
       "                                            drop_cols       part group  \\\n",
       "0                                                인당매출    중복되는 컬럼   NaN   \n",
       "1                                             무형자산회전율    중복되는 컬럼   NaN   \n",
       "2                                              인당영업이익    중복되는 컬럼   NaN   \n",
       "3                                               인당순이익    중복되는 컬럼   NaN   \n",
       "4                                  투자비 대비 매출 (Rev/GI)    중복되는 컬럼   NaN   \n",
       "..                                                ...        ...   ...   \n",
       "71                                      IS_Litigation   최빈값60%초과    IS   \n",
       "72        IS_Amort of Acquisition Costs, Supplemental   최빈값60%초과    IS   \n",
       "73                 IS_Impairment-Assets Held for Sale   최빈값60%초과    IS   \n",
       "74                   FS_Preferred Shareholders Equity  4개 이상의 결측    FS   \n",
       "75  FS_Depreciation, Depletion & Amortization incl...  4개 이상의 결측    FS   \n",
       "\n",
       "    importance  \n",
       "0          NaN  \n",
       "1          NaN  \n",
       "2          NaN  \n",
       "3          NaN  \n",
       "4          NaN  \n",
       "..         ...  \n",
       "71     5.00000  \n",
       "72     5.00000  \n",
       "73     5.00000  \n",
       "74     5.00000  \n",
       "75     5.00000  \n",
       "\n",
       "[76 rows x 4 columns]"
      ]
     },
     "execution_count": 44,
     "metadata": {},
     "output_type": "execute_result"
    }
   ],
   "source": [
    "drop_lst0 = pd.DataFrame({'drop_cols':remove_col, 'part':'중복되는 컬럼'})\n",
    "drop_lst00 = pd.DataFrame({'drop_cols':ev_col, 'part':'종속변수 생성에 사용'})\n",
    "drop_lst1 = pd.DataFrame({'drop_cols':drop_lst1, 'part':'동일한 값'})\n",
    "drop_lst2 = pd.DataFrame({'drop_cols':drop_lst2, 'part':'importance9'})\n",
    "drop_lst3 = pd.DataFrame({'drop_cols':drop_lst3, 'part':'최빈값60%초과'})\n",
    "drop_lst4 = pd.DataFrame({'drop_cols':drop_lst4, 'part':'4개 이상의 결측'})\n",
    "\n",
    "drop_cols = pd.concat([drop_lst0,drop_lst00,drop_lst1,drop_lst2,drop_lst3, drop_lst4], axis=0).reset_index(drop=True)\n",
    "drop_cols['group'] = drop_cols['drop_cols'].map(dic_group)\n",
    "drop_cols['importance'] = drop_cols['drop_cols'].map(dic_imp)\n",
    "print(\"drop_col num: \", len(drop_cols))\n",
    "drop_cols"
   ]
  },
  {
   "cell_type": "markdown",
   "id": "e499b5cf",
   "metadata": {},
   "source": [
    "### 파일 내보내기"
   ]
  },
  {
   "cell_type": "code",
   "execution_count": 45,
   "id": "73b6a6da",
   "metadata": {
    "ExecuteTime": {
     "end_time": "2022-08-22T07:28:39.503605Z",
     "start_time": "2022-08-22T07:28:38.794322Z"
    }
   },
   "outputs": [],
   "source": [
    "### 최종 dataset을 csv, xlsx 파일로 out ###\n",
    "new_df.to_csv(os.path.join(out_path, raw_file_name.split('.')[0] + \"_clean_total_v1.1.csv\"), index=False, encoding='utf-8')\n",
    "new_df.to_excel(os.path.join(out_path, raw_file_name.split('.')[0] + \"_clean_total_v1.1.xlsx\"), index=False)\n",
    "\n",
    "drop_cols.to_excel(os.path.join(out_path, raw_file_name.split('.')[0] + \"_dropcols_v1.1.xlsx\"), index=False)"
   ]
  },
  {
   "cell_type": "code",
   "execution_count": null,
   "id": "7475b215",
   "metadata": {},
   "outputs": [],
   "source": []
  }
 ],
 "metadata": {
  "hide_input": false,
  "kernelspec": {
   "display_name": "Python 3 (ipykernel)",
   "language": "python",
   "name": "python3"
  },
  "language_info": {
   "codemirror_mode": {
    "name": "ipython",
    "version": 3
   },
   "file_extension": ".py",
   "mimetype": "text/x-python",
   "name": "python",
   "nbconvert_exporter": "python",
   "pygments_lexer": "ipython3",
   "version": "3.9.7"
  },
  "toc": {
   "base_numbering": "0",
   "nav_menu": {},
   "number_sections": true,
   "sideBar": true,
   "skip_h1_title": false,
   "title_cell": "Table of Contents",
   "title_sidebar": "Contents",
   "toc_cell": false,
   "toc_position": {
    "height": "calc(100% - 180px)",
    "left": "10px",
    "top": "150px",
    "width": "235.66px"
   },
   "toc_section_display": true,
   "toc_window_display": true
  },
  "varInspector": {
   "cols": {
    "lenName": 16,
    "lenType": 16,
    "lenVar": 40
   },
   "kernels_config": {
    "python": {
     "delete_cmd_postfix": "",
     "delete_cmd_prefix": "del ",
     "library": "var_list.py",
     "varRefreshCmd": "print(var_dic_list())"
    },
    "r": {
     "delete_cmd_postfix": ") ",
     "delete_cmd_prefix": "rm(",
     "library": "var_list.r",
     "varRefreshCmd": "cat(var_dic_list()) "
    }
   },
   "types_to_exclude": [
    "module",
    "function",
    "builtin_function_or_method",
    "instance",
    "_Feature"
   ],
   "window_display": false
  }
 },
 "nbformat": 4,
 "nbformat_minor": 5
}
