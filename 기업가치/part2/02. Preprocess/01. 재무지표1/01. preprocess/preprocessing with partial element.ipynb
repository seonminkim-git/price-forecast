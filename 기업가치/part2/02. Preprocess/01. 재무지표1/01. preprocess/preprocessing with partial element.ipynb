{
 "cells": [
  {
   "cell_type": "markdown",
   "id": "181369db",
   "metadata": {},
   "source": [
    "# IMPORT LIBARAY"
   ]
  },
  {
   "cell_type": "code",
   "execution_count": 2,
   "id": "cf754692",
   "metadata": {
    "ExecuteTime": {
     "end_time": "2022-07-29T00:32:29.200245Z",
     "start_time": "2022-07-29T00:32:29.181243Z"
    }
   },
   "outputs": [],
   "source": [
    "import pandas as pd\n",
    "import numpy as np\n",
    "import os\n",
    "import glob\n",
    "import datetime\n",
    "from collections import Counter\n",
    "from scipy import interpolate\n",
    "\n",
    "import matplotlib.pyplot as plt\n",
    "import matplotlib.font_manager as fm\n",
    "import seaborn as sns\n",
    "import plotly.graph_objects as go\n",
    "from matplotlib import dates\n",
    "from plotly.subplots import make_subplots\n",
    "import plotly\n",
    "import plotly.express as px\n",
    "pd.options.display.float_format = '{:.5f}'.format\n",
    "\n",
    "import FinanceDataReader as fdr\n",
    "\n",
    "from sklearn.preprocessing import MinMaxScaler\n",
    "\n",
    "# os.getcwd()\n",
    "### 설치된 폰트 출력\n",
    "font_list = [font.name for font in fm.fontManager.ttflist]\n",
    "font_list\n",
    "plt.rc(\"font\", family=\"DejaVu Sans\")\n",
    "parameters = {'axes.labelsize': 20,\n",
    "          'axes.titlesize': 25,\n",
    "          'xtick.labelsize': 20,\n",
    "          'ytick.labelsize': 20,\n",
    "        'legend.fontsize': 20,\n",
    "          }\n",
    "plt.rcParams.update(parameters)\n",
    "plt.rcParams['font.family'] = 'DejaVu Sans'\n",
    "\n",
    "current_dir = os.getcwd()\n",
    "plt.style.use(\"seaborn-dark\")\n",
    "plt.rcParams['font.family'] = 'DejaVu Sans'"
   ]
  },
  {
   "cell_type": "code",
   "execution_count": null,
   "id": "6345175b",
   "metadata": {},
   "outputs": [],
   "source": [
    "root_path = '../../../'\n",
    "current_dir = os.getcwd()\n",
    "\n",
    "master_path = os.path.join(root_path, '01. Data','00. master_data')\n",
    "rawfile_path = os.path.join(master_path, \"result_xlsx\")\n",
    "\n",
    "out_path = os.path.join(root_path, '01. Data','01. 재무지표1', '02. preprocessed')"
   ]
  },
  {
   "cell_type": "markdown",
   "id": "4b4f6678",
   "metadata": {},
   "source": [
    "# 결측처리 및 컬럼 처리"
   ]
  },
  {
   "cell_type": "code",
   "execution_count": 3,
   "id": "ab68df08",
   "metadata": {
    "ExecuteTime": {
     "end_time": "2022-07-29T00:32:34.518336Z",
     "start_time": "2022-07-29T00:32:31.469358Z"
    }
   },
   "outputs": [
    {
     "data": {
      "text/html": [
       "<div>\n",
       "<style scoped>\n",
       "    .dataframe tbody tr th:only-of-type {\n",
       "        vertical-align: middle;\n",
       "    }\n",
       "\n",
       "    .dataframe tbody tr th {\n",
       "        vertical-align: top;\n",
       "    }\n",
       "\n",
       "    .dataframe thead th {\n",
       "        text-align: right;\n",
       "    }\n",
       "</style>\n",
       "<table border=\"1\" class=\"dataframe\">\n",
       "  <thead>\n",
       "    <tr style=\"text-align: right;\">\n",
       "      <th></th>\n",
       "      <th>raw</th>\n",
       "      <th>no</th>\n",
       "      <th>variable</th>\n",
       "      <th>group</th>\n",
       "      <th>importance</th>\n",
       "    </tr>\n",
       "  </thead>\n",
       "  <tbody>\n",
       "    <tr>\n",
       "      <th>0</th>\n",
       "      <td>Date_x</td>\n",
       "      <td>1</td>\n",
       "      <td>Date_x</td>\n",
       "      <td>DT</td>\n",
       "      <td>9</td>\n",
       "    </tr>\n",
       "    <tr>\n",
       "      <th>1</th>\n",
       "      <td>BS_Earnings Quality Score</td>\n",
       "      <td>2</td>\n",
       "      <td>BS_Earnings Quality Score</td>\n",
       "      <td>BS</td>\n",
       "      <td>5</td>\n",
       "    </tr>\n",
       "  </tbody>\n",
       "</table>\n",
       "</div>"
      ],
      "text/plain": [
       "                         raw  no                   variable group  importance\n",
       "0                     Date_x   1                     Date_x    DT           9\n",
       "1  BS_Earnings Quality Score   2  BS_Earnings Quality Score    BS           5"
      ]
     },
     "execution_count": 3,
     "metadata": {},
     "output_type": "execute_result"
    }
   ],
   "source": [
    "desc = pd.read_excel(os.path.join(master_path, \"desc_v2.2.xlsx\"), sheet_name='desc', header=0, usecols=['no','raw','variable','group','importance'])\n",
    "desc.head(2)"
   ]
  },
  {
   "cell_type": "code",
   "execution_count": 4,
   "id": "3e68c6da",
   "metadata": {
    "ExecuteTime": {
     "end_time": "2022-07-29T00:32:34.671438Z",
     "start_time": "2022-07-29T00:32:34.626287Z"
    }
   },
   "outputs": [],
   "source": [
    "# desc 데이터 기준, group이 한글인 경우(재무팀에서 뽑아준 항목들)만 target variable로 가져감\n",
    "target_variable = desc.loc[~desc['group'].apply(lambda x: x.encode().isalpha()),\"variable\"].values.tolist()\n",
    "\n",
    "dic_group = dict()\n",
    "for _, xcol in enumerate(desc['variable'].values):\n",
    "    dic_group[xcol] = desc.loc[_,'group']\n",
    "\n",
    "dic_imp = dict()\n",
    "for _, xcol in enumerate(desc['variable'].values):\n",
    "    dic_imp[xcol] = desc.loc[_,'importance']\n",
    "    \n",
    "dic_name = dict()\n",
    "for _, xcol in enumerate(desc['raw'].values):\n",
    "    dic_name[xcol] = desc.loc[_, 'variable']\n",
    "    \n",
    "Y = ['close','close_weighted','EV_EBITDA','PBR'] # Y1, Y2, Y4, Y3"
   ]
  },
  {
   "cell_type": "markdown",
   "id": "035c265c",
   "metadata": {},
   "source": [
    "## Accenture"
   ]
  },
  {
   "cell_type": "markdown",
   "id": "94b2ac6a",
   "metadata": {},
   "source": [
    "* 초기 4개 행 제거(2002/8, 2002/11, 2003/2, 2003/5)\n",
    "* \"자본금(천원)\"컬럼 삭제(이유: 모두 0의 값을 가짐)\n",
    "\n",
    "<br>\n",
    "* desc 2.2적용 코드"
   ]
  },
  {
   "cell_type": "code",
   "execution_count": 42,
   "id": "80ef0450",
   "metadata": {
    "ExecuteTime": {
     "end_time": "2022-07-28T00:52:06.501970Z",
     "start_time": "2022-07-28T00:52:05.961492Z"
    }
   },
   "outputs": [
    {
     "data": {
      "text/html": [
       "<div>\n",
       "<style scoped>\n",
       "    .dataframe tbody tr th:only-of-type {\n",
       "        vertical-align: middle;\n",
       "    }\n",
       "\n",
       "    .dataframe tbody tr th {\n",
       "        vertical-align: top;\n",
       "    }\n",
       "\n",
       "    .dataframe thead th {\n",
       "        text-align: right;\n",
       "    }\n",
       "</style>\n",
       "<table border=\"1\" class=\"dataframe\">\n",
       "  <thead>\n",
       "    <tr style=\"text-align: right;\">\n",
       "      <th></th>\n",
       "      <th>Date_x</th>\n",
       "      <th>BS_Earnings Quality Score</th>\n",
       "      <th>BS_Cash and Short Term Investments</th>\n",
       "      <th>BS_Cash &amp; Equivalents</th>\n",
       "      <th>BS_Short Term Investments</th>\n",
       "      <th>BS_Accounts Receivable - Trade, Net</th>\n",
       "      <th>BS_Accounts Receivable - Trade, Gross</th>\n",
       "      <th>BS_Provision for Doubtful Accounts</th>\n",
       "      <th>BS_Total Receivables, Net</th>\n",
       "      <th>BS_Other Current Assets, Total</th>\n",
       "      <th>...</th>\n",
       "      <th>Opex Margin</th>\n",
       "      <th>Y1</th>\n",
       "      <th>Y2</th>\n",
       "      <th>Y3</th>\n",
       "      <th>Y4</th>\n",
       "      <th>인당매출s</th>\n",
       "      <th>무형자산회전율s</th>\n",
       "      <th>인당영업이익s</th>\n",
       "      <th>인당순이익s</th>\n",
       "      <th>투자비 대비 매출 (Rev/GI)s</th>\n",
       "    </tr>\n",
       "  </thead>\n",
       "  <tbody>\n",
       "    <tr>\n",
       "      <th>0</th>\n",
       "      <td>2002-08-01</td>\n",
       "      <td>94</td>\n",
       "      <td>1317</td>\n",
       "      <td>1317</td>\n",
       "      <td>0</td>\n",
       "      <td>2144</td>\n",
       "      <td>1703</td>\n",
       "      <td>-41</td>\n",
       "      <td>2144</td>\n",
       "      <td>591</td>\n",
       "      <td>...</td>\n",
       "      <td>0.08395</td>\n",
       "      <td>22.87444</td>\n",
       "      <td>19.58500</td>\n",
       "      <td>34.93000</td>\n",
       "      <td>3.59000</td>\n",
       "      <td>NaN</td>\n",
       "      <td>NaN</td>\n",
       "      <td>NaN</td>\n",
       "      <td>NaN</td>\n",
       "      <td>NaN</td>\n",
       "    </tr>\n",
       "    <tr>\n",
       "      <th>1</th>\n",
       "      <td>2002-11-01</td>\n",
       "      <td>94</td>\n",
       "      <td>1474</td>\n",
       "      <td>1474</td>\n",
       "      <td>0</td>\n",
       "      <td>2291</td>\n",
       "      <td>1703</td>\n",
       "      <td>-41</td>\n",
       "      <td>2291</td>\n",
       "      <td>511</td>\n",
       "      <td>...</td>\n",
       "      <td>0.12894</td>\n",
       "      <td>16.91222</td>\n",
       "      <td>16.61000</td>\n",
       "      <td>30.90000</td>\n",
       "      <td>4.01000</td>\n",
       "      <td>NaN</td>\n",
       "      <td>NaN</td>\n",
       "      <td>NaN</td>\n",
       "      <td>NaN</td>\n",
       "      <td>NaN</td>\n",
       "    </tr>\n",
       "  </tbody>\n",
       "</table>\n",
       "<p>2 rows × 383 columns</p>\n",
       "</div>"
      ],
      "text/plain": [
       "      Date_x  BS_Earnings Quality Score  BS_Cash and Short Term Investments  \\\n",
       "0 2002-08-01                         94                                1317   \n",
       "1 2002-11-01                         94                                1474   \n",
       "\n",
       "   BS_Cash & Equivalents  BS_Short Term Investments  \\\n",
       "0                   1317                          0   \n",
       "1                   1474                          0   \n",
       "\n",
       "   BS_Accounts Receivable - Trade, Net  BS_Accounts Receivable - Trade, Gross  \\\n",
       "0                                 2144                                   1703   \n",
       "1                                 2291                                   1703   \n",
       "\n",
       "   BS_Provision for Doubtful Accounts  BS_Total Receivables, Net  \\\n",
       "0                                 -41                       2144   \n",
       "1                                 -41                       2291   \n",
       "\n",
       "   BS_Other Current Assets, Total  ...  Opex Margin       Y1       Y2  \\\n",
       "0                             591  ...      0.08395 22.87444 19.58500   \n",
       "1                             511  ...      0.12894 16.91222 16.61000   \n",
       "\n",
       "        Y3      Y4  인당매출s  무형자산회전율s  인당영업이익s  인당순이익s  투자비 대비 매출 (Rev/GI)s  \n",
       "0 34.93000 3.59000    NaN       NaN      NaN     NaN                  NaN  \n",
       "1 30.90000 4.01000    NaN       NaN      NaN     NaN                  NaN  \n",
       "\n",
       "[2 rows x 383 columns]"
      ]
     },
     "execution_count": 42,
     "metadata": {},
     "output_type": "execute_result"
    }
   ],
   "source": [
    "raw_file_name = \"Accenture_non_shift.xlsx\"\n",
    "# Acc\n",
    "# TCS\n",
    "\n",
    "df = pd.read_excel(rawfile_path+raw_file_name)\n",
    "df['Date_x'] = pd.to_datetime(df['Date_x'])\n",
    "df.head(2)"
   ]
  },
  {
   "cell_type": "code",
   "execution_count": 43,
   "id": "c07dfda9",
   "metadata": {
    "ExecuteTime": {
     "end_time": "2022-07-28T00:52:06.868647Z",
     "start_time": "2022-07-28T00:52:06.630023Z"
    }
   },
   "outputs": [
    {
     "name": "stdout",
     "output_type": "stream",
     "text": [
      "0\n",
      "0\n"
     ]
    }
   ],
   "source": [
    "for col in df.columns:\n",
    "    if col in list(dic_name.keys()) :\n",
    "#         print(col, dic_name[col])\n",
    "        df.rename(columns={col:dic_name[col]}, inplace=True)\n",
    "new_df = df.loc[4:, [\"Date_x\"]+list(set(df.columns)&set(target_variable))+Y].reset_index(drop=True)\n",
    "print(new_df.iloc[0,:].isna().sum())\n",
    "print(new_df.iloc[-1,:].isna().sum())"
   ]
  },
  {
   "cell_type": "code",
   "execution_count": 44,
   "id": "025d9297",
   "metadata": {
    "ExecuteTime": {
     "end_time": "2022-07-28T00:52:07.570436Z",
     "start_time": "2022-07-28T00:52:06.982346Z"
    }
   },
   "outputs": [
    {
     "name": "stdout",
     "output_type": "stream",
     "text": [
      "before:  (76, 60)\n",
      "drop_lst:  1\n",
      "after:  (76, 59)\n"
     ]
    },
    {
     "data": {
      "text/plain": [
       "['자본금(천원)']"
      ]
     },
     "execution_count": 44,
     "metadata": {},
     "output_type": "execute_result"
    }
   ],
   "source": [
    "tmp = new_df.describe().loc['std',:][new_df.describe().loc['std',:] == 0].index\n",
    "TF = new_df.describe().loc['min',:] == new_df.describe().loc['max',:]\n",
    "tmp1 = new_df.describe().loc[:,TF].columns.values.tolist()\n",
    "\n",
    "tmp = list(set(tmp) | set(tmp1))\n",
    "tmp = list(set(tmp) & set(new_df.columns))\n",
    "\n",
    "drop_lst = list(tmp)\n",
    "\n",
    "print(\"before: \", new_df.shape)\n",
    "print(\"drop_lst: \",len(list(drop_lst)))\n",
    "new_df = new_df[new_df.columns.difference(drop_lst)]\n",
    "print(\"after: \", new_df.shape)\n",
    "\n",
    "drop_lst\n"
   ]
  },
  {
   "cell_type": "code",
   "execution_count": 45,
   "id": "16702ca3",
   "metadata": {
    "ExecuteTime": {
     "end_time": "2022-07-28T00:52:10.042394Z",
     "start_time": "2022-07-28T00:52:10.036412Z"
    }
   },
   "outputs": [
    {
     "name": "stdout",
     "output_type": "stream",
     "text": [
      "결측값 확인:  0\n"
     ]
    }
   ],
   "source": [
    "print(\"결측값 확인: \", new_df.isna().sum().sum())"
   ]
  },
  {
   "cell_type": "code",
   "execution_count": 36,
   "id": "1b699466",
   "metadata": {
    "ExecuteTime": {
     "end_time": "2022-07-28T00:51:29.390956Z",
     "start_time": "2022-07-28T00:51:29.379984Z"
    },
    "collapsed": true
   },
   "outputs": [
    {
     "data": {
      "text/html": [
       "<div>\n",
       "<style scoped>\n",
       "    .dataframe tbody tr th:only-of-type {\n",
       "        vertical-align: middle;\n",
       "    }\n",
       "\n",
       "    .dataframe tbody tr th {\n",
       "        vertical-align: top;\n",
       "    }\n",
       "\n",
       "    .dataframe thead th {\n",
       "        text-align: right;\n",
       "    }\n",
       "</style>\n",
       "<table border=\"1\" class=\"dataframe\">\n",
       "  <thead>\n",
       "    <tr style=\"text-align: right;\">\n",
       "      <th></th>\n",
       "    </tr>\n",
       "  </thead>\n",
       "  <tbody>\n",
       "    <tr>\n",
       "      <th>4</th>\n",
       "    </tr>\n",
       "    <tr>\n",
       "      <th>5</th>\n",
       "    </tr>\n",
       "    <tr>\n",
       "      <th>6</th>\n",
       "    </tr>\n",
       "    <tr>\n",
       "      <th>7</th>\n",
       "    </tr>\n",
       "    <tr>\n",
       "      <th>8</th>\n",
       "    </tr>\n",
       "    <tr>\n",
       "      <th>...</th>\n",
       "    </tr>\n",
       "    <tr>\n",
       "      <th>75</th>\n",
       "    </tr>\n",
       "    <tr>\n",
       "      <th>76</th>\n",
       "    </tr>\n",
       "    <tr>\n",
       "      <th>77</th>\n",
       "    </tr>\n",
       "    <tr>\n",
       "      <th>78</th>\n",
       "    </tr>\n",
       "    <tr>\n",
       "      <th>79</th>\n",
       "    </tr>\n",
       "  </tbody>\n",
       "</table>\n",
       "<p>76 rows × 0 columns</p>\n",
       "</div>"
      ],
      "text/plain": [
       "Empty DataFrame\n",
       "Columns: []\n",
       "Index: [4, 5, 6, 7, 8, 9, 10, 11, 12, 13, 14, 15, 16, 17, 18, 19, 20, 21, 22, 23, 24, 25, 26, 27, 28, 29, 30, 31, 32, 33, 34, 35, 36, 37, 38, 39, 40, 41, 42, 43, 44, 45, 46, 47, 48, 49, 50, 51, 52, 53, 54, 55, 56, 57, 58, 59, 60, 61, 62, 63, 64, 65, 66, 67, 68, 69, 70, 71, 72, 73, 74, 75, 76, 77, 78, 79]\n",
       "\n",
       "[76 rows x 0 columns]"
      ]
     },
     "execution_count": 36,
     "metadata": {},
     "output_type": "execute_result"
    }
   ],
   "source": [
    "new_df[new_df.isna().sum()[new_df.isna().sum()>0].index]"
   ]
  },
  {
   "cell_type": "code",
   "execution_count": 46,
   "id": "8be5cf3b",
   "metadata": {
    "ExecuteTime": {
     "end_time": "2022-07-28T00:52:11.288022Z",
     "start_time": "2022-07-28T00:52:11.158541Z"
    }
   },
   "outputs": [
    {
     "name": "stdout",
     "output_type": "stream",
     "text": [
      "4개 이상의 결측값을 가지는 컬럼 확인 \n"
     ]
    }
   ],
   "source": [
    "for i in range(len(new_df.columns)):\n",
    "    flg = 0\n",
    "    for j in range(len(new_df)):\n",
    "        if pd.isna(new_df.iloc[j,i]):\n",
    "            flg += 1\n",
    "        else:\n",
    "            flg = 0\n",
    "            \n",
    "        if flg >= 4:\n",
    "            print(new_df.columns[i])\n",
    "            flg = 0\n",
    "            break\n",
    "print(\"4개 이상의 결측값을 가지는 컬럼 확인 \")"
   ]
  },
  {
   "cell_type": "code",
   "execution_count": 47,
   "id": "18b79b8c",
   "metadata": {
    "ExecuteTime": {
     "end_time": "2022-07-28T00:52:12.072627Z",
     "start_time": "2022-07-28T00:52:12.031721Z"
    }
   },
   "outputs": [
    {
     "name": "stdout",
     "output_type": "stream",
     "text": [
      "선형 보간 적용\n",
      "결측값 확인:  0\n"
     ]
    }
   ],
   "source": [
    "# 선형 보간\n",
    "print(\"결측값 확인(before): \", new_df.isna().sum().sum())\n",
    "for _, col in enumerate(new_df.columns):\n",
    "    if col != \"Date_x\":\n",
    "        new_df[col] = new_df[col].interpolate(method='linear')\n",
    "\n",
    "print(\"선형 보간 적용\")\n",
    "print(\"결측값 확인(after): \", new_df.isna().sum().sum())"
   ]
  },
  {
   "cell_type": "code",
   "execution_count": 48,
   "id": "d53225a4",
   "metadata": {
    "ExecuteTime": {
     "end_time": "2022-07-28T00:52:12.939464Z",
     "start_time": "2022-07-28T00:52:12.914463Z"
    }
   },
   "outputs": [
    {
     "name": "stdout",
     "output_type": "stream",
     "text": [
      "new_df.shape:  (76, 59)\n"
     ]
    },
    {
     "data": {
      "text/html": [
       "<div>\n",
       "<style scoped>\n",
       "    .dataframe tbody tr th:only-of-type {\n",
       "        vertical-align: middle;\n",
       "    }\n",
       "\n",
       "    .dataframe tbody tr th {\n",
       "        vertical-align: top;\n",
       "    }\n",
       "\n",
       "    .dataframe thead th {\n",
       "        text-align: right;\n",
       "    }\n",
       "</style>\n",
       "<table border=\"1\" class=\"dataframe\">\n",
       "  <thead>\n",
       "    <tr style=\"text-align: right;\">\n",
       "      <th></th>\n",
       "      <th>Date_x</th>\n",
       "      <th>BPS(지배, Adj.)(원/주)</th>\n",
       "      <th>BPS증가율(YoY)(비율)</th>\n",
       "      <th>CAPEX(천원)</th>\n",
       "      <th>EBIT(천원)</th>\n",
       "      <th>EBITDA2(천원)</th>\n",
       "      <th>EBITDA2마진율(비율)</th>\n",
       "      <th>EBITDA2증가율(YoY)(비율)</th>\n",
       "      <th>EPS(지배, Adj.)(원/주)</th>\n",
       "      <th>EPS증가율(YoY)(비율)</th>\n",
       "      <th>...</th>\n",
       "      <th>자산총계(천원)</th>\n",
       "      <th>재고자산회전율(비율)</th>\n",
       "      <th>채무총계</th>\n",
       "      <th>총자산회전율(비율)</th>\n",
       "      <th>투자비 대비 매출 (Rev/GI)s</th>\n",
       "      <th>현금배당성향(%)</th>\n",
       "      <th>close</th>\n",
       "      <th>close_weighted</th>\n",
       "      <th>EV_EBITDA</th>\n",
       "      <th>PBR</th>\n",
       "    </tr>\n",
       "  </thead>\n",
       "  <tbody>\n",
       "    <tr>\n",
       "      <th>0</th>\n",
       "      <td>2003-08-01</td>\n",
       "      <td>14.20292</td>\n",
       "      <td>-0.41881</td>\n",
       "      <td>76.28000</td>\n",
       "      <td>345</td>\n",
       "      <td>403.06000</td>\n",
       "      <td>13.36000</td>\n",
       "      <td>0.22854</td>\n",
       "      <td>0.25000</td>\n",
       "      <td>2.12500</td>\n",
       "      <td>...</td>\n",
       "      <td>6459</td>\n",
       "      <td>0.68731</td>\n",
       "      <td>60</td>\n",
       "      <td>1.98000</td>\n",
       "      <td>-49.33851</td>\n",
       "      <td>0.00000</td>\n",
       "      <td>25.11197</td>\n",
       "      <td>25.70000</td>\n",
       "      <td>4.37000</td>\n",
       "      <td>24.02000</td>\n",
       "    </tr>\n",
       "    <tr>\n",
       "      <th>1</th>\n",
       "      <td>2003-11-01</td>\n",
       "      <td>11.97411</td>\n",
       "      <td>-0.11801</td>\n",
       "      <td>44.50000</td>\n",
       "      <td>421</td>\n",
       "      <td>483.45000</td>\n",
       "      <td>14.82000</td>\n",
       "      <td>-0.01614</td>\n",
       "      <td>0.33000</td>\n",
       "      <td>0.22222</td>\n",
       "      <td>...</td>\n",
       "      <td>6703</td>\n",
       "      <td>0.68050</td>\n",
       "      <td>50</td>\n",
       "      <td>1.97000</td>\n",
       "      <td>-32.43158</td>\n",
       "      <td>0.00000</td>\n",
       "      <td>23.99435</td>\n",
       "      <td>22.45000</td>\n",
       "      <td>6.31000</td>\n",
       "      <td>22.48000</td>\n",
       "    </tr>\n",
       "  </tbody>\n",
       "</table>\n",
       "<p>2 rows × 59 columns</p>\n",
       "</div>"
      ],
      "text/plain": [
       "      Date_x  BPS(지배, Adj.)(원/주)  BPS증가율(YoY)(비율)  CAPEX(천원)  EBIT(천원)  \\\n",
       "0 2003-08-01            14.20292         -0.41881   76.28000       345   \n",
       "1 2003-11-01            11.97411         -0.11801   44.50000       421   \n",
       "\n",
       "   EBITDA2(천원)  EBITDA2마진율(비율)  EBITDA2증가율(YoY)(비율)  EPS(지배, Adj.)(원/주)  \\\n",
       "0    403.06000        13.36000              0.22854             0.25000   \n",
       "1    483.45000        14.82000             -0.01614             0.33000   \n",
       "\n",
       "   EPS증가율(YoY)(비율)  ...  자산총계(천원)  재고자산회전율(비율)  채무총계  총자산회전율(비율)  \\\n",
       "0          2.12500  ...      6459      0.68731    60     1.98000   \n",
       "1          0.22222  ...      6703      0.68050    50     1.97000   \n",
       "\n",
       "   투자비 대비 매출 (Rev/GI)s  현금배당성향(%)    close  close_weighted  EV_EBITDA      PBR  \n",
       "0            -49.33851    0.00000 25.11197        25.70000    4.37000 24.02000  \n",
       "1            -32.43158    0.00000 23.99435        22.45000    6.31000 22.48000  \n",
       "\n",
       "[2 rows x 59 columns]"
      ]
     },
     "execution_count": 48,
     "metadata": {},
     "output_type": "execute_result"
    }
   ],
   "source": [
    "# 이 때, 편의를 위해 \"Date_x\" 변수를 맨 앞으로, Y1~Y4 변수는 맨 뒤로 위치시킴\n",
    "col1 = new_df.pop(\"Date_x\")\n",
    "new_df.insert(0, col1.name, col1)\n",
    "\n",
    "col2 = new_df.pop(\"close\")\n",
    "new_df.insert(new_df.shape[1], col2.name, col2)\n",
    "\n",
    "col3 = new_df.pop(\"close_weighted\")\n",
    "new_df.insert(new_df.shape[1], col3.name, col3)\n",
    "\n",
    "col4 = new_df.pop(\"EV_EBITDA\")\n",
    "new_df.insert(new_df.shape[1], col4.name, col4)\n",
    "\n",
    "col5 = new_df.pop(\"PBR\")\n",
    "new_df.insert(new_df.shape[1], col5.name, col5)\n",
    "\n",
    "print(\"new_df.shape: \",new_df.shape)\n",
    "\n",
    "\n",
    "new_df.head(2)"
   ]
  },
  {
   "cell_type": "markdown",
   "id": "81f13964",
   "metadata": {},
   "source": [
    "### 파일 내보내기"
   ]
  },
  {
   "cell_type": "code",
   "execution_count": 49,
   "id": "2ccca575",
   "metadata": {
    "ExecuteTime": {
     "end_time": "2022-07-28T00:52:14.457419Z",
     "start_time": "2022-07-28T00:52:14.283474Z"
    }
   },
   "outputs": [],
   "source": [
    "### 최종 dataset을 csv, xlsx 파일로 out ###\n",
    "new_df.to_csv(os.path.join(out_path,\"ITS\")+raw_file_name.split('.')[0]+\"_clean_v1.3.csv\", index=False, encoding='utf-8')\n",
    "new_df.to_excel(os.path.join(out_path,\"ITS\")+raw_file_name.split('.')[0]+\"_clean_v1.3.xlsx\", index=False)"
   ]
  },
  {
   "cell_type": "markdown",
   "id": "fd0f8de3",
   "metadata": {},
   "source": [
    "## TCS"
   ]
  },
  {
   "cell_type": "markdown",
   "id": "15965a1e",
   "metadata": {},
   "source": [
    "* 초기 6개의 행 삭제(2005/6, 2005/9, 2005/12, 2006/3, 2006/6, 2006/9)\n",
    "* 마지막 행 삭제(2022/6, 이유: Y3, Y4를 포함한 다수의 컬럼에서 결측값 존재)\n",
    "* 이외의 결측값은 선형 보간법 적용"
   ]
  },
  {
   "cell_type": "code",
   "execution_count": 17,
   "id": "9c5a051e",
   "metadata": {
    "ExecuteTime": {
     "end_time": "2022-07-29T00:36:08.211332Z",
     "start_time": "2022-07-29T00:36:07.299383Z"
    }
   },
   "outputs": [
    {
     "data": {
      "text/html": [
       "<div>\n",
       "<style scoped>\n",
       "    .dataframe tbody tr th:only-of-type {\n",
       "        vertical-align: middle;\n",
       "    }\n",
       "\n",
       "    .dataframe tbody tr th {\n",
       "        vertical-align: top;\n",
       "    }\n",
       "\n",
       "    .dataframe thead th {\n",
       "        text-align: right;\n",
       "    }\n",
       "</style>\n",
       "<table border=\"1\" class=\"dataframe\">\n",
       "  <thead>\n",
       "    <tr style=\"text-align: right;\">\n",
       "      <th></th>\n",
       "      <th>Date_x</th>\n",
       "      <th>BS_Earnings Quality Score</th>\n",
       "      <th>BS_Period End FX Rate (INR/USD)</th>\n",
       "      <th>BS_Cash and Short Term Investments</th>\n",
       "      <th>BS_Cash</th>\n",
       "      <th>BS_Cash &amp; Equivalents</th>\n",
       "      <th>BS_Short Term Investments</th>\n",
       "      <th>BS_Accounts Receivable - Trade, Net</th>\n",
       "      <th>BS_Accounts Receivable - Trade, Gross</th>\n",
       "      <th>BS_Provision for Doubtful Accounts</th>\n",
       "      <th>...</th>\n",
       "      <th>Opex Margin</th>\n",
       "      <th>Y1</th>\n",
       "      <th>Y2</th>\n",
       "      <th>Y3</th>\n",
       "      <th>Y4</th>\n",
       "      <th>인당매출s</th>\n",
       "      <th>무형자산회전율s</th>\n",
       "      <th>인당영업이익s</th>\n",
       "      <th>인당순이익s</th>\n",
       "      <th>투자비 대비 매출 (Rev/GI)s</th>\n",
       "    </tr>\n",
       "  </thead>\n",
       "  <tbody>\n",
       "    <tr>\n",
       "      <th>0</th>\n",
       "      <td>2005-06-01</td>\n",
       "      <td>99</td>\n",
       "      <td>0.02301</td>\n",
       "      <td>87</td>\n",
       "      <td>77</td>\n",
       "      <td>176</td>\n",
       "      <td>10</td>\n",
       "      <td>593</td>\n",
       "      <td>518</td>\n",
       "      <td>-16</td>\n",
       "      <td>...</td>\n",
       "      <td>0.55004</td>\n",
       "      <td>3.72412</td>\n",
       "      <td>3.20328</td>\n",
       "      <td>NaN</td>\n",
       "      <td>NaN</td>\n",
       "      <td>NaN</td>\n",
       "      <td>NaN</td>\n",
       "      <td>NaN</td>\n",
       "      <td>NaN</td>\n",
       "      <td>NaN</td>\n",
       "    </tr>\n",
       "    <tr>\n",
       "      <th>1</th>\n",
       "      <td>2005-09-01</td>\n",
       "      <td>99</td>\n",
       "      <td>0.02276</td>\n",
       "      <td>84</td>\n",
       "      <td>75</td>\n",
       "      <td>176</td>\n",
       "      <td>9</td>\n",
       "      <td>686</td>\n",
       "      <td>611</td>\n",
       "      <td>-18</td>\n",
       "      <td>...</td>\n",
       "      <td>0.69203</td>\n",
       "      <td>3.42314</td>\n",
       "      <td>3.77240</td>\n",
       "      <td>3.85000</td>\n",
       "      <td>19.44000</td>\n",
       "      <td>NaN</td>\n",
       "      <td>NaN</td>\n",
       "      <td>NaN</td>\n",
       "      <td>NaN</td>\n",
       "      <td>NaN</td>\n",
       "    </tr>\n",
       "  </tbody>\n",
       "</table>\n",
       "<p>2 rows × 395 columns</p>\n",
       "</div>"
      ],
      "text/plain": [
       "      Date_x  BS_Earnings Quality Score  BS_Period End FX Rate (INR/USD)  \\\n",
       "0 2005-06-01                         99                          0.02301   \n",
       "1 2005-09-01                         99                          0.02276   \n",
       "\n",
       "   BS_Cash and Short Term Investments  BS_Cash  BS_Cash & Equivalents  \\\n",
       "0                                  87       77                    176   \n",
       "1                                  84       75                    176   \n",
       "\n",
       "   BS_Short Term Investments  BS_Accounts Receivable - Trade, Net  \\\n",
       "0                         10                                  593   \n",
       "1                          9                                  686   \n",
       "\n",
       "   BS_Accounts Receivable - Trade, Gross  BS_Provision for Doubtful Accounts  \\\n",
       "0                                    518                                 -16   \n",
       "1                                    611                                 -18   \n",
       "\n",
       "   ...  Opex Margin      Y1      Y2      Y3       Y4  인당매출s  무형자산회전율s  \\\n",
       "0  ...      0.55004 3.72412 3.20328     NaN      NaN    NaN       NaN   \n",
       "1  ...      0.69203 3.42314 3.77240 3.85000 19.44000    NaN       NaN   \n",
       "\n",
       "   인당영업이익s  인당순이익s  투자비 대비 매출 (Rev/GI)s  \n",
       "0      NaN     NaN                  NaN  \n",
       "1      NaN     NaN                  NaN  \n",
       "\n",
       "[2 rows x 395 columns]"
      ]
     },
     "execution_count": 17,
     "metadata": {},
     "output_type": "execute_result"
    }
   ],
   "source": [
    "raw_file_name = \"Tcs_non_shift.xlsx\"\n",
    "# Acc\n",
    "# TCS\n",
    "\n",
    "df = pd.read_excel(rawfile_path+raw_file_name)\n",
    "df['Date_x'] = pd.to_datetime(df['Date_x'])\n",
    "df.head(2)"
   ]
  },
  {
   "cell_type": "code",
   "execution_count": 19,
   "id": "a55b8746",
   "metadata": {
    "ExecuteTime": {
     "end_time": "2022-07-29T00:36:19.398334Z",
     "start_time": "2022-07-29T00:36:18.979496Z"
    }
   },
   "outputs": [
    {
     "name": "stdout",
     "output_type": "stream",
     "text": [
      "0\n",
      "0\n"
     ]
    }
   ],
   "source": [
    "for col in df.columns:\n",
    "    if col in list(dic_name.keys()) :\n",
    "#         print(col, dic_name[col])\n",
    "        df.rename(columns={col:dic_name[col]}, inplace=True)\n",
    "    \n",
    "# new_df = df.loc[5:len(df)-2, [\"Date_x\"]+list(set(df.columns)&set(target_variable))+Y].reset_index(drop=True)\n",
    "new_df = df.loc[6:len(df)-2, [\"Date_x\"]+list(set(df.columns)&set(target_variable))+Y].reset_index(drop=True)\n",
    "print(new_df.iloc[0,:].isna().sum())\n",
    "print(new_df.iloc[-1,:].isna().sum())"
   ]
  },
  {
   "cell_type": "code",
   "execution_count": 10,
   "id": "17e7b00f",
   "metadata": {
    "ExecuteTime": {
     "end_time": "2022-07-29T00:32:50.678367Z",
     "start_time": "2022-07-29T00:32:49.595218Z"
    }
   },
   "outputs": [
    {
     "name": "stdout",
     "output_type": "stream",
     "text": [
      "before:  (61, 60)\n",
      "drop_lst:  0\n",
      "after:  (61, 60)\n"
     ]
    },
    {
     "data": {
      "text/plain": [
       "[]"
      ]
     },
     "execution_count": 10,
     "metadata": {},
     "output_type": "execute_result"
    }
   ],
   "source": [
    "tmp = new_df.describe().loc['std',:][new_df.describe().loc['std',:] == 0].index\n",
    "TF = new_df.describe().loc['min',:] == new_df.describe().loc['max',:]\n",
    "tmp1 = new_df.describe().loc[:,TF].columns.values.tolist()\n",
    "\n",
    "tmp = list(set(tmp) | set(tmp1))\n",
    "tmp = list(set(tmp) & set(new_df.columns))\n",
    "\n",
    "drop_lst = list(tmp)\n",
    "\n",
    "print(\"before: \", new_df.shape)\n",
    "print(\"drop_lst: \",len(list(drop_lst)))\n",
    "new_df = new_df[new_df.columns.difference(drop_lst)]\n",
    "print(\"after: \", new_df.shape)\n",
    "\n",
    "drop_lst\n"
   ]
  },
  {
   "cell_type": "code",
   "execution_count": 11,
   "id": "a95f389a",
   "metadata": {
    "ExecuteTime": {
     "end_time": "2022-07-29T00:32:52.326256Z",
     "start_time": "2022-07-29T00:32:52.113881Z"
    }
   },
   "outputs": [
    {
     "name": "stdout",
     "output_type": "stream",
     "text": [
      "4개 이상의 결측값을 가지는 컬럼 확인 \n"
     ]
    }
   ],
   "source": [
    "for i in range(len(new_df.columns)):\n",
    "    flg = 0\n",
    "    for j in range(len(new_df)):\n",
    "        if pd.isna(new_df.iloc[j,i]):\n",
    "            flg += 1\n",
    "        else:\n",
    "            flg = 0\n",
    "            \n",
    "        if flg >= 4:\n",
    "            print(new_df.columns[i])\n",
    "            flg = 0\n",
    "            break\n",
    "print(\"4개 이상의 결측값을 가지는 컬럼 확인 \")"
   ]
  },
  {
   "cell_type": "code",
   "execution_count": 12,
   "id": "8e91ff9a",
   "metadata": {
    "ExecuteTime": {
     "end_time": "2022-07-29T00:32:52.785290Z",
     "start_time": "2022-07-29T00:32:52.774458Z"
    }
   },
   "outputs": [
    {
     "name": "stdout",
     "output_type": "stream",
     "text": [
      "결측값 확인:  10\n"
     ]
    }
   ],
   "source": [
    "print(\"결측값 확인: \", new_df.isna().sum().sum())"
   ]
  },
  {
   "cell_type": "code",
   "execution_count": 13,
   "id": "8a5a01ca",
   "metadata": {
    "ExecuteTime": {
     "end_time": "2022-07-29T00:32:53.697504Z",
     "start_time": "2022-07-29T00:32:53.668495Z"
    },
    "scrolled": true
   },
   "outputs": [
    {
     "data": {
      "text/html": [
       "<div>\n",
       "<style scoped>\n",
       "    .dataframe tbody tr th:only-of-type {\n",
       "        vertical-align: middle;\n",
       "    }\n",
       "\n",
       "    .dataframe tbody tr th {\n",
       "        vertical-align: top;\n",
       "    }\n",
       "\n",
       "    .dataframe thead th {\n",
       "        text-align: right;\n",
       "    }\n",
       "</style>\n",
       "<table border=\"1\" class=\"dataframe\">\n",
       "  <thead>\n",
       "    <tr style=\"text-align: right;\">\n",
       "      <th></th>\n",
       "      <th>ROGI(%)</th>\n",
       "      <th>ROE(지배)(비율)</th>\n",
       "      <th>유동비율(비율)</th>\n",
       "      <th>CAPEX(천원)</th>\n",
       "      <th>ROA(비율)</th>\n",
       "      <th>총자산회전율(비율)</th>\n",
       "    </tr>\n",
       "  </thead>\n",
       "  <tbody>\n",
       "    <tr>\n",
       "      <th>0</th>\n",
       "      <td>0.65803</td>\n",
       "      <td>59.28000</td>\n",
       "      <td>2.17000</td>\n",
       "      <td>49.45000</td>\n",
       "      <td>41.56000</td>\n",
       "      <td>1.88000</td>\n",
       "    </tr>\n",
       "    <tr>\n",
       "      <th>1</th>\n",
       "      <td>0.59256</td>\n",
       "      <td>56.74000</td>\n",
       "      <td>2.22000</td>\n",
       "      <td>90.29000</td>\n",
       "      <td>39.02000</td>\n",
       "      <td>1.71000</td>\n",
       "    </tr>\n",
       "    <tr>\n",
       "      <th>2</th>\n",
       "      <td>0.54499</td>\n",
       "      <td>55.10000</td>\n",
       "      <td>1.99000</td>\n",
       "      <td>60.73000</td>\n",
       "      <td>37.46000</td>\n",
       "      <td>1.61000</td>\n",
       "    </tr>\n",
       "    <tr>\n",
       "      <th>3</th>\n",
       "      <td>0.52015</td>\n",
       "      <td>NaN</td>\n",
       "      <td>2.42000</td>\n",
       "      <td>62.88000</td>\n",
       "      <td>NaN</td>\n",
       "      <td>NaN</td>\n",
       "    </tr>\n",
       "    <tr>\n",
       "      <th>4</th>\n",
       "      <td>0.34804</td>\n",
       "      <td>47.75000</td>\n",
       "      <td>2.24000</td>\n",
       "      <td>116.44000</td>\n",
       "      <td>32.89000</td>\n",
       "      <td>1.47000</td>\n",
       "    </tr>\n",
       "    <tr>\n",
       "      <th>...</th>\n",
       "      <td>...</td>\n",
       "      <td>...</td>\n",
       "      <td>...</td>\n",
       "      <td>...</td>\n",
       "      <td>...</td>\n",
       "      <td>...</td>\n",
       "    </tr>\n",
       "    <tr>\n",
       "      <th>56</th>\n",
       "      <td>0.58123</td>\n",
       "      <td>38.03000</td>\n",
       "      <td>2.91000</td>\n",
       "      <td>159.38000</td>\n",
       "      <td>25.88000</td>\n",
       "      <td>1.30000</td>\n",
       "    </tr>\n",
       "    <tr>\n",
       "      <th>57</th>\n",
       "      <td>0.61288</td>\n",
       "      <td>38.32000</td>\n",
       "      <td>2.93000</td>\n",
       "      <td>74.05000</td>\n",
       "      <td>26.30000</td>\n",
       "      <td>1.30000</td>\n",
       "    </tr>\n",
       "    <tr>\n",
       "      <th>58</th>\n",
       "      <td>0.62835</td>\n",
       "      <td>38.08000</td>\n",
       "      <td>3.15000</td>\n",
       "      <td>96.67000</td>\n",
       "      <td>26.62000</td>\n",
       "      <td>1.29000</td>\n",
       "    </tr>\n",
       "    <tr>\n",
       "      <th>59</th>\n",
       "      <td>0.80827</td>\n",
       "      <td>40.94000</td>\n",
       "      <td>3.30000</td>\n",
       "      <td>121.47000</td>\n",
       "      <td>25.85000</td>\n",
       "      <td>1.26000</td>\n",
       "    </tr>\n",
       "    <tr>\n",
       "      <th>60</th>\n",
       "      <td>0.67793</td>\n",
       "      <td>43.66000</td>\n",
       "      <td>2.56000</td>\n",
       "      <td>105.33000</td>\n",
       "      <td>28.24000</td>\n",
       "      <td>1.41000</td>\n",
       "    </tr>\n",
       "  </tbody>\n",
       "</table>\n",
       "<p>61 rows × 6 columns</p>\n",
       "</div>"
      ],
      "text/plain": [
       "    ROGI(%)  ROE(지배)(비율)  유동비율(비율)  CAPEX(천원)  ROA(비율)  총자산회전율(비율)\n",
       "0   0.65803     59.28000   2.17000   49.45000 41.56000     1.88000\n",
       "1   0.59256     56.74000   2.22000   90.29000 39.02000     1.71000\n",
       "2   0.54499     55.10000   1.99000   60.73000 37.46000     1.61000\n",
       "3   0.52015          NaN   2.42000   62.88000      NaN         NaN\n",
       "4   0.34804     47.75000   2.24000  116.44000 32.89000     1.47000\n",
       "..      ...          ...       ...        ...      ...         ...\n",
       "56  0.58123     38.03000   2.91000  159.38000 25.88000     1.30000\n",
       "57  0.61288     38.32000   2.93000   74.05000 26.30000     1.30000\n",
       "58  0.62835     38.08000   3.15000   96.67000 26.62000     1.29000\n",
       "59  0.80827     40.94000   3.30000  121.47000 25.85000     1.26000\n",
       "60  0.67793     43.66000   2.56000  105.33000 28.24000     1.41000\n",
       "\n",
       "[61 rows x 6 columns]"
      ]
     },
     "execution_count": 13,
     "metadata": {},
     "output_type": "execute_result"
    }
   ],
   "source": [
    "# 결측값을 가지는 컬럼들 확인\n",
    "new_df[new_df.isna().sum()[new_df.isna().sum()>0].index]"
   ]
  },
  {
   "cell_type": "code",
   "execution_count": 14,
   "id": "60834a7f",
   "metadata": {
    "ExecuteTime": {
     "end_time": "2022-07-29T00:32:58.368089Z",
     "start_time": "2022-07-29T00:32:58.285798Z"
    },
    "scrolled": true
   },
   "outputs": [
    {
     "name": "stdout",
     "output_type": "stream",
     "text": [
      "결측값 확인(before):  10\n",
      "선형 보간 적용\n",
      "결측값 확인(after):  0\n"
     ]
    }
   ],
   "source": [
    "# 선형 보간\n",
    "print(\"결측값 확인(before): \", new_df.isna().sum().sum())\n",
    "for _, col in enumerate(new_df.columns):\n",
    "    if col != \"Date_x\":\n",
    "        new_df[col] = new_df[col].interpolate(method='linear')\n",
    "\n",
    "print(\"선형 보간 적용\")\n",
    "print(\"결측값 확인(after): \", new_df.isna().sum().sum())"
   ]
  },
  {
   "cell_type": "code",
   "execution_count": 15,
   "id": "ff7da275",
   "metadata": {
    "ExecuteTime": {
     "end_time": "2022-07-29T00:33:00.934453Z",
     "start_time": "2022-07-29T00:33:00.875380Z"
    }
   },
   "outputs": [
    {
     "name": "stdout",
     "output_type": "stream",
     "text": [
      "new_df.shape:  (61, 60)\n"
     ]
    },
    {
     "data": {
      "text/html": [
       "<div>\n",
       "<style scoped>\n",
       "    .dataframe tbody tr th:only-of-type {\n",
       "        vertical-align: middle;\n",
       "    }\n",
       "\n",
       "    .dataframe tbody tr th {\n",
       "        vertical-align: top;\n",
       "    }\n",
       "\n",
       "    .dataframe thead th {\n",
       "        text-align: right;\n",
       "    }\n",
       "</style>\n",
       "<table border=\"1\" class=\"dataframe\">\n",
       "  <thead>\n",
       "    <tr style=\"text-align: right;\">\n",
       "      <th></th>\n",
       "      <th>Date_x</th>\n",
       "      <th>EBITDA2증가율(YoY)(비율)</th>\n",
       "      <th>이자보상율</th>\n",
       "      <th>ROGI(%)</th>\n",
       "      <th>ROE(지배)(비율)</th>\n",
       "      <th>이익잉여금(천원)</th>\n",
       "      <th>유동비율(비율)</th>\n",
       "      <th>SG&amp;A</th>\n",
       "      <th>부채총계(천원)</th>\n",
       "      <th>부채비율(비율)</th>\n",
       "      <th>...</th>\n",
       "      <th>무형자산</th>\n",
       "      <th>운전자본증감(천원)</th>\n",
       "      <th>EBITDA2(천원)</th>\n",
       "      <th>인당순이익s</th>\n",
       "      <th>순이익률(비율)</th>\n",
       "      <th>자산총계(천원)</th>\n",
       "      <th>close</th>\n",
       "      <th>close_weighted</th>\n",
       "      <th>EV_EBITDA</th>\n",
       "      <th>PBR</th>\n",
       "    </tr>\n",
       "  </thead>\n",
       "  <tbody>\n",
       "    <tr>\n",
       "      <th>0</th>\n",
       "      <td>2006-12-01</td>\n",
       "      <td>0.43921</td>\n",
       "      <td>95000.00000</td>\n",
       "      <td>0.65803</td>\n",
       "      <td>59.28000</td>\n",
       "      <td>1350</td>\n",
       "      <td>2.17000</td>\n",
       "      <td>731.50000</td>\n",
       "      <td>840</td>\n",
       "      <td>45.65217</td>\n",
       "      <td>...</td>\n",
       "      <td>70</td>\n",
       "      <td>538.60000</td>\n",
       "      <td>309.92000</td>\n",
       "      <td>0.01377</td>\n",
       "      <td>23.20000</td>\n",
       "      <td>2680</td>\n",
       "      <td>4.96502</td>\n",
       "      <td>5.25436</td>\n",
       "      <td>24.91000</td>\n",
       "      <td>7.11000</td>\n",
       "    </tr>\n",
       "    <tr>\n",
       "      <th>1</th>\n",
       "      <td>2007-03-01</td>\n",
       "      <td>0.44910</td>\n",
       "      <td>3725.92593</td>\n",
       "      <td>0.59256</td>\n",
       "      <td>56.74000</td>\n",
       "      <td>1559</td>\n",
       "      <td>2.22000</td>\n",
       "      <td>554.80000</td>\n",
       "      <td>1006</td>\n",
       "      <td>49.00146</td>\n",
       "      <td>...</td>\n",
       "      <td>70</td>\n",
       "      <td>769.90000</td>\n",
       "      <td>332.93000</td>\n",
       "      <td>0.01374</td>\n",
       "      <td>23.41000</td>\n",
       "      <td>3059</td>\n",
       "      <td>5.97507</td>\n",
       "      <td>5.02981</td>\n",
       "      <td>23.31000</td>\n",
       "      <td>6.59000</td>\n",
       "    </tr>\n",
       "  </tbody>\n",
       "</table>\n",
       "<p>2 rows × 60 columns</p>\n",
       "</div>"
      ],
      "text/plain": [
       "      Date_x  EBITDA2증가율(YoY)(비율)       이자보상율  ROGI(%)  ROE(지배)(비율)  \\\n",
       "0 2006-12-01              0.43921 95000.00000  0.65803     59.28000   \n",
       "1 2007-03-01              0.44910  3725.92593  0.59256     56.74000   \n",
       "\n",
       "   이익잉여금(천원)  유동비율(비율)      SG&A  부채총계(천원)  부채비율(비율)  ...  무형자산  운전자본증감(천원)  \\\n",
       "0       1350   2.17000 731.50000       840  45.65217  ...    70   538.60000   \n",
       "1       1559   2.22000 554.80000      1006  49.00146  ...    70   769.90000   \n",
       "\n",
       "   EBITDA2(천원)  인당순이익s  순이익률(비율)  자산총계(천원)   close  close_weighted  EV_EBITDA  \\\n",
       "0    309.92000 0.01377  23.20000      2680 4.96502         5.25436   24.91000   \n",
       "1    332.93000 0.01374  23.41000      3059 5.97507         5.02981   23.31000   \n",
       "\n",
       "      PBR  \n",
       "0 7.11000  \n",
       "1 6.59000  \n",
       "\n",
       "[2 rows x 60 columns]"
      ]
     },
     "execution_count": 15,
     "metadata": {},
     "output_type": "execute_result"
    }
   ],
   "source": [
    "# 이 때, 편의를 위해 \"Date_x\" 변수를 맨 앞으로, Y1~Y4 변수는 맨 뒤로 위치시킴\n",
    "col1 = new_df.pop(\"Date_x\")\n",
    "new_df.insert(0, col1.name, col1)\n",
    "\n",
    "col2 = new_df.pop(\"close\")\n",
    "new_df.insert(new_df.shape[1], col2.name, col2)\n",
    "\n",
    "col3 = new_df.pop(\"close_weighted\")\n",
    "new_df.insert(new_df.shape[1], col3.name, col3)\n",
    "\n",
    "col4 = new_df.pop(\"EV_EBITDA\")\n",
    "new_df.insert(new_df.shape[1], col4.name, col4)\n",
    "\n",
    "col5 = new_df.pop(\"PBR\")\n",
    "new_df.insert(new_df.shape[1], col5.name, col5)\n",
    "\n",
    "print(\"new_df.shape: \",new_df.shape)\n",
    "\n",
    "\n",
    "new_df.head(2)"
   ]
  },
  {
   "cell_type": "markdown",
   "id": "5b48159d",
   "metadata": {},
   "source": [
    "### 파일 내보내기"
   ]
  },
  {
   "cell_type": "code",
   "execution_count": 16,
   "id": "669e6ebc",
   "metadata": {
    "ExecuteTime": {
     "end_time": "2022-07-29T00:33:09.086496Z",
     "start_time": "2022-07-29T00:33:08.385325Z"
    }
   },
   "outputs": [],
   "source": [
    "### 최종 dataset을 csv, xlsx 파일로 out ###\n",
    "new_df.to_csv(os.path.join(out_path,\"ITS\")+raw_file_name.split('.')[0]+\"_clean_v1.4.csv\", index=False, encoding='utf-8')\n",
    "new_df.to_excel(os.path.join(out_path,\"ITS\")+raw_file_name.split('.')[0]+\"_clean_v1.4.xlsx\", index=False)"
   ]
  },
  {
   "cell_type": "markdown",
   "id": "1f27053f",
   "metadata": {},
   "source": [
    "## Cognizant"
   ]
  },
  {
   "cell_type": "markdown",
   "id": "fa8bcf1f",
   "metadata": {},
   "source": [
    "* 초기 4개의 행 삭제(2002/6, 2002/9, 2002/12, 2003/3)"
   ]
  },
  {
   "cell_type": "code",
   "execution_count": 121,
   "id": "c5fdfb06",
   "metadata": {
    "ExecuteTime": {
     "end_time": "2022-07-28T01:04:27.216528Z",
     "start_time": "2022-07-28T01:04:26.667601Z"
    }
   },
   "outputs": [
    {
     "data": {
      "text/html": [
       "<div>\n",
       "<style scoped>\n",
       "    .dataframe tbody tr th:only-of-type {\n",
       "        vertical-align: middle;\n",
       "    }\n",
       "\n",
       "    .dataframe tbody tr th {\n",
       "        vertical-align: top;\n",
       "    }\n",
       "\n",
       "    .dataframe thead th {\n",
       "        text-align: right;\n",
       "    }\n",
       "</style>\n",
       "<table border=\"1\" class=\"dataframe\">\n",
       "  <thead>\n",
       "    <tr style=\"text-align: right;\">\n",
       "      <th></th>\n",
       "      <th>Date_x</th>\n",
       "      <th>BS_Earnings Quality Score</th>\n",
       "      <th>BS_Cash and Short Term Investments</th>\n",
       "      <th>BS_Cash &amp; Equivalents</th>\n",
       "      <th>BS_Short Term Investments</th>\n",
       "      <th>BS_Accounts Receivable - Trade, Net</th>\n",
       "      <th>BS_Accounts Receivable - Trade, Gross</th>\n",
       "      <th>BS_Provision for Doubtful Accounts</th>\n",
       "      <th>BS_Total Receivables, Net</th>\n",
       "      <th>BS_Total Inventory</th>\n",
       "      <th>...</th>\n",
       "      <th>Opex Margin</th>\n",
       "      <th>Y1</th>\n",
       "      <th>Y2</th>\n",
       "      <th>Y3</th>\n",
       "      <th>Y4</th>\n",
       "      <th>인당매출s</th>\n",
       "      <th>무형자산회전율s</th>\n",
       "      <th>인당영업이익s</th>\n",
       "      <th>인당순이익s</th>\n",
       "      <th>투자비 대비 매출 (Rev/GI)s</th>\n",
       "    </tr>\n",
       "  </thead>\n",
       "  <tbody>\n",
       "    <tr>\n",
       "      <th>0</th>\n",
       "      <td>2002-06-01</td>\n",
       "      <td>96</td>\n",
       "      <td>104</td>\n",
       "      <td>104</td>\n",
       "      <td>0</td>\n",
       "      <td>37</td>\n",
       "      <td>29</td>\n",
       "      <td>-1</td>\n",
       "      <td>37</td>\n",
       "      <td>1</td>\n",
       "      <td>...</td>\n",
       "      <td>0.22794</td>\n",
       "      <td>2.68322</td>\n",
       "      <td>2.30477</td>\n",
       "      <td>3.68000</td>\n",
       "      <td>7.39000</td>\n",
       "      <td>NaN</td>\n",
       "      <td>NaN</td>\n",
       "      <td>NaN</td>\n",
       "      <td>NaN</td>\n",
       "      <td>NaN</td>\n",
       "    </tr>\n",
       "    <tr>\n",
       "      <th>1</th>\n",
       "      <td>2002-09-01</td>\n",
       "      <td>96</td>\n",
       "      <td>123</td>\n",
       "      <td>123</td>\n",
       "      <td>0</td>\n",
       "      <td>39</td>\n",
       "      <td>31</td>\n",
       "      <td>-1</td>\n",
       "      <td>39</td>\n",
       "      <td>1</td>\n",
       "      <td>...</td>\n",
       "      <td>0.23039</td>\n",
       "      <td>2.66595</td>\n",
       "      <td>2.62974</td>\n",
       "      <td>3.52000</td>\n",
       "      <td>7.54000</td>\n",
       "      <td>NaN</td>\n",
       "      <td>NaN</td>\n",
       "      <td>NaN</td>\n",
       "      <td>NaN</td>\n",
       "      <td>NaN</td>\n",
       "    </tr>\n",
       "  </tbody>\n",
       "</table>\n",
       "<p>2 rows × 357 columns</p>\n",
       "</div>"
      ],
      "text/plain": [
       "      Date_x  BS_Earnings Quality Score  BS_Cash and Short Term Investments  \\\n",
       "0 2002-06-01                         96                                 104   \n",
       "1 2002-09-01                         96                                 123   \n",
       "\n",
       "   BS_Cash & Equivalents  BS_Short Term Investments  \\\n",
       "0                    104                          0   \n",
       "1                    123                          0   \n",
       "\n",
       "   BS_Accounts Receivable - Trade, Net  BS_Accounts Receivable - Trade, Gross  \\\n",
       "0                                   37                                     29   \n",
       "1                                   39                                     31   \n",
       "\n",
       "   BS_Provision for Doubtful Accounts  BS_Total Receivables, Net  \\\n",
       "0                                  -1                         37   \n",
       "1                                  -1                         39   \n",
       "\n",
       "   BS_Total Inventory  ...  Opex Margin      Y1      Y2      Y3      Y4  \\\n",
       "0                   1  ...      0.22794 2.68322 2.30477 3.68000 7.39000   \n",
       "1                   1  ...      0.23039 2.66595 2.62974 3.52000 7.54000   \n",
       "\n",
       "   인당매출s  무형자산회전율s  인당영업이익s  인당순이익s  투자비 대비 매출 (Rev/GI)s  \n",
       "0    NaN       NaN      NaN     NaN                  NaN  \n",
       "1    NaN       NaN      NaN     NaN                  NaN  \n",
       "\n",
       "[2 rows x 357 columns]"
      ]
     },
     "execution_count": 121,
     "metadata": {},
     "output_type": "execute_result"
    }
   ],
   "source": [
    "raw_file_name = \"Cognizant_non_shift.xlsx\"\n",
    "# Acc\n",
    "# TCS\n",
    "\n",
    "df = pd.read_excel(rawfile_path+raw_file_name)\n",
    "df['Date_x'] = pd.to_datetime(df['Date_x'])\n",
    "df.head(2)"
   ]
  },
  {
   "cell_type": "code",
   "execution_count": 122,
   "id": "78d85c85",
   "metadata": {
    "ExecuteTime": {
     "end_time": "2022-07-28T01:04:28.039542Z",
     "start_time": "2022-07-28T01:04:27.862476Z"
    }
   },
   "outputs": [
    {
     "name": "stdout",
     "output_type": "stream",
     "text": [
      "0\n",
      "0\n"
     ]
    }
   ],
   "source": [
    "for col in df.columns:\n",
    "    if col in list(dic_name.keys()) :\n",
    "#         print(col, dic_name[col])\n",
    "        df.rename(columns={col:dic_name[col]}, inplace=True)\n",
    "    \n",
    "new_df = df.loc[4:, [\"Date_x\"]+list(set(df.columns)&set(target_variable))+Y].reset_index(drop=True)\n",
    "print(new_df.iloc[0,:].isna().sum())\n",
    "print(new_df.iloc[-1,:].isna().sum())"
   ]
  },
  {
   "cell_type": "code",
   "execution_count": 123,
   "id": "215741c0",
   "metadata": {
    "ExecuteTime": {
     "end_time": "2022-07-28T01:04:33.362592Z",
     "start_time": "2022-07-28T01:04:32.923636Z"
    }
   },
   "outputs": [
    {
     "name": "stdout",
     "output_type": "stream",
     "text": [
      "before:  (76, 60)\n",
      "drop_lst:  0\n",
      "after:  (76, 60)\n"
     ]
    },
    {
     "data": {
      "text/plain": [
       "[]"
      ]
     },
     "execution_count": 123,
     "metadata": {},
     "output_type": "execute_result"
    }
   ],
   "source": [
    "tmp = new_df.describe().loc['std',:][new_df.describe().loc['std',:] == 0].index\n",
    "TF = new_df.describe().loc['min',:] == new_df.describe().loc['max',:]\n",
    "tmp1 = new_df.describe().loc[:,TF].columns.values.tolist()\n",
    "\n",
    "tmp = list(set(tmp) | set(tmp1))\n",
    "tmp = list(set(tmp) & set(new_df.columns))\n",
    "\n",
    "drop_lst = list(tmp)\n",
    "\n",
    "print(\"before: \", new_df.shape)\n",
    "print(\"drop_lst: \",len(list(drop_lst)))\n",
    "new_df = new_df[new_df.columns.difference(drop_lst)]\n",
    "print(\"after: \", new_df.shape)\n",
    "\n",
    "drop_lst\n"
   ]
  },
  {
   "cell_type": "code",
   "execution_count": 124,
   "id": "9e721929",
   "metadata": {
    "ExecuteTime": {
     "end_time": "2022-07-28T01:04:34.606465Z",
     "start_time": "2022-07-28T01:04:34.449535Z"
    }
   },
   "outputs": [
    {
     "name": "stdout",
     "output_type": "stream",
     "text": [
      "4개 이상의 결측값을 가지는 컬럼 확인 \n"
     ]
    }
   ],
   "source": [
    "for i in range(len(new_df.columns)):\n",
    "    flg = 0\n",
    "    for j in range(len(new_df)):\n",
    "        if pd.isna(new_df.iloc[j,i]):\n",
    "            flg += 1\n",
    "        else:\n",
    "            flg = 0\n",
    "            \n",
    "        if flg >= 4:\n",
    "            print(new_df.columns[i])\n",
    "            flg = 0\n",
    "            break\n",
    "print(\"4개 이상의 결측값을 가지는 컬럼 확인 \")"
   ]
  },
  {
   "cell_type": "code",
   "execution_count": 125,
   "id": "51227a9f",
   "metadata": {
    "ExecuteTime": {
     "end_time": "2022-07-28T01:04:35.171610Z",
     "start_time": "2022-07-28T01:04:35.158677Z"
    },
    "scrolled": true
   },
   "outputs": [
    {
     "name": "stdout",
     "output_type": "stream",
     "text": [
      "결측값 확인:  0\n"
     ]
    },
    {
     "data": {
      "text/html": [
       "<div>\n",
       "<style scoped>\n",
       "    .dataframe tbody tr th:only-of-type {\n",
       "        vertical-align: middle;\n",
       "    }\n",
       "\n",
       "    .dataframe tbody tr th {\n",
       "        vertical-align: top;\n",
       "    }\n",
       "\n",
       "    .dataframe thead th {\n",
       "        text-align: right;\n",
       "    }\n",
       "</style>\n",
       "<table border=\"1\" class=\"dataframe\">\n",
       "  <thead>\n",
       "    <tr style=\"text-align: right;\">\n",
       "      <th></th>\n",
       "    </tr>\n",
       "  </thead>\n",
       "  <tbody>\n",
       "    <tr>\n",
       "      <th>0</th>\n",
       "    </tr>\n",
       "    <tr>\n",
       "      <th>1</th>\n",
       "    </tr>\n",
       "    <tr>\n",
       "      <th>2</th>\n",
       "    </tr>\n",
       "    <tr>\n",
       "      <th>3</th>\n",
       "    </tr>\n",
       "    <tr>\n",
       "      <th>4</th>\n",
       "    </tr>\n",
       "    <tr>\n",
       "      <th>...</th>\n",
       "    </tr>\n",
       "    <tr>\n",
       "      <th>71</th>\n",
       "    </tr>\n",
       "    <tr>\n",
       "      <th>72</th>\n",
       "    </tr>\n",
       "    <tr>\n",
       "      <th>73</th>\n",
       "    </tr>\n",
       "    <tr>\n",
       "      <th>74</th>\n",
       "    </tr>\n",
       "    <tr>\n",
       "      <th>75</th>\n",
       "    </tr>\n",
       "  </tbody>\n",
       "</table>\n",
       "<p>76 rows × 0 columns</p>\n",
       "</div>"
      ],
      "text/plain": [
       "Empty DataFrame\n",
       "Columns: []\n",
       "Index: [0, 1, 2, 3, 4, 5, 6, 7, 8, 9, 10, 11, 12, 13, 14, 15, 16, 17, 18, 19, 20, 21, 22, 23, 24, 25, 26, 27, 28, 29, 30, 31, 32, 33, 34, 35, 36, 37, 38, 39, 40, 41, 42, 43, 44, 45, 46, 47, 48, 49, 50, 51, 52, 53, 54, 55, 56, 57, 58, 59, 60, 61, 62, 63, 64, 65, 66, 67, 68, 69, 70, 71, 72, 73, 74, 75]\n",
       "\n",
       "[76 rows x 0 columns]"
      ]
     },
     "execution_count": 125,
     "metadata": {},
     "output_type": "execute_result"
    }
   ],
   "source": [
    "print(\"결측값 확인: \", new_df.isna().sum().sum())\n",
    "new_df[new_df.isna().sum()[new_df.isna().sum()>0].index]"
   ]
  },
  {
   "cell_type": "code",
   "execution_count": 126,
   "id": "9f1fad35",
   "metadata": {
    "ExecuteTime": {
     "end_time": "2022-07-28T01:04:36.514345Z",
     "start_time": "2022-07-28T01:04:36.472313Z"
    }
   },
   "outputs": [
    {
     "name": "stdout",
     "output_type": "stream",
     "text": [
      "결측값 확인(before):  0\n",
      "선형 보간 적용\n",
      "결측값 확인(after):  0\n"
     ]
    }
   ],
   "source": [
    "# 선형 보간\n",
    "print(\"결측값 확인(before): \", new_df.isna().sum().sum())\n",
    "for _, col in enumerate(new_df.columns):\n",
    "    if col != \"Date_x\":\n",
    "        new_df[col] = new_df[col].interpolate(method='linear')\n",
    "\n",
    "print(\"선형 보간 적용\")\n",
    "print(\"결측값 확인(after): \", new_df.isna().sum().sum())"
   ]
  },
  {
   "cell_type": "code",
   "execution_count": 127,
   "id": "4637175c",
   "metadata": {
    "ExecuteTime": {
     "end_time": "2022-07-28T01:04:38.020493Z",
     "start_time": "2022-07-28T01:04:37.990412Z"
    }
   },
   "outputs": [
    {
     "name": "stdout",
     "output_type": "stream",
     "text": [
      "new_df.shape:  (76, 60)\n"
     ]
    },
    {
     "data": {
      "text/html": [
       "<div>\n",
       "<style scoped>\n",
       "    .dataframe tbody tr th:only-of-type {\n",
       "        vertical-align: middle;\n",
       "    }\n",
       "\n",
       "    .dataframe tbody tr th {\n",
       "        vertical-align: top;\n",
       "    }\n",
       "\n",
       "    .dataframe thead th {\n",
       "        text-align: right;\n",
       "    }\n",
       "</style>\n",
       "<table border=\"1\" class=\"dataframe\">\n",
       "  <thead>\n",
       "    <tr style=\"text-align: right;\">\n",
       "      <th></th>\n",
       "      <th>Date_x</th>\n",
       "      <th>이자보상율</th>\n",
       "      <th>EPS(지배, Adj.)(원/주)</th>\n",
       "      <th>매입채무회전율</th>\n",
       "      <th>재고자산회전율(비율)</th>\n",
       "      <th>당기순이익(천원)</th>\n",
       "      <th>유동자산(천원)</th>\n",
       "      <th>매출총이익(천원)</th>\n",
       "      <th>유동비율(비율)</th>\n",
       "      <th>인당매출s</th>\n",
       "      <th>...</th>\n",
       "      <th>EBITDA2(천원)</th>\n",
       "      <th>현금배당성향(%)</th>\n",
       "      <th>자기자본비율</th>\n",
       "      <th>EBITDA2마진율(비율)</th>\n",
       "      <th>CAPEX(천원)</th>\n",
       "      <th>BPS증가율(YoY)(비율)</th>\n",
       "      <th>close</th>\n",
       "      <th>close_weighted</th>\n",
       "      <th>EV_EBITDA</th>\n",
       "      <th>PBR</th>\n",
       "    </tr>\n",
       "  </thead>\n",
       "  <tbody>\n",
       "    <tr>\n",
       "      <th>0</th>\n",
       "      <td>2003-06-01</td>\n",
       "      <td>219.23077</td>\n",
       "      <td>0.03000</td>\n",
       "      <td>6.74286</td>\n",
       "      <td>0.42843</td>\n",
       "      <td>13.50000</td>\n",
       "      <td>204</td>\n",
       "      <td>40.20000</td>\n",
       "      <td>4.90000</td>\n",
       "      <td>0.03832</td>\n",
       "      <td>...</td>\n",
       "      <td>19.90000</td>\n",
       "      <td>0.00000</td>\n",
       "      <td>74.90775</td>\n",
       "      <td>22.75000</td>\n",
       "      <td>7.65000</td>\n",
       "      <td>1.63109</td>\n",
       "      <td>5.51054</td>\n",
       "      <td>3.56562</td>\n",
       "      <td>20.49000</td>\n",
       "      <td>7.48000</td>\n",
       "    </tr>\n",
       "    <tr>\n",
       "      <th>1</th>\n",
       "      <td>2003-09-01</td>\n",
       "      <td>247.43590</td>\n",
       "      <td>0.03000</td>\n",
       "      <td>8.83333</td>\n",
       "      <td>0.40370</td>\n",
       "      <td>16.00000</td>\n",
       "      <td>243</td>\n",
       "      <td>45.10000</td>\n",
       "      <td>4.90000</td>\n",
       "      <td>0.03901</td>\n",
       "      <td>...</td>\n",
       "      <td>22.28000</td>\n",
       "      <td>0.00000</td>\n",
       "      <td>75.47771</td>\n",
       "      <td>22.71000</td>\n",
       "      <td>6.56000</td>\n",
       "      <td>1.92666</td>\n",
       "      <td>6.19883</td>\n",
       "      <td>5.26875</td>\n",
       "      <td>28.56000</td>\n",
       "      <td>9.79000</td>\n",
       "    </tr>\n",
       "  </tbody>\n",
       "</table>\n",
       "<p>2 rows × 60 columns</p>\n",
       "</div>"
      ],
      "text/plain": [
       "      Date_x     이자보상율  EPS(지배, Adj.)(원/주)  매입채무회전율  재고자산회전율(비율)  당기순이익(천원)  \\\n",
       "0 2003-06-01 219.23077             0.03000  6.74286      0.42843   13.50000   \n",
       "1 2003-09-01 247.43590             0.03000  8.83333      0.40370   16.00000   \n",
       "\n",
       "   유동자산(천원)  매출총이익(천원)  유동비율(비율)   인당매출s  ...  EBITDA2(천원)  현금배당성향(%)  \\\n",
       "0       204   40.20000   4.90000 0.03832  ...     19.90000    0.00000   \n",
       "1       243   45.10000   4.90000 0.03901  ...     22.28000    0.00000   \n",
       "\n",
       "    자기자본비율  EBITDA2마진율(비율)  CAPEX(천원)  BPS증가율(YoY)(비율)   close  \\\n",
       "0 74.90775        22.75000    7.65000          1.63109 5.51054   \n",
       "1 75.47771        22.71000    6.56000          1.92666 6.19883   \n",
       "\n",
       "   close_weighted  EV_EBITDA     PBR  \n",
       "0         3.56562   20.49000 7.48000  \n",
       "1         5.26875   28.56000 9.79000  \n",
       "\n",
       "[2 rows x 60 columns]"
      ]
     },
     "execution_count": 127,
     "metadata": {},
     "output_type": "execute_result"
    }
   ],
   "source": [
    "# 이 때, 편의를 위해 \"Date_x\" 변수를 맨 앞으로, Y1~Y4 변수는 맨 뒤로 위치시킴\n",
    "col1 = new_df.pop(\"Date_x\")\n",
    "new_df.insert(0, col1.name, col1)\n",
    "\n",
    "col2 = new_df.pop(\"close\")\n",
    "new_df.insert(new_df.shape[1], col2.name, col2)\n",
    "\n",
    "col3 = new_df.pop(\"close_weighted\")\n",
    "new_df.insert(new_df.shape[1], col3.name, col3)\n",
    "\n",
    "col4 = new_df.pop(\"EV_EBITDA\")\n",
    "new_df.insert(new_df.shape[1], col4.name, col4)\n",
    "\n",
    "col5 = new_df.pop(\"PBR\")\n",
    "new_df.insert(new_df.shape[1], col5.name, col5)\n",
    "\n",
    "print(\"new_df.shape: \",new_df.shape)\n",
    "\n",
    "\n",
    "new_df.head(2)"
   ]
  },
  {
   "cell_type": "markdown",
   "id": "4c6c4b62",
   "metadata": {},
   "source": [
    "### 파일 내보내기"
   ]
  },
  {
   "cell_type": "code",
   "execution_count": 128,
   "id": "40b48ea8",
   "metadata": {
    "ExecuteTime": {
     "end_time": "2022-07-28T01:04:39.714389Z",
     "start_time": "2022-07-28T01:04:39.576454Z"
    }
   },
   "outputs": [],
   "source": [
    "### 최종 dataset을 csv, xlsx 파일로 out ###\n",
    "new_df.to_csv(os.path.join(out_path,\"ITS\")+raw_file_name.split('.')[0]+\"_clean_v1.3.csv\", index=False, encoding='utf-8')\n",
    "new_df.to_excel(os.path.join(out_path,\"ITS\")+raw_file_name.split('.')[0]+\"_clean_v1.3.xlsx\", index=False)"
   ]
  },
  {
   "cell_type": "code",
   "execution_count": null,
   "id": "82d139ff",
   "metadata": {},
   "outputs": [],
   "source": []
  },
  {
   "cell_type": "markdown",
   "id": "6f0e93ba",
   "metadata": {},
   "source": [
    "## Infosys"
   ]
  },
  {
   "cell_type": "markdown",
   "id": "f22cb9eb",
   "metadata": {},
   "source": [
    "* 초기 4개의 행 삭제(2002/6, 2002/9, 2002/12, 2003/3)\n",
    "* 이외의 결측값은 선형 보간법 적용"
   ]
  },
  {
   "cell_type": "code",
   "execution_count": 147,
   "id": "1b4118b4",
   "metadata": {
    "ExecuteTime": {
     "end_time": "2022-07-28T01:09:42.607621Z",
     "start_time": "2022-07-28T01:09:42.149460Z"
    }
   },
   "outputs": [
    {
     "data": {
      "text/html": [
       "<div>\n",
       "<style scoped>\n",
       "    .dataframe tbody tr th:only-of-type {\n",
       "        vertical-align: middle;\n",
       "    }\n",
       "\n",
       "    .dataframe tbody tr th {\n",
       "        vertical-align: top;\n",
       "    }\n",
       "\n",
       "    .dataframe thead th {\n",
       "        text-align: right;\n",
       "    }\n",
       "</style>\n",
       "<table border=\"1\" class=\"dataframe\">\n",
       "  <thead>\n",
       "    <tr style=\"text-align: right;\">\n",
       "      <th></th>\n",
       "      <th>Date_x</th>\n",
       "      <th>BS_Earnings Quality Score</th>\n",
       "      <th>BS_Period End FX Rate (INR/USD)</th>\n",
       "      <th>BS_Cash and Short Term Investments</th>\n",
       "      <th>BS_Cash &amp; Equivalents</th>\n",
       "      <th>BS_Short Term Investments</th>\n",
       "      <th>BS_Accounts Receivable - Trade, Net</th>\n",
       "      <th>BS_Accounts Receivable - Trade, Gross</th>\n",
       "      <th>BS_Provision for Doubtful Accounts</th>\n",
       "      <th>BS_Total Receivables, Net</th>\n",
       "      <th>...</th>\n",
       "      <th>Opex Margin</th>\n",
       "      <th>Y1</th>\n",
       "      <th>Y2</th>\n",
       "      <th>Y3</th>\n",
       "      <th>Y4</th>\n",
       "      <th>인당매출s</th>\n",
       "      <th>무형자산회전율s</th>\n",
       "      <th>인당영업이익s</th>\n",
       "      <th>인당순이익s</th>\n",
       "      <th>투자비 대비 매출 (Rev/GI)s</th>\n",
       "    </tr>\n",
       "  </thead>\n",
       "  <tbody>\n",
       "    <tr>\n",
       "      <th>0</th>\n",
       "      <td>2002-06-01</td>\n",
       "      <td>92</td>\n",
       "      <td>0.02049</td>\n",
       "      <td>183</td>\n",
       "      <td>183</td>\n",
       "      <td>1516</td>\n",
       "      <td>85</td>\n",
       "      <td>307</td>\n",
       "      <td>-4</td>\n",
       "      <td>233</td>\n",
       "      <td>...</td>\n",
       "      <td>0.35806</td>\n",
       "      <td>1.40519</td>\n",
       "      <td>1.20477</td>\n",
       "      <td>0.22000</td>\n",
       "      <td>NaN</td>\n",
       "      <td>NaN</td>\n",
       "      <td>NaN</td>\n",
       "      <td>NaN</td>\n",
       "      <td>NaN</td>\n",
       "      <td>NaN</td>\n",
       "    </tr>\n",
       "    <tr>\n",
       "      <th>1</th>\n",
       "      <td>2002-09-01</td>\n",
       "      <td>92</td>\n",
       "      <td>0.02070</td>\n",
       "      <td>208</td>\n",
       "      <td>208</td>\n",
       "      <td>1516</td>\n",
       "      <td>95</td>\n",
       "      <td>307</td>\n",
       "      <td>-4</td>\n",
       "      <td>284</td>\n",
       "      <td>...</td>\n",
       "      <td>0.36419</td>\n",
       "      <td>0.99021</td>\n",
       "      <td>1.44987</td>\n",
       "      <td>0.22000</td>\n",
       "      <td>NaN</td>\n",
       "      <td>NaN</td>\n",
       "      <td>NaN</td>\n",
       "      <td>NaN</td>\n",
       "      <td>NaN</td>\n",
       "      <td>NaN</td>\n",
       "    </tr>\n",
       "  </tbody>\n",
       "</table>\n",
       "<p>2 rows × 415 columns</p>\n",
       "</div>"
      ],
      "text/plain": [
       "      Date_x  BS_Earnings Quality Score  BS_Period End FX Rate (INR/USD)  \\\n",
       "0 2002-06-01                         92                          0.02049   \n",
       "1 2002-09-01                         92                          0.02070   \n",
       "\n",
       "   BS_Cash and Short Term Investments  BS_Cash & Equivalents  \\\n",
       "0                                 183                    183   \n",
       "1                                 208                    208   \n",
       "\n",
       "   BS_Short Term Investments  BS_Accounts Receivable - Trade, Net  \\\n",
       "0                       1516                                   85   \n",
       "1                       1516                                   95   \n",
       "\n",
       "   BS_Accounts Receivable - Trade, Gross  BS_Provision for Doubtful Accounts  \\\n",
       "0                                    307                                  -4   \n",
       "1                                    307                                  -4   \n",
       "\n",
       "   BS_Total Receivables, Net  ...  Opex Margin      Y1      Y2      Y3  Y4  \\\n",
       "0                        233  ...      0.35806 1.40519 1.20477 0.22000 NaN   \n",
       "1                        284  ...      0.36419 0.99021 1.44987 0.22000 NaN   \n",
       "\n",
       "   인당매출s  무형자산회전율s  인당영업이익s  인당순이익s  투자비 대비 매출 (Rev/GI)s  \n",
       "0    NaN       NaN      NaN     NaN                  NaN  \n",
       "1    NaN       NaN      NaN     NaN                  NaN  \n",
       "\n",
       "[2 rows x 415 columns]"
      ]
     },
     "execution_count": 147,
     "metadata": {},
     "output_type": "execute_result"
    }
   ],
   "source": [
    "raw_file_name = \"Infosys_non_shift.xlsx\"\n",
    "# Acc\n",
    "# TCS\n",
    "\n",
    "df = pd.read_excel(rawfile_path+raw_file_name)\n",
    "df['Date_x'] = pd.to_datetime(df['Date_x'])\n",
    "df.head(2)"
   ]
  },
  {
   "cell_type": "code",
   "execution_count": 148,
   "id": "44755774",
   "metadata": {
    "ExecuteTime": {
     "end_time": "2022-07-28T01:09:43.463955Z",
     "start_time": "2022-07-28T01:09:43.244993Z"
    }
   },
   "outputs": [
    {
     "name": "stdout",
     "output_type": "stream",
     "text": [
      "0\n",
      "0\n"
     ]
    }
   ],
   "source": [
    "for col in df.columns:\n",
    "    if col in list(dic_name.keys()) :\n",
    "#         print(col, dic_name[col])\n",
    "        df.rename(columns={col:dic_name[col]}, inplace=True)\n",
    "    \n",
    "new_df = df.loc[4:, [\"Date_x\"]+list(set(df.columns)&set(target_variable))+Y].reset_index(drop=True)\n",
    "print(new_df.iloc[0,:].isna().sum())\n",
    "print(new_df.iloc[-1,:].isna().sum())"
   ]
  },
  {
   "cell_type": "code",
   "execution_count": 149,
   "id": "0a44f60c",
   "metadata": {
    "ExecuteTime": {
     "end_time": "2022-07-28T01:09:44.456172Z",
     "start_time": "2022-07-28T01:09:43.988841Z"
    }
   },
   "outputs": [
    {
     "name": "stdout",
     "output_type": "stream",
     "text": [
      "before:  (76, 60)\n",
      "drop_lst:  0\n",
      "after:  (76, 60)\n"
     ]
    },
    {
     "data": {
      "text/plain": [
       "[]"
      ]
     },
     "execution_count": 149,
     "metadata": {},
     "output_type": "execute_result"
    }
   ],
   "source": [
    "tmp = new_df.describe().loc['std',:][new_df.describe().loc['std',:] == 0].index\n",
    "TF = new_df.describe().loc['min',:] == new_df.describe().loc['max',:]\n",
    "tmp1 = new_df.describe().loc[:,TF].columns.values.tolist()\n",
    "\n",
    "tmp = list(set(tmp) | set(tmp1))\n",
    "tmp = list(set(tmp) & set(new_df.columns))\n",
    "\n",
    "drop_lst = list(tmp)\n",
    "\n",
    "print(\"before: \", new_df.shape)\n",
    "print(\"drop_lst: \",len(list(drop_lst)))\n",
    "new_df = new_df[new_df.columns.difference(drop_lst)]\n",
    "print(\"after: \", new_df.shape)\n",
    "\n",
    "drop_lst\n"
   ]
  },
  {
   "cell_type": "code",
   "execution_count": 150,
   "id": "95335401",
   "metadata": {
    "ExecuteTime": {
     "end_time": "2022-07-28T01:09:45.676070Z",
     "start_time": "2022-07-28T01:09:45.540763Z"
    }
   },
   "outputs": [
    {
     "name": "stdout",
     "output_type": "stream",
     "text": [
      "4개 이상의 결측값을 가지는 컬럼 확인 \n"
     ]
    }
   ],
   "source": [
    "for i in range(len(new_df.columns)):\n",
    "    flg = 0\n",
    "    for j in range(len(new_df)):\n",
    "        if pd.isna(new_df.iloc[j,i]):\n",
    "            flg += 1\n",
    "        else:\n",
    "            flg = 0\n",
    "            \n",
    "        if flg >= 4:\n",
    "            print(new_df.columns[i])\n",
    "            flg = 0\n",
    "            break\n",
    "print(\"4개 이상의 결측값을 가지는 컬럼 확인 \")"
   ]
  },
  {
   "cell_type": "code",
   "execution_count": 151,
   "id": "1943c8c9",
   "metadata": {
    "ExecuteTime": {
     "end_time": "2022-07-28T01:09:46.385573Z",
     "start_time": "2022-07-28T01:09:46.372582Z"
    },
    "scrolled": true
   },
   "outputs": [
    {
     "name": "stdout",
     "output_type": "stream",
     "text": [
      "결측값 확인:  3\n"
     ]
    },
    {
     "data": {
      "text/plain": [
       "array([[5.05],\n",
       "       [3.89],\n",
       "       [3.73],\n",
       "       [1.75],\n",
       "       [2.99],\n",
       "       [2.56],\n",
       "       [2.97],\n",
       "       [2.74],\n",
       "       [3.27],\n",
       "       [2.36],\n",
       "       [2.92],\n",
       "       [2.7 ],\n",
       "       [3.96],\n",
       "       [2.54],\n",
       "       [3.65],\n",
       "       [4.43],\n",
       "       [5.66],\n",
       "       [4.59],\n",
       "       [5.75],\n",
       "       [3.11],\n",
       "       [4.68],\n",
       "       [3.92],\n",
       "       [4.98],\n",
       "       [4.3 ],\n",
       "       [ nan],\n",
       "       [ nan],\n",
       "       [ nan],\n",
       "       [6.54],\n",
       "       [5.98],\n",
       "       [6.31],\n",
       "       [6.23],\n",
       "       [6.51],\n",
       "       [6.58],\n",
       "       [6.05],\n",
       "       [5.75],\n",
       "       [6.35],\n",
       "       [5.47],\n",
       "       [5.99],\n",
       "       [5.49],\n",
       "       [5.62],\n",
       "       [5.  ],\n",
       "       [4.41],\n",
       "       [4.53],\n",
       "       [4.71],\n",
       "       [4.37],\n",
       "       [4.42],\n",
       "       [4.27],\n",
       "       [4.15],\n",
       "       [3.54],\n",
       "       [3.73],\n",
       "       [3.82],\n",
       "       [3.9 ],\n",
       "       [3.54],\n",
       "       [3.93],\n",
       "       [3.56],\n",
       "       [3.83],\n",
       "       [3.39],\n",
       "       [3.69],\n",
       "       [3.29],\n",
       "       [3.55],\n",
       "       [2.93],\n",
       "       [3.3 ],\n",
       "       [3.08],\n",
       "       [2.84],\n",
       "       [2.08],\n",
       "       [2.54],\n",
       "       [2.54],\n",
       "       [2.62],\n",
       "       [2.25],\n",
       "       [2.77],\n",
       "       [2.6 ],\n",
       "       [2.54],\n",
       "       [2.09],\n",
       "       [2.17],\n",
       "       [1.94],\n",
       "       [2.  ]])"
      ]
     },
     "execution_count": 151,
     "metadata": {},
     "output_type": "execute_result"
    }
   ],
   "source": [
    "print(\"결측값 확인: \", new_df.isna().sum().sum())\n",
    "new_df[new_df.isna().sum()[new_df.isna().sum()>0].index].values"
   ]
  },
  {
   "cell_type": "code",
   "execution_count": 152,
   "id": "322a5689",
   "metadata": {
    "ExecuteTime": {
     "end_time": "2022-07-28T01:09:47.746390Z",
     "start_time": "2022-07-28T01:09:47.699124Z"
    }
   },
   "outputs": [
    {
     "name": "stdout",
     "output_type": "stream",
     "text": [
      "결측값 확인(before):  3\n",
      "선형 보간 적용\n",
      "결측값 확인(after):  0\n"
     ]
    }
   ],
   "source": [
    "# 선형 보간\n",
    "print(\"결측값 확인(before): \", new_df.isna().sum().sum())\n",
    "for _, col in enumerate(new_df.columns):\n",
    "    if col != \"Date_x\":\n",
    "        new_df[col] = new_df[col].interpolate(method='linear')\n",
    "\n",
    "print(\"선형 보간 적용\")\n",
    "print(\"결측값 확인(after): \", new_df.isna().sum().sum())"
   ]
  },
  {
   "cell_type": "code",
   "execution_count": 153,
   "id": "b876907e",
   "metadata": {
    "ExecuteTime": {
     "end_time": "2022-07-28T01:09:48.707790Z",
     "start_time": "2022-07-28T01:09:48.678847Z"
    }
   },
   "outputs": [
    {
     "name": "stdout",
     "output_type": "stream",
     "text": [
      "new_df.shape:  (76, 60)\n"
     ]
    },
    {
     "data": {
      "text/html": [
       "<div>\n",
       "<style scoped>\n",
       "    .dataframe tbody tr th:only-of-type {\n",
       "        vertical-align: middle;\n",
       "    }\n",
       "\n",
       "    .dataframe tbody tr th {\n",
       "        vertical-align: top;\n",
       "    }\n",
       "\n",
       "    .dataframe thead th {\n",
       "        text-align: right;\n",
       "    }\n",
       "</style>\n",
       "<table border=\"1\" class=\"dataframe\">\n",
       "  <thead>\n",
       "    <tr style=\"text-align: right;\">\n",
       "      <th></th>\n",
       "      <th>Date_x</th>\n",
       "      <th>이자보상율</th>\n",
       "      <th>EPS(지배, Adj.)(원/주)</th>\n",
       "      <th>매입채무회전율</th>\n",
       "      <th>재고자산회전율(비율)</th>\n",
       "      <th>당기순이익(천원)</th>\n",
       "      <th>유동자산(천원)</th>\n",
       "      <th>매출총이익(천원)</th>\n",
       "      <th>유동비율(비율)</th>\n",
       "      <th>인당매출s</th>\n",
       "      <th>...</th>\n",
       "      <th>EBITDA2(천원)</th>\n",
       "      <th>현금배당성향(%)</th>\n",
       "      <th>자기자본비율</th>\n",
       "      <th>EBITDA2마진율(비율)</th>\n",
       "      <th>CAPEX(천원)</th>\n",
       "      <th>BPS증가율(YoY)(비율)</th>\n",
       "      <th>close</th>\n",
       "      <th>close_weighted</th>\n",
       "      <th>EV_EBITDA</th>\n",
       "      <th>PBR</th>\n",
       "    </tr>\n",
       "  </thead>\n",
       "  <tbody>\n",
       "    <tr>\n",
       "      <th>0</th>\n",
       "      <td>2003-06-01</td>\n",
       "      <td>1911.76471</td>\n",
       "      <td>0.89000</td>\n",
       "      <td>123.40000</td>\n",
       "      <td>0.38721</td>\n",
       "      <td>59.40000</td>\n",
       "      <td>602</td>\n",
       "      <td>109.70000</td>\n",
       "      <td>5.05000</td>\n",
       "      <td>0.06384</td>\n",
       "      <td>...</td>\n",
       "      <td>74.62000</td>\n",
       "      <td>0.00000</td>\n",
       "      <td>85.25403</td>\n",
       "      <td>32.02000</td>\n",
       "      <td>12.96000</td>\n",
       "      <td>-0.10253</td>\n",
       "      <td>1.80588</td>\n",
       "      <td>1.55250</td>\n",
       "      <td>13.21000</td>\n",
       "      <td>0.16000</td>\n",
       "    </tr>\n",
       "    <tr>\n",
       "      <th>1</th>\n",
       "      <td>2003-09-01</td>\n",
       "      <td>2035.29412</td>\n",
       "      <td>0.98000</td>\n",
       "      <td>129.60000</td>\n",
       "      <td>0.40764</td>\n",
       "      <td>65.50000</td>\n",
       "      <td>615</td>\n",
       "      <td>121.10000</td>\n",
       "      <td>3.89000</td>\n",
       "      <td>0.06273</td>\n",
       "      <td>...</td>\n",
       "      <td>83.04000</td>\n",
       "      <td>0.31908</td>\n",
       "      <td>82.44444</td>\n",
       "      <td>33.12000</td>\n",
       "      <td>15.82000</td>\n",
       "      <td>0.26789</td>\n",
       "      <td>1.80365</td>\n",
       "      <td>1.89157</td>\n",
       "      <td>17.93000</td>\n",
       "      <td>3.07000</td>\n",
       "    </tr>\n",
       "  </tbody>\n",
       "</table>\n",
       "<p>2 rows × 60 columns</p>\n",
       "</div>"
      ],
      "text/plain": [
       "      Date_x      이자보상율  EPS(지배, Adj.)(원/주)   매입채무회전율  재고자산회전율(비율)  당기순이익(천원)  \\\n",
       "0 2003-06-01 1911.76471             0.89000 123.40000      0.38721   59.40000   \n",
       "1 2003-09-01 2035.29412             0.98000 129.60000      0.40764   65.50000   \n",
       "\n",
       "   유동자산(천원)  매출총이익(천원)  유동비율(비율)   인당매출s  ...  EBITDA2(천원)  현금배당성향(%)  \\\n",
       "0       602  109.70000   5.05000 0.06384  ...     74.62000    0.00000   \n",
       "1       615  121.10000   3.89000 0.06273  ...     83.04000    0.31908   \n",
       "\n",
       "    자기자본비율  EBITDA2마진율(비율)  CAPEX(천원)  BPS증가율(YoY)(비율)   close  \\\n",
       "0 85.25403        32.02000   12.96000         -0.10253 1.80588   \n",
       "1 82.44444        33.12000   15.82000          0.26789 1.80365   \n",
       "\n",
       "   close_weighted  EV_EBITDA     PBR  \n",
       "0         1.55250   13.21000 0.16000  \n",
       "1         1.89157   17.93000 3.07000  \n",
       "\n",
       "[2 rows x 60 columns]"
      ]
     },
     "execution_count": 153,
     "metadata": {},
     "output_type": "execute_result"
    }
   ],
   "source": [
    "# 이 때, 편의를 위해 \"Date_x\" 변수를 맨 앞으로, Y1~Y4 변수는 맨 뒤로 위치시킴\n",
    "col1 = new_df.pop(\"Date_x\")\n",
    "new_df.insert(0, col1.name, col1)\n",
    "\n",
    "col2 = new_df.pop(\"close\")\n",
    "new_df.insert(new_df.shape[1], col2.name, col2)\n",
    "\n",
    "col3 = new_df.pop(\"close_weighted\")\n",
    "new_df.insert(new_df.shape[1], col3.name, col3)\n",
    "\n",
    "col4 = new_df.pop(\"EV_EBITDA\")\n",
    "new_df.insert(new_df.shape[1], col4.name, col4)\n",
    "\n",
    "col5 = new_df.pop(\"PBR\")\n",
    "new_df.insert(new_df.shape[1], col5.name, col5)\n",
    "\n",
    "print(\"new_df.shape: \",new_df.shape)\n",
    "\n",
    "\n",
    "new_df.head(2)"
   ]
  },
  {
   "cell_type": "markdown",
   "id": "08041e2b",
   "metadata": {},
   "source": [
    "### 파일 내보내기"
   ]
  },
  {
   "cell_type": "code",
   "execution_count": 154,
   "id": "522312e3",
   "metadata": {
    "ExecuteTime": {
     "end_time": "2022-07-28T01:09:50.314497Z",
     "start_time": "2022-07-28T01:09:50.165917Z"
    }
   },
   "outputs": [],
   "source": [
    "### 최종 dataset을 csv, xlsx 파일로 out ###\n",
    "new_df.to_csv(os.path.join(out_path,\"ITS\")+raw_file_name.split('.')[0]+\"_clean_v1.3.csv\", index=False, encoding='utf-8')\n",
    "new_df.to_excel(os.path.join(out_path,\"ITS\")+raw_file_name.split('.')[0]+\"_clean_v1.3.xlsx\", index=False)"
   ]
  },
  {
   "cell_type": "code",
   "execution_count": null,
   "id": "83608e86",
   "metadata": {},
   "outputs": [],
   "source": []
  }
 ],
 "metadata": {
  "hide_input": false,
  "kernelspec": {
   "display_name": "Python 3 (ipykernel)",
   "language": "python",
   "name": "python3"
  },
  "language_info": {
   "codemirror_mode": {
    "name": "ipython",
    "version": 3
   },
   "file_extension": ".py",
   "mimetype": "text/x-python",
   "name": "python",
   "nbconvert_exporter": "python",
   "pygments_lexer": "ipython3",
   "version": "3.9.7"
  },
  "toc": {
   "base_numbering": "0",
   "nav_menu": {},
   "number_sections": true,
   "sideBar": true,
   "skip_h1_title": false,
   "title_cell": "Table of Contents",
   "title_sidebar": "Contents",
   "toc_cell": false,
   "toc_position": {
    "height": "calc(100% - 180px)",
    "left": "10px",
    "top": "150px",
    "width": "240.984px"
   },
   "toc_section_display": true,
   "toc_window_display": true
  },
  "varInspector": {
   "cols": {
    "lenName": 16,
    "lenType": 16,
    "lenVar": 40
   },
   "kernels_config": {
    "python": {
     "delete_cmd_postfix": "",
     "delete_cmd_prefix": "del ",
     "library": "var_list.py",
     "varRefreshCmd": "print(var_dic_list())"
    },
    "r": {
     "delete_cmd_postfix": ") ",
     "delete_cmd_prefix": "rm(",
     "library": "var_list.r",
     "varRefreshCmd": "cat(var_dic_list()) "
    }
   },
   "types_to_exclude": [
    "module",
    "function",
    "builtin_function_or_method",
    "instance",
    "_Feature"
   ],
   "window_display": false
  }
 },
 "nbformat": 4,
 "nbformat_minor": 5
}
