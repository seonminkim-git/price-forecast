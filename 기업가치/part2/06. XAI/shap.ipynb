{
 "cells": [
  {
   "cell_type": "markdown",
   "id": "aa4c0b96",
   "metadata": {},
   "source": [
    "# setting"
   ]
  },
  {
   "cell_type": "code",
   "execution_count": 1,
   "id": "175acaed",
   "metadata": {},
   "outputs": [],
   "source": [
    "import numpy as np\n",
    "import pandas as pd\n",
    "from sklearn.model_selection import KFold\n",
    "from sklearn.preprocessing import StandardScaler\n",
    "from sklearn.linear_model import LinearRegression\n",
    "from xgboost import XGBRegressor\n",
    "from sklearn.ensemble import RandomForestRegressor\n",
    "import shap"
   ]
  },
  {
   "cell_type": "markdown",
   "id": "881c38b3",
   "metadata": {},
   "source": [
    "## target"
   ]
  },
  {
   "cell_type": "code",
   "execution_count": 2,
   "id": "514ff918",
   "metadata": {},
   "outputs": [],
   "source": [
    "target = 'EV_EBITDA'"
   ]
  },
  {
   "cell_type": "markdown",
   "id": "15023358",
   "metadata": {},
   "source": [
    "## corporation"
   ]
  },
  {
   "cell_type": "code",
   "execution_count": 3,
   "id": "aab70ce9",
   "metadata": {},
   "outputs": [],
   "source": [
    "corp = 'Accenture'"
   ]
  },
  {
   "cell_type": "markdown",
   "id": "d95c9aef",
   "metadata": {},
   "source": [
    "## model type"
   ]
  },
  {
   "cell_type": "code",
   "execution_count": 4,
   "id": "025b3995",
   "metadata": {},
   "outputs": [],
   "source": [
    "model_type = 'LinearRegression'\n",
    "model_kwargs = {}"
   ]
  },
  {
   "cell_type": "code",
   "execution_count": 5,
   "id": "c6dd0c20",
   "metadata": {},
   "outputs": [],
   "source": [
    "model_type = 'XGBRegressor'\n",
    "model_kwargs = {\n",
    "    'n_estimators': 30,\n",
    "    'max_depth': 10,\n",
    "    'max_leaves': 0,\n",
    "    'colsample_bytree': 0.5\n",
    "}"
   ]
  },
  {
   "cell_type": "code",
   "execution_count": 6,
   "id": "e4897d9c",
   "metadata": {},
   "outputs": [],
   "source": [
    "# model_type = 'RandomForestRegressor'\n",
    "# model_kwargs = {\n",
    "#     'n_estimators': 10,\n",
    "#     'max_depth': 10,\n",
    "#     'max_samples': 1,\n",
    "#     'random_state': 123\n",
    "# }"
   ]
  },
  {
   "cell_type": "markdown",
   "id": "8ecbdb3a",
   "metadata": {},
   "source": [
    "## feature"
   ]
  },
  {
   "cell_type": "code",
   "execution_count": 7,
   "id": "8006b152",
   "metadata": {},
   "outputs": [],
   "source": [
    "features = ['매출액증가율(YoY)(연도)', 'Gross Investment (GI)', '무형자산회전율s',\n",
    "       '매출총이익(천원)', 'EBITDA2마진율(비율)', '유동비율(비율)', '유동자산(천원)']"
   ]
  },
  {
   "cell_type": "markdown",
   "id": "7344709d",
   "metadata": {},
   "source": [
    "## etc."
   ]
  },
  {
   "cell_type": "code",
   "execution_count": 8,
   "id": "3504788a",
   "metadata": {},
   "outputs": [],
   "source": [
    "cv_k = 5  # cross validation\n",
    "cv_rs = 123  # cv - random state"
   ]
  },
  {
   "cell_type": "markdown",
   "id": "467c1236",
   "metadata": {},
   "source": [
    "# main"
   ]
  },
  {
   "cell_type": "markdown",
   "id": "f395b1bf",
   "metadata": {},
   "source": [
    "## load data"
   ]
  },
  {
   "cell_type": "code",
   "execution_count": 9,
   "id": "864f52e6",
   "metadata": {},
   "outputs": [],
   "source": [
    "# datdir = f\"../Data/clean_filter_v1.3/ITS_v1.3/{corp}_non_shift_clean_v1.{4 if corp=='Tcs' else 3}.csv\"\n",
    "datdir = f\"../01. Data/01. 재무지표1/ITS/{corp}_non_shift_clean_v1.{4 if corp=='Tcs' else 3}.csv\"\n",
    "data = pd.read_csv(datdir)\n",
    "date = data.Date_x.apply(lambda x: pd.to_datetime(str(x), format='%Y-%m'))\n",
    "data.index = date\n",
    "\n",
    "X = data.drop(['Date_x', 'close', 'close_weighted', 'EV_EBITDA', 'PBR'], axis='columns')\n",
    "X = X[features]\n",
    "y = data[target]"
   ]
  },
  {
   "cell_type": "markdown",
   "id": "0fb6c83d",
   "metadata": {},
   "source": [
    "## random split (k-fold)"
   ]
  },
  {
   "cell_type": "code",
   "execution_count": 10,
   "id": "a1f96881",
   "metadata": {},
   "outputs": [
    {
     "name": "stderr",
     "output_type": "stream",
     "text": [
      "ntree_limit is deprecated, use `iteration_range` or model slicing instead.\n",
      "ntree_limit is deprecated, use `iteration_range` or model slicing instead.\n",
      "ntree_limit is deprecated, use `iteration_range` or model slicing instead.\n",
      "ntree_limit is deprecated, use `iteration_range` or model slicing instead.\n",
      "ntree_limit is deprecated, use `iteration_range` or model slicing instead.\n"
     ]
    }
   ],
   "source": [
    "''' split train/test '''\n",
    "r2_train, r2_test, coef = [], [], []\n",
    "SHAP = pd.DataFrame(columns=features)\n",
    "kf = KFold(n_splits=cv_k, random_state=cv_rs, shuffle=True)\n",
    "fold = 0\n",
    "for train_index, test_index in kf.split(X):\n",
    "    fold += 1\n",
    "\n",
    "    X_train = X.iloc[train_index, :]\n",
    "    y_train = y[train_index]\n",
    "\n",
    "    X_test = X.iloc[test_index, :]\n",
    "    y_test = y[test_index]\n",
    "\n",
    "\n",
    "    ''' scale '''\n",
    "    scaler = StandardScaler()\n",
    "    X_train = pd.DataFrame(scaler.fit_transform(X_train), columns=X_train.columns, index=X_train.index)\n",
    "    X_test = pd.DataFrame(scaler.transform(X_test), columns=X_test.columns, index=X_test.index)\n",
    "\n",
    "\n",
    "    ''' train '''\n",
    "    model = eval(f'{model_type}(**model_kwargs).fit(X_train, y_train)')\n",
    "\n",
    "    pred_train = model.predict(X_train)\n",
    "    pred_test = model.predict(X_test)\n",
    "\n",
    "\n",
    "    if model_type == 'LinearRegression':\n",
    "\n",
    "        explainer = shap.LinearExplainer(model, X_train)\n",
    "        shap_values = explainer.shap_values(X_test)\n",
    "        SHAP = SHAP.append(pd.DataFrame(np.concatenate([np.expand_dims([fold] * shap_values.shape[0], axis=1), shap_values], axis=1), \n",
    "                                        index=X_test.index, columns=np.concatenate([['fold'], X_test.columns])))\n",
    "\n",
    "    elif model_type in ['XGBRegressor', 'RandomForestRegressor']:\n",
    "\n",
    "        explainer = shap.TreeExplainer(model)\n",
    "        shap_values = explainer.shap_values(X_test)\n",
    "        SHAP = SHAP.append(pd.DataFrame(np.concatenate([np.expand_dims([fold] * shap_values.shape[0], axis=1), shap_values], axis=1), \n",
    "                                        index=X_test.index, columns=np.concatenate([['fold'], X_test.columns])))\n",
    "\n",
    "\n",
    "mshap = SHAP.drop(['fold'], axis='columns').abs().mean().to_frame()  # index 순서는 random\n"
   ]
  },
  {
   "cell_type": "code",
   "execution_count": 13,
   "id": "b08a260e",
   "metadata": {},
   "outputs": [
    {
     "data": {
      "text/html": [
       "<div>\n",
       "<style scoped>\n",
       "    .dataframe tbody tr th:only-of-type {\n",
       "        vertical-align: middle;\n",
       "    }\n",
       "\n",
       "    .dataframe tbody tr th {\n",
       "        vertical-align: top;\n",
       "    }\n",
       "\n",
       "    .dataframe thead th {\n",
       "        text-align: right;\n",
       "    }\n",
       "</style>\n",
       "<table border=\"1\" class=\"dataframe\">\n",
       "  <thead>\n",
       "    <tr style=\"text-align: right;\">\n",
       "      <th></th>\n",
       "      <th>mean(|shap|)</th>\n",
       "    </tr>\n",
       "  </thead>\n",
       "  <tbody>\n",
       "    <tr>\n",
       "      <th>매출액증가율(YoY)(연도)</th>\n",
       "      <td>0.265455</td>\n",
       "    </tr>\n",
       "    <tr>\n",
       "      <th>Gross Investment (GI)</th>\n",
       "      <td>1.041568</td>\n",
       "    </tr>\n",
       "    <tr>\n",
       "      <th>무형자산회전율s</th>\n",
       "      <td>0.659840</td>\n",
       "    </tr>\n",
       "    <tr>\n",
       "      <th>매출총이익(천원)</th>\n",
       "      <td>1.203795</td>\n",
       "    </tr>\n",
       "    <tr>\n",
       "      <th>EBITDA2마진율(비율)</th>\n",
       "      <td>0.161434</td>\n",
       "    </tr>\n",
       "    <tr>\n",
       "      <th>유동비율(비율)</th>\n",
       "      <td>0.171655</td>\n",
       "    </tr>\n",
       "    <tr>\n",
       "      <th>유동자산(천원)</th>\n",
       "      <td>1.380974</td>\n",
       "    </tr>\n",
       "  </tbody>\n",
       "</table>\n",
       "</div>"
      ],
      "text/plain": [
       "                       mean(|shap|)\n",
       "매출액증가율(YoY)(연도)            0.265455\n",
       "Gross Investment (GI)      1.041568\n",
       "무형자산회전율s                   0.659840\n",
       "매출총이익(천원)                  1.203795\n",
       "EBITDA2마진율(비율)             0.161434\n",
       "유동비율(비율)                   0.171655\n",
       "유동자산(천원)                   1.380974"
      ]
     },
     "metadata": {},
     "output_type": "display_data"
    }
   ],
   "source": [
    "mshap.columns = ['mean(|shap|)']\n",
    "display(mshap)"
   ]
  },
  {
   "cell_type": "code",
   "execution_count": null,
   "id": "6d2f85f6",
   "metadata": {},
   "outputs": [],
   "source": []
  }
 ],
 "metadata": {
  "kernelspec": {
   "display_name": "Python 3",
   "language": "python",
   "name": "python3"
  },
  "language_info": {
   "codemirror_mode": {
    "name": "ipython",
    "version": 3
   },
   "file_extension": ".py",
   "mimetype": "text/x-python",
   "name": "python",
   "nbconvert_exporter": "python",
   "pygments_lexer": "ipython3",
   "version": "3.8.8"
  },
  "toc": {
   "base_numbering": 1,
   "nav_menu": {},
   "number_sections": true,
   "sideBar": true,
   "skip_h1_title": false,
   "title_cell": "Table of Contents",
   "title_sidebar": "Contents",
   "toc_cell": false,
   "toc_position": {},
   "toc_section_display": true,
   "toc_window_display": true
  }
 },
 "nbformat": 4,
 "nbformat_minor": 5
}
